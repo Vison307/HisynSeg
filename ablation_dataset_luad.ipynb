{
 "cells": [
  {
   "cell_type": "code",
   "execution_count": 1,
   "metadata": {},
   "outputs": [],
   "source": [
    "import os\n",
    "import numpy as np\n",
    "from PIL import Image\n",
    "from tqdm import tqdm\n",
    "\n",
    "run = 5"
   ]
  },
  {
   "cell_type": "code",
   "execution_count": 2,
   "metadata": {},
   "outputs": [],
   "source": [
    "def get_patch_label(filename):\n",
    "    label_str = '[' + filename.split('[')[-1].split(']')[0] + ']'\n",
    "    if ',' not in label_str:\n",
    "        if ' ' in label_str:\n",
    "            # [0 0 0 1]\n",
    "            label_str = label_str.replace(' ', ',')\n",
    "        else:\n",
    "            # [0001]\n",
    "            label_str = str([int(i) for i in label_str[1:-1]])\n",
    "    label = eval(label_str)\n",
    "    return label\n",
    "\n",
    "def create_data(train_data):\n",
    "    only_tum_list = []\n",
    "    only_nec_list = []\n",
    "    only_lym_list = []\n",
    "    only_tas_list = []\n",
    "    train_image_list = os.listdir(train_data)\n",
    "    for name in train_image_list:\n",
    "        big_label = get_patch_label(name)\n",
    "        if np.sum(big_label) == 1:\n",
    "            train_image = os.path.join(train_data, name)\n",
    "            if big_label[0] == 1:\n",
    "                only_tum_list.append(train_image)\n",
    "            elif big_label[1] == 1:\n",
    "                only_nec_list.append(train_image)\n",
    "            elif big_label[2] == 1:\n",
    "                only_lym_list.append(train_image)\n",
    "            elif big_label[3] == 1:\n",
    "                only_tas_list.append(train_image)\n",
    "\n",
    "    return only_tum_list, only_nec_list, only_lym_list, only_tas_list\n",
    "\n",
    "def get_onelabel_mask(category, scale):\n",
    "    if category == \"tum\":\n",
    "        return np.zeros((scale, scale), dtype=np.uint8)\n",
    "    elif category == \"nec\":\n",
    "        return np.ones((scale, scale), dtype=np.uint8)\n",
    "    elif category == \"lym\":\n",
    "        return (np.ones((scale, scale), dtype=np.uint8) * 2)\n",
    "    else:\n",
    "        return (np.ones((scale, scale), dtype=np.uint8) * 3)\n"
   ]
  },
  {
   "cell_type": "code",
   "execution_count": 3,
   "metadata": {},
   "outputs": [],
   "source": [
    "train_img_dir = 'data/LUAD-HistoSeg/train'\n",
    "category_list = ['tum', 'nec', 'lym', 'tas']\n",
    "only_tum_list, only_nec_list, only_lym_list, only_tas_list = create_data(train_img_dir)\n",
    "\n",
    "palette = [0]*15\n",
    "palette[0:3] = [205,51,51]          # Tumor epithelial (TE)\n",
    "palette[3:6] = [0,255,0]            # Necrosis (NEC)\n",
    "palette[6:9] = [65,105,225]         # Lymphocyte (LYM)\n",
    "palette[9:12] = [255,165,0]         # Tumor-associated stroma (TAS)\n",
    "palette[12:15] = [255, 255, 255]    # White background or exclude\n"
   ]
  },
  {
   "cell_type": "markdown",
   "metadata": {},
   "source": [
    "### One Label Dataset"
   ]
  },
  {
   "cell_type": "code",
   "execution_count": 4,
   "metadata": {},
   "outputs": [
    {
     "name": "stdout",
     "output_type": "stream",
     "text": [
      "tum 1574\n",
      "nec 787\n",
      "lym 42\n",
      "tas 2192\n"
     ]
    }
   ],
   "source": [
    "one_label_image_dir = \"data/LUAD-HistoSeg/one_label_image/img\"\n",
    "one_label_mask_dir = \"data/LUAD-HistoSeg/one_label_image/mask\"\n",
    "if not os.path.exists(one_label_image_dir):\n",
    "    os.makedirs(one_label_image_dir)\n",
    "if not os.path.exists(one_label_mask_dir):\n",
    "    os.makedirs(one_label_mask_dir)\n",
    "\n",
    "for category, category_image_list in zip(category_list, [only_tum_list, only_nec_list, only_lym_list, only_tas_list]):\n",
    "    print(category, len(category_image_list))\n",
    "    for image_path in category_image_list:\n",
    "        if os.path.exists(os.path.join(one_label_image_dir, os.path.basename(image_path))):\n",
    "            continue\n",
    "        os.system(f'cp \"{image_path}\" {one_label_image_dir}')\n",
    "        mask = get_onelabel_mask(category, 224)\n",
    "        output_mask = Image.fromarray(np.uint8(mask), mode='P')\n",
    "        output_mask.putpalette(palette)\n",
    "        output_mask.save(os.path.join(one_label_mask_dir, os.path.basename(image_path)))\n"
   ]
  },
  {
   "cell_type": "markdown",
   "metadata": {},
   "source": [
    "### Gridded Dataset"
   ]
  },
  {
   "cell_type": "code",
   "execution_count": 5,
   "metadata": {},
   "outputs": [],
   "source": [
    "from torch.utils.data import Dataset as BaseDataset\n",
    "import albumentations as albu\n",
    "import random"
   ]
  },
  {
   "cell_type": "code",
   "execution_count": 6,
   "metadata": {},
   "outputs": [],
   "source": [
    "class CropAndConcatDataset(BaseDataset):    \n",
    "    def __init__(self, patch_num, patch_size, size=None):\n",
    "    \n",
    "        self.tum, self.nec, self.lym, self.tas = only_tum_list, only_nec_list, only_lym_list, only_tas_list\n",
    "        self.single_type_images = self.tum + self.nec + self.lym + self.tas\n",
    "\n",
    "        self.patch_num = patch_num\n",
    "        self.patch_size = patch_size\n",
    "\n",
    "        self.total_len = len(self.single_type_images) if size is None else size\n",
    "\n",
    "        self.crop_fn = albu.Compose([\n",
    "            albu.PadIfNeeded(min_height=self.patch_size, min_width=self.patch_size),\n",
    "            albu.RandomCrop(width=self.patch_size, height=self.patch_size)\n",
    "        ])\n",
    "        \n",
    "        self.transform = albu.Compose([\n",
    "            albu.Flip(),\n",
    "            albu.RandomRotate90(),\n",
    "        ])\n",
    "    \n",
    "    def __getitem__(self, i):\n",
    "        # np.random.seed(2022 + 2022 * i)\n",
    "        # random.seed(2022 + 2022 * i)\n",
    "        \n",
    "        image_1, mask_1 = self.create_one_image()\n",
    "        return image_1, mask_1\n",
    "\n",
    "    def create_one_image(self):      \n",
    "        H = W = self.patch_num * self.patch_size\n",
    "        image = np.zeros((H, W, 3), dtype=np.uint8)\n",
    "        mask = np.zeros((H, W), dtype=np.uint8)\n",
    "\n",
    "        for i in range(self.patch_num):\n",
    "            for j in range(self.patch_num):\n",
    "\n",
    "                tile_name = np.random.choice(self.single_type_images)\n",
    "                label = get_patch_label(tile_name)\n",
    "                assert sum(label) == 1\n",
    "                tile = np.asarray(Image.open(tile_name))\n",
    "                label = label.index(1)\n",
    "                tile_mask = np.full((tile.shape[0], tile.shape[1]), label)\n",
    "\n",
    "                sample = self.crop_fn(image=tile, mask=tile_mask)\n",
    "                tile = sample['image']\n",
    "                tile_mask = sample['mask']\n",
    "                \n",
    "                image[i*self.patch_size: (i+1)*self.patch_size, j*self.patch_size: (j+1)*self.patch_size] = tile\n",
    "                mask[i*self.patch_size: (i+1)*self.patch_size, j*self.patch_size: (j+1)*self.patch_size] = tile_mask\n",
    "        \n",
    "        return image, mask\n",
    "\n",
    "    def __len__(self):\n",
    "        return self.total_len"
   ]
  },
  {
   "cell_type": "code",
   "execution_count": 7,
   "metadata": {},
   "outputs": [],
   "source": [
    "gridded_dataset = CropAndConcatDataset(patch_num=2, patch_size=112, size=7200)\n",
    "gridded_img_dir = f\"data/LUAD-HistoSeg/gridded_image_2_112_run{run}/img\"\n",
    "gridded_mask_dir = f\"data/LUAD-HistoSeg/gridded_image_2_112_run{run}/mask\"\n",
    "if not os.path.exists(gridded_img_dir):\n",
    "    os.makedirs(gridded_img_dir)\n",
    "if not os.path.exists(gridded_mask_dir):\n",
    "    os.makedirs(gridded_mask_dir)"
   ]
  },
  {
   "cell_type": "code",
   "execution_count": 8,
   "metadata": {},
   "outputs": [],
   "source": [
    "# # quick view\n",
    "# from matplotlib import pyplot as plt\n",
    "# fig, axes = plt.subplots(nrows=5, ncols=5, figsize=(15, 15))\n",
    "# for i in range(25):\n",
    "#     idx = np.random.randint(len(gridded_dataset))\n",
    "#     img, _ = gridded_dataset[idx]\n",
    "#     ax = axes[i // 5, i % 5]\n",
    "#     ax.imshow(img)\n",
    "#     ax.set_title(f\" dims: {img.size} /{np.max(img)}\")\n",
    "# fig.tight_layout()"
   ]
  },
  {
   "cell_type": "code",
   "execution_count": 9,
   "metadata": {},
   "outputs": [
    {
     "name": "stderr",
     "output_type": "stream",
     "text": [
      "  0%|          | 0/7200 [00:00<?, ?it/s]"
     ]
    },
    {
     "name": "stderr",
     "output_type": "stream",
     "text": [
      "100%|██████████| 7200/7200 [06:23<00:00, 18.80it/s]\n"
     ]
    }
   ],
   "source": [
    "for i in tqdm(range(len(gridded_dataset))):\n",
    "    img, mask = gridded_dataset[i]\n",
    "    img = Image.fromarray(img)\n",
    "    mask = Image.fromarray(np.uint8(mask), mode='P')\n",
    "    mask.putpalette(palette)\n",
    "    img.save(os.path.join(gridded_img_dir, f\"{i:05d}.png\"))\n",
    "    mask.save(os.path.join(gridded_mask_dir, f\"{i:05d}.png\"))\n"
   ]
  },
  {
   "cell_type": "markdown",
   "metadata": {},
   "source": [
    "### CutMix dataset\n"
   ]
  },
  {
   "cell_type": "code",
   "execution_count": 10,
   "metadata": {},
   "outputs": [],
   "source": [
    "class CutMixDataset(BaseDataset):\n",
    "    def __init__(self, patch_size=224, size=7200):\n",
    "        self.patch_size = patch_size\n",
    "        self.total_len = size\n",
    "        self.tum, self.nec, self.lym, self.tas = only_tum_list, only_nec_list, only_lym_list, only_tas_list\n",
    "        self.single_type_images = self.tum + self.nec + self.lym + self.tas\n",
    "        \n",
    "    def __getitem__(self, i):\n",
    "        # np.random.seed(2022 + 2022 * i)\n",
    "        # random.seed(2022 + 2022 * i)\n",
    "        \n",
    "        H = W = self.patch_size\n",
    "        image_path, choice = np.random.choice(self.single_type_images, size=2, replace=False)\n",
    "        image = np.array(Image.open(image_path))\n",
    "        label = get_patch_label(image_path)\n",
    "        mask = np.full((self.patch_size, self.patch_size), label.index(1))\n",
    "\n",
    "        mix_image = np.array(Image.open(choice))\n",
    "        mix_label = get_patch_label(choice)\n",
    "        mix_mask = np.full((self.patch_size, self.patch_size), mix_label.index(1))\n",
    "\n",
    "        \n",
    "        lam = np.random.beta(1, 1)\n",
    "        bbx1, bbx2, bby1, bby2 = self._get_cutmix_bbox(W, H, lam)\n",
    "        image[bbx1: bbx2, bby1: bby2, :] = mix_image[bbx1:bbx2, bby1:bby2, :]\n",
    "        mask[bbx1: bbx2, bby1: bby2] = mix_mask[bbx1:bbx2, bby1:bby2]\n",
    "        \n",
    "        # lam = 1 - ((bbx2 - bbx1) * (bby2 - bby1) / (H * W))\n",
    "        # label = np.array(label) * lam + np.array(mix_label) * (1. - lam)\n",
    "\n",
    "        # sample = self.transforms(image=image, mask=mask)\n",
    "        # image, mask = sample['image'], sample['mask']\n",
    "        return image, mask\n",
    "    \n",
    "    def _get_cutmix_bbox(self, W, H, lam):\n",
    "        cut_rat = np.sqrt(1. - lam)\n",
    "        cut_w = int(W * cut_rat)\n",
    "        cut_h = int(H * cut_rat)\n",
    "\n",
    "        cx = np.random.randint(H)\n",
    "        cy = np.random.randint(W)\n",
    "\n",
    "        bbx1 = np.clip(cx - cut_h // 2, 0, H)\n",
    "        bby1 = np.clip(cy - cut_w // 2, 0, W)\n",
    "        bbx2 = np.clip(cx + cut_h // 2, 0, H)\n",
    "        bby2 = np.clip(cy + cut_w // 2, 0, W)\n",
    "        \n",
    "        return bbx1, bbx2, bby1, bby2\n",
    "    \n",
    "    def __len__(self):\n",
    "        return self.total_len"
   ]
  },
  {
   "cell_type": "code",
   "execution_count": 11,
   "metadata": {},
   "outputs": [],
   "source": [
    "cutmix_dataset = CutMixDataset(patch_size=224, size=7200)\n",
    "cutmix_img_dir = f\"data/LUAD-HistoSeg/cutmix_image_run{run}/img\"\n",
    "cutmix_mask_dir = f\"data/LUAD-HistoSeg/cutmix_image_run{run}/mask\"\n",
    "if not os.path.exists(cutmix_img_dir):\n",
    "    os.makedirs(cutmix_img_dir)\n",
    "if not os.path.exists(cutmix_mask_dir):\n",
    "    os.makedirs(cutmix_mask_dir)"
   ]
  },
  {
   "cell_type": "code",
   "execution_count": 12,
   "metadata": {},
   "outputs": [],
   "source": [
    "# # quick view\n",
    "# from matplotlib import pyplot as plt\n",
    "# fig, axes = plt.subplots(nrows=5, ncols=5, figsize=(15, 15))\n",
    "# for i in range(25):\n",
    "#     idx = np.random.randint(len(cutmix_dataset))\n",
    "#     img, _ = cutmix_dataset[idx]\n",
    "#     ax = axes[i // 5, i % 5]\n",
    "#     ax.imshow(img)\n",
    "#     ax.set_title(f\" dims: {img.size} /{np.max(img)}\")\n",
    "# fig.tight_layout()"
   ]
  },
  {
   "cell_type": "code",
   "execution_count": 13,
   "metadata": {},
   "outputs": [
    {
     "name": "stderr",
     "output_type": "stream",
     "text": [
      "100%|██████████| 7200/7200 [04:02<00:00, 29.72it/s]\n"
     ]
    }
   ],
   "source": [
    "for i in tqdm(range(len(cutmix_dataset))):\n",
    "    img, mask = cutmix_dataset[i]\n",
    "    img = Image.fromarray(img)\n",
    "    mask = Image.fromarray(np.uint8(mask), mode='P')\n",
    "    mask.putpalette(palette)\n",
    "    img.save(os.path.join(cutmix_img_dir, f\"{i:05d}.png\"))\n",
    "    mask.save(os.path.join(cutmix_mask_dir, f\"{i:05d}.png\"))\n"
   ]
  },
  {
   "cell_type": "markdown",
   "metadata": {},
   "source": [
    "### Mosaic_1_224 dataset"
   ]
  },
  {
   "cell_type": "code",
   "execution_count": 14,
   "metadata": {},
   "outputs": [],
   "source": [
    "class MosaicDataset(BaseDataset):    \n",
    "    def __init__(self, patch_num, patch_size, size=None):\n",
    "        self.tum, self.nec, self.lym, self.tas = only_tum_list, only_nec_list, only_lym_list, only_tas_list\n",
    "        self.single_type_images = self.tum + self.nec + self.lym + self.tas\n",
    "\n",
    "        self.patch_num = patch_num\n",
    "        self.patch_size = patch_size\n",
    "\n",
    "        self.total_len = len(self.single_type_images) if size is None else size\n",
    "\n",
    "        self.crop_fn = albu.Compose([\n",
    "            albu.PadIfNeeded(min_height=self.patch_size, min_width=self.patch_size),\n",
    "            albu.RandomCrop(width=self.patch_size, height=self.patch_size)\n",
    "        ])\n",
    "        \n",
    "        self.transform = albu.Compose([\n",
    "            albu.Flip(),\n",
    "            albu.RandomRotate90(),\n",
    "        ])\n",
    "    \n",
    "    def __getitem__(self, i):\n",
    "        # np.random.seed(2022 + 2022 * i)\n",
    "        # random.seed(2022 + 2022 * i)\n",
    "        \n",
    "        H = W = self.patch_num * self.patch_size\n",
    "        \n",
    "        while True:\n",
    "            try:\n",
    "                (image_1, mask_1), (image_2, mask_2), (image_3, mask_3), (image_4, mask_4) = [self.create_one_image() for _ in range(4)] # [H, W, C]\n",
    "                image, mask = self.create_mosaic(H, W, image_1, mask_1, image_2, mask_2, image_3, mask_3, image_4, mask_4)\n",
    "                break            \n",
    "            except AssertionError as e:\n",
    "                print(e)\n",
    "\n",
    "        \n",
    "        return image, mask\n",
    "\n",
    "    def create_one_image(self):      \n",
    "        H = W = self.patch_num * self.patch_size\n",
    "        image = np.zeros((H, W, 3), dtype=np.uint8)\n",
    "        mask = np.zeros((H, W), dtype=np.uint8)\n",
    "\n",
    "        for i in range(self.patch_num):\n",
    "            for j in range(self.patch_num):\n",
    "\n",
    "                tile_name = np.random.choice(self.single_type_images)\n",
    "                label = get_patch_label(tile_name)\n",
    "                assert sum(label) == 1\n",
    "                tile = np.asarray(Image.open(tile_name))\n",
    "                label = label.index(1)\n",
    "                tile_mask = np.full((tile.shape[0], tile.shape[1]), label)\n",
    "\n",
    "                sample = self.crop_fn(image=tile, mask=tile_mask)\n",
    "                tile = sample['image']\n",
    "                tile_mask = sample['mask']\n",
    "                \n",
    "                image[i*self.patch_size: (i+1)*self.patch_size, j*self.patch_size: (j+1)*self.patch_size] = tile\n",
    "                mask[i*self.patch_size: (i+1)*self.patch_size, j*self.patch_size: (j+1)*self.patch_size] = tile_mask\n",
    "        \n",
    "        return image, mask\n",
    "    \n",
    "    def create_mosaic(self, H, W, image_1, mask_1, image_2, mask_2, image_3, mask_3, image_4, mask_4):\n",
    "        def get_transforms(height, width, p=0.5):\n",
    "            _transform = [\n",
    "                albu.Flip(p=p),\n",
    "                albu.ShiftScaleRotate(shift_limit=0.0625, scale_limit=0.2, rotate_limit=45, p=p),\n",
    "                albu.RandomCrop(height, width),\n",
    "            ]\n",
    "            return albu.Compose(_transform)\n",
    "        \n",
    "        image = np.zeros((H, W, 3), dtype=np.uint8)\n",
    "        mask = np.zeros((H, W), dtype=np.uint8)\n",
    "\n",
    "        h, w = int(H * (random.random()*0.6+0.2)), int(W * (random.random()*0.6+0.2))\n",
    "        h += h % 2\n",
    "        w += w % 2\n",
    "\n",
    "        transform_1 = get_transforms(height=h, width=w, p=0.8)\n",
    "        sample = transform_1(image=image_1, mask=mask_1)\n",
    "        image_1, mask_1 = sample['image'], sample['mask']\n",
    "\n",
    "        transform_2 = get_transforms(height=h, width=W-w, p=0.8)\n",
    "        sample = transform_2(image=image_2, mask=mask_2)\n",
    "        image_2, mask_2 = sample['image'], sample['mask']\n",
    "\n",
    "        transform_3 = get_transforms(height=H-h, width=w, p=0.8)\n",
    "        sample = transform_3(image=image_3, mask=mask_3)\n",
    "        image_3, mask_3 = sample['image'], sample['mask']\n",
    "\n",
    "        transform_4 = get_transforms(height=H-h, width=W-w, p=0.8)\n",
    "        sample = transform_4(image=image_4, mask=mask_4)\n",
    "        image_4, mask_4 = sample['image'], sample['mask']\n",
    "        \n",
    "        image[:h, :w, :] = image_1\n",
    "        image[:h, w:W, :] = image_2\n",
    "        image[h:H, :w, :] = image_3\n",
    "        image[h:H, w:W, :] = image_4\n",
    "    \n",
    "        mask[:h, :w] = mask_1\n",
    "        mask[:h, w:W] = mask_2\n",
    "        mask[h:H, :w] = mask_3\n",
    "        mask[h:H, w:W] = mask_4\n",
    "        \n",
    "        return image, mask\n",
    "\n",
    "    def __len__(self):\n",
    "        return self.total_len"
   ]
  },
  {
   "cell_type": "code",
   "execution_count": 15,
   "metadata": {},
   "outputs": [],
   "source": [
    "mosaic_1_224_dataset = MosaicDataset(patch_num=1, patch_size=224, size=7200)\n",
    "mosaic_1_224_img_dir = f\"data/LUAD-HistoSeg/mosaic_1_224_run{run}/img\"\n",
    "mosaic_1_224_mask_dir = f\"data/LUAD-HistoSeg/mosaic_1_224_run{run}/mask\"\n",
    "if not os.path.exists(mosaic_1_224_img_dir):\n",
    "    os.makedirs(mosaic_1_224_img_dir)\n",
    "if not os.path.exists(mosaic_1_224_mask_dir):\n",
    "    os.makedirs(mosaic_1_224_mask_dir)\n",
    "    "
   ]
  },
  {
   "cell_type": "code",
   "execution_count": 16,
   "metadata": {},
   "outputs": [],
   "source": [
    "# # quick view\n",
    "# from matplotlib import pyplot as plt\n",
    "# fig, axes = plt.subplots(nrows=5, ncols=5, figsize=(15, 15))\n",
    "# for i in range(25):\n",
    "#     idx = np.random.randint(len(mosaic_1_224_dataset))\n",
    "#     img, _ = mosaic_1_224_dataset[idx]\n",
    "#     ax = axes[i // 5, i % 5]\n",
    "#     ax.imshow(img)\n",
    "#     ax.set_title(f\" dims: {img.size} /{np.max(img)}\")\n",
    "# fig.tight_layout()"
   ]
  },
  {
   "cell_type": "code",
   "execution_count": 17,
   "metadata": {},
   "outputs": [
    {
     "name": "stderr",
     "output_type": "stream",
     "text": [
      "100%|██████████| 7200/7200 [07:56<00:00, 15.10it/s]\n"
     ]
    }
   ],
   "source": [
    "for i in tqdm(range(len(mosaic_1_224_dataset))):\n",
    "    img, mask = mosaic_1_224_dataset[i]\n",
    "    img = Image.fromarray(img)\n",
    "    mask = Image.fromarray(np.uint8(mask), mode='P')\n",
    "    mask.putpalette(palette)\n",
    "    img.save(os.path.join(mosaic_1_224_img_dir, f\"{i:05d}.png\"))\n",
    "    mask.save(os.path.join(mosaic_1_224_mask_dir, f\"{i:05d}.png\"))\n"
   ]
  },
  {
   "cell_type": "code",
   "execution_count": null,
   "metadata": {},
   "outputs": [],
   "source": []
  }
 ],
 "metadata": {
  "kernelspec": {
   "display_name": "wsss4luad",
   "language": "python",
   "name": "python3"
  },
  "language_info": {
   "codemirror_mode": {
    "name": "ipython",
    "version": 3
   },
   "file_extension": ".py",
   "mimetype": "text/x-python",
   "name": "python",
   "nbconvert_exporter": "python",
   "pygments_lexer": "ipython3",
   "version": "3.8.18"
  }
 },
 "nbformat": 4,
 "nbformat_minor": 2
}
