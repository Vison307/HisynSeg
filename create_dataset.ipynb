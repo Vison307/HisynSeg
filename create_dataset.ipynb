{
 "cells": [
  {
   "cell_type": "markdown",
   "id": "d180038f",
   "metadata": {},
   "source": [
    "# README\n",
    "Run this notebook to create the dataset for mosaic training."
   ]
  },
  {
   "cell_type": "code",
   "execution_count": 1,
   "id": "0e0cf606-ded3-45c0-8c42-ad3d650c8126",
   "metadata": {},
   "outputs": [
    {
     "name": "stdout",
     "output_type": "stream",
     "text": [
      "Extension horovod.torch has not been built: /home/fzj/.local/lib/python3.8/site-packages/horovod/torch/mpi_lib_v2.cpython-38-x86_64-linux-gnu.so not found\n",
      "If this is not expected, reinstall Horovod with HOROVOD_WITH_PYTORCH=1 to debug the build error.\n",
      "Warning! MPI libs are missing, but python applications are still available.\n"
     ]
    }
   ],
   "source": [
    "from torch.utils.data import Dataset as BaseDataset\n",
    "\n",
    "import utils\n",
    "import albumentations as albu\n",
    "from albumentations.pytorch.transforms import ToTensorV2\n",
    "\n",
    "import copy\n",
    "import random\n",
    "import time\n",
    "import os\n",
    "from functools import wraps\n",
    "\n",
    "import torch\n",
    "from pathlib import Path\n",
    "import numpy as np\n",
    "from numpy.linalg import LinAlgError\n",
    "from PIL import Image\n",
    "import cv2\n",
    "import matplotlib.pyplot as plt\n",
    "from einops import rearrange, repeat\n",
    "\n",
    "from timm.data.constants import IMAGENET_DEFAULT_MEAN, IMAGENET_DEFAULT_STD\n",
    "from tqdm import tqdm\n",
    "import logging\n",
    "\n",
    "from skimage import morphology\n",
    "import staintools\n",
    "\n",
    "# np.random.seed(42)\n",
    "# random.seed(42)"
   ]
  },
  {
   "cell_type": "code",
   "execution_count": 2,
   "id": "079032f0-5e42-4caf-9bfe-e7f0a3a3dce3",
   "metadata": {},
   "outputs": [],
   "source": [
    "def show_mask(image):\n",
    "    palette = [\n",
    "        0, 64, 128,  # r, g, b for Tumor\n",
    "        64, 128, 0,  # r, g, b for Stroma\n",
    "        243, 152, 0,  # r, g, b for Normal\n",
    "        255, 255, 255,  # r, g, b for background\n",
    "    ] + [0] * 252 * 3\n",
    "    image = Image.fromarray(np.uint8(image), mode='P')\n",
    "    image.putpalette(palette)\n",
    "    plt.imshow(image)\n",
    "    plt.show()\n",
    "    plt.close()\n",
    "    \n",
    "def show_background(image):\n",
    "    plt.imshow(image, vmin=0, vmax=127, cmap='gray')\n",
    "    plt.show()\n",
    "    plt.close()\n",
    "\n",
    "def show_image(image):\n",
    "    if isinstance(image, torch.Tensor):\n",
    "        image = rearrange(image, 'c h w -> h w c')\n",
    "    plt.imshow(image)\n",
    "    plt.show()\n",
    "    plt.close()\n",
    "\n",
    "def create_data(train_data):\n",
    "    print(train_data)\n",
    "    tumor_set, stroma_set, normal_set = set(), set(), set()\n",
    "    for path in Path(train_data).glob('*.png'):\n",
    "        if utils.is_tumor(path): tumor_set.add(str(path))\n",
    "        if utils.is_stroma(path): stroma_set.add(str(path))\n",
    "        if utils.is_normal(path): normal_set.add(str(path))\n",
    "\n",
    "    tumor_images = list(tumor_set - stroma_set - normal_set)\n",
    "    stroma_images = list(stroma_set - tumor_set - normal_set)\n",
    "    normal_images = list(normal_set - tumor_set - stroma_set)\n",
    "\n",
    "    return tumor_images, stroma_images, normal_images"
   ]
  },
  {
   "cell_type": "code",
   "execution_count": 3,
   "id": "4b9ebd56-9db0-4c41-851c-393b192e8689",
   "metadata": {},
   "outputs": [],
   "source": [
    "\n",
    "def get_background(region):\n",
    "    gray = cv2.cvtColor(region, cv2.COLOR_RGB2GRAY)\n",
    "    ret, binary = cv2.threshold(gray, 220, 255, cv2.THRESH_BINARY)\n",
    "    binary = np.uint8(binary)    \n",
    "    dst = morphology.remove_small_objects(binary==255,min_size=250,connectivity=1)\n",
    "    mask = np.array(dst, dtype=np.uint8)\n",
    "    mask = mask * 255\n",
    "    return mask\n"
   ]
  },
  {
   "cell_type": "code",
   "execution_count": 4,
   "id": "ce3078e3-4840-4797-9167-ca69fe7276c2",
   "metadata": {},
   "outputs": [],
   "source": [
    "def timeit(fn):\n",
    "    \"\"\"decorator for timing functions\"\"\"\n",
    "    @wraps(fn)\n",
    "    def measure_time(*args, **kwargs):\n",
    "        t1 = time.time()\n",
    "        result = fn(*args, **kwargs)\n",
    "        t2 = time.time()\n",
    "        logging.info(f\"@timefn: {fn.__name__} took {t2 - t1: .5f} s\")\n",
    "        return result\n",
    "    return measure_time\n",
    "\n",
    "def visualize(save=None, **images):\n",
    "    \"\"\"PLot images in one row.\"\"\"\n",
    "    fontsize=14\n",
    "    def axarr_show(axarr, image, name):\n",
    "        if isinstance(image, torch.Tensor):\n",
    "            if image.ndim == 3: image = image.permute(1, 2, 0)\n",
    "            if image.is_cuda: image = image.detach().cpu().numpy()\n",
    "        if name == 'mask': \n",
    "            palette = [0, 64, 128, 64, 128, 0, 243, 152, 0, 255, 255, 255] + [0] * 252 * 3\n",
    "            image = Image.fromarray(np.uint8(image), mode='P')\n",
    "            image.putpalette(palette)\n",
    "            axarr.imshow(image)\n",
    "            axarr.set_title(name, fontsize=fontsize)\n",
    "        elif 'background' in name:\n",
    "            palette = [255, 255, 255, 0, 0, 0]\n",
    "            image = Image.fromarray(np.uint8(image), mode='P')\n",
    "            image.putpalette(palette)\n",
    "            axarr.imshow(image)\n",
    "            axarr.set_title(name, fontsize=fontsize)\n",
    "        else:\n",
    "            axarr.imshow(image)\n",
    "            axarr.set_title(name, fontsize=fontsize)\n",
    "    n = len(images)\n",
    "    fig, axarr = plt.subplots(nrows=1, ncols=n, figsize=(8, 8))\n",
    "    if n == 1:\n",
    "        name, image = list(images.items())[0]\n",
    "        axarr_show(axarr, image, name)\n",
    "        axarr.set_yticks([])\n",
    "        axarr.set_xticks([])\n",
    "    else:\n",
    "        for i, (name, image) in enumerate(images.items()):\n",
    "            axarr_show(axarr[i], image, name)\n",
    "            \n",
    "        for ax in axarr.ravel():\n",
    "            ax.set_yticks([])\n",
    "            ax.set_xticks([])\n",
    "    plt.tight_layout()\n",
    "    if save is not None:\n",
    "        plt.savefig(save)\n",
    "    else:\n",
    "        plt.show()\n",
    "    plt.close()"
   ]
  },
  {
   "cell_type": "markdown",
   "id": "a023c847",
   "metadata": {},
   "source": [
    "# Plot Train Image and Background"
   ]
  },
  {
   "cell_type": "code",
   "execution_count": 5,
   "id": "0ddf82d6",
   "metadata": {},
   "outputs": [],
   "source": [
    "\n",
    "if False: # Set to True for first time runing the script\n",
    "    train_dir = Path(\"./data/WSSS4LUAD/1.training\")\n",
    "    train_image_list = sorted(list(train_dir.glob('*.png')))\n",
    "\n",
    "    background_save_dir = Path(\"./data/WSSS4LUAD/1.training/background-mask\")\n",
    "    background_save_dir.mkdir(exist_ok=True, parents=True)\n",
    "    for train_image in tqdm(train_image_list):\n",
    "        train_image_data = np.array(Image.open(str(train_image)))\n",
    "        background_data = get_background(train_image_data)\n",
    "        background_data[background_data > 0] = 1\n",
    "\n",
    "        palette = [0, 0, 0, 255, 255, 255]\n",
    "        background_mask = Image.fromarray(np.uint8(background_data), mode='P')\n",
    "        background_mask.putpalette(palette)\n",
    "\n",
    "        background_mask.save(str(background_save_dir / train_image.name))\n",
    "\n",
    "        # blended = np.array(train_image_data)\n",
    "        # blended[background_data > 0] = [0, 0, 0]\n",
    "        \n",
    "        # visualize(image=train_image_data, background=background_data, blended=blended, save=str(Path('data/temp_train_background') / train_image.name))\n"
   ]
  },
  {
   "cell_type": "code",
   "execution_count": 6,
   "id": "6448f225",
   "metadata": {},
   "outputs": [],
   "source": [
    "assert len(os.listdir('./data/WSSS4LUAD/1.training/background-mask')) == len(os.listdir('./data/WSSS4LUAD/1.training/')) - 1"
   ]
  },
  {
   "cell_type": "markdown",
   "id": "95ff6837",
   "metadata": {},
   "source": [
    "----"
   ]
  },
  {
   "cell_type": "code",
   "execution_count": 7,
   "id": "4d11986d-0f78-43f1-8353-9bf0514ddf0b",
   "metadata": {},
   "outputs": [],
   "source": [
    "class CropAndConcatDataset(BaseDataset):    \n",
    "    def __init__(self, args, patch_num, patch_size, size=None):\n",
    "       \n",
    "        self.args = args\n",
    "        self.train_dir = args.train_dir\n",
    "        self.train_images = list(Path(self.train_dir).glob('*.png'))\n",
    "        self.tumor_images, self.stroma_images, self.normal_images = create_data(self.train_dir)\n",
    "\n",
    "        self.patch_num = patch_num\n",
    "        self.patch_size = patch_size\n",
    "\n",
    "        self.total_len = len(self.tumor_images) + len(self.stroma_images) + len(self.normal_images) if size is None else size\n",
    "\n",
    "        self.crop_fn = albu.Compose([\n",
    "            # albu.Resize(self.patch_num*self.patch_size, self.patch_num*self.patch_size),\n",
    "            albu.PadIfNeeded(min_height=self.patch_size, min_width=self.patch_size),\n",
    "            albu.RandomCrop(width=self.patch_size, height=self.patch_size)\n",
    "        ])\n",
    "        \n",
    "        self.transform = albu.Compose([\n",
    "            albu.Flip(),\n",
    "            albu.RandomRotate90(),\n",
    "        ])\n",
    "    \n",
    "    def __getitem__(self, i):\n",
    "        # np.random.seed(2022 + 2022 * i)\n",
    "        # random.seed(2022 + 2022 * i)\n",
    "        \n",
    "        H = W = self.patch_num * self.patch_size\n",
    "        \n",
    "        while True:\n",
    "            try:\n",
    "                (image_1, mask_1), (image_2, mask_2), (image_3, mask_3), (image_4, mask_4) = [self.create_one_image() for _ in range(4)] # [H, W, C]\n",
    "                image, mask = self.create_mosaic(H, W, image_1, mask_1, image_2, mask_2, image_3, mask_3, image_4, mask_4)\n",
    "                break            \n",
    "            except AssertionError as e:\n",
    "                print(e)\n",
    "\n",
    "        \n",
    "        return image, mask\n",
    "\n",
    "    def create_one_image(self):      \n",
    "        H = W = self.patch_num * self.patch_size\n",
    "        image = np.zeros((H, W, 3), dtype=np.uint8)\n",
    "        mask = np.zeros((H, W), dtype=np.uint8)\n",
    "        # boarder_mask = np.zeros((H, W), dtype=np.uint8)\n",
    "\n",
    "        for i in range(self.patch_num):\n",
    "            for j in range(self.patch_num):\n",
    "                while(True):\n",
    "                    tile_name = np.random.choice(self.normal_images + self.stroma_images + self.tumor_images)\n",
    "                    assert sum(utils.to_list(utils.get_label(tile_name))) == 1\n",
    "\n",
    "                    tile = np.array(Image.open(tile_name))\n",
    "                    label = utils.to_list(utils.get_label(tile_name)).index(1)\n",
    "                    tile_mask = np.full((tile.shape[0], tile.shape[1]), label)\n",
    "                    background_mask = np.array(Image.open(Path(self.train_dir) / 'background-mask' / Path(tile_name).name))\n",
    "                    tile_mask[background_mask > 0] = 3\n",
    "\n",
    "                    sample = self.crop_fn(image=tile, mask=tile_mask)\n",
    "                    tile = sample['image']\n",
    "                    tile_mask = sample['mask']\n",
    "\n",
    "                    # Background area is smaller than 80%\n",
    "                    if np.sum(tile_mask[tile_mask == 3]) < self.patch_size * self.patch_size * 0.8:\n",
    "                        break\n",
    "                \n",
    "                image[i*self.patch_size: (i+1)*self.patch_size, j*self.patch_size: (j+1)*self.patch_size] = tile\n",
    "                mask[i*self.patch_size: (i+1)*self.patch_size, j*self.patch_size: (j+1)*self.patch_size] = tile_mask\n",
    "\n",
    "        \n",
    "        return image, mask\n",
    "    \n",
    "    def create_mosaic(self, H, W, image_1, mask_1, image_2, mask_2, image_3, mask_3, image_4, mask_4):\n",
    "        def get_transforms(height, width, p=0.5):\n",
    "            _transform = [\n",
    "                albu.Flip(p=p),\n",
    "                albu.ShiftScaleRotate(shift_limit=0.0625, scale_limit=0.2, rotate_limit=45, p=p),\n",
    "                albu.RandomCrop(height, width),\n",
    "            ]\n",
    "            return albu.Compose(_transform)\n",
    "        \n",
    "        image = np.zeros((H, W, 3), dtype=np.uint8)\n",
    "        mask = np.zeros((H, W), dtype=np.uint8)\n",
    "        # boarder_mask = np.zeros((H, W), dtype=np.uint8)\n",
    "\n",
    "        h, w = int(H * (random.random()*0.6+0.2)), int(W * (random.random()*0.6+0.2))\n",
    "        h += h % 2\n",
    "        w += w % 2\n",
    "\n",
    "        transform_1 = get_transforms(height=h, width=w, p=0.8)\n",
    "        sample = transform_1(image=image_1, mask=mask_1)\n",
    "        image_1, mask_1 = sample['image'], sample['mask']\n",
    "\n",
    "        transform_2 = get_transforms(height=h, width=W-w, p=0.8)\n",
    "        sample = transform_2(image=image_2, mask=mask_2)\n",
    "        image_2, mask_2 = sample['image'], sample['mask']\n",
    "\n",
    "        transform_3 = get_transforms(height=H-h, width=w, p=0.8)\n",
    "        sample = transform_3(image=image_3, mask=mask_3)\n",
    "        image_3, mask_3 = sample['image'], sample['mask']\n",
    "\n",
    "        transform_4 = get_transforms(height=H-h, width=W-w, p=0.8)\n",
    "        sample = transform_4(image=image_4, mask=mask_4)\n",
    "        image_4, mask_4 = sample['image'], sample['mask']\n",
    "\n",
    "        # boarder_mask[h-2:h+3, 0:W] = 1\n",
    "        # boarder_mask[0:H, w-2:w+3] = 1\n",
    "        \n",
    "        image[:h, :w, :] = image_1\n",
    "        image[:h, w:W, :] = image_2\n",
    "        image[h:H, :w, :] = image_3\n",
    "        image[h:H, w:W, :] = image_4\n",
    "\n",
    "        # image_blur = cv2.GaussianBlur(image, (11, 11), 0)\n",
    "        # image[boarder_mask > 0] = image_blur[boarder_mask > 0]\n",
    "    \n",
    "        mask[:h, :w] = mask_1\n",
    "        mask[:h, w:W] = mask_2\n",
    "        mask[h:H, :w] = mask_3\n",
    "        mask[h:H, w:W] = mask_4\n",
    "        \n",
    "        return image, mask\n",
    "\n",
    "    def __len__(self):\n",
    "        return self.total_len"
   ]
  },
  {
   "cell_type": "code",
   "execution_count": 8,
   "id": "870458b6-05ed-4b12-b70d-0b690004282b",
   "metadata": {},
   "outputs": [],
   "source": [
    "from argparse import Namespace\n",
    "from torch.utils.data import DataLoader\n",
    "args = Namespace()\n",
    "args.train_dir = \"./data/WSSS4LUAD/1.training\"\n",
    "\n",
    "patch_num = 2\n",
    "patch_size = 112\n",
    "N = 10_000\n"
   ]
  },
  {
   "cell_type": "code",
   "execution_count": 9,
   "id": "6f81ab79-0451-4dd5-8e20-220c091d23e7",
   "metadata": {
    "scrolled": true,
    "tags": []
   },
   "outputs": [
    {
     "name": "stdout",
     "output_type": "stream",
     "text": [
      "./data/WSSS4LUAD/1.training\n"
     ]
    },
    {
     "name": "stderr",
     "output_type": "stream",
     "text": [
      "  0%|          | 0/10000 [00:00<?, ?it/s]"
     ]
    },
    {
     "name": "stderr",
     "output_type": "stream",
     "text": [
      "100%|██████████| 10000/10000 [43:24<00:00,  3.84it/s]\n"
     ]
    },
    {
     "name": "stdout",
     "output_type": "stream",
     "text": [
      "./data/WSSS4LUAD/1.training\n"
     ]
    },
    {
     "name": "stderr",
     "output_type": "stream",
     "text": [
      "100%|██████████| 10000/10000 [23:48<00:00,  7.00it/s] \n"
     ]
    },
    {
     "name": "stdout",
     "output_type": "stream",
     "text": [
      "./data/WSSS4LUAD/1.training\n"
     ]
    },
    {
     "name": "stderr",
     "output_type": "stream",
     "text": [
      "100%|██████████| 10000/10000 [17:38<00:00,  9.44it/s]\n"
     ]
    },
    {
     "name": "stdout",
     "output_type": "stream",
     "text": [
      "./data/WSSS4LUAD/1.training\n"
     ]
    },
    {
     "name": "stderr",
     "output_type": "stream",
     "text": [
      "100%|██████████| 10000/10000 [16:58<00:00,  9.82it/s]\n"
     ]
    },
    {
     "name": "stdout",
     "output_type": "stream",
     "text": [
      "./data/WSSS4LUAD/1.training\n"
     ]
    },
    {
     "name": "stderr",
     "output_type": "stream",
     "text": [
      "100%|██████████| 10000/10000 [17:47<00:00,  9.36it/s]\n"
     ]
    }
   ],
   "source": [
    "from joblib import Parallel, delayed\n",
    "\n",
    "for run in range(5, 10):\n",
    "    mosaic_data = Path(f\"./data/WSSS4LUAD/mosaic_{patch_num}_{patch_size}_run{run}\")\n",
    "    (mosaic_data / 'img').mkdir(parents=True, exist_ok=True)\n",
    "    (mosaic_data / 'mask').mkdir(parents=True, exist_ok=True)\n",
    "\n",
    "    dataset = CropAndConcatDataset(args, patch_num=patch_num, patch_size=patch_size, size=N)\n",
    "\n",
    "    def func(i):\n",
    "        image, mask = dataset[i]\n",
    "        image = Image.fromarray(image)\n",
    "        palette = [\n",
    "            0, 64, 128,  # r, g, b for Tumor\n",
    "            64, 128, 0,  # r, g, b for Stroma\n",
    "            243, 152, 0,  # r, g, b for Normal\n",
    "            255, 255, 255,  # r, g, b for background\n",
    "        ] + [0] * 252 * 3\n",
    "        mask = Image.fromarray(np.uint8(mask), mode='P')\n",
    "        mask.putpalette(palette)\n",
    "        image.save(mosaic_data / 'img' / f'{patch_num}_{patch_size}_{i}.png')\n",
    "        mask.save(mosaic_data / 'mask' / f'{patch_num}_{patch_size}_{i}.png')\n",
    "        \n",
    "    def print_error(value):\n",
    "        print(\"error: \", value)\n",
    "\n",
    "    Parallel(n_jobs=2)(delayed(func)(i) for i in tqdm(range(N)));"
   ]
  },
  {
   "cell_type": "code",
   "execution_count": null,
   "id": "107bf806",
   "metadata": {},
   "outputs": [],
   "source": []
  }
 ],
 "metadata": {
  "kernelspec": {
   "display_name": "Python 3.8.13 ('wsss4luad')",
   "language": "python",
   "name": "python3"
  },
  "language_info": {
   "codemirror_mode": {
    "name": "ipython",
    "version": 3
   },
   "file_extension": ".py",
   "mimetype": "text/x-python",
   "name": "python",
   "nbconvert_exporter": "python",
   "pygments_lexer": "ipython3",
   "version": "3.8.13"
  },
  "vscode": {
   "interpreter": {
    "hash": "153d7fbbbee1d273a0ca8d1411d96d9bc2f994be0d513b7341e48284653310bc"
   }
  }
 },
 "nbformat": 4,
 "nbformat_minor": 5
}
