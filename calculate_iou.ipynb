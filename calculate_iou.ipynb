{
 "cells": [
  {
   "cell_type": "code",
   "execution_count": 1,
   "metadata": {},
   "outputs": [],
   "source": [
    "import os\n",
    "import torch\n",
    "import torch.nn.functional as F\n",
    "import numpy as np\n",
    "\n",
    "from PIL import Image\n",
    "from tqdm import tqdm"
   ]
  },
  {
   "cell_type": "code",
   "execution_count": 2,
   "metadata": {},
   "outputs": [],
   "source": [
    "class mIoUMask():\n",
    "\n",
    "    def __init__(self, num_classes=3, ignore_class=None, eps=1e-7):\n",
    "        super(mIoUMask, self).__init__()\n",
    "        self.eps = eps\n",
    "        self.num_class = num_classes + (1 if ignore_class is not None else 0)\n",
    "        self.ignore_class = ignore_class\n",
    "        self.confusion_matrix = np.zeros((self.num_class, 3)) # tp, fp, fn for each class\n",
    "        self.cnt = np.zeros(self.num_class)\n",
    "\n",
    "    def _generate_matrix(self, pre_image, gt_image):\n",
    "        mask = (gt_image >= 0) & (gt_image < self.num_class) \n",
    "        if self.ignore_class is not None:\n",
    "            mask = mask & (gt_image != self.ignore_class)\n",
    "        pre_image = pre_image[mask].astype('int')\n",
    "        gt_image = gt_image[mask].astype('int')\n",
    "\n",
    "        confusion_matrix = np.zeros((self.num_class, 3))\n",
    "        cnt = np.zeros(self.num_class)\n",
    "        for i in range(self.num_class):\n",
    "            gt = (gt_image == i)\n",
    "            pred = (pre_image == i)\n",
    "            tp = np.sum(gt & pred)\n",
    "            fp = np.sum((gt == False) & (pred == True))\n",
    "            fn = np.sum((gt == True) & (pred == False))\n",
    "            cnt[i] += np.sum(gt)\n",
    "            confusion_matrix[i, 0] += tp\n",
    "            confusion_matrix[i, 1] += fp\n",
    "            confusion_matrix[i, 2] += fn\n",
    "\n",
    "        return confusion_matrix, cnt\n",
    "\n",
    "    def reset(self):\n",
    "        self.confusion_matrix = np.zeros((self.num_class,) * 2)\n",
    "\n",
    "    def add_batch(self, gt_image, pre_image):\n",
    "        assert gt_image.shape == pre_image.shape\n",
    "        confusion_matrix, cnt = self._generate_matrix(gt_image, pre_image)\n",
    "        self.confusion_matrix += confusion_matrix\n",
    "        self.cnt += cnt\n",
    "\n",
    "    def Tissue_Intersection_over_Union(self):\n",
    "        tiou = np.zeros((self.num_class))\n",
    "        for i in range(self.num_class):\n",
    "            tp = self.confusion_matrix[i, 0]\n",
    "            fp = self.confusion_matrix[i, 1]\n",
    "            fn = self.confusion_matrix[i, 2]\n",
    "            tiou[i] = tp / (tp + fp + fn + self.eps)\n",
    "        return tiou\n",
    "\n",
    "    def Mean_Intersection_over_Union(self):\n",
    "        tiou = self.Tissue_Intersection_over_Union()\n",
    "        MIoU = np.mean(tiou)\n",
    "        return MIoU\n",
    "\n",
    "    def Frequency_Weighted_Intersection_over_Union(self):\n",
    "        freq = self.cnt / np.sum(self.cnt)\n",
    "        tiou = self.Tissue_Intersection_over_Union()\n",
    "        FWIoU = (freq[freq > 0] * tiou[freq > 0]).sum()\n",
    "        return FWIoU\n",
    "\n",
    "    def __call__(self, pred, mask):\n",
    "        self.add_batch(pred, mask)\n",
    "        return self.Mean_Intersection_over_Union(), self.Frequency_Weighted_Intersection_over_Union()"
   ]
  },
  {
   "cell_type": "markdown",
   "metadata": {},
   "source": [
    "Patch level"
   ]
  },
  {
   "cell_type": "code",
   "execution_count": 3,
   "metadata": {},
   "outputs": [],
   "source": [
    "pred_dir = f\"./logs/wsss4luad3k6_3k6_run1_2/test/mask\"\n",
    "gt_dir = \"./data/WSSS4LUAD/3.testing/mask\""
   ]
  },
  {
   "cell_type": "code",
   "execution_count": 4,
   "metadata": {},
   "outputs": [
    {
     "name": "stderr",
     "output_type": "stream",
     "text": [
      "100%|██████████| 80/80 [00:07<00:00, 10.34it/s]"
     ]
    },
    {
     "name": "stdout",
     "output_type": "stream",
     "text": [
      "mIoU: 0.6541, FWIoU: 0.7065\n",
      "tissue_iou: [0.76666176 0.63436127 0.56127134]\n"
     ]
    },
    {
     "name": "stderr",
     "output_type": "stream",
     "text": [
      "\n"
     ]
    }
   ],
   "source": [
    "metrics = mIoUMask(num_classes=3)\n",
    "for name in tqdm(os.listdir(gt_dir)):\n",
    "    gt_mask = np.array(Image.open(os.path.join(gt_dir, name)))\n",
    "    pred_mask = np.array(Image.open(os.path.join(pred_dir, name)))\n",
    "    if gt_mask.shape != pred_mask.shape:\n",
    "        print(name, gt_mask.shape, pred_mask.shape)\n",
    "    miou, fwiou = metrics(pred_mask, gt_mask)\n",
    "\n",
    "miou = metrics.Mean_Intersection_over_Union()\n",
    "fwiou = metrics.Frequency_Weighted_Intersection_over_Union()\n",
    "tissue_iou = metrics.Tissue_Intersection_over_Union()\n",
    "\n",
    "print(f\"mIoU: {miou:.4f}, FWIoU: {fwiou:.4f}\")\n",
    "print(f\"tissue_iou: {tissue_iou}\")"
   ]
  }
 ],
 "metadata": {
  "kernelspec": {
   "display_name": "hamil",
   "language": "python",
   "name": "python3"
  },
  "language_info": {
   "codemirror_mode": {
    "name": "ipython",
    "version": 3
   },
   "file_extension": ".py",
   "mimetype": "text/x-python",
   "name": "python",
   "nbconvert_exporter": "python",
   "pygments_lexer": "ipython3",
   "version": "3.8.13"
  }
 },
 "nbformat": 4,
 "nbformat_minor": 2
}
