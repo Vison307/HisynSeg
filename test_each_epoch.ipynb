{
 "cells": [
  {
   "cell_type": "code",
   "execution_count": 1,
   "metadata": {},
   "outputs": [],
   "source": [
    "import os"
   ]
  },
  {
   "cell_type": "code",
   "execution_count": 2,
   "metadata": {},
   "outputs": [],
   "source": [
    "ckpt_dir = \"logs/wsss4luad3k6_3k6_run1\""
   ]
  },
  {
   "cell_type": "code",
   "execution_count": 3,
   "metadata": {},
   "outputs": [
    {
     "name": "stdout",
     "output_type": "stream",
     "text": [
      "epoch=00-validation_miou_mask_epoch=0.7098.ckpt\n",
      "Extension horovod.torch has not been built: /home/fzj/.local/lib/python3.8/site-packages/horovod/torch/mpi_lib_v2.cpython-38-x86_64-linux-gnu.so not found\n",
      "If this is not expected, reinstall Horovod with HOROVOD_WITH_PYTORCH=1 to debug the build error.\n",
      "Warning! MPI libs are missing, but python applications are still available.\n",
      "Find best checkpoint file: logs/wsss4luad3k6_3k6_run1/epoch=00-validation_miou_mask_epoch=0.7098.ckpt\n",
      "Save dir: logs/wsss4luad3k6_3k6_run1/test_tta\n"
     ]
    },
    {
     "name": "stderr",
     "output_type": "stream",
     "text": [
      "  0%|          | 0/1437 [00:00<?, ?it/s]"
     ]
    },
    {
     "name": "stdout",
     "output_type": "stream",
     "text": [
      "0/1437\n",
      "mIoU(patch): 0.0\n",
      "fwIoU: 0.0\n",
      "tIoU, sIoU, nIoU: [0. 0. 0.]\n"
     ]
    },
    {
     "name": "stderr",
     "output_type": "stream",
     "text": [
      "/data114_1/fzj/CODE/TMI24-HisynSeg/TMI23-submit-final/loss.py:34: RuntimeWarning: invalid value encountered in divide\n",
      "  MIoU = np.diag(self.confusion_matrix) / (\n",
      "/data114_1/fzj/CODE/TMI24-HisynSeg/TMI23-submit-final/loss.py:46: RuntimeWarning: invalid value encountered in divide\n",
      "  freq = np.sum(self.confusion_matrix, axis=1) / \\\n",
      "/data114_1/fzj/CODE/TMI24-HisynSeg/TMI23-submit-final/loss.py:48: RuntimeWarning: invalid value encountered in divide\n",
      "  iu = np.diag(self.confusion_matrix) / (\n",
      "  7%|▋         | 100/1437 [04:24<46:52,  2.10s/it] "
     ]
    },
    {
     "name": "stdout",
     "output_type": "stream",
     "text": [
      "100/1437\n",
      "mIoU(patch): 0.635817637117478\n",
      "fwIoU: 0.708673645122524\n",
      "tIoU, sIoU, nIoU: [0.73557456 0.68364087 0.48823748]\n"
     ]
    },
    {
     "name": "stderr",
     "output_type": "stream",
     "text": [
      " 14%|█▍        | 200/1437 [08:01<42:05,  2.04s/it]"
     ]
    },
    {
     "name": "stdout",
     "output_type": "stream",
     "text": [
      "200/1437\n",
      "mIoU(patch): 0.6189935779327802\n",
      "fwIoU: 0.6965924702388647\n",
      "tIoU, sIoU, nIoU: [0.75334734 0.64707081 0.45656258]\n"
     ]
    },
    {
     "name": "stderr",
     "output_type": "stream",
     "text": [
      " 21%|██        | 300/1437 [11:38<46:07,  2.43s/it]"
     ]
    },
    {
     "name": "stdout",
     "output_type": "stream",
     "text": [
      "300/1437\n",
      "mIoU(patch): 0.5962308519098289\n",
      "fwIoU: 0.6808571080409733\n",
      "tIoU, sIoU, nIoU: [0.75089553 0.62841813 0.40937889]\n"
     ]
    },
    {
     "name": "stderr",
     "output_type": "stream",
     "text": [
      " 28%|██▊       | 400/1437 [15:09<34:29,  2.00s/it]"
     ]
    },
    {
     "name": "stdout",
     "output_type": "stream",
     "text": [
      "400/1437\n",
      "mIoU(patch): 0.5892238776588969\n",
      "fwIoU: 0.6702100120048984\n",
      "tIoU, sIoU, nIoU: [0.7472912  0.6164276  0.40395283]\n"
     ]
    },
    {
     "name": "stderr",
     "output_type": "stream",
     "text": [
      " 35%|███▍      | 500/1437 [18:42<31:38,  2.03s/it]"
     ]
    },
    {
     "name": "stdout",
     "output_type": "stream",
     "text": [
      "500/1437\n",
      "mIoU(patch): 0.6049945968802003\n",
      "fwIoU: 0.6771841728489228\n",
      "tIoU, sIoU, nIoU: [0.74506919 0.63063506 0.43927954]\n"
     ]
    },
    {
     "name": "stderr",
     "output_type": "stream",
     "text": [
      " 42%|████▏     | 600/1437 [22:12<28:41,  2.06s/it]"
     ]
    },
    {
     "name": "stdout",
     "output_type": "stream",
     "text": [
      "600/1437\n",
      "mIoU(patch): 0.5879800232173892\n",
      "fwIoU: 0.6585964181361116\n",
      "tIoU, sIoU, nIoU: [0.73504898 0.58987026 0.43902083]\n"
     ]
    },
    {
     "name": "stderr",
     "output_type": "stream",
     "text": [
      " 49%|████▊     | 700/1437 [25:43<25:03,  2.04s/it]"
     ]
    },
    {
     "name": "stdout",
     "output_type": "stream",
     "text": [
      "700/1437\n",
      "mIoU(patch): 0.5726640640288875\n",
      "fwIoU: 0.6495515725074915\n",
      "tIoU, sIoU, nIoU: [0.72856381 0.56776862 0.42165976]\n"
     ]
    },
    {
     "name": "stderr",
     "output_type": "stream",
     "text": [
      " 56%|█████▌    | 800/1437 [29:16<21:33,  2.03s/it]"
     ]
    },
    {
     "name": "stdout",
     "output_type": "stream",
     "text": [
      "800/1437\n",
      "mIoU(patch): 0.5755541070055173\n",
      "fwIoU: 0.6548784051767043\n",
      "tIoU, sIoU, nIoU: [0.73074322 0.57432978 0.42158933]\n"
     ]
    },
    {
     "name": "stderr",
     "output_type": "stream",
     "text": [
      " 63%|██████▎   | 900/1437 [32:50<20:28,  2.29s/it]"
     ]
    },
    {
     "name": "stdout",
     "output_type": "stream",
     "text": [
      "900/1437\n",
      "mIoU(patch): 0.5781305397593076\n",
      "fwIoU: 0.6598061628494054\n",
      "tIoU, sIoU, nIoU: [0.73347936 0.57950562 0.42140663]\n"
     ]
    },
    {
     "name": "stderr",
     "output_type": "stream",
     "text": [
      " 70%|██████▉   | 1000/1437 [36:30<19:02,  2.62s/it]"
     ]
    },
    {
     "name": "stdout",
     "output_type": "stream",
     "text": [
      "1000/1437\n",
      "mIoU(patch): 0.5807673049616503\n",
      "fwIoU: 0.6663231707843461\n",
      "tIoU, sIoU, nIoU: [0.73924376 0.5816776  0.42138055]\n"
     ]
    },
    {
     "name": "stderr",
     "output_type": "stream",
     "text": [
      " 77%|███████▋  | 1100/1437 [40:05<11:47,  2.10s/it]"
     ]
    },
    {
     "name": "stdout",
     "output_type": "stream",
     "text": [
      "1100/1437\n",
      "mIoU(patch): 0.5879254465925174\n",
      "fwIoU: 0.6727210428982016\n",
      "tIoU, sIoU, nIoU: [0.73763267 0.60476312 0.42138055]\n"
     ]
    },
    {
     "name": "stderr",
     "output_type": "stream",
     "text": [
      " 84%|████████▎ | 1200/1437 [43:38<08:10,  2.07s/it]"
     ]
    },
    {
     "name": "stdout",
     "output_type": "stream",
     "text": [
      "1200/1437\n",
      "mIoU(patch): 0.5934296696872567\n",
      "fwIoU: 0.6804007259930346\n",
      "tIoU, sIoU, nIoU: [0.74142478 0.61748368 0.42138055]\n"
     ]
    },
    {
     "name": "stderr",
     "output_type": "stream",
     "text": [
      " 90%|█████████ | 1300/1437 [47:14<04:45,  2.08s/it]"
     ]
    },
    {
     "name": "stdout",
     "output_type": "stream",
     "text": [
      "1300/1437\n",
      "mIoU(patch): 0.5971354517033752\n",
      "fwIoU: 0.6852453004931238\n",
      "tIoU, sIoU, nIoU: [0.74246814 0.6275606  0.42137762]\n"
     ]
    },
    {
     "name": "stderr",
     "output_type": "stream",
     "text": [
      " 97%|█████████▋| 1400/1437 [50:50<01:16,  2.07s/it]"
     ]
    },
    {
     "name": "stdout",
     "output_type": "stream",
     "text": [
      "1400/1437\n",
      "mIoU(patch): 0.5926240353320044\n",
      "fwIoU: 0.6792314536503405\n",
      "tIoU, sIoU, nIoU: [0.73668462 0.61980986 0.42137762]\n"
     ]
    },
    {
     "name": "stderr",
     "output_type": "stream",
     "text": [
      "100%|██████████| 1437/1437 [52:09<00:00,  2.18s/it]\n"
     ]
    },
    {
     "name": "stdout",
     "output_type": "stream",
     "text": [
      "mIoU(big mask): 0.6510999290511633\n",
      "fwIoU: 0.7271219729545332\n",
      "tIoU, sIoU, nIoU: [0.77822376 0.67321041 0.50186562]\n",
      "epoch=01-validation_miou_mask_epoch=0.7318.ckpt\n",
      "Extension horovod.torch has not been built: /home/fzj/.local/lib/python3.8/site-packages/horovod/torch/mpi_lib_v2.cpython-38-x86_64-linux-gnu.so not found\n",
      "If this is not expected, reinstall Horovod with HOROVOD_WITH_PYTORCH=1 to debug the build error.\n",
      "Warning! MPI libs are missing, but python applications are still available.\n",
      "Find best checkpoint file: logs/wsss4luad3k6_3k6_run1/epoch=01-validation_miou_mask_epoch=0.7318.ckpt\n",
      "Save dir: logs/wsss4luad3k6_3k6_run1/test_tta\n"
     ]
    },
    {
     "name": "stderr",
     "output_type": "stream",
     "text": [
      "  0%|          | 0/1437 [00:00<?, ?it/s]"
     ]
    },
    {
     "name": "stdout",
     "output_type": "stream",
     "text": [
      "0/1437\n",
      "mIoU(patch): 0.0\n",
      "fwIoU: 0.0\n",
      "tIoU, sIoU, nIoU: [0. 0. 0.]\n"
     ]
    },
    {
     "name": "stderr",
     "output_type": "stream",
     "text": [
      "/data114_1/fzj/CODE/TMI24-HisynSeg/TMI23-submit-final/loss.py:34: RuntimeWarning: invalid value encountered in divide\n",
      "  MIoU = np.diag(self.confusion_matrix) / (\n",
      "/data114_1/fzj/CODE/TMI24-HisynSeg/TMI23-submit-final/loss.py:46: RuntimeWarning: invalid value encountered in divide\n",
      "  freq = np.sum(self.confusion_matrix, axis=1) / \\\n",
      "/data114_1/fzj/CODE/TMI24-HisynSeg/TMI23-submit-final/loss.py:48: RuntimeWarning: invalid value encountered in divide\n",
      "  iu = np.diag(self.confusion_matrix) / (\n",
      "  7%|▋         | 100/1437 [04:32<49:05,  2.20s/it] "
     ]
    },
    {
     "name": "stdout",
     "output_type": "stream",
     "text": [
      "100/1437\n",
      "mIoU(patch): 0.6504603714784458\n",
      "fwIoU: 0.7246607342713179\n",
      "tIoU, sIoU, nIoU: [0.75265013 0.69854207 0.50018891]\n"
     ]
    },
    {
     "name": "stderr",
     "output_type": "stream",
     "text": [
      " 14%|█▍        | 200/1437 [08:12<47:56,  2.33s/it]"
     ]
    },
    {
     "name": "stdout",
     "output_type": "stream",
     "text": [
      "200/1437\n",
      "mIoU(patch): 0.6559371007129583\n",
      "fwIoU: 0.7202567143960112\n",
      "tIoU, sIoU, nIoU: [0.77202047 0.67271753 0.52307331]\n"
     ]
    },
    {
     "name": "stderr",
     "output_type": "stream",
     "text": [
      " 21%|██        | 300/1437 [11:49<40:55,  2.16s/it]"
     ]
    },
    {
     "name": "stdout",
     "output_type": "stream",
     "text": [
      "300/1437\n",
      "mIoU(patch): 0.6386270442561864\n",
      "fwIoU: 0.7069735052010526\n",
      "tIoU, sIoU, nIoU: [0.76861205 0.65706534 0.49020375]\n"
     ]
    },
    {
     "name": "stderr",
     "output_type": "stream",
     "text": [
      " 28%|██▊       | 400/1437 [15:26<37:05,  2.15s/it]"
     ]
    },
    {
     "name": "stdout",
     "output_type": "stream",
     "text": [
      "400/1437\n",
      "mIoU(patch): 0.6354574321821217\n",
      "fwIoU: 0.6984262361642829\n",
      "tIoU, sIoU, nIoU: [0.76486394 0.64645358 0.49505478]\n"
     ]
    },
    {
     "name": "stderr",
     "output_type": "stream",
     "text": [
      " 35%|███▍      | 500/1437 [19:03<33:05,  2.12s/it]"
     ]
    },
    {
     "name": "stdout",
     "output_type": "stream",
     "text": [
      "500/1437\n",
      "mIoU(patch): 0.6465098170132234\n",
      "fwIoU: 0.7025359425710475\n",
      "tIoU, sIoU, nIoU: [0.76174722 0.65692778 0.52085445]\n"
     ]
    },
    {
     "name": "stderr",
     "output_type": "stream",
     "text": [
      " 42%|████▏     | 600/1437 [22:40<29:43,  2.13s/it]"
     ]
    },
    {
     "name": "stdout",
     "output_type": "stream",
     "text": [
      "600/1437\n",
      "mIoU(patch): 0.6304587906747987\n",
      "fwIoU: 0.6820013165930024\n",
      "tIoU, sIoU, nIoU: [0.75076298 0.61152214 0.52909126]\n"
     ]
    },
    {
     "name": "stderr",
     "output_type": "stream",
     "text": [
      " 49%|████▊     | 700/1437 [26:17<26:51,  2.19s/it]"
     ]
    },
    {
     "name": "stdout",
     "output_type": "stream",
     "text": [
      "700/1437\n",
      "mIoU(patch): 0.6150852786778843\n",
      "fwIoU: 0.6718507024876111\n",
      "tIoU, sIoU, nIoU: [0.74444984 0.58822842 0.51257758]\n"
     ]
    },
    {
     "name": "stderr",
     "output_type": "stream",
     "text": [
      " 56%|█████▌    | 800/1437 [29:54<22:34,  2.13s/it]"
     ]
    },
    {
     "name": "stdout",
     "output_type": "stream",
     "text": [
      "800/1437\n",
      "mIoU(patch): 0.6189465123091894\n",
      "fwIoU: 0.6784342530485138\n",
      "tIoU, sIoU, nIoU: [0.74842266 0.59679949 0.51161738]\n"
     ]
    },
    {
     "name": "stderr",
     "output_type": "stream",
     "text": [
      " 63%|██████▎   | 900/1437 [33:31<19:23,  2.17s/it]"
     ]
    },
    {
     "name": "stdout",
     "output_type": "stream",
     "text": [
      "900/1437\n",
      "mIoU(patch): 0.6217787994973897\n",
      "fwIoU: 0.6836928325314299\n",
      "tIoU, sIoU, nIoU: [0.75188974 0.60283519 0.51061146]\n"
     ]
    },
    {
     "name": "stderr",
     "output_type": "stream",
     "text": [
      " 70%|██████▉   | 1000/1437 [37:08<15:56,  2.19s/it]"
     ]
    },
    {
     "name": "stdout",
     "output_type": "stream",
     "text": [
      "1000/1437\n",
      "mIoU(patch): 0.6247491828473674\n",
      "fwIoU: 0.6906100460374756\n",
      "tIoU, sIoU, nIoU: [0.7584878  0.60583118 0.50992856]\n"
     ]
    },
    {
     "name": "stderr",
     "output_type": "stream",
     "text": [
      " 77%|███████▋  | 1100/1437 [40:45<11:40,  2.08s/it]"
     ]
    },
    {
     "name": "stdout",
     "output_type": "stream",
     "text": [
      "1100/1437\n",
      "mIoU(patch): 0.631906556288423\n",
      "fwIoU: 0.6967851311019579\n",
      "tIoU, sIoU, nIoU: [0.75701023 0.62878087 0.50992856]\n"
     ]
    },
    {
     "name": "stderr",
     "output_type": "stream",
     "text": [
      " 84%|████████▎ | 1200/1437 [44:22<08:56,  2.26s/it]"
     ]
    },
    {
     "name": "stdout",
     "output_type": "stream",
     "text": [
      "1200/1437\n",
      "mIoU(patch): 0.6366234223685653\n",
      "fwIoU: 0.7031045850982067\n",
      "tIoU, sIoU, nIoU: [0.75983558 0.64010612 0.50992856]\n"
     ]
    },
    {
     "name": "stderr",
     "output_type": "stream",
     "text": [
      " 90%|█████████ | 1300/1437 [47:59<05:02,  2.21s/it]"
     ]
    },
    {
     "name": "stdout",
     "output_type": "stream",
     "text": [
      "1300/1437\n",
      "mIoU(patch): 0.6405178378019448\n",
      "fwIoU: 0.7079375336459603\n",
      "tIoU, sIoU, nIoU: [0.76070502 0.65091993 0.50992856]\n"
     ]
    },
    {
     "name": "stderr",
     "output_type": "stream",
     "text": [
      " 97%|█████████▋| 1400/1437 [51:35<01:17,  2.09s/it]"
     ]
    },
    {
     "name": "stdout",
     "output_type": "stream",
     "text": [
      "1400/1437\n",
      "mIoU(patch): 0.6362348410080474\n",
      "fwIoU: 0.7020077605709678\n",
      "tIoU, sIoU, nIoU: [0.75483237 0.64394359 0.50992856]\n"
     ]
    },
    {
     "name": "stderr",
     "output_type": "stream",
     "text": [
      "100%|██████████| 1437/1437 [52:57<00:00,  2.21s/it]\n"
     ]
    },
    {
     "name": "stdout",
     "output_type": "stream",
     "text": [
      "mIoU(big mask): 0.6876149396078519\n",
      "fwIoU: 0.7479700242474171\n",
      "tIoU, sIoU, nIoU: [0.79426677 0.69712652 0.57145153]\n",
      "epoch=02-validation_miou_mask_epoch=0.7227.ckpt\n",
      "Extension horovod.torch has not been built: /home/fzj/.local/lib/python3.8/site-packages/horovod/torch/mpi_lib_v2.cpython-38-x86_64-linux-gnu.so not found\n",
      "If this is not expected, reinstall Horovod with HOROVOD_WITH_PYTORCH=1 to debug the build error.\n",
      "Warning! MPI libs are missing, but python applications are still available.\n",
      "Find best checkpoint file: logs/wsss4luad3k6_3k6_run1/epoch=02-validation_miou_mask_epoch=0.7227.ckpt\n",
      "Save dir: logs/wsss4luad3k6_3k6_run1/test_tta\n"
     ]
    },
    {
     "name": "stderr",
     "output_type": "stream",
     "text": [
      "  0%|          | 0/1437 [00:00<?, ?it/s]"
     ]
    },
    {
     "name": "stdout",
     "output_type": "stream",
     "text": [
      "0/1437\n",
      "mIoU(patch): 0.0\n",
      "fwIoU: 0.0\n",
      "tIoU, sIoU, nIoU: [0. 0. 0.]\n"
     ]
    },
    {
     "name": "stderr",
     "output_type": "stream",
     "text": [
      "/data114_1/fzj/CODE/TMI24-HisynSeg/TMI23-submit-final/loss.py:34: RuntimeWarning: invalid value encountered in divide\n",
      "  MIoU = np.diag(self.confusion_matrix) / (\n",
      "/data114_1/fzj/CODE/TMI24-HisynSeg/TMI23-submit-final/loss.py:46: RuntimeWarning: invalid value encountered in divide\n",
      "  freq = np.sum(self.confusion_matrix, axis=1) / \\\n",
      "/data114_1/fzj/CODE/TMI24-HisynSeg/TMI23-submit-final/loss.py:48: RuntimeWarning: invalid value encountered in divide\n",
      "  iu = np.diag(self.confusion_matrix) / (\n",
      "  7%|▋         | 100/1437 [03:50<47:08,  2.12s/it] "
     ]
    },
    {
     "name": "stdout",
     "output_type": "stream",
     "text": [
      "100/1437\n",
      "mIoU(patch): 0.658965817092629\n",
      "fwIoU: 0.7368175423374411\n",
      "tIoU, sIoU, nIoU: [0.76430274 0.71139642 0.50119829]\n"
     ]
    },
    {
     "name": "stderr",
     "output_type": "stream",
     "text": [
      " 14%|█▍        | 200/1437 [07:26<47:46,  2.32s/it]"
     ]
    },
    {
     "name": "stdout",
     "output_type": "stream",
     "text": [
      "200/1437\n",
      "mIoU(patch): 0.6830768307952692\n",
      "fwIoU: 0.7305741681965675\n",
      "tIoU, sIoU, nIoU: [0.78098949 0.67870624 0.58953477]\n"
     ]
    },
    {
     "name": "stderr",
     "output_type": "stream",
     "text": [
      " 21%|██        | 300/1437 [11:02<42:42,  2.25s/it]"
     ]
    },
    {
     "name": "stdout",
     "output_type": "stream",
     "text": [
      "300/1437\n",
      "mIoU(patch): 0.6642045130887005\n",
      "fwIoU: 0.7179881847672729\n",
      "tIoU, sIoU, nIoU: [0.77829018 0.66114281 0.55318055]\n"
     ]
    },
    {
     "name": "stderr",
     "output_type": "stream",
     "text": [
      " 28%|██▊       | 400/1437 [14:37<38:12,  2.21s/it]"
     ]
    },
    {
     "name": "stdout",
     "output_type": "stream",
     "text": [
      "400/1437\n",
      "mIoU(patch): 0.6609241097544462\n",
      "fwIoU: 0.7125270309142304\n",
      "tIoU, sIoU, nIoU: [0.77704502 0.65421103 0.55151628]\n"
     ]
    },
    {
     "name": "stderr",
     "output_type": "stream",
     "text": [
      " 35%|███▍      | 500/1437 [18:17<34:24,  2.20s/it]  "
     ]
    },
    {
     "name": "stdout",
     "output_type": "stream",
     "text": [
      "500/1437\n",
      "mIoU(patch): 0.6726195654739784\n",
      "fwIoU: 0.7170361042265007\n",
      "tIoU, sIoU, nIoU: [0.77369353 0.66676267 0.57740249]\n"
     ]
    },
    {
     "name": "stderr",
     "output_type": "stream",
     "text": [
      " 42%|████▏     | 600/1437 [21:51<31:19,  2.25s/it]"
     ]
    },
    {
     "name": "stdout",
     "output_type": "stream",
     "text": [
      "600/1437\n",
      "mIoU(patch): 0.6533544802145165\n",
      "fwIoU: 0.6959359193872592\n",
      "tIoU, sIoU, nIoU: [0.76224826 0.62280845 0.57500673]\n"
     ]
    },
    {
     "name": "stderr",
     "output_type": "stream",
     "text": [
      " 49%|████▊     | 700/1437 [25:25<27:16,  2.22s/it]"
     ]
    },
    {
     "name": "stdout",
     "output_type": "stream",
     "text": [
      "700/1437\n",
      "mIoU(patch): 0.6391570405357663\n",
      "fwIoU: 0.6860532553682049\n",
      "tIoU, sIoU, nIoU: [0.75609082 0.60057757 0.56080273]\n"
     ]
    },
    {
     "name": "stderr",
     "output_type": "stream",
     "text": [
      " 56%|█████▌    | 800/1437 [28:57<21:56,  2.07s/it]"
     ]
    },
    {
     "name": "stdout",
     "output_type": "stream",
     "text": [
      "800/1437\n",
      "mIoU(patch): 0.6433222927517354\n",
      "fwIoU: 0.6928135972536315\n",
      "tIoU, sIoU, nIoU: [0.76025216 0.60996438 0.55975034]\n"
     ]
    },
    {
     "name": "stderr",
     "output_type": "stream",
     "text": [
      " 63%|██████▎   | 900/1437 [32:30<18:15,  2.04s/it]"
     ]
    },
    {
     "name": "stdout",
     "output_type": "stream",
     "text": [
      "900/1437\n",
      "mIoU(patch): 0.6466375689980115\n",
      "fwIoU: 0.6984935231743694\n",
      "tIoU, sIoU, nIoU: [0.76411879 0.61700336 0.55879056]\n"
     ]
    },
    {
     "name": "stderr",
     "output_type": "stream",
     "text": [
      " 70%|██████▉   | 1000/1437 [36:03<14:58,  2.05s/it]"
     ]
    },
    {
     "name": "stdout",
     "output_type": "stream",
     "text": [
      "1000/1437\n",
      "mIoU(patch): 0.6496044677016775\n",
      "fwIoU: 0.705255627617787\n",
      "tIoU, sIoU, nIoU: [0.7706043  0.62026553 0.55794357]\n"
     ]
    },
    {
     "name": "stderr",
     "output_type": "stream",
     "text": [
      " 77%|███████▋  | 1100/1437 [39:38<11:32,  2.05s/it]"
     ]
    },
    {
     "name": "stdout",
     "output_type": "stream",
     "text": [
      "1100/1437\n",
      "mIoU(patch): 0.6562499415395141\n",
      "fwIoU: 0.7105970596159864\n",
      "tIoU, sIoU, nIoU: [0.76854811 0.642259   0.55794271]\n"
     ]
    },
    {
     "name": "stderr",
     "output_type": "stream",
     "text": [
      " 84%|████████▎ | 1200/1437 [43:12<08:09,  2.07s/it]"
     ]
    },
    {
     "name": "stdout",
     "output_type": "stream",
     "text": [
      "1200/1437\n",
      "mIoU(patch): 0.6603540514322667\n",
      "fwIoU: 0.7159215069503398\n",
      "tIoU, sIoU, nIoU: [0.77062962 0.65248982 0.55794271]\n"
     ]
    },
    {
     "name": "stderr",
     "output_type": "stream",
     "text": [
      " 90%|█████████ | 1300/1437 [46:49<04:43,  2.07s/it]"
     ]
    },
    {
     "name": "stdout",
     "output_type": "stream",
     "text": [
      "1300/1437\n",
      "mIoU(patch): 0.6639720793382823\n",
      "fwIoU: 0.7201932886389053\n",
      "tIoU, sIoU, nIoU: [0.77080876 0.66316477 0.55794271]\n"
     ]
    },
    {
     "name": "stderr",
     "output_type": "stream",
     "text": [
      " 97%|█████████▋| 1400/1437 [50:23<01:17,  2.09s/it]"
     ]
    },
    {
     "name": "stdout",
     "output_type": "stream",
     "text": [
      "1400/1437\n",
      "mIoU(patch): 0.6611227940256889\n",
      "fwIoU: 0.716086551737386\n",
      "tIoU, sIoU, nIoU: [0.76604528 0.65938039 0.55794271]\n"
     ]
    },
    {
     "name": "stderr",
     "output_type": "stream",
     "text": [
      "100%|██████████| 1437/1437 [51:44<00:00,  2.16s/it]\n"
     ]
    },
    {
     "name": "stdout",
     "output_type": "stream",
     "text": [
      "mIoU(big mask): 0.7142108606141983\n",
      "fwIoU: 0.7568034513954063\n",
      "tIoU, sIoU, nIoU: [0.80097645 0.70476995 0.63688619]\n",
      "epoch=03-validation_miou_mask_epoch=0.7487.ckpt\n",
      "Extension horovod.torch has not been built: /home/fzj/.local/lib/python3.8/site-packages/horovod/torch/mpi_lib_v2.cpython-38-x86_64-linux-gnu.so not found\n",
      "If this is not expected, reinstall Horovod with HOROVOD_WITH_PYTORCH=1 to debug the build error.\n",
      "Warning! MPI libs are missing, but python applications are still available.\n",
      "Find best checkpoint file: logs/wsss4luad3k6_3k6_run1/epoch=03-validation_miou_mask_epoch=0.7487.ckpt\n",
      "Save dir: logs/wsss4luad3k6_3k6_run1/test_tta\n"
     ]
    },
    {
     "name": "stderr",
     "output_type": "stream",
     "text": [
      "  0%|          | 0/1437 [00:00<?, ?it/s]"
     ]
    },
    {
     "name": "stdout",
     "output_type": "stream",
     "text": [
      "0/1437\n",
      "mIoU(patch): 0.0\n",
      "fwIoU: 0.0\n",
      "tIoU, sIoU, nIoU: [0. 0. 0.]\n"
     ]
    },
    {
     "name": "stderr",
     "output_type": "stream",
     "text": [
      "/data114_1/fzj/CODE/TMI24-HisynSeg/TMI23-submit-final/loss.py:34: RuntimeWarning: invalid value encountered in divide\n",
      "  MIoU = np.diag(self.confusion_matrix) / (\n",
      "/data114_1/fzj/CODE/TMI24-HisynSeg/TMI23-submit-final/loss.py:46: RuntimeWarning: invalid value encountered in divide\n",
      "  freq = np.sum(self.confusion_matrix, axis=1) / \\\n",
      "/data114_1/fzj/CODE/TMI24-HisynSeg/TMI23-submit-final/loss.py:48: RuntimeWarning: invalid value encountered in divide\n",
      "  iu = np.diag(self.confusion_matrix) / (\n",
      "  7%|▋         | 100/1437 [03:39<45:52,  2.06s/it]"
     ]
    },
    {
     "name": "stdout",
     "output_type": "stream",
     "text": [
      "100/1437\n",
      "mIoU(patch): 0.6213160725247231\n",
      "fwIoU: 0.741893887203369\n",
      "tIoU, sIoU, nIoU: [0.77368832 0.71387633 0.37638357]\n"
     ]
    },
    {
     "name": "stderr",
     "output_type": "stream",
     "text": [
      " 14%|█▍        | 200/1437 [07:12<42:21,  2.05s/it]"
     ]
    },
    {
     "name": "stdout",
     "output_type": "stream",
     "text": [
      "200/1437\n",
      "mIoU(patch): 0.6958566151930978\n",
      "fwIoU: 0.7372940096435974\n",
      "tIoU, sIoU, nIoU: [0.78830024 0.68238621 0.61688339]\n"
     ]
    },
    {
     "name": "stderr",
     "output_type": "stream",
     "text": [
      " 21%|██        | 300/1437 [10:44<40:48,  2.15s/it]"
     ]
    },
    {
     "name": "stdout",
     "output_type": "stream",
     "text": [
      "300/1437\n",
      "mIoU(patch): 0.6950762225830095\n",
      "fwIoU: 0.7305311653579477\n",
      "tIoU, sIoU, nIoU: [0.7871901  0.66787529 0.63016327]\n"
     ]
    },
    {
     "name": "stderr",
     "output_type": "stream",
     "text": [
      " 28%|██▊       | 400/1437 [14:18<39:05,  2.26s/it]"
     ]
    },
    {
     "name": "stdout",
     "output_type": "stream",
     "text": [
      "400/1437\n",
      "mIoU(patch): 0.7077792195997213\n",
      "fwIoU: 0.7323104334168389\n",
      "tIoU, sIoU, nIoU: [0.7883369  0.6650039  0.66999686]\n"
     ]
    },
    {
     "name": "stderr",
     "output_type": "stream",
     "text": [
      " 35%|███▍      | 500/1437 [17:51<33:12,  2.13s/it]"
     ]
    },
    {
     "name": "stdout",
     "output_type": "stream",
     "text": [
      "500/1437\n",
      "mIoU(patch): 0.7110404158862978\n",
      "fwIoU: 0.7330953832326539\n",
      "tIoU, sIoU, nIoU: [0.78345187 0.67584379 0.67382559]\n"
     ]
    },
    {
     "name": "stderr",
     "output_type": "stream",
     "text": [
      " 42%|████▏     | 600/1437 [21:28<28:56,  2.08s/it]"
     ]
    },
    {
     "name": "stdout",
     "output_type": "stream",
     "text": [
      "600/1437\n",
      "mIoU(patch): 0.6941828690131958\n",
      "fwIoU: 0.7142901602256132\n",
      "tIoU, sIoU, nIoU: [0.77356676 0.63592068 0.67306117]\n"
     ]
    },
    {
     "name": "stderr",
     "output_type": "stream",
     "text": [
      " 49%|████▊     | 700/1437 [25:03<25:45,  2.10s/it]"
     ]
    },
    {
     "name": "stdout",
     "output_type": "stream",
     "text": [
      "700/1437\n",
      "mIoU(patch): 0.6801806244856028\n",
      "fwIoU: 0.7068951755521746\n",
      "tIoU, sIoU, nIoU: [0.77095915 0.61882767 0.65075506]\n"
     ]
    },
    {
     "name": "stderr",
     "output_type": "stream",
     "text": [
      " 56%|█████▌    | 800/1437 [28:38<21:41,  2.04s/it]"
     ]
    },
    {
     "name": "stdout",
     "output_type": "stream",
     "text": [
      "800/1437\n",
      "mIoU(patch): 0.6820765728270479\n",
      "fwIoU: 0.7112807367304322\n",
      "tIoU, sIoU, nIoU: [0.77436139 0.62464264 0.64722569]\n"
     ]
    },
    {
     "name": "stderr",
     "output_type": "stream",
     "text": [
      " 63%|██████▎   | 900/1437 [32:13<18:07,  2.02s/it]"
     ]
    },
    {
     "name": "stdout",
     "output_type": "stream",
     "text": [
      "900/1437\n",
      "mIoU(patch): 0.6826315510822273\n",
      "fwIoU: 0.714399525233831\n",
      "tIoU, sIoU, nIoU: [0.77713213 0.62801529 0.64274723]\n"
     ]
    },
    {
     "name": "stderr",
     "output_type": "stream",
     "text": [
      " 70%|██████▉   | 1000/1437 [35:47<14:58,  2.06s/it]"
     ]
    },
    {
     "name": "stdout",
     "output_type": "stream",
     "text": [
      "1000/1437\n",
      "mIoU(patch): 0.6837417646068943\n",
      "fwIoU: 0.7194742976101302\n",
      "tIoU, sIoU, nIoU: [0.78302193 0.62883799 0.63936538]\n"
     ]
    },
    {
     "name": "stderr",
     "output_type": "stream",
     "text": [
      " 77%|███████▋  | 1100/1437 [39:23<12:38,  2.25s/it]"
     ]
    },
    {
     "name": "stdout",
     "output_type": "stream",
     "text": [
      "1100/1437\n",
      "mIoU(patch): 0.6905811884702538\n",
      "fwIoU: 0.7246106534962427\n",
      "tIoU, sIoU, nIoU: [0.78088881 0.65151394 0.63934082]\n"
     ]
    },
    {
     "name": "stderr",
     "output_type": "stream",
     "text": [
      " 84%|████████▎ | 1200/1437 [43:01<09:25,  2.39s/it]"
     ]
    },
    {
     "name": "stdout",
     "output_type": "stream",
     "text": [
      "1200/1437\n",
      "mIoU(patch): 0.6946374922639524\n",
      "fwIoU: 0.7295232833508863\n",
      "tIoU, sIoU, nIoU: [0.78269276 0.6618789  0.63934082]\n"
     ]
    },
    {
     "name": "stderr",
     "output_type": "stream",
     "text": [
      " 90%|█████████ | 1300/1437 [46:35<04:46,  2.09s/it]"
     ]
    },
    {
     "name": "stdout",
     "output_type": "stream",
     "text": [
      "1300/1437\n",
      "mIoU(patch): 0.6985253150477879\n",
      "fwIoU: 0.7339096170696923\n",
      "tIoU, sIoU, nIoU: [0.7831591  0.67307795 0.63933889]\n"
     ]
    },
    {
     "name": "stderr",
     "output_type": "stream",
     "text": [
      " 97%|█████████▋| 1400/1437 [50:10<01:16,  2.07s/it]"
     ]
    },
    {
     "name": "stdout",
     "output_type": "stream",
     "text": [
      "1400/1437\n",
      "mIoU(patch): 0.6971598003026139\n",
      "fwIoU: 0.73158022608449\n",
      "tIoU, sIoU, nIoU: [0.77954549 0.67259502 0.63933889]\n"
     ]
    },
    {
     "name": "stderr",
     "output_type": "stream",
     "text": [
      "100%|██████████| 1437/1437 [51:29<00:00,  2.15s/it]\n"
     ]
    },
    {
     "name": "stdout",
     "output_type": "stream",
     "text": [
      "mIoU(big mask): 0.7451081620540294\n",
      "fwIoU: 0.7682605194431487\n",
      "tIoU, sIoU, nIoU: [0.80971405 0.71547955 0.71013089]\n",
      "epoch=04-validation_miou_mask_epoch=0.7428.ckpt\n",
      "Extension horovod.torch has not been built: /home/fzj/.local/lib/python3.8/site-packages/horovod/torch/mpi_lib_v2.cpython-38-x86_64-linux-gnu.so not found\n",
      "If this is not expected, reinstall Horovod with HOROVOD_WITH_PYTORCH=1 to debug the build error.\n",
      "Warning! MPI libs are missing, but python applications are still available.\n",
      "Find best checkpoint file: logs/wsss4luad3k6_3k6_run1/epoch=04-validation_miou_mask_epoch=0.7428.ckpt\n",
      "Save dir: logs/wsss4luad3k6_3k6_run1/test_tta\n"
     ]
    },
    {
     "name": "stderr",
     "output_type": "stream",
     "text": [
      "  0%|          | 0/1437 [00:00<?, ?it/s]"
     ]
    },
    {
     "name": "stdout",
     "output_type": "stream",
     "text": [
      "0/1437\n",
      "mIoU(patch): 0.0\n",
      "fwIoU: 0.0\n",
      "tIoU, sIoU, nIoU: [0. 0. 0.]\n"
     ]
    },
    {
     "name": "stderr",
     "output_type": "stream",
     "text": [
      "/data114_1/fzj/CODE/TMI24-HisynSeg/TMI23-submit-final/loss.py:34: RuntimeWarning: invalid value encountered in divide\n",
      "  MIoU = np.diag(self.confusion_matrix) / (\n",
      "/data114_1/fzj/CODE/TMI24-HisynSeg/TMI23-submit-final/loss.py:46: RuntimeWarning: invalid value encountered in divide\n",
      "  freq = np.sum(self.confusion_matrix, axis=1) / \\\n",
      "/data114_1/fzj/CODE/TMI24-HisynSeg/TMI23-submit-final/loss.py:48: RuntimeWarning: invalid value encountered in divide\n",
      "  iu = np.diag(self.confusion_matrix) / (\n",
      "  7%|▋         | 100/1437 [03:51<50:27,  2.26s/it] "
     ]
    },
    {
     "name": "stdout",
     "output_type": "stream",
     "text": [
      "100/1437\n",
      "mIoU(patch): 0.6546803420847049\n",
      "fwIoU: 0.7509821183332959\n",
      "tIoU, sIoU, nIoU: [0.7771249  0.72781546 0.45910067]\n"
     ]
    },
    {
     "name": "stderr",
     "output_type": "stream",
     "text": [
      " 14%|█▍        | 200/1437 [07:26<48:06,  2.33s/it]"
     ]
    },
    {
     "name": "stdout",
     "output_type": "stream",
     "text": [
      "200/1437\n",
      "mIoU(patch): 0.6890742282594468\n",
      "fwIoU: 0.7338600209215886\n",
      "tIoU, sIoU, nIoU: [0.78454394 0.68062612 0.60205263]\n"
     ]
    },
    {
     "name": "stderr",
     "output_type": "stream",
     "text": [
      " 21%|██        | 300/1437 [11:03<46:00,  2.43s/it]"
     ]
    },
    {
     "name": "stdout",
     "output_type": "stream",
     "text": [
      "300/1437\n",
      "mIoU(patch): 0.6795221487715731\n",
      "fwIoU: 0.722390397197473\n",
      "tIoU, sIoU, nIoU: [0.78182766 0.66014112 0.59659766]\n"
     ]
    },
    {
     "name": "stderr",
     "output_type": "stream",
     "text": [
      " 28%|██▊       | 400/1437 [14:37<39:31,  2.29s/it]"
     ]
    },
    {
     "name": "stdout",
     "output_type": "stream",
     "text": [
      "400/1437\n",
      "mIoU(patch): 0.6856097300979734\n",
      "fwIoU: 0.7218464278347855\n",
      "tIoU, sIoU, nIoU: [0.78305896 0.65606303 0.6177072 ]\n"
     ]
    },
    {
     "name": "stderr",
     "output_type": "stream",
     "text": [
      " 35%|███▍      | 500/1437 [18:11<32:40,  2.09s/it]"
     ]
    },
    {
     "name": "stdout",
     "output_type": "stream",
     "text": [
      "500/1437\n",
      "mIoU(patch): 0.6909747768627913\n",
      "fwIoU: 0.724230822771706\n",
      "tIoU, sIoU, nIoU: [0.77823844 0.66975555 0.62493035]\n"
     ]
    },
    {
     "name": "stderr",
     "output_type": "stream",
     "text": [
      " 42%|████▏     | 600/1437 [21:46<30:03,  2.15s/it]"
     ]
    },
    {
     "name": "stdout",
     "output_type": "stream",
     "text": [
      "600/1437\n",
      "mIoU(patch): 0.6745057221755629\n",
      "fwIoU: 0.7082810996992155\n",
      "tIoU, sIoU, nIoU: [0.77114048 0.63419099 0.6181857 ]\n"
     ]
    },
    {
     "name": "stderr",
     "output_type": "stream",
     "text": [
      " 49%|████▊     | 700/1437 [25:21<28:11,  2.30s/it]"
     ]
    },
    {
     "name": "stdout",
     "output_type": "stream",
     "text": [
      "700/1437\n",
      "mIoU(patch): 0.6592882535975301\n",
      "fwIoU: 0.7016106922712962\n",
      "tIoU, sIoU, nIoU: [0.76905202 0.61757199 0.59124076]\n"
     ]
    },
    {
     "name": "stderr",
     "output_type": "stream",
     "text": [
      " 56%|█████▌    | 800/1437 [28:56<22:56,  2.16s/it]"
     ]
    },
    {
     "name": "stdout",
     "output_type": "stream",
     "text": [
      "800/1437\n",
      "mIoU(patch): 0.6634008427323361\n",
      "fwIoU: 0.7083533793369051\n",
      "tIoU, sIoU, nIoU: [0.77347134 0.62683793 0.58989326]\n"
     ]
    },
    {
     "name": "stderr",
     "output_type": "stream",
     "text": [
      " 63%|██████▎   | 900/1437 [32:30<18:42,  2.09s/it]"
     ]
    },
    {
     "name": "stdout",
     "output_type": "stream",
     "text": [
      "900/1437\n",
      "mIoU(patch): 0.6664118352068166\n",
      "fwIoU: 0.7137305487496826\n",
      "tIoU, sIoU, nIoU: [0.77728881 0.63342284 0.58852386]\n"
     ]
    },
    {
     "name": "stderr",
     "output_type": "stream",
     "text": [
      " 70%|██████▉   | 1000/1437 [36:05<15:12,  2.09s/it]"
     ]
    },
    {
     "name": "stdout",
     "output_type": "stream",
     "text": [
      "1000/1437\n",
      "mIoU(patch): 0.668916217600068\n",
      "fwIoU: 0.7199420766485713\n",
      "tIoU, sIoU, nIoU: [0.78358044 0.63579945 0.58736877]\n"
     ]
    },
    {
     "name": "stderr",
     "output_type": "stream",
     "text": [
      " 77%|███████▋  | 1100/1437 [39:41<11:37,  2.07s/it]"
     ]
    },
    {
     "name": "stdout",
     "output_type": "stream",
     "text": [
      "1100/1437\n",
      "mIoU(patch): 0.6764062048392608\n",
      "fwIoU: 0.7263447176887933\n",
      "tIoU, sIoU, nIoU: [0.78210513 0.65974472 0.58736877]\n"
     ]
    },
    {
     "name": "stderr",
     "output_type": "stream",
     "text": [
      " 84%|████████▎ | 1200/1437 [43:17<09:21,  2.37s/it]"
     ]
    },
    {
     "name": "stdout",
     "output_type": "stream",
     "text": [
      "1200/1437\n",
      "mIoU(patch): 0.6807342540387936\n",
      "fwIoU: 0.7318786142010353\n",
      "tIoU, sIoU, nIoU: [0.78410229 0.67073171 0.58736877]\n"
     ]
    },
    {
     "name": "stderr",
     "output_type": "stream",
     "text": [
      " 90%|█████████ | 1300/1437 [46:54<05:28,  2.40s/it]"
     ]
    },
    {
     "name": "stdout",
     "output_type": "stream",
     "text": [
      "1300/1437\n",
      "mIoU(patch): 0.6836183035826432\n",
      "fwIoU: 0.735104113436562\n",
      "tIoU, sIoU, nIoU: [0.78341372 0.68007243 0.58736877]\n"
     ]
    },
    {
     "name": "stderr",
     "output_type": "stream",
     "text": [
      " 97%|█████████▋| 1400/1437 [50:29<01:23,  2.25s/it]"
     ]
    },
    {
     "name": "stdout",
     "output_type": "stream",
     "text": [
      "1400/1437\n",
      "mIoU(patch): 0.6792409057171088\n",
      "fwIoU: 0.7288776093092867\n",
      "tIoU, sIoU, nIoU: [0.77720478 0.67314917 0.58736877]\n"
     ]
    },
    {
     "name": "stderr",
     "output_type": "stream",
     "text": [
      "100%|██████████| 1437/1437 [51:47<00:00,  2.16s/it]\n"
     ]
    },
    {
     "name": "stdout",
     "output_type": "stream",
     "text": [
      "mIoU(big mask): 0.7268206648309056\n",
      "fwIoU: 0.7649659797671877\n",
      "tIoU, sIoU, nIoU: [0.80764037 0.71399247 0.65882915]\n",
      "epoch=05-validation_miou_mask_epoch=0.7455.ckpt\n",
      "Extension horovod.torch has not been built: /home/fzj/.local/lib/python3.8/site-packages/horovod/torch/mpi_lib_v2.cpython-38-x86_64-linux-gnu.so not found\n",
      "If this is not expected, reinstall Horovod with HOROVOD_WITH_PYTORCH=1 to debug the build error.\n",
      "Warning! MPI libs are missing, but python applications are still available.\n",
      "Find best checkpoint file: logs/wsss4luad3k6_3k6_run1/epoch=05-validation_miou_mask_epoch=0.7455.ckpt\n",
      "Save dir: logs/wsss4luad3k6_3k6_run1/test_tta\n"
     ]
    },
    {
     "name": "stderr",
     "output_type": "stream",
     "text": [
      "  0%|          | 0/1437 [00:00<?, ?it/s]"
     ]
    },
    {
     "name": "stdout",
     "output_type": "stream",
     "text": [
      "0/1437\n",
      "mIoU(patch): 0.0\n",
      "fwIoU: 0.0\n",
      "tIoU, sIoU, nIoU: [0. 0. 0.]\n"
     ]
    },
    {
     "name": "stderr",
     "output_type": "stream",
     "text": [
      "/data114_1/fzj/CODE/TMI24-HisynSeg/TMI23-submit-final/loss.py:34: RuntimeWarning: invalid value encountered in divide\n",
      "  MIoU = np.diag(self.confusion_matrix) / (\n",
      "/data114_1/fzj/CODE/TMI24-HisynSeg/TMI23-submit-final/loss.py:46: RuntimeWarning: invalid value encountered in divide\n",
      "  freq = np.sum(self.confusion_matrix, axis=1) / \\\n",
      "/data114_1/fzj/CODE/TMI24-HisynSeg/TMI23-submit-final/loss.py:48: RuntimeWarning: invalid value encountered in divide\n",
      "  iu = np.diag(self.confusion_matrix) / (\n",
      "  7%|▋         | 100/1437 [03:51<46:49,  2.10s/it] "
     ]
    },
    {
     "name": "stdout",
     "output_type": "stream",
     "text": [
      "100/1437\n",
      "mIoU(patch): 0.6393054865206703\n",
      "fwIoU: 0.7469579768862437\n",
      "tIoU, sIoU, nIoU: [0.77682312 0.72038523 0.4207081 ]\n"
     ]
    },
    {
     "name": "stderr",
     "output_type": "stream",
     "text": [
      " 14%|█▍        | 200/1437 [07:26<43:30,  2.11s/it]"
     ]
    },
    {
     "name": "stdout",
     "output_type": "stream",
     "text": [
      "200/1437\n",
      "mIoU(patch): 0.7051397199468448\n",
      "fwIoU: 0.7394707255935855\n",
      "tIoU, sIoU, nIoU: [0.78974432 0.68295844 0.6427164 ]\n"
     ]
    },
    {
     "name": "stderr",
     "output_type": "stream",
     "text": [
      " 21%|██        | 300/1437 [11:01<39:24,  2.08s/it]"
     ]
    },
    {
     "name": "stdout",
     "output_type": "stream",
     "text": [
      "300/1437\n",
      "mIoU(patch): 0.7024519804979441\n",
      "fwIoU: 0.7312392172249607\n",
      "tIoU, sIoU, nIoU: [0.7875896  0.66495518 0.65481116]\n"
     ]
    },
    {
     "name": "stderr",
     "output_type": "stream",
     "text": [
      " 28%|██▊       | 400/1437 [14:36<36:17,  2.10s/it]"
     ]
    },
    {
     "name": "stdout",
     "output_type": "stream",
     "text": [
      "400/1437\n",
      "mIoU(patch): 0.7105595002420567\n",
      "fwIoU: 0.731650416124433\n",
      "tIoU, sIoU, nIoU: [0.78847022 0.66027818 0.68293011]\n"
     ]
    },
    {
     "name": "stderr",
     "output_type": "stream",
     "text": [
      " 35%|███▍      | 500/1437 [18:11<33:33,  2.15s/it]"
     ]
    },
    {
     "name": "stdout",
     "output_type": "stream",
     "text": [
      "500/1437\n",
      "mIoU(patch): 0.7140376796564749\n",
      "fwIoU: 0.7339222110734969\n",
      "tIoU, sIoU, nIoU: [0.78429952 0.67507451 0.68273902]\n"
     ]
    },
    {
     "name": "stderr",
     "output_type": "stream",
     "text": [
      " 42%|████▏     | 600/1437 [21:45<29:07,  2.09s/it]"
     ]
    },
    {
     "name": "stdout",
     "output_type": "stream",
     "text": [
      "600/1437\n",
      "mIoU(patch): 0.6945604082695879\n",
      "fwIoU: 0.7154403869057642\n",
      "tIoU, sIoU, nIoU: [0.77587808 0.6358101  0.67199304]\n"
     ]
    },
    {
     "name": "stderr",
     "output_type": "stream",
     "text": [
      " 49%|████▊     | 700/1437 [25:18<26:58,  2.20s/it]"
     ]
    },
    {
     "name": "stdout",
     "output_type": "stream",
     "text": [
      "700/1437\n",
      "mIoU(patch): 0.6742476096670506\n",
      "fwIoU: 0.7063152730028459\n",
      "tIoU, sIoU, nIoU: [0.77279168 0.61758621 0.63236494]\n"
     ]
    },
    {
     "name": "stderr",
     "output_type": "stream",
     "text": [
      " 56%|█████▌    | 800/1437 [28:51<23:28,  2.21s/it]"
     ]
    },
    {
     "name": "stdout",
     "output_type": "stream",
     "text": [
      "800/1437\n",
      "mIoU(patch): 0.6773500470879982\n",
      "fwIoU: 0.7121975746670662\n",
      "tIoU, sIoU, nIoU: [0.7768647  0.62600678 0.62917865]\n"
     ]
    },
    {
     "name": "stderr",
     "output_type": "stream",
     "text": [
      " 63%|██████▎   | 900/1437 [32:25<19:17,  2.15s/it]"
     ]
    },
    {
     "name": "stdout",
     "output_type": "stream",
     "text": [
      "900/1437\n",
      "mIoU(patch): 0.6789396811609683\n",
      "fwIoU: 0.7166031208851804\n",
      "tIoU, sIoU, nIoU: [0.78018693 0.63165156 0.62498055]\n"
     ]
    },
    {
     "name": "stderr",
     "output_type": "stream",
     "text": [
      " 70%|██████▉   | 1000/1437 [35:59<15:20,  2.11s/it]"
     ]
    },
    {
     "name": "stdout",
     "output_type": "stream",
     "text": [
      "1000/1437\n",
      "mIoU(patch): 0.6807716063555483\n",
      "fwIoU: 0.7224619237857104\n",
      "tIoU, sIoU, nIoU: [0.78635045 0.63384489 0.62211948]\n"
     ]
    },
    {
     "name": "stderr",
     "output_type": "stream",
     "text": [
      " 77%|███████▋  | 1100/1437 [39:35<11:52,  2.11s/it]"
     ]
    },
    {
     "name": "stdout",
     "output_type": "stream",
     "text": [
      "1100/1437\n",
      "mIoU(patch): 0.6869859413392406\n",
      "fwIoU: 0.7268763320713364\n",
      "tIoU, sIoU, nIoU: [0.78344717 0.65544019 0.62207047]\n"
     ]
    },
    {
     "name": "stderr",
     "output_type": "stream",
     "text": [
      " 84%|████████▎ | 1200/1437 [43:10<08:20,  2.11s/it]"
     ]
    },
    {
     "name": "stdout",
     "output_type": "stream",
     "text": [
      "1200/1437\n",
      "mIoU(patch): 0.6903642961325044\n",
      "fwIoU: 0.7309325308990345\n",
      "tIoU, sIoU, nIoU: [0.7844159  0.66460652 0.62207047]\n"
     ]
    },
    {
     "name": "stderr",
     "output_type": "stream",
     "text": [
      " 90%|█████████ | 1300/1437 [46:47<04:51,  2.13s/it]"
     ]
    },
    {
     "name": "stdout",
     "output_type": "stream",
     "text": [
      "1300/1437\n",
      "mIoU(patch): 0.6931695951627885\n",
      "fwIoU: 0.7338702653479177\n",
      "tIoU, sIoU, nIoU: [0.78355793 0.67388039 0.62207047]\n"
     ]
    },
    {
     "name": "stderr",
     "output_type": "stream",
     "text": [
      " 97%|█████████▋| 1400/1437 [50:23<01:17,  2.10s/it]"
     ]
    },
    {
     "name": "stdout",
     "output_type": "stream",
     "text": [
      "1400/1437\n",
      "mIoU(patch): 0.6877249761423223\n",
      "fwIoU: 0.726049705233178\n",
      "tIoU, sIoU, nIoU: [0.7763258  0.66477865 0.62207047]\n"
     ]
    },
    {
     "name": "stderr",
     "output_type": "stream",
     "text": [
      "100%|██████████| 1437/1437 [51:41<00:00,  2.16s/it]\n"
     ]
    },
    {
     "name": "stdout",
     "output_type": "stream",
     "text": [
      "mIoU(big mask): 0.7398316355910404\n",
      "fwIoU: 0.7642403695028226\n",
      "tIoU, sIoU, nIoU: [0.80749391 0.7092265  0.70277449]\n",
      "epoch=06-validation_miou_mask_epoch=0.7419.ckpt\n",
      "Extension horovod.torch has not been built: /home/fzj/.local/lib/python3.8/site-packages/horovod/torch/mpi_lib_v2.cpython-38-x86_64-linux-gnu.so not found\n",
      "If this is not expected, reinstall Horovod with HOROVOD_WITH_PYTORCH=1 to debug the build error.\n",
      "Warning! MPI libs are missing, but python applications are still available.\n",
      "Find best checkpoint file: logs/wsss4luad3k6_3k6_run1/epoch=06-validation_miou_mask_epoch=0.7419.ckpt\n",
      "Save dir: logs/wsss4luad3k6_3k6_run1/test_tta\n"
     ]
    },
    {
     "name": "stderr",
     "output_type": "stream",
     "text": [
      "  0%|          | 0/1437 [00:00<?, ?it/s]"
     ]
    },
    {
     "name": "stdout",
     "output_type": "stream",
     "text": [
      "0/1437\n",
      "mIoU(patch): 0.0\n",
      "fwIoU: 0.0\n",
      "tIoU, sIoU, nIoU: [0. 0. 0.]\n"
     ]
    },
    {
     "name": "stderr",
     "output_type": "stream",
     "text": [
      "/data114_1/fzj/CODE/TMI24-HisynSeg/TMI23-submit-final/loss.py:34: RuntimeWarning: invalid value encountered in divide\n",
      "  MIoU = np.diag(self.confusion_matrix) / (\n",
      "/data114_1/fzj/CODE/TMI24-HisynSeg/TMI23-submit-final/loss.py:46: RuntimeWarning: invalid value encountered in divide\n",
      "  freq = np.sum(self.confusion_matrix, axis=1) / \\\n",
      "/data114_1/fzj/CODE/TMI24-HisynSeg/TMI23-submit-final/loss.py:48: RuntimeWarning: invalid value encountered in divide\n",
      "  iu = np.diag(self.confusion_matrix) / (\n",
      "  7%|▋         | 100/1437 [03:36<48:43,  2.19s/it]"
     ]
    },
    {
     "name": "stdout",
     "output_type": "stream",
     "text": [
      "100/1437\n",
      "mIoU(patch): 0.668183023590346\n",
      "fwIoU: 0.757056171023638\n",
      "tIoU, sIoU, nIoU: [0.78124922 0.73560607 0.48769378]\n"
     ]
    },
    {
     "name": "stderr",
     "output_type": "stream",
     "text": [
      " 14%|█▍        | 200/1437 [07:06<42:50,  2.08s/it]"
     ]
    },
    {
     "name": "stdout",
     "output_type": "stream",
     "text": [
      "200/1437\n",
      "mIoU(patch): 0.6528960947786926\n",
      "fwIoU: 0.7346577212609129\n",
      "tIoU, sIoU, nIoU: [0.78586849 0.69428968 0.47853012]\n"
     ]
    },
    {
     "name": "stderr",
     "output_type": "stream",
     "text": [
      " 21%|██        | 300/1437 [10:36<39:35,  2.09s/it]"
     ]
    },
    {
     "name": "stdout",
     "output_type": "stream",
     "text": [
      "300/1437\n",
      "mIoU(patch): 0.6446392056106912\n",
      "fwIoU: 0.7197935624010249\n",
      "tIoU, sIoU, nIoU: [0.7808812  0.67487966 0.47815676]\n"
     ]
    },
    {
     "name": "stderr",
     "output_type": "stream",
     "text": [
      " 28%|██▊       | 400/1437 [14:06<37:08,  2.15s/it]"
     ]
    },
    {
     "name": "stdout",
     "output_type": "stream",
     "text": [
      "400/1437\n",
      "mIoU(patch): 0.6533274255476915\n",
      "fwIoU: 0.7150553728223186\n",
      "tIoU, sIoU, nIoU: [0.77904103 0.66589102 0.51505023]\n"
     ]
    },
    {
     "name": "stderr",
     "output_type": "stream",
     "text": [
      " 35%|███▍      | 500/1437 [17:36<32:55,  2.11s/it]"
     ]
    },
    {
     "name": "stdout",
     "output_type": "stream",
     "text": [
      "500/1437\n",
      "mIoU(patch): 0.6691168574526314\n",
      "fwIoU: 0.7206889543802397\n",
      "tIoU, sIoU, nIoU: [0.77526968 0.67859517 0.55348572]\n"
     ]
    },
    {
     "name": "stderr",
     "output_type": "stream",
     "text": [
      " 42%|████▏     | 600/1437 [21:06<27:57,  2.00s/it]"
     ]
    },
    {
     "name": "stdout",
     "output_type": "stream",
     "text": [
      "600/1437\n",
      "mIoU(patch): 0.6534532510104142\n",
      "fwIoU: 0.7037738492606496\n",
      "tIoU, sIoU, nIoU: [0.76749835 0.6403067  0.5525547 ]\n"
     ]
    },
    {
     "name": "stderr",
     "output_type": "stream",
     "text": [
      " 49%|████▊     | 700/1437 [24:22<23:50,  1.94s/it]"
     ]
    },
    {
     "name": "stdout",
     "output_type": "stream",
     "text": [
      "700/1437\n",
      "mIoU(patch): 0.6394254247304169\n",
      "fwIoU: 0.6983318539417618\n",
      "tIoU, sIoU, nIoU: [0.76613515 0.62383113 0.52831   ]\n"
     ]
    },
    {
     "name": "stderr",
     "output_type": "stream",
     "text": [
      " 56%|█████▌    | 800/1437 [27:36<20:21,  1.92s/it]"
     ]
    },
    {
     "name": "stdout",
     "output_type": "stream",
     "text": [
      "800/1437\n",
      "mIoU(patch): 0.6432898633637371\n",
      "fwIoU: 0.7054029906828012\n",
      "tIoU, sIoU, nIoU: [0.77098048 0.63232351 0.52656559]\n"
     ]
    },
    {
     "name": "stderr",
     "output_type": "stream",
     "text": [
      " 63%|██████▎   | 900/1437 [30:53<17:45,  1.98s/it]"
     ]
    },
    {
     "name": "stdout",
     "output_type": "stream",
     "text": [
      "900/1437\n",
      "mIoU(patch): 0.6459292820738883\n",
      "fwIoU: 0.7110661248647999\n",
      "tIoU, sIoU, nIoU: [0.77513194 0.63843058 0.52422532]\n"
     ]
    },
    {
     "name": "stderr",
     "output_type": "stream",
     "text": [
      " 70%|██████▉   | 1000/1437 [34:12<14:40,  2.01s/it]"
     ]
    },
    {
     "name": "stdout",
     "output_type": "stream",
     "text": [
      "1000/1437\n",
      "mIoU(patch): 0.648519478946625\n",
      "fwIoU: 0.7179951889452899\n",
      "tIoU, sIoU, nIoU: [0.78206273 0.6411524  0.52234331]\n"
     ]
    },
    {
     "name": "stderr",
     "output_type": "stream",
     "text": [
      " 77%|███████▋  | 1100/1437 [37:29<11:03,  1.97s/it]"
     ]
    },
    {
     "name": "stdout",
     "output_type": "stream",
     "text": [
      "1100/1437\n",
      "mIoU(patch): 0.6555078945080276\n",
      "fwIoU: 0.724202545447792\n",
      "tIoU, sIoU, nIoU: [0.78013088 0.66408202 0.52231078]\n"
     ]
    },
    {
     "name": "stderr",
     "output_type": "stream",
     "text": [
      " 84%|████████▎ | 1200/1437 [40:48<07:57,  2.01s/it]"
     ]
    },
    {
     "name": "stdout",
     "output_type": "stream",
     "text": [
      "1200/1437\n",
      "mIoU(patch): 0.659255202293759\n",
      "fwIoU: 0.729216577694383\n",
      "tIoU, sIoU, nIoU: [0.78135052 0.67410431 0.52231078]\n"
     ]
    },
    {
     "name": "stderr",
     "output_type": "stream",
     "text": [
      " 90%|█████████ | 1300/1437 [44:07<04:30,  1.98s/it]"
     ]
    },
    {
     "name": "stdout",
     "output_type": "stream",
     "text": [
      "1300/1437\n",
      "mIoU(patch): 0.6617388047401142\n",
      "fwIoU: 0.7321327992328924\n",
      "tIoU, sIoU, nIoU: [0.78013425 0.68277138 0.52231078]\n"
     ]
    },
    {
     "name": "stderr",
     "output_type": "stream",
     "text": [
      " 97%|█████████▋| 1400/1437 [47:26<01:15,  2.04s/it]"
     ]
    },
    {
     "name": "stdout",
     "output_type": "stream",
     "text": [
      "1400/1437\n",
      "mIoU(patch): 0.6579055857037807\n",
      "fwIoU: 0.7268590028855659\n",
      "tIoU, sIoU, nIoU: [0.77442943 0.67697654 0.52231078]\n"
     ]
    },
    {
     "name": "stderr",
     "output_type": "stream",
     "text": [
      "100%|██████████| 1437/1437 [48:38<00:00,  2.03s/it]\n"
     ]
    },
    {
     "name": "stdout",
     "output_type": "stream",
     "text": [
      "mIoU(big mask): 0.6985644347303713\n",
      "fwIoU: 0.7651920773720837\n",
      "tIoU, sIoU, nIoU: [0.80713555 0.7219361  0.56662165]\n",
      "epoch=07-validation_miou_mask_epoch=0.7348.ckpt\n",
      "Extension horovod.torch has not been built: /home/fzj/.local/lib/python3.8/site-packages/horovod/torch/mpi_lib_v2.cpython-38-x86_64-linux-gnu.so not found\n",
      "If this is not expected, reinstall Horovod with HOROVOD_WITH_PYTORCH=1 to debug the build error.\n",
      "Warning! MPI libs are missing, but python applications are still available.\n",
      "Find best checkpoint file: logs/wsss4luad3k6_3k6_run1/epoch=07-validation_miou_mask_epoch=0.7348.ckpt\n",
      "Save dir: logs/wsss4luad3k6_3k6_run1/test_tta\n"
     ]
    },
    {
     "name": "stderr",
     "output_type": "stream",
     "text": [
      "  0%|          | 0/1437 [00:00<?, ?it/s]"
     ]
    },
    {
     "name": "stdout",
     "output_type": "stream",
     "text": [
      "0/1437\n",
      "mIoU(patch): 0.0\n",
      "fwIoU: 0.0\n",
      "tIoU, sIoU, nIoU: [0. 0. 0.]\n"
     ]
    },
    {
     "name": "stderr",
     "output_type": "stream",
     "text": [
      "/data114_1/fzj/CODE/TMI24-HisynSeg/TMI23-submit-final/loss.py:34: RuntimeWarning: invalid value encountered in divide\n",
      "  MIoU = np.diag(self.confusion_matrix) / (\n",
      "/data114_1/fzj/CODE/TMI24-HisynSeg/TMI23-submit-final/loss.py:46: RuntimeWarning: invalid value encountered in divide\n",
      "  freq = np.sum(self.confusion_matrix, axis=1) / \\\n",
      "/data114_1/fzj/CODE/TMI24-HisynSeg/TMI23-submit-final/loss.py:48: RuntimeWarning: invalid value encountered in divide\n",
      "  iu = np.diag(self.confusion_matrix) / (\n",
      "  7%|▋         | 100/1437 [03:21<43:06,  1.93s/it]"
     ]
    },
    {
     "name": "stdout",
     "output_type": "stream",
     "text": [
      "100/1437\n",
      "mIoU(patch): 0.6675186450576351\n",
      "fwIoU: 0.7549595583545692\n",
      "tIoU, sIoU, nIoU: [0.78200158 0.73044194 0.49011242]\n"
     ]
    },
    {
     "name": "stderr",
     "output_type": "stream",
     "text": [
      " 14%|█▍        | 200/1437 [06:41<42:09,  2.04s/it]"
     ]
    },
    {
     "name": "stdout",
     "output_type": "stream",
     "text": [
      "200/1437\n",
      "mIoU(patch): 0.6662100812697728\n",
      "fwIoU: 0.7328320148950798\n",
      "tIoU, sIoU, nIoU: [0.7860661  0.6841172  0.52844694]\n"
     ]
    },
    {
     "name": "stderr",
     "output_type": "stream",
     "text": [
      " 21%|██        | 300/1437 [10:02<36:45,  1.94s/it]"
     ]
    },
    {
     "name": "stdout",
     "output_type": "stream",
     "text": [
      "300/1437\n",
      "mIoU(patch): 0.6596492708974687\n",
      "fwIoU: 0.7194701152767942\n",
      "tIoU, sIoU, nIoU: [0.78111669 0.66432321 0.53350791]\n"
     ]
    },
    {
     "name": "stderr",
     "output_type": "stream",
     "text": [
      " 28%|██▊       | 400/1437 [13:24<33:48,  1.96s/it]"
     ]
    },
    {
     "name": "stdout",
     "output_type": "stream",
     "text": [
      "400/1437\n",
      "mIoU(patch): 0.670959458585913\n",
      "fwIoU: 0.7187715002333326\n",
      "tIoU, sIoU, nIoU: [0.78160433 0.65997101 0.57130304]\n"
     ]
    },
    {
     "name": "stderr",
     "output_type": "stream",
     "text": [
      " 35%|███▍      | 500/1437 [16:44<30:04,  1.93s/it]"
     ]
    },
    {
     "name": "stdout",
     "output_type": "stream",
     "text": [
      "500/1437\n",
      "mIoU(patch): 0.6865506463817045\n",
      "fwIoU: 0.7255755940115386\n",
      "tIoU, sIoU, nIoU: [0.77882234 0.67636777 0.60446182]\n"
     ]
    },
    {
     "name": "stderr",
     "output_type": "stream",
     "text": [
      " 42%|████▏     | 600/1437 [20:05<27:03,  1.94s/it]"
     ]
    },
    {
     "name": "stdout",
     "output_type": "stream",
     "text": [
      "600/1437\n",
      "mIoU(patch): 0.6734858104226001\n",
      "fwIoU: 0.7094148908536341\n",
      "tIoU, sIoU, nIoU: [0.77151055 0.63808141 0.61086547]\n"
     ]
    },
    {
     "name": "stderr",
     "output_type": "stream",
     "text": [
      " 49%|████▊     | 700/1437 [23:28<23:51,  1.94s/it]"
     ]
    },
    {
     "name": "stdout",
     "output_type": "stream",
     "text": [
      "700/1437\n",
      "mIoU(patch): 0.6623593665240674\n",
      "fwIoU: 0.7049428611466154\n",
      "tIoU, sIoU, nIoU: [0.77148781 0.62252408 0.59306621]\n"
     ]
    },
    {
     "name": "stderr",
     "output_type": "stream",
     "text": [
      " 56%|█████▌    | 800/1437 [26:50<25:19,  2.39s/it]"
     ]
    },
    {
     "name": "stdout",
     "output_type": "stream",
     "text": [
      "800/1437\n",
      "mIoU(patch): 0.6662086837040649\n",
      "fwIoU: 0.7114782483879728\n",
      "tIoU, sIoU, nIoU: [0.7759069  0.63124987 0.59146928]\n"
     ]
    },
    {
     "name": "stderr",
     "output_type": "stream",
     "text": [
      " 63%|██████▎   | 900/1437 [30:08<17:59,  2.01s/it]"
     ]
    },
    {
     "name": "stdout",
     "output_type": "stream",
     "text": [
      "900/1437\n",
      "mIoU(patch): 0.6687963129192099\n",
      "fwIoU: 0.7165737475537515\n",
      "tIoU, sIoU, nIoU: [0.779673   0.63722756 0.58948837]\n"
     ]
    },
    {
     "name": "stderr",
     "output_type": "stream",
     "text": [
      " 70%|██████▉   | 1000/1437 [33:30<14:04,  1.93s/it]"
     ]
    },
    {
     "name": "stdout",
     "output_type": "stream",
     "text": [
      "1000/1437\n",
      "mIoU(patch): 0.6710906478548786\n",
      "fwIoU: 0.7228400471793036\n",
      "tIoU, sIoU, nIoU: [0.78624984 0.63939366 0.58762845]\n"
     ]
    },
    {
     "name": "stderr",
     "output_type": "stream",
     "text": [
      " 77%|███████▋  | 1100/1437 [36:52<12:35,  2.24s/it]"
     ]
    },
    {
     "name": "stdout",
     "output_type": "stream",
     "text": [
      "1100/1437\n",
      "mIoU(patch): 0.6782369353617487\n",
      "fwIoU: 0.7288150900292384\n",
      "tIoU, sIoU, nIoU: [0.78443065 0.66266433 0.58761583]\n"
     ]
    },
    {
     "name": "stderr",
     "output_type": "stream",
     "text": [
      " 84%|████████▎ | 1200/1437 [40:13<08:57,  2.27s/it]"
     ]
    },
    {
     "name": "stdout",
     "output_type": "stream",
     "text": [
      "1200/1437\n",
      "mIoU(patch): 0.6817716851063548\n",
      "fwIoU: 0.7333012952847274\n",
      "tIoU, sIoU, nIoU: [0.78573617 0.67196305 0.58761583]\n"
     ]
    },
    {
     "name": "stderr",
     "output_type": "stream",
     "text": [
      " 90%|█████████ | 1300/1437 [43:33<04:23,  1.92s/it]"
     ]
    },
    {
     "name": "stdout",
     "output_type": "stream",
     "text": [
      "1300/1437\n",
      "mIoU(patch): 0.6849696751394614\n",
      "fwIoU: 0.7369844902875919\n",
      "tIoU, sIoU, nIoU: [0.78552454 0.68176865 0.58761583]\n"
     ]
    },
    {
     "name": "stderr",
     "output_type": "stream",
     "text": [
      " 97%|█████████▋| 1400/1437 [46:55<01:11,  1.93s/it]"
     ]
    },
    {
     "name": "stdout",
     "output_type": "stream",
     "text": [
      "1400/1437\n",
      "mIoU(patch): 0.6833125023089955\n",
      "fwIoU: 0.7345013697812135\n",
      "tIoU, sIoU, nIoU: [0.78200362 0.68031806 0.58761583]\n"
     ]
    },
    {
     "name": "stderr",
     "output_type": "stream",
     "text": [
      "100%|██████████| 1437/1437 [48:10<00:00,  2.01s/it]\n"
     ]
    },
    {
     "name": "stdout",
     "output_type": "stream",
     "text": [
      "mIoU(big mask): 0.7220256817525054\n",
      "fwIoU: 0.7667536257650277\n",
      "tIoU, sIoU, nIoU: [0.80943986 0.71730985 0.63932733]\n",
      "epoch=08-validation_miou_mask_epoch=0.7497.ckpt\n",
      "Extension horovod.torch has not been built: /home/fzj/.local/lib/python3.8/site-packages/horovod/torch/mpi_lib_v2.cpython-38-x86_64-linux-gnu.so not found\n",
      "If this is not expected, reinstall Horovod with HOROVOD_WITH_PYTORCH=1 to debug the build error.\n",
      "Warning! MPI libs are missing, but python applications are still available.\n",
      "Find best checkpoint file: logs/wsss4luad3k6_3k6_run1/epoch=08-validation_miou_mask_epoch=0.7497.ckpt\n",
      "Save dir: logs/wsss4luad3k6_3k6_run1/test_tta\n"
     ]
    },
    {
     "name": "stderr",
     "output_type": "stream",
     "text": [
      "  0%|          | 0/1437 [00:00<?, ?it/s]"
     ]
    },
    {
     "name": "stdout",
     "output_type": "stream",
     "text": [
      "0/1437\n",
      "mIoU(patch): 0.0\n",
      "fwIoU: 0.0\n",
      "tIoU, sIoU, nIoU: [0. 0. 0.]\n"
     ]
    },
    {
     "name": "stderr",
     "output_type": "stream",
     "text": [
      "/data114_1/fzj/CODE/TMI24-HisynSeg/TMI23-submit-final/loss.py:34: RuntimeWarning: invalid value encountered in divide\n",
      "  MIoU = np.diag(self.confusion_matrix) / (\n",
      "/data114_1/fzj/CODE/TMI24-HisynSeg/TMI23-submit-final/loss.py:46: RuntimeWarning: invalid value encountered in divide\n",
      "  freq = np.sum(self.confusion_matrix, axis=1) / \\\n",
      "/data114_1/fzj/CODE/TMI24-HisynSeg/TMI23-submit-final/loss.py:48: RuntimeWarning: invalid value encountered in divide\n",
      "  iu = np.diag(self.confusion_matrix) / (\n",
      "  7%|▋         | 100/1437 [03:26<48:27,  2.17s/it]"
     ]
    },
    {
     "name": "stdout",
     "output_type": "stream",
     "text": [
      "100/1437\n",
      "mIoU(patch): 0.6515444525501423\n",
      "fwIoU: 0.7475726587545771\n",
      "tIoU, sIoU, nIoU: [0.77538865 0.72263027 0.45661443]\n"
     ]
    },
    {
     "name": "stderr",
     "output_type": "stream",
     "text": [
      " 14%|█▍        | 200/1437 [06:50<41:58,  2.04s/it]"
     ]
    },
    {
     "name": "stdout",
     "output_type": "stream",
     "text": [
      "200/1437\n",
      "mIoU(patch): 0.6360370423947294\n",
      "fwIoU: 0.7287277607368506\n",
      "tIoU, sIoU, nIoU: [0.78490599 0.68554598 0.43765916]\n"
     ]
    },
    {
     "name": "stderr",
     "output_type": "stream",
     "text": [
      " 21%|██        | 300/1437 [10:11<38:55,  2.05s/it]"
     ]
    },
    {
     "name": "stdout",
     "output_type": "stream",
     "text": [
      "300/1437\n",
      "mIoU(patch): 0.6252699374092177\n",
      "fwIoU: 0.7137805137962433\n",
      "tIoU, sIoU, nIoU: [0.78076323 0.66827429 0.42677229]\n"
     ]
    },
    {
     "name": "stderr",
     "output_type": "stream",
     "text": [
      " 28%|██▊       | 400/1437 [13:34<35:49,  2.07s/it]"
     ]
    },
    {
     "name": "stdout",
     "output_type": "stream",
     "text": [
      "400/1437\n",
      "mIoU(patch): 0.6337459827756674\n",
      "fwIoU: 0.709259036727228\n",
      "tIoU, sIoU, nIoU: [0.77904659 0.66236541 0.45982594]\n"
     ]
    },
    {
     "name": "stderr",
     "output_type": "stream",
     "text": [
      " 35%|███▍      | 500/1437 [16:56<30:05,  1.93s/it]"
     ]
    },
    {
     "name": "stdout",
     "output_type": "stream",
     "text": [
      "500/1437\n",
      "mIoU(patch): 0.6512551878028598\n",
      "fwIoU: 0.7147076746887396\n",
      "tIoU, sIoU, nIoU: [0.77342868 0.6751696  0.50516728]\n"
     ]
    },
    {
     "name": "stderr",
     "output_type": "stream",
     "text": [
      " 42%|████▏     | 600/1437 [20:17<28:34,  2.05s/it]"
     ]
    },
    {
     "name": "stdout",
     "output_type": "stream",
     "text": [
      "600/1437\n",
      "mIoU(patch): 0.643345969591458\n",
      "fwIoU: 0.7029802740451745\n",
      "tIoU, sIoU, nIoU: [0.76850821 0.64342927 0.51810043]\n"
     ]
    },
    {
     "name": "stderr",
     "output_type": "stream",
     "text": [
      " 49%|████▊     | 700/1437 [23:39<24:22,  1.98s/it]"
     ]
    },
    {
     "name": "stdout",
     "output_type": "stream",
     "text": [
      "700/1437\n",
      "mIoU(patch): 0.635854195451679\n",
      "fwIoU: 0.7020243578328333\n",
      "tIoU, sIoU, nIoU: [0.76997874 0.63171338 0.50587047]\n"
     ]
    },
    {
     "name": "stderr",
     "output_type": "stream",
     "text": [
      " 56%|█████▌    | 800/1437 [27:00<20:33,  1.94s/it]"
     ]
    },
    {
     "name": "stdout",
     "output_type": "stream",
     "text": [
      "800/1437\n",
      "mIoU(patch): 0.6393074865233132\n",
      "fwIoU: 0.7086631671946723\n",
      "tIoU, sIoU, nIoU: [0.77457118 0.63892264 0.50442863]\n"
     ]
    },
    {
     "name": "stderr",
     "output_type": "stream",
     "text": [
      " 63%|██████▎   | 900/1437 [30:22<17:24,  1.95s/it]"
     ]
    },
    {
     "name": "stdout",
     "output_type": "stream",
     "text": [
      "900/1437\n",
      "mIoU(patch): 0.6413611261701814\n",
      "fwIoU: 0.7134687135600215\n",
      "tIoU, sIoU, nIoU: [0.7781415  0.64317368 0.50276821]\n"
     ]
    },
    {
     "name": "stderr",
     "output_type": "stream",
     "text": [
      " 70%|██████▉   | 1000/1437 [33:42<13:57,  1.92s/it]"
     ]
    },
    {
     "name": "stdout",
     "output_type": "stream",
     "text": [
      "1000/1437\n",
      "mIoU(patch): 0.6436497035266516\n",
      "fwIoU: 0.7200068738760388\n",
      "tIoU, sIoU, nIoU: [0.78501951 0.64457534 0.50135426]\n"
     ]
    },
    {
     "name": "stderr",
     "output_type": "stream",
     "text": [
      " 77%|███████▋  | 1100/1437 [37:04<11:37,  2.07s/it]"
     ]
    },
    {
     "name": "stdout",
     "output_type": "stream",
     "text": [
      "1100/1437\n",
      "mIoU(patch): 0.6457029133039106\n",
      "fwIoU: 0.719795178374896\n",
      "tIoU, sIoU, nIoU: [0.77878699 0.65696852 0.50135323]\n"
     ]
    },
    {
     "name": "stderr",
     "output_type": "stream",
     "text": [
      " 84%|████████▎ | 1200/1437 [40:24<07:38,  1.93s/it]"
     ]
    },
    {
     "name": "stdout",
     "output_type": "stream",
     "text": [
      "1200/1437\n",
      "mIoU(patch): 0.6464040995960608\n",
      "fwIoU: 0.7208506349301552\n",
      "tIoU, sIoU, nIoU: [0.77773454 0.66012452 0.50135323]\n"
     ]
    },
    {
     "name": "stderr",
     "output_type": "stream",
     "text": [
      " 90%|█████████ | 1300/1437 [43:46<04:48,  2.11s/it]"
     ]
    },
    {
     "name": "stdout",
     "output_type": "stream",
     "text": [
      "1300/1437\n",
      "mIoU(patch): 0.6481745679951234\n",
      "fwIoU: 0.7229008016466152\n",
      "tIoU, sIoU, nIoU: [0.77659236 0.66657861 0.50135274]\n"
     ]
    },
    {
     "name": "stderr",
     "output_type": "stream",
     "text": [
      " 97%|█████████▋| 1400/1437 [47:06<01:11,  1.93s/it]"
     ]
    },
    {
     "name": "stdout",
     "output_type": "stream",
     "text": [
      "1400/1437\n",
      "mIoU(patch): 0.6458196610294045\n",
      "fwIoU: 0.7196770547367052\n",
      "tIoU, sIoU, nIoU: [0.77252437 0.66358188 0.50135274]\n"
     ]
    },
    {
     "name": "stderr",
     "output_type": "stream",
     "text": [
      "100%|██████████| 1437/1437 [48:20<00:00,  2.02s/it]\n"
     ]
    },
    {
     "name": "stdout",
     "output_type": "stream",
     "text": [
      "mIoU(big mask): 0.6905208772033523\n",
      "fwIoU: 0.7580114137099049\n",
      "tIoU, sIoU, nIoU: [0.80410653 0.70912733 0.55832877]\n",
      "epoch=09-validation_miou_mask_epoch=0.7555.ckpt\n",
      "Extension horovod.torch has not been built: /home/fzj/.local/lib/python3.8/site-packages/horovod/torch/mpi_lib_v2.cpython-38-x86_64-linux-gnu.so not found\n",
      "If this is not expected, reinstall Horovod with HOROVOD_WITH_PYTORCH=1 to debug the build error.\n",
      "Warning! MPI libs are missing, but python applications are still available.\n",
      "Find best checkpoint file: logs/wsss4luad3k6_3k6_run1/epoch=09-validation_miou_mask_epoch=0.7555.ckpt\n",
      "Save dir: logs/wsss4luad3k6_3k6_run1/test_tta\n"
     ]
    },
    {
     "name": "stderr",
     "output_type": "stream",
     "text": [
      "  0%|          | 0/1437 [00:00<?, ?it/s]"
     ]
    },
    {
     "name": "stdout",
     "output_type": "stream",
     "text": [
      "0/1437\n",
      "mIoU(patch): 0.0\n",
      "fwIoU: 0.0\n",
      "tIoU, sIoU, nIoU: [0. 0. 0.]\n"
     ]
    },
    {
     "name": "stderr",
     "output_type": "stream",
     "text": [
      "/data114_1/fzj/CODE/TMI24-HisynSeg/TMI23-submit-final/loss.py:34: RuntimeWarning: invalid value encountered in divide\n",
      "  MIoU = np.diag(self.confusion_matrix) / (\n",
      "/data114_1/fzj/CODE/TMI24-HisynSeg/TMI23-submit-final/loss.py:46: RuntimeWarning: invalid value encountered in divide\n",
      "  freq = np.sum(self.confusion_matrix, axis=1) / \\\n",
      "/data114_1/fzj/CODE/TMI24-HisynSeg/TMI23-submit-final/loss.py:48: RuntimeWarning: invalid value encountered in divide\n",
      "  iu = np.diag(self.confusion_matrix) / (\n",
      "  7%|▋         | 100/1437 [03:28<49:53,  2.24s/it]"
     ]
    },
    {
     "name": "stdout",
     "output_type": "stream",
     "text": [
      "100/1437\n",
      "mIoU(patch): 0.6497983020513509\n",
      "fwIoU: 0.7611378226408266\n",
      "tIoU, sIoU, nIoU: [0.78433543 0.74175934 0.42330013]\n"
     ]
    },
    {
     "name": "stderr",
     "output_type": "stream",
     "text": [
      " 14%|█▍        | 200/1437 [06:47<39:37,  1.92s/it]"
     ]
    },
    {
     "name": "stdout",
     "output_type": "stream",
     "text": [
      "200/1437\n",
      "mIoU(patch): 0.6984142682588125\n",
      "fwIoU: 0.7473228559750129\n",
      "tIoU, sIoU, nIoU: [0.79469408 0.70015951 0.60038921]\n"
     ]
    },
    {
     "name": "stderr",
     "output_type": "stream",
     "text": [
      " 21%|██        | 300/1437 [10:08<37:40,  1.99s/it]"
     ]
    },
    {
     "name": "stdout",
     "output_type": "stream",
     "text": [
      "300/1437\n",
      "mIoU(patch): 0.6965965397408502\n",
      "fwIoU: 0.7405251891632383\n",
      "tIoU, sIoU, nIoU: [0.79573904 0.68521668 0.60883389]\n"
     ]
    },
    {
     "name": "stderr",
     "output_type": "stream",
     "text": [
      " 28%|██▊       | 400/1437 [13:29<34:24,  1.99s/it]"
     ]
    },
    {
     "name": "stdout",
     "output_type": "stream",
     "text": [
      "400/1437\n",
      "mIoU(patch): 0.7047861364323585\n",
      "fwIoU: 0.7421265099228224\n",
      "tIoU, sIoU, nIoU: [0.79905755 0.68393416 0.6313667 ]\n"
     ]
    },
    {
     "name": "stderr",
     "output_type": "stream",
     "text": [
      " 35%|███▍      | 500/1437 [16:48<30:23,  1.95s/it]"
     ]
    },
    {
     "name": "stdout",
     "output_type": "stream",
     "text": [
      "500/1437\n",
      "mIoU(patch): 0.7070373564801207\n",
      "fwIoU: 0.7399137033849504\n",
      "tIoU, sIoU, nIoU: [0.7887964  0.6926105  0.63970516]\n"
     ]
    },
    {
     "name": "stderr",
     "output_type": "stream",
     "text": [
      " 42%|████▏     | 600/1437 [20:09<27:09,  1.95s/it]"
     ]
    },
    {
     "name": "stdout",
     "output_type": "stream",
     "text": [
      "600/1437\n",
      "mIoU(patch): 0.6993380941875502\n",
      "fwIoU: 0.7306592461252689\n",
      "tIoU, sIoU, nIoU: [0.78551128 0.6673453  0.6451577 ]\n"
     ]
    },
    {
     "name": "stderr",
     "output_type": "stream",
     "text": [
      " 49%|████▊     | 700/1437 [23:25<23:15,  1.89s/it]"
     ]
    },
    {
     "name": "stdout",
     "output_type": "stream",
     "text": [
      "700/1437\n",
      "mIoU(patch): 0.6874840878490125\n",
      "fwIoU: 0.7270106193543505\n",
      "tIoU, sIoU, nIoU: [0.78524745 0.65626171 0.62094311]\n"
     ]
    },
    {
     "name": "stderr",
     "output_type": "stream",
     "text": [
      " 56%|█████▌    | 800/1437 [26:39<20:10,  1.90s/it]"
     ]
    },
    {
     "name": "stdout",
     "output_type": "stream",
     "text": [
      "800/1437\n",
      "mIoU(patch): 0.6888906339035202\n",
      "fwIoU: 0.7311397307709633\n",
      "tIoU, sIoU, nIoU: [0.78879801 0.66027109 0.6176028 ]\n"
     ]
    },
    {
     "name": "stderr",
     "output_type": "stream",
     "text": [
      " 63%|██████▎   | 900/1437 [29:55<17:15,  1.93s/it]"
     ]
    },
    {
     "name": "stdout",
     "output_type": "stream",
     "text": [
      "900/1437\n",
      "mIoU(patch): 0.6898001281224472\n",
      "fwIoU: 0.7342884112852268\n",
      "tIoU, sIoU, nIoU: [0.79162465 0.66270131 0.61507443]\n"
     ]
    },
    {
     "name": "stderr",
     "output_type": "stream",
     "text": [
      " 70%|██████▉   | 1000/1437 [33:16<14:26,  1.98s/it]"
     ]
    },
    {
     "name": "stdout",
     "output_type": "stream",
     "text": [
      "1000/1437\n",
      "mIoU(patch): 0.6908543651177569\n",
      "fwIoU: 0.7387153813323248\n",
      "tIoU, sIoU, nIoU: [0.79724338 0.66173495 0.61358477]\n"
     ]
    },
    {
     "name": "stderr",
     "output_type": "stream",
     "text": [
      " 77%|███████▋  | 1100/1437 [36:37<11:18,  2.01s/it]"
     ]
    },
    {
     "name": "stdout",
     "output_type": "stream",
     "text": [
      "1100/1437\n",
      "mIoU(patch): 0.6955887188927639\n",
      "fwIoU: 0.7416532162842504\n",
      "tIoU, sIoU, nIoU: [0.79333285 0.67984854 0.61358477]\n"
     ]
    },
    {
     "name": "stderr",
     "output_type": "stream",
     "text": [
      " 84%|████████▎ | 1200/1437 [40:00<08:38,  2.19s/it]"
     ]
    },
    {
     "name": "stdout",
     "output_type": "stream",
     "text": [
      "1200/1437\n",
      "mIoU(patch): 0.6977993008811157\n",
      "fwIoU: 0.7443152625435709\n",
      "tIoU, sIoU, nIoU: [0.7932807  0.68653244 0.61358477]\n"
     ]
    },
    {
     "name": "stderr",
     "output_type": "stream",
     "text": [
      " 90%|█████████ | 1300/1437 [43:36<04:37,  2.02s/it]"
     ]
    },
    {
     "name": "stdout",
     "output_type": "stream",
     "text": [
      "1300/1437\n",
      "mIoU(patch): 0.6999796989904619\n",
      "fwIoU: 0.7466091903744646\n",
      "tIoU, sIoU, nIoU: [0.79215077 0.69420356 0.61358477]\n"
     ]
    },
    {
     "name": "stderr",
     "output_type": "stream",
     "text": [
      " 97%|█████████▋| 1400/1437 [46:57<01:11,  1.93s/it]"
     ]
    },
    {
     "name": "stdout",
     "output_type": "stream",
     "text": [
      "1400/1437\n",
      "mIoU(patch): 0.6988491243350093\n",
      "fwIoU: 0.744842139569941\n",
      "tIoU, sIoU, nIoU: [0.78928717 0.69367543 0.61358477]\n"
     ]
    },
    {
     "name": "stderr",
     "output_type": "stream",
     "text": [
      "100%|██████████| 1437/1437 [48:08<00:00,  2.01s/it]\n"
     ]
    },
    {
     "name": "stdout",
     "output_type": "stream",
     "text": [
      "mIoU(big mask): 0.7456536248188051\n",
      "fwIoU: 0.7806906930320409\n",
      "tIoU, sIoU, nIoU: [0.81928283 0.73472037 0.68295768]\n",
      "epoch=10-validation_miou_mask_epoch=0.7414.ckpt\n",
      "Extension horovod.torch has not been built: /home/fzj/.local/lib/python3.8/site-packages/horovod/torch/mpi_lib_v2.cpython-38-x86_64-linux-gnu.so not found\n",
      "If this is not expected, reinstall Horovod with HOROVOD_WITH_PYTORCH=1 to debug the build error.\n",
      "Warning! MPI libs are missing, but python applications are still available.\n",
      "Find best checkpoint file: logs/wsss4luad3k6_3k6_run1/epoch=10-validation_miou_mask_epoch=0.7414.ckpt\n",
      "Save dir: logs/wsss4luad3k6_3k6_run1/test_tta\n"
     ]
    },
    {
     "name": "stderr",
     "output_type": "stream",
     "text": [
      "  0%|          | 0/1437 [00:00<?, ?it/s]"
     ]
    },
    {
     "name": "stdout",
     "output_type": "stream",
     "text": [
      "0/1437\n",
      "mIoU(patch): 0.0\n",
      "fwIoU: 0.0\n",
      "tIoU, sIoU, nIoU: [0. 0. 0.]\n"
     ]
    },
    {
     "name": "stderr",
     "output_type": "stream",
     "text": [
      "/data114_1/fzj/CODE/TMI24-HisynSeg/TMI23-submit-final/loss.py:34: RuntimeWarning: invalid value encountered in divide\n",
      "  MIoU = np.diag(self.confusion_matrix) / (\n",
      "/data114_1/fzj/CODE/TMI24-HisynSeg/TMI23-submit-final/loss.py:46: RuntimeWarning: invalid value encountered in divide\n",
      "  freq = np.sum(self.confusion_matrix, axis=1) / \\\n",
      "/data114_1/fzj/CODE/TMI24-HisynSeg/TMI23-submit-final/loss.py:48: RuntimeWarning: invalid value encountered in divide\n",
      "  iu = np.diag(self.confusion_matrix) / (\n",
      "  7%|▋         | 100/1437 [03:28<45:50,  2.06s/it]"
     ]
    },
    {
     "name": "stdout",
     "output_type": "stream",
     "text": [
      "100/1437\n",
      "mIoU(patch): 0.675105892096639\n",
      "fwIoU: 0.754902462844205\n",
      "tIoU, sIoU, nIoU: [0.77994058 0.73214866 0.51322843]\n"
     ]
    },
    {
     "name": "stderr",
     "output_type": "stream",
     "text": [
      " 14%|█▍        | 200/1437 [06:52<40:01,  1.94s/it]"
     ]
    },
    {
     "name": "stdout",
     "output_type": "stream",
     "text": [
      "200/1437\n",
      "mIoU(patch): 0.6748016700617784\n",
      "fwIoU: 0.7330308902694832\n",
      "tIoU, sIoU, nIoU: [0.78426008 0.68398827 0.55615666]\n"
     ]
    },
    {
     "name": "stderr",
     "output_type": "stream",
     "text": [
      " 21%|██        | 300/1437 [10:11<37:20,  1.97s/it]"
     ]
    },
    {
     "name": "stdout",
     "output_type": "stream",
     "text": [
      "300/1437\n",
      "mIoU(patch): 0.6690258578434515\n",
      "fwIoU: 0.7223437759999873\n",
      "tIoU, sIoU, nIoU: [0.78238386 0.66560298 0.55909074]\n"
     ]
    },
    {
     "name": "stderr",
     "output_type": "stream",
     "text": [
      " 28%|██▊       | 400/1437 [13:29<33:41,  1.95s/it]"
     ]
    },
    {
     "name": "stdout",
     "output_type": "stream",
     "text": [
      "400/1437\n",
      "mIoU(patch): 0.6820443773822894\n",
      "fwIoU: 0.7247132489118169\n",
      "tIoU, sIoU, nIoU: [0.78611105 0.66392649 0.5960956 ]\n"
     ]
    },
    {
     "name": "stderr",
     "output_type": "stream",
     "text": [
      " 35%|███▍      | 500/1437 [16:48<30:28,  1.95s/it]"
     ]
    },
    {
     "name": "stdout",
     "output_type": "stream",
     "text": [
      "500/1437\n",
      "mIoU(patch): 0.69207695329301\n",
      "fwIoU: 0.7276255779887822\n",
      "tIoU, sIoU, nIoU: [0.77920808 0.67832774 0.61869503]\n"
     ]
    },
    {
     "name": "stderr",
     "output_type": "stream",
     "text": [
      " 42%|████▏     | 600/1437 [20:07<27:38,  1.98s/it]"
     ]
    },
    {
     "name": "stdout",
     "output_type": "stream",
     "text": [
      "600/1437\n",
      "mIoU(patch): 0.6826245988025637\n",
      "fwIoU: 0.7154223929061949\n",
      "tIoU, sIoU, nIoU: [0.77457283 0.64643898 0.62686199]\n"
     ]
    },
    {
     "name": "stderr",
     "output_type": "stream",
     "text": [
      " 49%|████▊     | 700/1437 [23:25<24:37,  2.00s/it]"
     ]
    },
    {
     "name": "stdout",
     "output_type": "stream",
     "text": [
      "700/1437\n",
      "mIoU(patch): 0.6729738878506369\n",
      "fwIoU: 0.7122940506218028\n",
      "tIoU, sIoU, nIoU: [0.77544904 0.63340577 0.61006686]\n"
     ]
    },
    {
     "name": "stderr",
     "output_type": "stream",
     "text": [
      " 56%|█████▌    | 800/1437 [26:42<20:29,  1.93s/it]"
     ]
    },
    {
     "name": "stdout",
     "output_type": "stream",
     "text": [
      "800/1437\n",
      "mIoU(patch): 0.6763724731447999\n",
      "fwIoU: 0.7181083558396816\n",
      "tIoU, sIoU, nIoU: [0.77980017 0.64042624 0.60889101]\n"
     ]
    },
    {
     "name": "stderr",
     "output_type": "stream",
     "text": [
      " 63%|██████▎   | 900/1437 [30:02<17:40,  1.98s/it]"
     ]
    },
    {
     "name": "stdout",
     "output_type": "stream",
     "text": [
      "900/1437\n",
      "mIoU(patch): 0.6787664712406564\n",
      "fwIoU: 0.7227644417848915\n",
      "tIoU, sIoU, nIoU: [0.78343261 0.64555117 0.60731564]\n"
     ]
    },
    {
     "name": "stderr",
     "output_type": "stream",
     "text": [
      " 70%|██████▉   | 1000/1437 [33:20<14:10,  1.95s/it]"
     ]
    },
    {
     "name": "stdout",
     "output_type": "stream",
     "text": [
      "1000/1437\n",
      "mIoU(patch): 0.6808921158607312\n",
      "fwIoU: 0.7285675501348436\n",
      "tIoU, sIoU, nIoU: [0.7899451  0.64674601 0.60598524]\n"
     ]
    },
    {
     "name": "stderr",
     "output_type": "stream",
     "text": [
      " 77%|███████▋  | 1100/1437 [36:45<10:52,  1.94s/it]"
     ]
    },
    {
     "name": "stdout",
     "output_type": "stream",
     "text": [
      "1100/1437\n",
      "mIoU(patch): 0.6870240463642553\n",
      "fwIoU: 0.7331884077778035\n",
      "tIoU, sIoU, nIoU: [0.7871953  0.6678916  0.60598524]\n"
     ]
    },
    {
     "name": "stderr",
     "output_type": "stream",
     "text": [
      " 84%|████████▎ | 1200/1437 [40:04<07:42,  1.95s/it]"
     ]
    },
    {
     "name": "stdout",
     "output_type": "stream",
     "text": [
      "1200/1437\n",
      "mIoU(patch): 0.6896673368152489\n",
      "fwIoU: 0.7364161323431553\n",
      "tIoU, sIoU, nIoU: [0.78762226 0.67539451 0.60598524]\n"
     ]
    },
    {
     "name": "stderr",
     "output_type": "stream",
     "text": [
      " 90%|█████████ | 1300/1437 [43:29<04:40,  2.04s/it]"
     ]
    },
    {
     "name": "stdout",
     "output_type": "stream",
     "text": [
      "1300/1437\n",
      "mIoU(patch): 0.6911999190631081\n",
      "fwIoU: 0.7377934360541836\n",
      "tIoU, sIoU, nIoU: [0.78586671 0.68174781 0.60598524]\n"
     ]
    },
    {
     "name": "stderr",
     "output_type": "stream",
     "text": [
      " 97%|█████████▋| 1400/1437 [46:55<01:15,  2.05s/it]"
     ]
    },
    {
     "name": "stdout",
     "output_type": "stream",
     "text": [
      "1400/1437\n",
      "mIoU(patch): 0.686380979131938\n",
      "fwIoU: 0.7309552125552206\n",
      "tIoU, sIoU, nIoU: [0.77952411 0.67363359 0.60598524]\n"
     ]
    },
    {
     "name": "stderr",
     "output_type": "stream",
     "text": [
      "100%|██████████| 1437/1437 [48:11<00:00,  2.01s/it]\n"
     ]
    },
    {
     "name": "stdout",
     "output_type": "stream",
     "text": [
      "mIoU(big mask): 0.7224753311197359\n",
      "fwIoU: 0.7600723274180714\n",
      "tIoU, sIoU, nIoU: [0.80496359 0.70585649 0.65660591]\n",
      "epoch=11-validation_miou_mask_epoch=0.7469.ckpt\n",
      "Extension horovod.torch has not been built: /home/fzj/.local/lib/python3.8/site-packages/horovod/torch/mpi_lib_v2.cpython-38-x86_64-linux-gnu.so not found\n",
      "If this is not expected, reinstall Horovod with HOROVOD_WITH_PYTORCH=1 to debug the build error.\n",
      "Warning! MPI libs are missing, but python applications are still available.\n",
      "Find best checkpoint file: logs/wsss4luad3k6_3k6_run1/epoch=11-validation_miou_mask_epoch=0.7469.ckpt\n",
      "Save dir: logs/wsss4luad3k6_3k6_run1/test_tta\n"
     ]
    },
    {
     "name": "stderr",
     "output_type": "stream",
     "text": [
      "  0%|          | 0/1437 [00:00<?, ?it/s]"
     ]
    },
    {
     "name": "stdout",
     "output_type": "stream",
     "text": [
      "0/1437\n",
      "mIoU(patch): 0.0\n",
      "fwIoU: 0.0\n",
      "tIoU, sIoU, nIoU: [0. 0. 0.]\n"
     ]
    },
    {
     "name": "stderr",
     "output_type": "stream",
     "text": [
      "/data114_1/fzj/CODE/TMI24-HisynSeg/TMI23-submit-final/loss.py:34: RuntimeWarning: invalid value encountered in divide\n",
      "  MIoU = np.diag(self.confusion_matrix) / (\n",
      "/data114_1/fzj/CODE/TMI24-HisynSeg/TMI23-submit-final/loss.py:46: RuntimeWarning: invalid value encountered in divide\n",
      "  freq = np.sum(self.confusion_matrix, axis=1) / \\\n",
      "/data114_1/fzj/CODE/TMI24-HisynSeg/TMI23-submit-final/loss.py:48: RuntimeWarning: invalid value encountered in divide\n",
      "  iu = np.diag(self.confusion_matrix) / (\n",
      "  7%|▋         | 100/1437 [03:42<47:32,  2.13s/it]"
     ]
    },
    {
     "name": "stdout",
     "output_type": "stream",
     "text": [
      "100/1437\n",
      "mIoU(patch): 0.673608946341426\n",
      "fwIoU: 0.7450729993965045\n",
      "tIoU, sIoU, nIoU: [0.773715   0.71814206 0.52896978]\n"
     ]
    },
    {
     "name": "stderr",
     "output_type": "stream",
     "text": [
      " 14%|█▍        | 200/1437 [07:16<49:58,  2.42s/it]"
     ]
    },
    {
     "name": "stdout",
     "output_type": "stream",
     "text": [
      "200/1437\n",
      "mIoU(patch): 0.6824273656294785\n",
      "fwIoU: 0.7287843556203708\n",
      "tIoU, sIoU, nIoU: [0.78306788 0.67117817 0.59303604]\n"
     ]
    },
    {
     "name": "stderr",
     "output_type": "stream",
     "text": [
      " 21%|██        | 300/1437 [10:46<39:51,  2.10s/it]"
     ]
    },
    {
     "name": "stdout",
     "output_type": "stream",
     "text": [
      "300/1437\n",
      "mIoU(patch): 0.6753417574256687\n",
      "fwIoU: 0.7181456175364866\n",
      "tIoU, sIoU, nIoU: [0.78104686 0.65069736 0.59428105]\n"
     ]
    },
    {
     "name": "stderr",
     "output_type": "stream",
     "text": [
      " 28%|██▊       | 400/1437 [14:17<36:22,  2.10s/it]"
     ]
    },
    {
     "name": "stdout",
     "output_type": "stream",
     "text": [
      "400/1437\n",
      "mIoU(patch): 0.687095306011436\n",
      "fwIoU: 0.7200346799535684\n",
      "tIoU, sIoU, nIoU: [0.78396046 0.6473058  0.63001966]\n"
     ]
    },
    {
     "name": "stderr",
     "output_type": "stream",
     "text": [
      " 35%|███▍      | 500/1437 [18:01<35:38,  2.28s/it]"
     ]
    },
    {
     "name": "stdout",
     "output_type": "stream",
     "text": [
      "500/1437\n",
      "mIoU(patch): 0.6940513352971457\n",
      "fwIoU: 0.7230015475080049\n",
      "tIoU, sIoU, nIoU: [0.77777086 0.66431313 0.64007001]\n"
     ]
    },
    {
     "name": "stderr",
     "output_type": "stream",
     "text": [
      " 42%|████▏     | 600/1437 [21:45<30:56,  2.22s/it]"
     ]
    },
    {
     "name": "stdout",
     "output_type": "stream",
     "text": [
      "600/1437\n",
      "mIoU(patch): 0.6825897125780352\n",
      "fwIoU: 0.7100614832588733\n",
      "tIoU, sIoU, nIoU: [0.77292748 0.63139701 0.64344465]\n"
     ]
    },
    {
     "name": "stderr",
     "output_type": "stream",
     "text": [
      " 49%|████▊     | 700/1437 [25:27<26:13,  2.13s/it]"
     ]
    },
    {
     "name": "stdout",
     "output_type": "stream",
     "text": [
      "700/1437\n",
      "mIoU(patch): 0.6714260283366961\n",
      "fwIoU: 0.7077495799116511\n",
      "tIoU, sIoU, nIoU: [0.77501495 0.62033407 0.61892906]\n"
     ]
    },
    {
     "name": "stderr",
     "output_type": "stream",
     "text": [
      " 56%|█████▌    | 800/1437 [28:59<22:48,  2.15s/it]"
     ]
    },
    {
     "name": "stdout",
     "output_type": "stream",
     "text": [
      "800/1437\n",
      "mIoU(patch): 0.6742969376276414\n",
      "fwIoU: 0.7132334172898402\n",
      "tIoU, sIoU, nIoU: [0.77919077 0.62713859 0.61656145]\n"
     ]
    },
    {
     "name": "stderr",
     "output_type": "stream",
     "text": [
      " 63%|██████▎   | 900/1437 [32:48<21:35,  2.41s/it]"
     ]
    },
    {
     "name": "stdout",
     "output_type": "stream",
     "text": [
      "900/1437\n",
      "mIoU(patch): 0.6758628116033006\n",
      "fwIoU: 0.7173225233052506\n",
      "tIoU, sIoU, nIoU: [0.78256072 0.63150309 0.61352463]\n"
     ]
    },
    {
     "name": "stderr",
     "output_type": "stream",
     "text": [
      " 70%|██████▉   | 1000/1437 [36:57<18:23,  2.52s/it]"
     ]
    },
    {
     "name": "stdout",
     "output_type": "stream",
     "text": [
      "1000/1437\n",
      "mIoU(patch): 0.6773521545450377\n",
      "fwIoU: 0.7227636656047545\n",
      "tIoU, sIoU, nIoU: [0.78885326 0.63208645 0.61111675]\n"
     ]
    },
    {
     "name": "stderr",
     "output_type": "stream",
     "text": [
      " 77%|███████▋  | 1100/1437 [41:17<14:51,  2.64s/it]"
     ]
    },
    {
     "name": "stdout",
     "output_type": "stream",
     "text": [
      "1100/1437\n",
      "mIoU(patch): 0.6821610097857072\n",
      "fwIoU: 0.7252391694607794\n",
      "tIoU, sIoU, nIoU: [0.78450598 0.65086059 0.61111646]\n"
     ]
    },
    {
     "name": "stderr",
     "output_type": "stream",
     "text": [
      " 84%|████████▎ | 1200/1437 [45:35<10:27,  2.65s/it]"
     ]
    },
    {
     "name": "stdout",
     "output_type": "stream",
     "text": [
      "1200/1437\n",
      "mIoU(patch): 0.6843935192453433\n",
      "fwIoU: 0.7277976979284061\n",
      "tIoU, sIoU, nIoU: [0.78458239 0.65748171 0.61111646]\n"
     ]
    },
    {
     "name": "stderr",
     "output_type": "stream",
     "text": [
      " 90%|█████████ | 1300/1437 [49:44<05:41,  2.49s/it]"
     ]
    },
    {
     "name": "stdout",
     "output_type": "stream",
     "text": [
      "1300/1437\n",
      "mIoU(patch): 0.6843576245178514\n",
      "fwIoU: 0.726919168574646\n",
      "tIoU, sIoU, nIoU: [0.78143408 0.66052233 0.61111646]\n"
     ]
    },
    {
     "name": "stderr",
     "output_type": "stream",
     "text": [
      " 97%|█████████▋| 1400/1437 [53:49<01:29,  2.42s/it]"
     ]
    },
    {
     "name": "stdout",
     "output_type": "stream",
     "text": [
      "1400/1437\n",
      "mIoU(patch): 0.6743351425629678\n",
      "fwIoU: 0.712874789388887\n",
      "tIoU, sIoU, nIoU: [0.77031616 0.64157281 0.61111646]\n"
     ]
    },
    {
     "name": "stderr",
     "output_type": "stream",
     "text": [
      "100%|██████████| 1437/1437 [55:18<00:00,  2.31s/it]\n"
     ]
    },
    {
     "name": "stdout",
     "output_type": "stream",
     "text": [
      "mIoU(big mask): 0.7104605220696155\n",
      "fwIoU: 0.7369302355760348\n",
      "tIoU, sIoU, nIoU: [0.7908515  0.66741812 0.67311194]\n",
      "epoch=12-validation_miou_mask_epoch=0.7407.ckpt\n",
      "Extension horovod.torch has not been built: /home/fzj/.local/lib/python3.8/site-packages/horovod/torch/mpi_lib_v2.cpython-38-x86_64-linux-gnu.so not found\n",
      "If this is not expected, reinstall Horovod with HOROVOD_WITH_PYTORCH=1 to debug the build error.\n",
      "Warning! MPI libs are missing, but python applications are still available.\n",
      "Find best checkpoint file: logs/wsss4luad3k6_3k6_run1/epoch=12-validation_miou_mask_epoch=0.7407.ckpt\n",
      "Save dir: logs/wsss4luad3k6_3k6_run1/test_tta\n"
     ]
    },
    {
     "name": "stderr",
     "output_type": "stream",
     "text": [
      "  0%|          | 0/1437 [00:00<?, ?it/s]"
     ]
    },
    {
     "name": "stdout",
     "output_type": "stream",
     "text": [
      "0/1437\n",
      "mIoU(patch): 0.0\n",
      "fwIoU: 0.0\n",
      "tIoU, sIoU, nIoU: [0. 0. 0.]\n"
     ]
    },
    {
     "name": "stderr",
     "output_type": "stream",
     "text": [
      "/data114_1/fzj/CODE/TMI24-HisynSeg/TMI23-submit-final/loss.py:34: RuntimeWarning: invalid value encountered in divide\n",
      "  MIoU = np.diag(self.confusion_matrix) / (\n",
      "/data114_1/fzj/CODE/TMI24-HisynSeg/TMI23-submit-final/loss.py:46: RuntimeWarning: invalid value encountered in divide\n",
      "  freq = np.sum(self.confusion_matrix, axis=1) / \\\n",
      "/data114_1/fzj/CODE/TMI24-HisynSeg/TMI23-submit-final/loss.py:48: RuntimeWarning: invalid value encountered in divide\n",
      "  iu = np.diag(self.confusion_matrix) / (\n",
      "  7%|▋         | 100/1437 [03:43<54:33,  2.45s/it]"
     ]
    },
    {
     "name": "stdout",
     "output_type": "stream",
     "text": [
      "100/1437\n",
      "mIoU(patch): 0.6965844891444176\n",
      "fwIoU: 0.767175593539145\n",
      "tIoU, sIoU, nIoU: [0.78522448 0.75136825 0.55316074]\n"
     ]
    },
    {
     "name": "stderr",
     "output_type": "stream",
     "text": [
      " 14%|█▍        | 200/1437 [07:52<54:41,  2.65s/it]"
     ]
    },
    {
     "name": "stdout",
     "output_type": "stream",
     "text": [
      "200/1437\n",
      "mIoU(patch): 0.6601494459130501\n",
      "fwIoU: 0.7487455949655532\n",
      "tIoU, sIoU, nIoU: [0.8018109  0.70833941 0.47029804]\n"
     ]
    },
    {
     "name": "stderr",
     "output_type": "stream",
     "text": [
      " 21%|██        | 300/1437 [12:05<49:30,  2.61s/it]"
     ]
    },
    {
     "name": "stdout",
     "output_type": "stream",
     "text": [
      "300/1437\n",
      "mIoU(patch): 0.6550853845006274\n",
      "fwIoU: 0.7385482499581746\n",
      "tIoU, sIoU, nIoU: [0.80468958 0.69120066 0.46936591]\n"
     ]
    },
    {
     "name": "stderr",
     "output_type": "stream",
     "text": [
      " 28%|██▊       | 400/1437 [16:16<54:24,  3.15s/it]"
     ]
    },
    {
     "name": "stdout",
     "output_type": "stream",
     "text": [
      "400/1437\n",
      "mIoU(patch): 0.6729323676641134\n",
      "fwIoU: 0.7403250106526855\n",
      "tIoU, sIoU, nIoU: [0.80894425 0.68858208 0.52127077]\n"
     ]
    },
    {
     "name": "stderr",
     "output_type": "stream",
     "text": [
      " 35%|███▍      | 500/1437 [19:39<30:49,  1.97s/it]"
     ]
    },
    {
     "name": "stdout",
     "output_type": "stream",
     "text": [
      "500/1437\n",
      "mIoU(patch): 0.6808161822904362\n",
      "fwIoU: 0.7377041914281882\n",
      "tIoU, sIoU, nIoU: [0.79490875 0.6956334  0.55190639]\n"
     ]
    },
    {
     "name": "stderr",
     "output_type": "stream",
     "text": [
      " 42%|████▏     | 600/1437 [22:56<27:19,  1.96s/it]"
     ]
    },
    {
     "name": "stdout",
     "output_type": "stream",
     "text": [
      "600/1437\n",
      "mIoU(patch): 0.6712736589912779\n",
      "fwIoU: 0.7256078713314499\n",
      "tIoU, sIoU, nIoU: [0.78791221 0.66727308 0.55863569]\n"
     ]
    },
    {
     "name": "stderr",
     "output_type": "stream",
     "text": [
      " 49%|████▊     | 700/1437 [26:13<24:01,  1.96s/it]"
     ]
    },
    {
     "name": "stdout",
     "output_type": "stream",
     "text": [
      "700/1437\n",
      "mIoU(patch): 0.6597416218183978\n",
      "fwIoU: 0.7215321641930075\n",
      "tIoU, sIoU, nIoU: [0.78464843 0.65642951 0.53814692]\n"
     ]
    },
    {
     "name": "stderr",
     "output_type": "stream",
     "text": [
      " 56%|█████▌    | 800/1437 [29:30<20:47,  1.96s/it]"
     ]
    },
    {
     "name": "stdout",
     "output_type": "stream",
     "text": [
      "800/1437\n",
      "mIoU(patch): 0.6621154286313874\n",
      "fwIoU: 0.7267218155382602\n",
      "tIoU, sIoU, nIoU: [0.78791331 0.66208654 0.53634644]\n"
     ]
    },
    {
     "name": "stderr",
     "output_type": "stream",
     "text": [
      " 63%|██████▎   | 900/1437 [32:46<17:38,  1.97s/it]"
     ]
    },
    {
     "name": "stdout",
     "output_type": "stream",
     "text": [
      "900/1437\n",
      "mIoU(patch): 0.6633231069465992\n",
      "fwIoU: 0.7306974009132864\n",
      "tIoU, sIoU, nIoU: [0.7906243  0.6658269  0.53351812]\n"
     ]
    },
    {
     "name": "stderr",
     "output_type": "stream",
     "text": [
      " 70%|██████▉   | 1000/1437 [36:03<14:24,  1.98s/it]"
     ]
    },
    {
     "name": "stdout",
     "output_type": "stream",
     "text": [
      "1000/1437\n",
      "mIoU(patch): 0.664589652811766\n",
      "fwIoU: 0.7359700345877402\n",
      "tIoU, sIoU, nIoU: [0.7963213  0.66616327 0.53128438]\n"
     ]
    },
    {
     "name": "stderr",
     "output_type": "stream",
     "text": [
      " 77%|███████▋  | 1100/1437 [39:20<11:06,  1.98s/it]"
     ]
    },
    {
     "name": "stdout",
     "output_type": "stream",
     "text": [
      "1100/1437\n",
      "mIoU(patch): 0.6678465847414521\n",
      "fwIoU: 0.7374592687171222\n",
      "tIoU, sIoU, nIoU: [0.79106279 0.68119263 0.53128433]\n"
     ]
    },
    {
     "name": "stderr",
     "output_type": "stream",
     "text": [
      " 84%|████████▎ | 1200/1437 [42:38<07:46,  1.97s/it]"
     ]
    },
    {
     "name": "stdout",
     "output_type": "stream",
     "text": [
      "1200/1437\n",
      "mIoU(patch): 0.668549054939037\n",
      "fwIoU: 0.7384211954593245\n",
      "tIoU, sIoU, nIoU: [0.78945322 0.68490961 0.53128433]\n"
     ]
    },
    {
     "name": "stderr",
     "output_type": "stream",
     "text": [
      " 90%|█████████ | 1300/1437 [45:54<04:29,  1.97s/it]"
     ]
    },
    {
     "name": "stdout",
     "output_type": "stream",
     "text": [
      "1300/1437\n",
      "mIoU(patch): 0.6693735541137085\n",
      "fwIoU: 0.7391120959521955\n",
      "tIoU, sIoU, nIoU: [0.78676009 0.69007624 0.53128433]\n"
     ]
    },
    {
     "name": "stderr",
     "output_type": "stream",
     "text": [
      " 97%|█████████▋| 1400/1437 [49:10<01:12,  1.95s/it]"
     ]
    },
    {
     "name": "stdout",
     "output_type": "stream",
     "text": [
      "1400/1437\n",
      "mIoU(patch): 0.666565756237382\n",
      "fwIoU: 0.735262247636733\n",
      "tIoU, sIoU, nIoU: [0.78218446 0.68622847 0.53128433]\n"
     ]
    },
    {
     "name": "stderr",
     "output_type": "stream",
     "text": [
      "100%|██████████| 1437/1437 [50:22<00:00,  2.10s/it]\n"
     ]
    },
    {
     "name": "stdout",
     "output_type": "stream",
     "text": [
      "mIoU(big mask): 0.7020158387619144\n",
      "fwIoU: 0.7712018213964902\n",
      "tIoU, sIoU, nIoU: [0.81514532 0.72573789 0.56516431]\n",
      "epoch=13-validation_miou_mask_epoch=0.7507.ckpt\n",
      "Extension horovod.torch has not been built: /home/fzj/.local/lib/python3.8/site-packages/horovod/torch/mpi_lib_v2.cpython-38-x86_64-linux-gnu.so not found\n",
      "If this is not expected, reinstall Horovod with HOROVOD_WITH_PYTORCH=1 to debug the build error.\n",
      "Warning! MPI libs are missing, but python applications are still available.\n",
      "Find best checkpoint file: logs/wsss4luad3k6_3k6_run1/epoch=13-validation_miou_mask_epoch=0.7507.ckpt\n",
      "Save dir: logs/wsss4luad3k6_3k6_run1/test_tta\n"
     ]
    },
    {
     "name": "stderr",
     "output_type": "stream",
     "text": [
      "  0%|          | 0/1437 [00:00<?, ?it/s]"
     ]
    },
    {
     "name": "stdout",
     "output_type": "stream",
     "text": [
      "0/1437\n",
      "mIoU(patch): 0.0\n",
      "fwIoU: 0.0\n",
      "tIoU, sIoU, nIoU: [0. 0. 0.]\n"
     ]
    },
    {
     "name": "stderr",
     "output_type": "stream",
     "text": [
      "/data114_1/fzj/CODE/TMI24-HisynSeg/TMI23-submit-final/loss.py:34: RuntimeWarning: invalid value encountered in divide\n",
      "  MIoU = np.diag(self.confusion_matrix) / (\n",
      "/data114_1/fzj/CODE/TMI24-HisynSeg/TMI23-submit-final/loss.py:46: RuntimeWarning: invalid value encountered in divide\n",
      "  freq = np.sum(self.confusion_matrix, axis=1) / \\\n",
      "/data114_1/fzj/CODE/TMI24-HisynSeg/TMI23-submit-final/loss.py:48: RuntimeWarning: invalid value encountered in divide\n",
      "  iu = np.diag(self.confusion_matrix) / (\n",
      "  7%|▋         | 100/1437 [03:17<43:37,  1.96s/it]"
     ]
    },
    {
     "name": "stdout",
     "output_type": "stream",
     "text": [
      "100/1437\n",
      "mIoU(patch): 0.6645389445981457\n",
      "fwIoU: 0.7582903109112357\n",
      "tIoU, sIoU, nIoU: [0.78159328 0.73800024 0.47402331]\n"
     ]
    },
    {
     "name": "stderr",
     "output_type": "stream",
     "text": [
      " 14%|█▍        | 200/1437 [06:33<40:22,  1.96s/it]"
     ]
    },
    {
     "name": "stdout",
     "output_type": "stream",
     "text": [
      "200/1437\n",
      "mIoU(patch): 0.6640105789456019\n",
      "fwIoU: 0.7414318582475444\n",
      "tIoU, sIoU, nIoU: [0.79069803 0.70214252 0.49919119]\n"
     ]
    },
    {
     "name": "stderr",
     "output_type": "stream",
     "text": [
      " 21%|██        | 300/1437 [09:48<37:07,  1.96s/it]"
     ]
    },
    {
     "name": "stdout",
     "output_type": "stream",
     "text": [
      "300/1437\n",
      "mIoU(patch): 0.6618163841415686\n",
      "fwIoU: 0.7312077425524605\n",
      "tIoU, sIoU, nIoU: [0.78905866 0.68758174 0.50880875]\n"
     ]
    },
    {
     "name": "stderr",
     "output_type": "stream",
     "text": [
      " 28%|██▊       | 400/1437 [13:03<34:00,  1.97s/it]"
     ]
    },
    {
     "name": "stdout",
     "output_type": "stream",
     "text": [
      "400/1437\n",
      "mIoU(patch): 0.6769211561724231\n",
      "fwIoU: 0.7316577883752274\n",
      "tIoU, sIoU, nIoU: [0.79097187 0.68404113 0.55575047]\n"
     ]
    },
    {
     "name": "stderr",
     "output_type": "stream",
     "text": [
      " 35%|███▍      | 500/1437 [16:19<30:32,  1.96s/it]"
     ]
    },
    {
     "name": "stdout",
     "output_type": "stream",
     "text": [
      "500/1437\n",
      "mIoU(patch): 0.6852351106806566\n",
      "fwIoU: 0.7310986081424987\n",
      "tIoU, sIoU, nIoU: [0.78113894 0.69148311 0.58308329]\n"
     ]
    },
    {
     "name": "stderr",
     "output_type": "stream",
     "text": [
      " 42%|████▏     | 600/1437 [19:36<27:28,  1.97s/it]"
     ]
    },
    {
     "name": "stdout",
     "output_type": "stream",
     "text": [
      "600/1437\n",
      "mIoU(patch): 0.6729822559122551\n",
      "fwIoU: 0.7179579914238442\n",
      "tIoU, sIoU, nIoU: [0.77591791 0.65965813 0.58337073]\n"
     ]
    },
    {
     "name": "stderr",
     "output_type": "stream",
     "text": [
      " 49%|████▊     | 700/1437 [22:52<24:11,  1.97s/it]"
     ]
    },
    {
     "name": "stdout",
     "output_type": "stream",
     "text": [
      "700/1437\n",
      "mIoU(patch): 0.6650746848474526\n",
      "fwIoU: 0.7161217967342045\n",
      "tIoU, sIoU, nIoU: [0.77633404 0.64918982 0.56970019]\n"
     ]
    },
    {
     "name": "stderr",
     "output_type": "stream",
     "text": [
      " 56%|█████▌    | 800/1437 [26:08<20:47,  1.96s/it]"
     ]
    },
    {
     "name": "stdout",
     "output_type": "stream",
     "text": [
      "800/1437\n",
      "mIoU(patch): 0.6679445341305049\n",
      "fwIoU: 0.7218774410733512\n",
      "tIoU, sIoU, nIoU: [0.78071796 0.65534308 0.56777256]\n"
     ]
    },
    {
     "name": "stderr",
     "output_type": "stream",
     "text": [
      " 63%|██████▎   | 900/1437 [29:24<17:37,  1.97s/it]"
     ]
    },
    {
     "name": "stdout",
     "output_type": "stream",
     "text": [
      "900/1437\n",
      "mIoU(patch): 0.6694951935502574\n",
      "fwIoU: 0.7261398202627923\n",
      "tIoU, sIoU, nIoU: [0.78421225 0.65915597 0.56511736]\n"
     ]
    },
    {
     "name": "stderr",
     "output_type": "stream",
     "text": [
      " 70%|██████▉   | 1000/1437 [32:41<14:17,  1.96s/it]"
     ]
    },
    {
     "name": "stdout",
     "output_type": "stream",
     "text": [
      "1000/1437\n",
      "mIoU(patch): 0.6712874049888743\n",
      "fwIoU: 0.7319520095958556\n",
      "tIoU, sIoU, nIoU: [0.79082206 0.65996355 0.5630766 ]\n"
     ]
    },
    {
     "name": "stderr",
     "output_type": "stream",
     "text": [
      " 77%|███████▋  | 1100/1437 [35:57<10:56,  1.95s/it]"
     ]
    },
    {
     "name": "stdout",
     "output_type": "stream",
     "text": [
      "1100/1437\n",
      "mIoU(patch): 0.6732663651581028\n",
      "fwIoU: 0.7316014613592672\n",
      "tIoU, sIoU, nIoU: [0.7847551  0.6719678  0.56307619]\n"
     ]
    },
    {
     "name": "stderr",
     "output_type": "stream",
     "text": [
      " 84%|████████▎ | 1200/1437 [39:14<07:43,  1.96s/it]"
     ]
    },
    {
     "name": "stdout",
     "output_type": "stream",
     "text": [
      "1200/1437\n",
      "mIoU(patch): 0.67375881611049\n",
      "fwIoU: 0.7322262366212159\n",
      "tIoU, sIoU, nIoU: [0.78366729 0.67453297 0.56307619]\n"
     ]
    },
    {
     "name": "stderr",
     "output_type": "stream",
     "text": [
      " 90%|█████████ | 1300/1437 [42:32<04:30,  1.97s/it]"
     ]
    },
    {
     "name": "stdout",
     "output_type": "stream",
     "text": [
      "1300/1437\n",
      "mIoU(patch): 0.675233779615034\n",
      "fwIoU: 0.7337354530744936\n",
      "tIoU, sIoU, nIoU: [0.78219183 0.68043332 0.56307619]\n"
     ]
    },
    {
     "name": "stderr",
     "output_type": "stream",
     "text": [
      " 97%|█████████▋| 1400/1437 [45:48<01:12,  1.97s/it]"
     ]
    },
    {
     "name": "stdout",
     "output_type": "stream",
     "text": [
      "1400/1437\n",
      "mIoU(patch): 0.6706823080322163\n",
      "fwIoU: 0.7273873520393961\n",
      "tIoU, sIoU, nIoU: [0.77608801 0.67288272 0.56307619]\n"
     ]
    },
    {
     "name": "stderr",
     "output_type": "stream",
     "text": [
      "100%|██████████| 1437/1437 [47:00<00:00,  1.96s/it]\n"
     ]
    },
    {
     "name": "stdout",
     "output_type": "stream",
     "text": [
      "mIoU(big mask): 0.7079221280378046\n",
      "fwIoU: 0.7628104733994822\n",
      "tIoU, sIoU, nIoU: [0.80704321 0.71358155 0.60314162]\n",
      "epoch=14-validation_miou_mask_epoch=0.7530.ckpt\n",
      "Extension horovod.torch has not been built: /home/fzj/.local/lib/python3.8/site-packages/horovod/torch/mpi_lib_v2.cpython-38-x86_64-linux-gnu.so not found\n",
      "If this is not expected, reinstall Horovod with HOROVOD_WITH_PYTORCH=1 to debug the build error.\n",
      "Warning! MPI libs are missing, but python applications are still available.\n",
      "Find best checkpoint file: logs/wsss4luad3k6_3k6_run1/epoch=14-validation_miou_mask_epoch=0.7530.ckpt\n",
      "Save dir: logs/wsss4luad3k6_3k6_run1/test_tta\n"
     ]
    },
    {
     "name": "stderr",
     "output_type": "stream",
     "text": [
      "  0%|          | 0/1437 [00:00<?, ?it/s]"
     ]
    },
    {
     "name": "stdout",
     "output_type": "stream",
     "text": [
      "0/1437\n",
      "mIoU(patch): 0.0\n",
      "fwIoU: 0.0\n",
      "tIoU, sIoU, nIoU: [0. 0. 0.]\n"
     ]
    },
    {
     "name": "stderr",
     "output_type": "stream",
     "text": [
      "/data114_1/fzj/CODE/TMI24-HisynSeg/TMI23-submit-final/loss.py:34: RuntimeWarning: invalid value encountered in divide\n",
      "  MIoU = np.diag(self.confusion_matrix) / (\n",
      "/data114_1/fzj/CODE/TMI24-HisynSeg/TMI23-submit-final/loss.py:46: RuntimeWarning: invalid value encountered in divide\n",
      "  freq = np.sum(self.confusion_matrix, axis=1) / \\\n",
      "/data114_1/fzj/CODE/TMI24-HisynSeg/TMI23-submit-final/loss.py:48: RuntimeWarning: invalid value encountered in divide\n",
      "  iu = np.diag(self.confusion_matrix) / (\n",
      "  7%|▋         | 100/1437 [03:15<42:13,  1.90s/it]"
     ]
    },
    {
     "name": "stdout",
     "output_type": "stream",
     "text": [
      "100/1437\n",
      "mIoU(patch): 0.638237674645456\n",
      "fwIoU: 0.7558134416049717\n",
      "tIoU, sIoU, nIoU: [0.77576434 0.74014029 0.39880839]\n"
     ]
    },
    {
     "name": "stderr",
     "output_type": "stream",
     "text": [
      " 14%|█▍        | 200/1437 [06:26<39:13,  1.90s/it]"
     ]
    },
    {
     "name": "stdout",
     "output_type": "stream",
     "text": [
      "200/1437\n",
      "mIoU(patch): 0.7160163092423836\n",
      "fwIoU: 0.7532216394880025\n",
      "tIoU, sIoU, nIoU: [0.79488966 0.70959921 0.64356006]\n"
     ]
    },
    {
     "name": "stderr",
     "output_type": "stream",
     "text": [
      " 21%|██        | 300/1437 [09:37<36:11,  1.91s/it]"
     ]
    },
    {
     "name": "stdout",
     "output_type": "stream",
     "text": [
      "300/1437\n",
      "mIoU(patch): 0.7249635335484875\n",
      "fwIoU: 0.7542233530182602\n",
      "tIoU, sIoU, nIoU: [0.80166931 0.70149196 0.67172933]\n"
     ]
    },
    {
     "name": "stderr",
     "output_type": "stream",
     "text": [
      " 28%|██▊       | 400/1437 [12:48<33:14,  1.92s/it]"
     ]
    },
    {
     "name": "stdout",
     "output_type": "stream",
     "text": [
      "400/1437\n",
      "mIoU(patch): 0.7420407156385399\n",
      "fwIoU: 0.7608260675968088\n",
      "tIoU, sIoU, nIoU: [0.80748027 0.7034292  0.71521267]\n"
     ]
    },
    {
     "name": "stderr",
     "output_type": "stream",
     "text": [
      " 35%|███▍      | 500/1437 [15:59<29:44,  1.90s/it]"
     ]
    },
    {
     "name": "stdout",
     "output_type": "stream",
     "text": [
      "500/1437\n",
      "mIoU(patch): 0.7335939965558276\n",
      "fwIoU: 0.7510272789894386\n",
      "tIoU, sIoU, nIoU: [0.79091256 0.70565504 0.70421439]\n"
     ]
    },
    {
     "name": "stderr",
     "output_type": "stream",
     "text": [
      " 42%|████▏     | 600/1437 [19:09<26:23,  1.89s/it]"
     ]
    },
    {
     "name": "stdout",
     "output_type": "stream",
     "text": [
      "600/1437\n",
      "mIoU(patch): 0.7170844255561729\n",
      "fwIoU: 0.7371580188012071\n",
      "tIoU, sIoU, nIoU: [0.78484469 0.67693363 0.68947496]\n"
     ]
    },
    {
     "name": "stderr",
     "output_type": "stream",
     "text": [
      " 49%|████▊     | 700/1437 [22:20<23:37,  1.92s/it]"
     ]
    },
    {
     "name": "stdout",
     "output_type": "stream",
     "text": [
      "700/1437\n",
      "mIoU(patch): 0.6942616148834491\n",
      "fwIoU: 0.7309765535216333\n",
      "tIoU, sIoU, nIoU: [0.78401413 0.66698197 0.63178874]\n"
     ]
    },
    {
     "name": "stderr",
     "output_type": "stream",
     "text": [
      " 56%|█████▌    | 800/1437 [25:31<20:04,  1.89s/it]"
     ]
    },
    {
     "name": "stdout",
     "output_type": "stream",
     "text": [
      "800/1437\n",
      "mIoU(patch): 0.694366759793705\n",
      "fwIoU: 0.7345363838705464\n",
      "tIoU, sIoU, nIoU: [0.78720547 0.67064339 0.62525142]\n"
     ]
    },
    {
     "name": "stderr",
     "output_type": "stream",
     "text": [
      " 63%|██████▎   | 900/1437 [28:41<16:57,  1.90s/it]"
     ]
    },
    {
     "name": "stdout",
     "output_type": "stream",
     "text": [
      "900/1437\n",
      "mIoU(patch): 0.6933557680967387\n",
      "fwIoU: 0.7371602122880592\n",
      "tIoU, sIoU, nIoU: [0.78997651 0.67256227 0.61752852]\n"
     ]
    },
    {
     "name": "stderr",
     "output_type": "stream",
     "text": [
      " 70%|██████▉   | 1000/1437 [31:52<13:43,  1.88s/it]"
     ]
    },
    {
     "name": "stdout",
     "output_type": "stream",
     "text": [
      "1000/1437\n",
      "mIoU(patch): 0.6931891723076213\n",
      "fwIoU: 0.7412458022728201\n",
      "tIoU, sIoU, nIoU: [0.79535081 0.67173942 0.61247729]\n"
     ]
    },
    {
     "name": "stderr",
     "output_type": "stream",
     "text": [
      " 77%|███████▋  | 1100/1437 [35:02<10:46,  1.92s/it]"
     ]
    },
    {
     "name": "stdout",
     "output_type": "stream",
     "text": [
      "1100/1437\n",
      "mIoU(patch): 0.696404076579148\n",
      "fwIoU: 0.7425290604517836\n",
      "tIoU, sIoU, nIoU: [0.7906756  0.68610206 0.61243457]\n"
     ]
    },
    {
     "name": "stderr",
     "output_type": "stream",
     "text": [
      " 84%|████████▎ | 1200/1437 [38:13<07:34,  1.92s/it]"
     ]
    },
    {
     "name": "stdout",
     "output_type": "stream",
     "text": [
      "1200/1437\n",
      "mIoU(patch): 0.6975945699953954\n",
      "fwIoU: 0.7439939473339803\n",
      "tIoU, sIoU, nIoU: [0.79041731 0.68993183 0.61243457]\n"
     ]
    },
    {
     "name": "stderr",
     "output_type": "stream",
     "text": [
      " 90%|█████████ | 1300/1437 [41:24<04:21,  1.91s/it]"
     ]
    },
    {
     "name": "stdout",
     "output_type": "stream",
     "text": [
      "1300/1437\n",
      "mIoU(patch): 0.6990434093273201\n",
      "fwIoU: 0.7454058311123799\n",
      "tIoU, sIoU, nIoU: [0.78905295 0.69564271 0.61243457]\n"
     ]
    },
    {
     "name": "stderr",
     "output_type": "stream",
     "text": [
      " 97%|█████████▋| 1400/1437 [44:37<01:10,  1.92s/it]"
     ]
    },
    {
     "name": "stdout",
     "output_type": "stream",
     "text": [
      "1400/1437\n",
      "mIoU(patch): 0.6960408189979642\n",
      "fwIoU: 0.7410948528814448\n",
      "tIoU, sIoU, nIoU: [0.78442967 0.69125821 0.61243457]\n"
     ]
    },
    {
     "name": "stderr",
     "output_type": "stream",
     "text": [
      "100%|██████████| 1437/1437 [45:48<00:00,  1.91s/it]\n"
     ]
    },
    {
     "name": "stdout",
     "output_type": "stream",
     "text": [
      "mIoU(big mask): 0.7566396223508276\n",
      "fwIoU: 0.7804014832644292\n",
      "tIoU, sIoU, nIoU: [0.81783028 0.73341628 0.71867231]\n",
      "epoch=15-validation_miou_mask_epoch=0.7590.ckpt\n",
      "Extension horovod.torch has not been built: /home/fzj/.local/lib/python3.8/site-packages/horovod/torch/mpi_lib_v2.cpython-38-x86_64-linux-gnu.so not found\n",
      "If this is not expected, reinstall Horovod with HOROVOD_WITH_PYTORCH=1 to debug the build error.\n",
      "Warning! MPI libs are missing, but python applications are still available.\n",
      "Find best checkpoint file: logs/wsss4luad3k6_3k6_run1/epoch=15-validation_miou_mask_epoch=0.7590.ckpt\n",
      "Save dir: logs/wsss4luad3k6_3k6_run1/test_tta\n"
     ]
    },
    {
     "name": "stderr",
     "output_type": "stream",
     "text": [
      "  0%|          | 0/1437 [00:00<?, ?it/s]"
     ]
    },
    {
     "name": "stdout",
     "output_type": "stream",
     "text": [
      "0/1437\n",
      "mIoU(patch): 0.0\n",
      "fwIoU: 0.0\n",
      "tIoU, sIoU, nIoU: [0. 0. 0.]\n"
     ]
    },
    {
     "name": "stderr",
     "output_type": "stream",
     "text": [
      "/data114_1/fzj/CODE/TMI24-HisynSeg/TMI23-submit-final/loss.py:34: RuntimeWarning: invalid value encountered in divide\n",
      "  MIoU = np.diag(self.confusion_matrix) / (\n",
      "/data114_1/fzj/CODE/TMI24-HisynSeg/TMI23-submit-final/loss.py:46: RuntimeWarning: invalid value encountered in divide\n",
      "  freq = np.sum(self.confusion_matrix, axis=1) / \\\n",
      "/data114_1/fzj/CODE/TMI24-HisynSeg/TMI23-submit-final/loss.py:48: RuntimeWarning: invalid value encountered in divide\n",
      "  iu = np.diag(self.confusion_matrix) / (\n",
      "  7%|▋         | 100/1437 [03:18<43:15,  1.94s/it]"
     ]
    },
    {
     "name": "stdout",
     "output_type": "stream",
     "text": [
      "100/1437\n",
      "mIoU(patch): 0.6405337306833655\n",
      "fwIoU: 0.7630339646662927\n",
      "tIoU, sIoU, nIoU: [0.78807663 0.74221911 0.39130545]\n"
     ]
    },
    {
     "name": "stderr",
     "output_type": "stream",
     "text": [
      " 14%|█▍        | 200/1437 [06:32<40:03,  1.94s/it]"
     ]
    },
    {
     "name": "stdout",
     "output_type": "stream",
     "text": [
      "200/1437\n",
      "mIoU(patch): 0.7152685254419703\n",
      "fwIoU: 0.7526433216262477\n",
      "tIoU, sIoU, nIoU: [0.79683285 0.70561588 0.64335684]\n"
     ]
    },
    {
     "name": "stderr",
     "output_type": "stream",
     "text": [
      " 21%|██        | 300/1437 [09:46<36:57,  1.95s/it]"
     ]
    },
    {
     "name": "stdout",
     "output_type": "stream",
     "text": [
      "300/1437\n",
      "mIoU(patch): 0.719006537858272\n",
      "fwIoU: 0.7474345469489516\n",
      "tIoU, sIoU, nIoU: [0.79654119 0.69171966 0.66875877]\n"
     ]
    },
    {
     "name": "stderr",
     "output_type": "stream",
     "text": [
      " 28%|██▊       | 400/1437 [13:00<33:09,  1.92s/it]"
     ]
    },
    {
     "name": "stdout",
     "output_type": "stream",
     "text": [
      "400/1437\n",
      "mIoU(patch): 0.7288989361324282\n",
      "fwIoU: 0.7493588300573546\n",
      "tIoU, sIoU, nIoU: [0.79919287 0.68837387 0.69913007]\n"
     ]
    },
    {
     "name": "stderr",
     "output_type": "stream",
     "text": [
      " 35%|███▍      | 500/1437 [16:14<30:13,  1.94s/it]"
     ]
    },
    {
     "name": "stdout",
     "output_type": "stream",
     "text": [
      "500/1437\n",
      "mIoU(patch): 0.725365555743167\n",
      "fwIoU: 0.7466908368273671\n",
      "tIoU, sIoU, nIoU: [0.79150002 0.69697252 0.68762413]\n"
     ]
    },
    {
     "name": "stderr",
     "output_type": "stream",
     "text": [
      " 42%|████▏     | 600/1437 [19:28<27:05,  1.94s/it]"
     ]
    },
    {
     "name": "stdout",
     "output_type": "stream",
     "text": [
      "600/1437\n",
      "mIoU(patch): 0.7112859052924715\n",
      "fwIoU: 0.7337599965609715\n",
      "tIoU, sIoU, nIoU: [0.78689072 0.66673902 0.68022798]\n"
     ]
    },
    {
     "name": "stderr",
     "output_type": "stream",
     "text": [
      " 49%|████▊     | 700/1437 [22:41<23:38,  1.93s/it]"
     ]
    },
    {
     "name": "stdout",
     "output_type": "stream",
     "text": [
      "700/1437\n",
      "mIoU(patch): 0.6948353035506797\n",
      "fwIoU: 0.7303909206088481\n",
      "tIoU, sIoU, nIoU: [0.78879878 0.65693834 0.6387688 ]\n"
     ]
    },
    {
     "name": "stderr",
     "output_type": "stream",
     "text": [
      " 56%|█████▌    | 800/1437 [25:55<20:32,  1.93s/it]"
     ]
    },
    {
     "name": "stdout",
     "output_type": "stream",
     "text": [
      "800/1437\n",
      "mIoU(patch): 0.6933297303553059\n",
      "fwIoU: 0.733760216228702\n",
      "tIoU, sIoU, nIoU: [0.79216198 0.66071333 0.62711388]\n"
     ]
    },
    {
     "name": "stderr",
     "output_type": "stream",
     "text": [
      " 63%|██████▎   | 900/1437 [29:08<17:08,  1.92s/it]"
     ]
    },
    {
     "name": "stdout",
     "output_type": "stream",
     "text": [
      "900/1437\n",
      "mIoU(patch): 0.6912377469928498\n",
      "fwIoU: 0.7362829810520359\n",
      "tIoU, sIoU, nIoU: [0.79490314 0.66288345 0.61592665]\n"
     ]
    },
    {
     "name": "stderr",
     "output_type": "stream",
     "text": [
      " 70%|██████▉   | 1000/1437 [32:21<14:01,  1.93s/it]"
     ]
    },
    {
     "name": "stdout",
     "output_type": "stream",
     "text": [
      "1000/1437\n",
      "mIoU(patch): 0.6913668220241225\n",
      "fwIoU: 0.7408657411410575\n",
      "tIoU, sIoU, nIoU: [0.80034952 0.66300028 0.61075067]\n"
     ]
    },
    {
     "name": "stderr",
     "output_type": "stream",
     "text": [
      " 77%|███████▋  | 1100/1437 [35:35<10:48,  1.92s/it]"
     ]
    },
    {
     "name": "stdout",
     "output_type": "stream",
     "text": [
      "1100/1437\n",
      "mIoU(patch): 0.6959646449711429\n",
      "fwIoU: 0.7436394293989763\n",
      "tIoU, sIoU, nIoU: [0.79626087 0.68098518 0.61064789]\n"
     ]
    },
    {
     "name": "stderr",
     "output_type": "stream",
     "text": [
      " 84%|████████▎ | 1200/1437 [38:48<07:36,  1.93s/it]"
     ]
    },
    {
     "name": "stdout",
     "output_type": "stream",
     "text": [
      "1200/1437\n",
      "mIoU(patch): 0.6977385765552365\n",
      "fwIoU: 0.7457564811669958\n",
      "tIoU, sIoU, nIoU: [0.79597459 0.68659325 0.61064789]\n"
     ]
    },
    {
     "name": "stderr",
     "output_type": "stream",
     "text": [
      " 90%|█████████ | 1300/1437 [42:01<04:23,  1.92s/it]"
     ]
    },
    {
     "name": "stdout",
     "output_type": "stream",
     "text": [
      "1300/1437\n",
      "mIoU(patch): 0.6998461179057167\n",
      "fwIoU: 0.7480003476496594\n",
      "tIoU, sIoU, nIoU: [0.79508119 0.69380927 0.61064789]\n"
     ]
    },
    {
     "name": "stderr",
     "output_type": "stream",
     "text": [
      " 97%|█████████▋| 1400/1437 [45:15<01:11,  1.92s/it]"
     ]
    },
    {
     "name": "stdout",
     "output_type": "stream",
     "text": [
      "1400/1437\n",
      "mIoU(patch): 0.6956959154496211\n",
      "fwIoU: 0.7420789190816997\n",
      "tIoU, sIoU, nIoU: [0.78912194 0.68735243 0.61061337]\n"
     ]
    },
    {
     "name": "stderr",
     "output_type": "stream",
     "text": [
      "100%|██████████| 1437/1437 [46:26<00:00,  1.94s/it]\n"
     ]
    },
    {
     "name": "stdout",
     "output_type": "stream",
     "text": [
      "mIoU(big mask): 0.7565088385943116\n",
      "fwIoU: 0.7801164984960467\n",
      "tIoU, sIoU, nIoU: [0.81885979 0.73124891 0.71941781]\n",
      "epoch=16-validation_miou_mask_epoch=0.7433.ckpt\n",
      "Extension horovod.torch has not been built: /home/fzj/.local/lib/python3.8/site-packages/horovod/torch/mpi_lib_v2.cpython-38-x86_64-linux-gnu.so not found\n",
      "If this is not expected, reinstall Horovod with HOROVOD_WITH_PYTORCH=1 to debug the build error.\n",
      "Warning! MPI libs are missing, but python applications are still available.\n",
      "Find best checkpoint file: logs/wsss4luad3k6_3k6_run1/epoch=16-validation_miou_mask_epoch=0.7433.ckpt\n",
      "Save dir: logs/wsss4luad3k6_3k6_run1/test_tta\n"
     ]
    },
    {
     "name": "stderr",
     "output_type": "stream",
     "text": [
      "  0%|          | 0/1437 [00:00<?, ?it/s]"
     ]
    },
    {
     "name": "stdout",
     "output_type": "stream",
     "text": [
      "0/1437\n",
      "mIoU(patch): 0.0\n",
      "fwIoU: 0.0\n",
      "tIoU, sIoU, nIoU: [0. 0. 0.]\n"
     ]
    },
    {
     "name": "stderr",
     "output_type": "stream",
     "text": [
      "/data114_1/fzj/CODE/TMI24-HisynSeg/TMI23-submit-final/loss.py:34: RuntimeWarning: invalid value encountered in divide\n",
      "  MIoU = np.diag(self.confusion_matrix) / (\n",
      "/data114_1/fzj/CODE/TMI24-HisynSeg/TMI23-submit-final/loss.py:46: RuntimeWarning: invalid value encountered in divide\n",
      "  freq = np.sum(self.confusion_matrix, axis=1) / \\\n",
      "/data114_1/fzj/CODE/TMI24-HisynSeg/TMI23-submit-final/loss.py:48: RuntimeWarning: invalid value encountered in divide\n",
      "  iu = np.diag(self.confusion_matrix) / (\n",
      "  7%|▋         | 100/1437 [03:17<43:31,  1.95s/it]"
     ]
    },
    {
     "name": "stdout",
     "output_type": "stream",
     "text": [
      "100/1437\n",
      "mIoU(patch): 0.6177157492186779\n",
      "fwIoU: 0.7336682027342001\n",
      "tIoU, sIoU, nIoU: [0.76964035 0.70103752 0.38246938]\n"
     ]
    },
    {
     "name": "stderr",
     "output_type": "stream",
     "text": [
      " 14%|█▍        | 200/1437 [06:31<40:04,  1.94s/it]"
     ]
    },
    {
     "name": "stdout",
     "output_type": "stream",
     "text": [
      "200/1437\n",
      "mIoU(patch): 0.6524333602836249\n",
      "fwIoU: 0.725341855644852\n",
      "tIoU, sIoU, nIoU: [0.78245661 0.67360139 0.50124208]\n"
     ]
    },
    {
     "name": "stderr",
     "output_type": "stream",
     "text": [
      " 21%|██        | 300/1437 [09:44<36:25,  1.92s/it]"
     ]
    },
    {
     "name": "stdout",
     "output_type": "stream",
     "text": [
      "300/1437\n",
      "mIoU(patch): 0.6511372605872398\n",
      "fwIoU: 0.7152500391763137\n",
      "tIoU, sIoU, nIoU: [0.77834692 0.66057418 0.51449068]\n"
     ]
    },
    {
     "name": "stderr",
     "output_type": "stream",
     "text": [
      " 28%|██▊       | 400/1437 [12:58<33:23,  1.93s/it]"
     ]
    },
    {
     "name": "stdout",
     "output_type": "stream",
     "text": [
      "400/1437\n",
      "mIoU(patch): 0.667909092098948\n",
      "fwIoU: 0.7161463076163289\n",
      "tIoU, sIoU, nIoU: [0.7785143  0.65842089 0.56679208]\n"
     ]
    },
    {
     "name": "stderr",
     "output_type": "stream",
     "text": [
      " 35%|███▍      | 500/1437 [16:11<30:08,  1.93s/it]"
     ]
    },
    {
     "name": "stdout",
     "output_type": "stream",
     "text": [
      "500/1437\n",
      "mIoU(patch): 0.6787117390274533\n",
      "fwIoU: 0.7193028006194843\n",
      "tIoU, sIoU, nIoU: [0.77287305 0.67075485 0.59250732]\n"
     ]
    },
    {
     "name": "stderr",
     "output_type": "stream",
     "text": [
      " 42%|████▏     | 600/1437 [19:25<27:16,  1.95s/it]"
     ]
    },
    {
     "name": "stdout",
     "output_type": "stream",
     "text": [
      "600/1437\n",
      "mIoU(patch): 0.66985939526969\n",
      "fwIoU: 0.7089802848024699\n",
      "tIoU, sIoU, nIoU: [0.77036776 0.64106798 0.59814245]\n"
     ]
    },
    {
     "name": "stderr",
     "output_type": "stream",
     "text": [
      " 49%|████▊     | 700/1437 [22:40<23:56,  1.95s/it]"
     ]
    },
    {
     "name": "stdout",
     "output_type": "stream",
     "text": [
      "700/1437\n",
      "mIoU(patch): 0.6602098294637853\n",
      "fwIoU: 0.7097007108995951\n",
      "tIoU, sIoU, nIoU: [0.77513428 0.63331105 0.57218416]\n"
     ]
    },
    {
     "name": "stderr",
     "output_type": "stream",
     "text": [
      " 56%|█████▌    | 800/1437 [25:54<21:28,  2.02s/it]"
     ]
    },
    {
     "name": "stdout",
     "output_type": "stream",
     "text": [
      "800/1437\n",
      "mIoU(patch): 0.6597925236390416\n",
      "fwIoU: 0.7129390408967746\n",
      "tIoU, sIoU, nIoU: [0.77847475 0.63513015 0.56577267]\n"
     ]
    },
    {
     "name": "stderr",
     "output_type": "stream",
     "text": [
      " 63%|██████▎   | 900/1437 [29:12<17:16,  1.93s/it]"
     ]
    },
    {
     "name": "stdout",
     "output_type": "stream",
     "text": [
      "900/1437\n",
      "mIoU(patch): 0.6582046061758419\n",
      "fwIoU: 0.7145409587146515\n",
      "tIoU, sIoU, nIoU: [0.78068133 0.63435287 0.55957962]\n"
     ]
    },
    {
     "name": "stderr",
     "output_type": "stream",
     "text": [
      " 70%|██████▉   | 1000/1437 [32:26<14:07,  1.94s/it]"
     ]
    },
    {
     "name": "stdout",
     "output_type": "stream",
     "text": [
      "1000/1437\n",
      "mIoU(patch): 0.6586110000700988\n",
      "fwIoU: 0.7191507342704554\n",
      "tIoU, sIoU, nIoU: [0.7866511 0.6326902 0.5564917]\n"
     ]
    },
    {
     "name": "stderr",
     "output_type": "stream",
     "text": [
      " 77%|███████▋  | 1100/1437 [35:40<10:59,  1.96s/it]"
     ]
    },
    {
     "name": "stdout",
     "output_type": "stream",
     "text": [
      "1100/1437\n",
      "mIoU(patch): 0.6581112571557518\n",
      "fwIoU: 0.7149594300379345\n",
      "tIoU, sIoU, nIoU: [0.77784995 0.64003138 0.55645243]\n"
     ]
    },
    {
     "name": "stderr",
     "output_type": "stream",
     "text": [
      " 84%|████████▎ | 1200/1437 [38:53<07:40,  1.94s/it]"
     ]
    },
    {
     "name": "stdout",
     "output_type": "stream",
     "text": [
      "1200/1437\n",
      "mIoU(patch): 0.6574211916008865\n",
      "fwIoU: 0.7138342429228419\n",
      "tIoU, sIoU, nIoU: [0.77565269 0.64015845 0.55645243]\n"
     ]
    },
    {
     "name": "stderr",
     "output_type": "stream",
     "text": [
      " 90%|█████████ | 1300/1437 [42:07<04:30,  1.97s/it]"
     ]
    },
    {
     "name": "stdout",
     "output_type": "stream",
     "text": [
      "1300/1437\n",
      "mIoU(patch): 0.657828914237908\n",
      "fwIoU: 0.713743553895207\n",
      "tIoU, sIoU, nIoU: [0.77347518 0.64355913 0.55645243]\n"
     ]
    },
    {
     "name": "stderr",
     "output_type": "stream",
     "text": [
      " 97%|█████████▋| 1400/1437 [45:22<01:11,  1.93s/it]"
     ]
    },
    {
     "name": "stdout",
     "output_type": "stream",
     "text": [
      "1400/1437\n",
      "mIoU(patch): 0.6500314811752693\n",
      "fwIoU: 0.702856454612877\n",
      "tIoU, sIoU, nIoU: [0.76458389 0.62905812 0.55645243]\n"
     ]
    },
    {
     "name": "stderr",
     "output_type": "stream",
     "text": [
      "100%|██████████| 1437/1437 [46:33<00:00,  1.94s/it]\n"
     ]
    },
    {
     "name": "stdout",
     "output_type": "stream",
     "text": [
      "mIoU(big mask): 0.6957249643850503\n",
      "fwIoU: 0.7349599241174591\n",
      "tIoU, sIoU, nIoU: [0.7890711  0.66817987 0.62992392]\n",
      "epoch=17-validation_miou_mask_epoch=0.7318.ckpt\n",
      "Extension horovod.torch has not been built: /home/fzj/.local/lib/python3.8/site-packages/horovod/torch/mpi_lib_v2.cpython-38-x86_64-linux-gnu.so not found\n",
      "If this is not expected, reinstall Horovod with HOROVOD_WITH_PYTORCH=1 to debug the build error.\n",
      "Warning! MPI libs are missing, but python applications are still available.\n",
      "Find best checkpoint file: logs/wsss4luad3k6_3k6_run1/epoch=17-validation_miou_mask_epoch=0.7318.ckpt\n",
      "Save dir: logs/wsss4luad3k6_3k6_run1/test_tta\n"
     ]
    },
    {
     "name": "stderr",
     "output_type": "stream",
     "text": [
      "  0%|          | 0/1437 [00:00<?, ?it/s]"
     ]
    },
    {
     "name": "stdout",
     "output_type": "stream",
     "text": [
      "0/1437\n",
      "mIoU(patch): 0.0\n",
      "fwIoU: 0.0\n",
      "tIoU, sIoU, nIoU: [0. 0. 0.]\n"
     ]
    },
    {
     "name": "stderr",
     "output_type": "stream",
     "text": [
      "/data114_1/fzj/CODE/TMI24-HisynSeg/TMI23-submit-final/loss.py:34: RuntimeWarning: invalid value encountered in divide\n",
      "  MIoU = np.diag(self.confusion_matrix) / (\n",
      "/data114_1/fzj/CODE/TMI24-HisynSeg/TMI23-submit-final/loss.py:46: RuntimeWarning: invalid value encountered in divide\n",
      "  freq = np.sum(self.confusion_matrix, axis=1) / \\\n",
      "/data114_1/fzj/CODE/TMI24-HisynSeg/TMI23-submit-final/loss.py:48: RuntimeWarning: invalid value encountered in divide\n",
      "  iu = np.diag(self.confusion_matrix) / (\n",
      "  7%|▋         | 100/1437 [03:17<43:45,  1.96s/it]"
     ]
    },
    {
     "name": "stdout",
     "output_type": "stream",
     "text": [
      "100/1437\n",
      "mIoU(patch): 0.6705507563053049\n",
      "fwIoU: 0.7648620864245922\n",
      "tIoU, sIoU, nIoU: [0.7888197  0.74390762 0.47892495]\n"
     ]
    },
    {
     "name": "stderr",
     "output_type": "stream",
     "text": [
      " 14%|█▍        | 200/1437 [06:30<39:44,  1.93s/it]"
     ]
    },
    {
     "name": "stdout",
     "output_type": "stream",
     "text": [
      "200/1437\n",
      "mIoU(patch): 0.65267767145237\n",
      "fwIoU: 0.7354266782747059\n",
      "tIoU, sIoU, nIoU: [0.78735536 0.69443435 0.47624331]\n"
     ]
    },
    {
     "name": "stderr",
     "output_type": "stream",
     "text": [
      " 21%|██        | 300/1437 [09:43<36:42,  1.94s/it]"
     ]
    },
    {
     "name": "stdout",
     "output_type": "stream",
     "text": [
      "300/1437\n",
      "mIoU(patch): 0.6474044981753541\n",
      "fwIoU: 0.7214846309334505\n",
      "tIoU, sIoU, nIoU: [0.78213598 0.67656199 0.48351552]\n"
     ]
    },
    {
     "name": "stderr",
     "output_type": "stream",
     "text": [
      " 28%|██▊       | 400/1437 [12:56<33:01,  1.91s/it]"
     ]
    },
    {
     "name": "stdout",
     "output_type": "stream",
     "text": [
      "400/1437\n",
      "mIoU(patch): 0.6691061441124395\n",
      "fwIoU: 0.7254400239644975\n",
      "tIoU, sIoU, nIoU: [0.78560157 0.67781293 0.54390393]\n"
     ]
    },
    {
     "name": "stderr",
     "output_type": "stream",
     "text": [
      " 35%|███▍      | 500/1437 [16:07<29:52,  1.91s/it]"
     ]
    },
    {
     "name": "stdout",
     "output_type": "stream",
     "text": [
      "500/1437\n",
      "mIoU(patch): 0.6839001184955573\n",
      "fwIoU: 0.7305641978951922\n",
      "tIoU, sIoU, nIoU: [0.78071834 0.69136091 0.5796211 ]\n"
     ]
    },
    {
     "name": "stderr",
     "output_type": "stream",
     "text": [
      " 42%|████▏     | 600/1437 [19:19<27:03,  1.94s/it]"
     ]
    },
    {
     "name": "stdout",
     "output_type": "stream",
     "text": [
      "600/1437\n",
      "mIoU(patch): 0.6770839456523654\n",
      "fwIoU: 0.7215307292557609\n",
      "tIoU, sIoU, nIoU: [0.77872088 0.66405465 0.58847631]\n"
     ]
    },
    {
     "name": "stderr",
     "output_type": "stream",
     "text": [
      " 49%|████▊     | 700/1437 [22:31<23:26,  1.91s/it]"
     ]
    },
    {
     "name": "stdout",
     "output_type": "stream",
     "text": [
      "700/1437\n",
      "mIoU(patch): 0.6669883881040352\n",
      "fwIoU: 0.7215842163798348\n",
      "tIoU, sIoU, nIoU: [0.78230589 0.6559894  0.56266988]\n"
     ]
    },
    {
     "name": "stderr",
     "output_type": "stream",
     "text": [
      " 56%|█████▌    | 800/1437 [25:43<20:22,  1.92s/it]"
     ]
    },
    {
     "name": "stdout",
     "output_type": "stream",
     "text": [
      "800/1437\n",
      "mIoU(patch): 0.6691488272401817\n",
      "fwIoU: 0.7263532414834895\n",
      "tIoU, sIoU, nIoU: [0.78570192 0.66074535 0.56099921]\n"
     ]
    },
    {
     "name": "stderr",
     "output_type": "stream",
     "text": [
      " 63%|██████▎   | 900/1437 [28:56<17:10,  1.92s/it]"
     ]
    },
    {
     "name": "stdout",
     "output_type": "stream",
     "text": [
      "900/1437\n",
      "mIoU(patch): 0.66996904318275\n",
      "fwIoU: 0.7297986412949587\n",
      "tIoU, sIoU, nIoU: [0.78853724 0.66325488 0.55811501]\n"
     ]
    },
    {
     "name": "stderr",
     "output_type": "stream",
     "text": [
      " 70%|██████▉   | 1000/1437 [32:08<14:02,  1.93s/it]"
     ]
    },
    {
     "name": "stdout",
     "output_type": "stream",
     "text": [
      "1000/1437\n",
      "mIoU(patch): 0.6707470831238065\n",
      "fwIoU: 0.7345025476639946\n",
      "tIoU, sIoU, nIoU: [0.79413496 0.66258352 0.55552276]\n"
     ]
    },
    {
     "name": "stderr",
     "output_type": "stream",
     "text": [
      " 77%|███████▋  | 1100/1437 [35:21<10:46,  1.92s/it]"
     ]
    },
    {
     "name": "stdout",
     "output_type": "stream",
     "text": [
      "1100/1437\n",
      "mIoU(patch): 0.6759198705909041\n",
      "fwIoU: 0.7384616108841967\n",
      "tIoU, sIoU, nIoU: [0.79106484 0.68117266 0.55552211]\n"
     ]
    },
    {
     "name": "stderr",
     "output_type": "stream",
     "text": [
      " 84%|████████▎ | 1200/1437 [38:33<07:33,  1.91s/it]"
     ]
    },
    {
     "name": "stdout",
     "output_type": "stream",
     "text": [
      "1200/1437\n",
      "mIoU(patch): 0.6782144022084825\n",
      "fwIoU: 0.7415833409141526\n",
      "tIoU, sIoU, nIoU: [0.79162438 0.68749672 0.55552211]\n"
     ]
    },
    {
     "name": "stderr",
     "output_type": "stream",
     "text": [
      " 90%|█████████ | 1300/1437 [41:48<04:28,  1.96s/it]"
     ]
    },
    {
     "name": "stdout",
     "output_type": "stream",
     "text": [
      "1300/1437\n",
      "mIoU(patch): 0.6799427257406329\n",
      "fwIoU: 0.7435501040001312\n",
      "tIoU, sIoU, nIoU: [0.79053174 0.69377433 0.55552211]\n"
     ]
    },
    {
     "name": "stderr",
     "output_type": "stream",
     "text": [
      " 97%|█████████▋| 1400/1437 [45:01<01:11,  1.92s/it]"
     ]
    },
    {
     "name": "stdout",
     "output_type": "stream",
     "text": [
      "1400/1437\n",
      "mIoU(patch): 0.6771723417631957\n",
      "fwIoU: 0.7397652063062353\n",
      "tIoU, sIoU, nIoU: [0.78647448 0.68952043 0.55552211]\n"
     ]
    },
    {
     "name": "stderr",
     "output_type": "stream",
     "text": [
      "100%|██████████| 1437/1437 [46:13<00:00,  1.93s/it]\n"
     ]
    },
    {
     "name": "stdout",
     "output_type": "stream",
     "text": [
      "mIoU(big mask): 0.7125150317118655\n",
      "fwIoU: 0.7682957477173781\n",
      "tIoU, sIoU, nIoU: [0.81086024 0.72161944 0.60506541]\n",
      "epoch=18-validation_miou_mask_epoch=0.7462.ckpt\n",
      "Extension horovod.torch has not been built: /home/fzj/.local/lib/python3.8/site-packages/horovod/torch/mpi_lib_v2.cpython-38-x86_64-linux-gnu.so not found\n",
      "If this is not expected, reinstall Horovod with HOROVOD_WITH_PYTORCH=1 to debug the build error.\n",
      "Warning! MPI libs are missing, but python applications are still available.\n",
      "Find best checkpoint file: logs/wsss4luad3k6_3k6_run1/epoch=18-validation_miou_mask_epoch=0.7462.ckpt\n",
      "Save dir: logs/wsss4luad3k6_3k6_run1/test_tta\n"
     ]
    },
    {
     "name": "stderr",
     "output_type": "stream",
     "text": [
      "  0%|          | 0/1437 [00:00<?, ?it/s]"
     ]
    },
    {
     "name": "stdout",
     "output_type": "stream",
     "text": [
      "0/1437\n",
      "mIoU(patch): 0.0\n",
      "fwIoU: 0.0\n",
      "tIoU, sIoU, nIoU: [0. 0. 0.]\n"
     ]
    },
    {
     "name": "stderr",
     "output_type": "stream",
     "text": [
      "/data114_1/fzj/CODE/TMI24-HisynSeg/TMI23-submit-final/loss.py:34: RuntimeWarning: invalid value encountered in divide\n",
      "  MIoU = np.diag(self.confusion_matrix) / (\n",
      "/data114_1/fzj/CODE/TMI24-HisynSeg/TMI23-submit-final/loss.py:46: RuntimeWarning: invalid value encountered in divide\n",
      "  freq = np.sum(self.confusion_matrix, axis=1) / \\\n",
      "/data114_1/fzj/CODE/TMI24-HisynSeg/TMI23-submit-final/loss.py:48: RuntimeWarning: invalid value encountered in divide\n",
      "  iu = np.diag(self.confusion_matrix) / (\n",
      "  7%|▋         | 100/1437 [03:14<41:58,  1.88s/it]"
     ]
    },
    {
     "name": "stdout",
     "output_type": "stream",
     "text": [
      "100/1437\n",
      "mIoU(patch): 0.66561745809915\n",
      "fwIoU: 0.7648551307262106\n",
      "tIoU, sIoU, nIoU: [0.78372949 0.74948177 0.46364111]\n"
     ]
    },
    {
     "name": "stderr",
     "output_type": "stream",
     "text": [
      " 14%|█▍        | 200/1437 [06:23<38:54,  1.89s/it]"
     ]
    },
    {
     "name": "stdout",
     "output_type": "stream",
     "text": [
      "200/1437\n",
      "mIoU(patch): 0.6570462039181014\n",
      "fwIoU: 0.7398118172106583\n",
      "tIoU, sIoU, nIoU: [0.78813887 0.70377814 0.47922161]\n"
     ]
    },
    {
     "name": "stderr",
     "output_type": "stream",
     "text": [
      " 21%|██        | 300/1437 [09:32<37:31,  1.98s/it]"
     ]
    },
    {
     "name": "stdout",
     "output_type": "stream",
     "text": [
      "300/1437\n",
      "mIoU(patch): 0.6554286443872435\n",
      "fwIoU: 0.7300647694354967\n",
      "tIoU, sIoU, nIoU: [0.78782019 0.68979641 0.48866933]\n"
     ]
    },
    {
     "name": "stderr",
     "output_type": "stream",
     "text": [
      " 28%|██▊       | 400/1437 [12:42<32:27,  1.88s/it]"
     ]
    },
    {
     "name": "stdout",
     "output_type": "stream",
     "text": [
      "400/1437\n",
      "mIoU(patch): 0.6755661885963775\n",
      "fwIoU: 0.7344245673874694\n",
      "tIoU, sIoU, nIoU: [0.7927353  0.69176146 0.5422018 ]\n"
     ]
    },
    {
     "name": "stderr",
     "output_type": "stream",
     "text": [
      " 35%|███▍      | 500/1437 [15:50<29:22,  1.88s/it]"
     ]
    },
    {
     "name": "stdout",
     "output_type": "stream",
     "text": [
      "500/1437\n",
      "mIoU(patch): 0.6897302356060228\n",
      "fwIoU: 0.7373388647335185\n",
      "tIoU, sIoU, nIoU: [0.78517548 0.70218418 0.58183105]\n"
     ]
    },
    {
     "name": "stderr",
     "output_type": "stream",
     "text": [
      " 42%|████▏     | 600/1437 [19:00<26:22,  1.89s/it]"
     ]
    },
    {
     "name": "stdout",
     "output_type": "stream",
     "text": [
      "600/1437\n",
      "mIoU(patch): 0.6792711453767718\n",
      "fwIoU: 0.7241455442497726\n",
      "tIoU, sIoU, nIoU: [0.77866785 0.67116145 0.58798414]\n"
     ]
    },
    {
     "name": "stderr",
     "output_type": "stream",
     "text": [
      " 49%|████▊     | 700/1437 [22:08<23:05,  1.88s/it]"
     ]
    },
    {
     "name": "stdout",
     "output_type": "stream",
     "text": [
      "700/1437\n",
      "mIoU(patch): 0.6565841042039554\n",
      "fwIoU: 0.7157985630409276\n",
      "tIoU, sIoU, nIoU: [0.77468485 0.65601477 0.53905269]\n"
     ]
    },
    {
     "name": "stderr",
     "output_type": "stream",
     "text": [
      " 56%|█████▌    | 800/1437 [25:17<20:08,  1.90s/it]"
     ]
    },
    {
     "name": "stdout",
     "output_type": "stream",
     "text": [
      "800/1437\n",
      "mIoU(patch): 0.6579482906243496\n",
      "fwIoU: 0.7204537837068575\n",
      "tIoU, sIoU, nIoU: [0.77854111 0.6597268  0.53557696]\n"
     ]
    },
    {
     "name": "stderr",
     "output_type": "stream",
     "text": [
      " 63%|██████▎   | 900/1437 [28:26<16:51,  1.88s/it]"
     ]
    },
    {
     "name": "stdout",
     "output_type": "stream",
     "text": [
      "900/1437\n",
      "mIoU(patch): 0.6580269344027269\n",
      "fwIoU: 0.7239632134221288\n",
      "tIoU, sIoU, nIoU: [0.78187884 0.66166231 0.53053965]\n"
     ]
    },
    {
     "name": "stderr",
     "output_type": "stream",
     "text": [
      " 70%|██████▉   | 1000/1437 [31:34<13:45,  1.89s/it]"
     ]
    },
    {
     "name": "stdout",
     "output_type": "stream",
     "text": [
      "1000/1437\n",
      "mIoU(patch): 0.6584141573989978\n",
      "fwIoU: 0.7288283699265892\n",
      "tIoU, sIoU, nIoU: [0.78784561 0.66083043 0.52656644]\n"
     ]
    },
    {
     "name": "stderr",
     "output_type": "stream",
     "text": [
      " 77%|███████▋  | 1100/1437 [34:43<10:35,  1.89s/it]"
     ]
    },
    {
     "name": "stdout",
     "output_type": "stream",
     "text": [
      "1100/1437\n",
      "mIoU(patch): 0.6655066750516196\n",
      "fwIoU: 0.7355517452844076\n",
      "tIoU, sIoU, nIoU: [0.78634144 0.68370593 0.52647265]\n"
     ]
    },
    {
     "name": "stderr",
     "output_type": "stream",
     "text": [
      " 84%|████████▎ | 1200/1437 [37:53<07:37,  1.93s/it]"
     ]
    },
    {
     "name": "stdout",
     "output_type": "stream",
     "text": [
      "1200/1437\n",
      "mIoU(patch): 0.6684780324964218\n",
      "fwIoU: 0.739644048901247\n",
      "tIoU, sIoU, nIoU: [0.78702136 0.69194009 0.52647265]\n"
     ]
    },
    {
     "name": "stderr",
     "output_type": "stream",
     "text": [
      " 90%|█████████ | 1300/1437 [41:06<04:20,  1.90s/it]"
     ]
    },
    {
     "name": "stdout",
     "output_type": "stream",
     "text": [
      "1300/1437\n",
      "mIoU(patch): 0.6704689729366958\n",
      "fwIoU: 0.7420137563537538\n",
      "tIoU, sIoU, nIoU: [0.78552392 0.69941035 0.52647265]\n"
     ]
    },
    {
     "name": "stderr",
     "output_type": "stream",
     "text": [
      " 97%|█████████▋| 1400/1437 [44:16<01:11,  1.93s/it]"
     ]
    },
    {
     "name": "stdout",
     "output_type": "stream",
     "text": [
      "1400/1437\n",
      "mIoU(patch): 0.6703070555898935\n",
      "fwIoU: 0.7419631077582032\n",
      "tIoU, sIoU, nIoU: [0.78421781 0.70023071 0.52647265]\n"
     ]
    },
    {
     "name": "stderr",
     "output_type": "stream",
     "text": [
      "100%|██████████| 1437/1437 [45:27<00:00,  1.90s/it]\n"
     ]
    },
    {
     "name": "stdout",
     "output_type": "stream",
     "text": [
      "mIoU(big mask): 0.7172220273955862\n",
      "fwIoU: 0.776933023782149\n",
      "tIoU, sIoU, nIoU: [0.81520561 0.73720783 0.59925265]\n",
      "epoch=19-validation_miou_mask_epoch=0.7609.ckpt\n",
      "Extension horovod.torch has not been built: /home/fzj/.local/lib/python3.8/site-packages/horovod/torch/mpi_lib_v2.cpython-38-x86_64-linux-gnu.so not found\n",
      "If this is not expected, reinstall Horovod with HOROVOD_WITH_PYTORCH=1 to debug the build error.\n",
      "Warning! MPI libs are missing, but python applications are still available.\n",
      "Find best checkpoint file: logs/wsss4luad3k6_3k6_run1/epoch=19-validation_miou_mask_epoch=0.7609.ckpt\n",
      "Save dir: logs/wsss4luad3k6_3k6_run1/test_tta\n"
     ]
    },
    {
     "name": "stderr",
     "output_type": "stream",
     "text": [
      "  0%|          | 0/1437 [00:00<?, ?it/s]"
     ]
    },
    {
     "name": "stdout",
     "output_type": "stream",
     "text": [
      "0/1437\n",
      "mIoU(patch): 0.0\n",
      "fwIoU: 0.0\n",
      "tIoU, sIoU, nIoU: [0. 0. 0.]\n"
     ]
    },
    {
     "name": "stderr",
     "output_type": "stream",
     "text": [
      "/data114_1/fzj/CODE/TMI24-HisynSeg/TMI23-submit-final/loss.py:34: RuntimeWarning: invalid value encountered in divide\n",
      "  MIoU = np.diag(self.confusion_matrix) / (\n",
      "/data114_1/fzj/CODE/TMI24-HisynSeg/TMI23-submit-final/loss.py:46: RuntimeWarning: invalid value encountered in divide\n",
      "  freq = np.sum(self.confusion_matrix, axis=1) / \\\n",
      "/data114_1/fzj/CODE/TMI24-HisynSeg/TMI23-submit-final/loss.py:48: RuntimeWarning: invalid value encountered in divide\n",
      "  iu = np.diag(self.confusion_matrix) / (\n",
      "  7%|▋         | 100/1437 [03:16<43:02,  1.93s/it]"
     ]
    },
    {
     "name": "stdout",
     "output_type": "stream",
     "text": [
      "100/1437\n",
      "mIoU(patch): 0.6877516814999763\n",
      "fwIoU: 0.766854748305376\n",
      "tIoU, sIoU, nIoU: [0.78807754 0.74809008 0.52708742]\n"
     ]
    },
    {
     "name": "stderr",
     "output_type": "stream",
     "text": [
      " 14%|█▍        | 200/1437 [06:28<39:37,  1.92s/it]"
     ]
    },
    {
     "name": "stdout",
     "output_type": "stream",
     "text": [
      "200/1437\n",
      "mIoU(patch): 0.6770636676739912\n",
      "fwIoU: 0.7478727216329818\n",
      "tIoU, sIoU, nIoU: [0.79519867 0.70882106 0.52717127]\n"
     ]
    },
    {
     "name": "stderr",
     "output_type": "stream",
     "text": [
      " 21%|██        | 300/1437 [09:41<36:42,  1.94s/it]"
     ]
    },
    {
     "name": "stdout",
     "output_type": "stream",
     "text": [
      "300/1437\n",
      "mIoU(patch): 0.6696248761615043\n",
      "fwIoU: 0.7360357721964415\n",
      "tIoU, sIoU, nIoU: [0.79223367 0.69304468 0.52359627]\n"
     ]
    },
    {
     "name": "stderr",
     "output_type": "stream",
     "text": [
      " 28%|██▊       | 400/1437 [12:53<33:06,  1.92s/it]"
     ]
    },
    {
     "name": "stdout",
     "output_type": "stream",
     "text": [
      "400/1437\n",
      "mIoU(patch): 0.6792802042571514\n",
      "fwIoU: 0.7348617420064175\n",
      "tIoU, sIoU, nIoU: [0.79335031 0.68922816 0.55526214]\n"
     ]
    },
    {
     "name": "stderr",
     "output_type": "stream",
     "text": [
      " 35%|███▍      | 500/1437 [16:06<30:33,  1.96s/it]"
     ]
    },
    {
     "name": "stdout",
     "output_type": "stream",
     "text": [
      "500/1437\n",
      "mIoU(patch): 0.6924204778237243\n",
      "fwIoU: 0.7358821174465907\n",
      "tIoU, sIoU, nIoU: [0.78427494 0.69692745 0.59605904]\n"
     ]
    },
    {
     "name": "stderr",
     "output_type": "stream",
     "text": [
      " 42%|████▏     | 600/1437 [19:18<26:45,  1.92s/it]"
     ]
    },
    {
     "name": "stdout",
     "output_type": "stream",
     "text": [
      "600/1437\n",
      "mIoU(patch): 0.6862495105302777\n",
      "fwIoU: 0.7262183726811257\n",
      "tIoU, sIoU, nIoU: [0.78063854 0.66984265 0.60826735]\n"
     ]
    },
    {
     "name": "stderr",
     "output_type": "stream",
     "text": [
      " 49%|████▊     | 700/1437 [22:31<23:35,  1.92s/it]"
     ]
    },
    {
     "name": "stdout",
     "output_type": "stream",
     "text": [
      "700/1437\n",
      "mIoU(patch): 0.6824979598062463\n",
      "fwIoU: 0.7270811727208761\n",
      "tIoU, sIoU, nIoU: [0.78323102 0.66282076 0.6014421 ]\n"
     ]
    },
    {
     "name": "stderr",
     "output_type": "stream",
     "text": [
      " 56%|█████▌    | 800/1437 [25:47<20:27,  1.93s/it]"
     ]
    },
    {
     "name": "stdout",
     "output_type": "stream",
     "text": [
      "800/1437\n",
      "mIoU(patch): 0.6836162104553166\n",
      "fwIoU: 0.7305489343222347\n",
      "tIoU, sIoU, nIoU: [0.78629699 0.66528278 0.59926886]\n"
     ]
    },
    {
     "name": "stderr",
     "output_type": "stream",
     "text": [
      " 63%|██████▎   | 900/1437 [29:02<17:45,  1.98s/it]"
     ]
    },
    {
     "name": "stdout",
     "output_type": "stream",
     "text": [
      "900/1437\n",
      "mIoU(patch): 0.6835224131317738\n",
      "fwIoU: 0.7327362341901348\n",
      "tIoU, sIoU, nIoU: [0.78859445 0.66579377 0.59617902]\n"
     ]
    },
    {
     "name": "stderr",
     "output_type": "stream",
     "text": [
      " 70%|██████▉   | 1000/1437 [32:18<14:03,  1.93s/it]"
     ]
    },
    {
     "name": "stdout",
     "output_type": "stream",
     "text": [
      "1000/1437\n",
      "mIoU(patch): 0.6838566007306346\n",
      "fwIoU: 0.7367254382094757\n",
      "tIoU, sIoU, nIoU: [0.79408199 0.66387802 0.59360979]\n"
     ]
    },
    {
     "name": "stderr",
     "output_type": "stream",
     "text": [
      " 77%|███████▋  | 1100/1437 [35:32<10:54,  1.94s/it]"
     ]
    },
    {
     "name": "stdout",
     "output_type": "stream",
     "text": [
      "1100/1437\n",
      "mIoU(patch): 0.687998679363964\n",
      "fwIoU: 0.7390916847993114\n",
      "tIoU, sIoU, nIoU: [0.78975855 0.6806277  0.59360979]\n"
     ]
    },
    {
     "name": "stderr",
     "output_type": "stream",
     "text": [
      " 84%|████████▎ | 1200/1437 [38:50<07:46,  1.97s/it]"
     ]
    },
    {
     "name": "stdout",
     "output_type": "stream",
     "text": [
      "1200/1437\n",
      "mIoU(patch): 0.6895323409358252\n",
      "fwIoU: 0.7409446823142808\n",
      "tIoU, sIoU, nIoU: [0.78911626 0.68587098 0.59360979]\n"
     ]
    },
    {
     "name": "stderr",
     "output_type": "stream",
     "text": [
      " 90%|█████████ | 1300/1437 [42:04<04:24,  1.93s/it]"
     ]
    },
    {
     "name": "stdout",
     "output_type": "stream",
     "text": [
      "1300/1437\n",
      "mIoU(patch): 0.691321394220099\n",
      "fwIoU: 0.7427862732752284\n",
      "tIoU, sIoU, nIoU: [0.787616   0.69273839 0.59360979]\n"
     ]
    },
    {
     "name": "stderr",
     "output_type": "stream",
     "text": [
      " 97%|█████████▋| 1400/1437 [45:21<01:13,  1.98s/it]"
     ]
    },
    {
     "name": "stdout",
     "output_type": "stream",
     "text": [
      "1400/1437\n",
      "mIoU(patch): 0.6910848228375075\n",
      "fwIoU: 0.7423258948224658\n",
      "tIoU, sIoU, nIoU: [0.7857506  0.69389408 0.59360979]\n"
     ]
    },
    {
     "name": "stderr",
     "output_type": "stream",
     "text": [
      "100%|██████████| 1437/1437 [46:33<00:00,  1.94s/it]\n"
     ]
    },
    {
     "name": "stdout",
     "output_type": "stream",
     "text": [
      "mIoU(big mask): 0.7298385022200412\n",
      "fwIoU: 0.7752204163738863\n",
      "tIoU, sIoU, nIoU: [0.81386019 0.73161336 0.64404195]\n",
      "epoch=20-validation_miou_mask_epoch=0.7508.ckpt\n",
      "Extension horovod.torch has not been built: /home/fzj/.local/lib/python3.8/site-packages/horovod/torch/mpi_lib_v2.cpython-38-x86_64-linux-gnu.so not found\n",
      "If this is not expected, reinstall Horovod with HOROVOD_WITH_PYTORCH=1 to debug the build error.\n",
      "Warning! MPI libs are missing, but python applications are still available.\n",
      "Find best checkpoint file: logs/wsss4luad3k6_3k6_run1/epoch=20-validation_miou_mask_epoch=0.7508.ckpt\n",
      "Save dir: logs/wsss4luad3k6_3k6_run1/test_tta\n"
     ]
    },
    {
     "name": "stderr",
     "output_type": "stream",
     "text": [
      "  0%|          | 0/1437 [00:00<?, ?it/s]"
     ]
    },
    {
     "name": "stdout",
     "output_type": "stream",
     "text": [
      "0/1437\n",
      "mIoU(patch): 0.0\n",
      "fwIoU: 0.0\n",
      "tIoU, sIoU, nIoU: [0. 0. 0.]\n"
     ]
    },
    {
     "name": "stderr",
     "output_type": "stream",
     "text": [
      "/data114_1/fzj/CODE/TMI24-HisynSeg/TMI23-submit-final/loss.py:34: RuntimeWarning: invalid value encountered in divide\n",
      "  MIoU = np.diag(self.confusion_matrix) / (\n",
      "/data114_1/fzj/CODE/TMI24-HisynSeg/TMI23-submit-final/loss.py:46: RuntimeWarning: invalid value encountered in divide\n",
      "  freq = np.sum(self.confusion_matrix, axis=1) / \\\n",
      "/data114_1/fzj/CODE/TMI24-HisynSeg/TMI23-submit-final/loss.py:48: RuntimeWarning: invalid value encountered in divide\n",
      "  iu = np.diag(self.confusion_matrix) / (\n",
      "  7%|▋         | 100/1437 [03:17<43:03,  1.93s/it]"
     ]
    },
    {
     "name": "stdout",
     "output_type": "stream",
     "text": [
      "100/1437\n",
      "mIoU(patch): 0.6758520886074931\n",
      "fwIoU: 0.7528640170082123\n",
      "tIoU, sIoU, nIoU: [0.7793169  0.72849256 0.51974681]\n"
     ]
    },
    {
     "name": "stderr",
     "output_type": "stream",
     "text": [
      " 14%|█▍        | 200/1437 [06:30<39:26,  1.91s/it]"
     ]
    },
    {
     "name": "stdout",
     "output_type": "stream",
     "text": [
      "200/1437\n",
      "mIoU(patch): 0.6812086864395495\n",
      "fwIoU: 0.7350753231325562\n",
      "tIoU, sIoU, nIoU: [0.78822807 0.6817842  0.57361379]\n"
     ]
    },
    {
     "name": "stderr",
     "output_type": "stream",
     "text": [
      " 21%|██        | 300/1437 [09:44<36:56,  1.95s/it]"
     ]
    },
    {
     "name": "stdout",
     "output_type": "stream",
     "text": [
      "300/1437\n",
      "mIoU(patch): 0.6747169015712587\n",
      "fwIoU: 0.7249327566155976\n",
      "tIoU, sIoU, nIoU: [0.78672484 0.66368062 0.57374525]\n"
     ]
    },
    {
     "name": "stderr",
     "output_type": "stream",
     "text": [
      " 28%|██▊       | 400/1437 [12:57<33:09,  1.92s/it]"
     ]
    },
    {
     "name": "stdout",
     "output_type": "stream",
     "text": [
      "400/1437\n",
      "mIoU(patch): 0.6847541454914641\n",
      "fwIoU: 0.7268659276539324\n",
      "tIoU, sIoU, nIoU: [0.79021812 0.66257025 0.60147407]\n"
     ]
    },
    {
     "name": "stderr",
     "output_type": "stream",
     "text": [
      " 35%|███▍      | 500/1437 [16:11<30:28,  1.95s/it]"
     ]
    },
    {
     "name": "stdout",
     "output_type": "stream",
     "text": [
      "500/1437\n",
      "mIoU(patch): 0.6980663692535288\n",
      "fwIoU: 0.7322005251586319\n",
      "tIoU, sIoU, nIoU: [0.78574694 0.67902884 0.62942333]\n"
     ]
    },
    {
     "name": "stderr",
     "output_type": "stream",
     "text": [
      " 42%|████▏     | 600/1437 [19:24<26:44,  1.92s/it]"
     ]
    },
    {
     "name": "stdout",
     "output_type": "stream",
     "text": [
      "600/1437\n",
      "mIoU(patch): 0.6875984927859912\n",
      "fwIoU: 0.719738127070318\n",
      "tIoU, sIoU, nIoU: [0.78064701 0.64752148 0.63462699]\n"
     ]
    },
    {
     "name": "stderr",
     "output_type": "stream",
     "text": [
      " 49%|████▊     | 700/1437 [22:37<23:46,  1.94s/it]"
     ]
    },
    {
     "name": "stdout",
     "output_type": "stream",
     "text": [
      "700/1437\n",
      "mIoU(patch): 0.6802873741135432\n",
      "fwIoU: 0.718612114648205\n",
      "tIoU, sIoU, nIoU: [0.78208773 0.63859352 0.62018087]\n"
     ]
    },
    {
     "name": "stderr",
     "output_type": "stream",
     "text": [
      " 56%|█████▌    | 800/1437 [25:51<20:33,  1.94s/it]"
     ]
    },
    {
     "name": "stdout",
     "output_type": "stream",
     "text": [
      "800/1437\n",
      "mIoU(patch): 0.6801605272651314\n",
      "fwIoU: 0.7210373086219943\n",
      "tIoU, sIoU, nIoU: [0.78449467 0.64003338 0.61595353]\n"
     ]
    },
    {
     "name": "stderr",
     "output_type": "stream",
     "text": [
      " 63%|██████▎   | 900/1437 [29:04<17:38,  1.97s/it]"
     ]
    },
    {
     "name": "stdout",
     "output_type": "stream",
     "text": [
      "900/1437\n",
      "mIoU(patch): 0.6784936882199544\n",
      "fwIoU: 0.7219224490247748\n",
      "tIoU, sIoU, nIoU: [0.78599393 0.63892986 0.61055728]\n"
     ]
    },
    {
     "name": "stderr",
     "output_type": "stream",
     "text": [
      " 70%|██████▉   | 1000/1437 [32:22<14:13,  1.95s/it]"
     ]
    },
    {
     "name": "stdout",
     "output_type": "stream",
     "text": [
      "1000/1437\n",
      "mIoU(patch): 0.6784048254837393\n",
      "fwIoU: 0.7256410521294541\n",
      "tIoU, sIoU, nIoU: [0.79127072 0.63652507 0.60741868]\n"
     ]
    },
    {
     "name": "stderr",
     "output_type": "stream",
     "text": [
      " 77%|███████▋  | 1100/1437 [35:36<10:59,  1.96s/it]"
     ]
    },
    {
     "name": "stdout",
     "output_type": "stream",
     "text": [
      "1100/1437\n",
      "mIoU(patch): 0.6835458227150717\n",
      "fwIoU: 0.7286841099456963\n",
      "tIoU, sIoU, nIoU: [0.78741214 0.65586195 0.60736338]\n"
     ]
    },
    {
     "name": "stderr",
     "output_type": "stream",
     "text": [
      " 84%|████████▎ | 1200/1437 [38:54<07:45,  1.96s/it]"
     ]
    },
    {
     "name": "stdout",
     "output_type": "stream",
     "text": [
      "1200/1437\n",
      "mIoU(patch): 0.6858971692088729\n",
      "fwIoU: 0.7314414464624254\n",
      "tIoU, sIoU, nIoU: [0.78758753 0.6627406  0.60736338]\n"
     ]
    },
    {
     "name": "stderr",
     "output_type": "stream",
     "text": [
      " 90%|█████████ | 1300/1437 [42:10<04:24,  1.93s/it]"
     ]
    },
    {
     "name": "stdout",
     "output_type": "stream",
     "text": [
      "1300/1437\n",
      "mIoU(patch): 0.6880507691333921\n",
      "fwIoU: 0.7335676853349457\n",
      "tIoU, sIoU, nIoU: [0.78642701 0.67036191 0.60736338]\n"
     ]
    },
    {
     "name": "stderr",
     "output_type": "stream",
     "text": [
      " 97%|█████████▋| 1400/1437 [45:28<01:12,  1.95s/it]"
     ]
    },
    {
     "name": "stdout",
     "output_type": "stream",
     "text": [
      "1400/1437\n",
      "mIoU(patch): 0.6840889505223573\n",
      "fwIoU: 0.727830652356873\n",
      "tIoU, sIoU, nIoU: [0.78081592 0.66408754 0.60736338]\n"
     ]
    },
    {
     "name": "stderr",
     "output_type": "stream",
     "text": [
      "100%|██████████| 1437/1437 [46:40<00:00,  1.95s/it]\n"
     ]
    },
    {
     "name": "stdout",
     "output_type": "stream",
     "text": [
      "mIoU(big mask): 0.7243982142365676\n",
      "fwIoU: 0.756575855965865\n",
      "tIoU, sIoU, nIoU: [0.80476003 0.69646216 0.67197245]\n",
      "epoch=21-validation_miou_mask_epoch=0.7330.ckpt\n",
      "Extension horovod.torch has not been built: /home/fzj/.local/lib/python3.8/site-packages/horovod/torch/mpi_lib_v2.cpython-38-x86_64-linux-gnu.so not found\n",
      "If this is not expected, reinstall Horovod with HOROVOD_WITH_PYTORCH=1 to debug the build error.\n",
      "Warning! MPI libs are missing, but python applications are still available.\n",
      "Find best checkpoint file: logs/wsss4luad3k6_3k6_run1/epoch=21-validation_miou_mask_epoch=0.7330.ckpt\n",
      "Save dir: logs/wsss4luad3k6_3k6_run1/test_tta\n"
     ]
    },
    {
     "name": "stderr",
     "output_type": "stream",
     "text": [
      "  0%|          | 0/1437 [00:00<?, ?it/s]"
     ]
    },
    {
     "name": "stdout",
     "output_type": "stream",
     "text": [
      "0/1437\n",
      "mIoU(patch): 0.0\n",
      "fwIoU: 0.0\n",
      "tIoU, sIoU, nIoU: [0. 0. 0.]\n"
     ]
    },
    {
     "name": "stderr",
     "output_type": "stream",
     "text": [
      "/data114_1/fzj/CODE/TMI24-HisynSeg/TMI23-submit-final/loss.py:34: RuntimeWarning: invalid value encountered in divide\n",
      "  MIoU = np.diag(self.confusion_matrix) / (\n",
      "/data114_1/fzj/CODE/TMI24-HisynSeg/TMI23-submit-final/loss.py:46: RuntimeWarning: invalid value encountered in divide\n",
      "  freq = np.sum(self.confusion_matrix, axis=1) / \\\n",
      "/data114_1/fzj/CODE/TMI24-HisynSeg/TMI23-submit-final/loss.py:48: RuntimeWarning: invalid value encountered in divide\n",
      "  iu = np.diag(self.confusion_matrix) / (\n",
      "  7%|▋         | 100/1437 [03:17<43:01,  1.93s/it]"
     ]
    },
    {
     "name": "stdout",
     "output_type": "stream",
     "text": [
      "100/1437\n",
      "mIoU(patch): 0.6867558409323263\n",
      "fwIoU: 0.7691993658477176\n",
      "tIoU, sIoU, nIoU: [0.78913708 0.751941   0.51918944]\n"
     ]
    },
    {
     "name": "stderr",
     "output_type": "stream",
     "text": [
      " 14%|█▍        | 200/1437 [06:30<39:33,  1.92s/it]"
     ]
    },
    {
     "name": "stdout",
     "output_type": "stream",
     "text": [
      "200/1437\n",
      "mIoU(patch): 0.6892882190202263\n",
      "fwIoU: 0.7547987134386016\n",
      "tIoU, sIoU, nIoU: [0.79966054 0.71718797 0.55101615]\n"
     ]
    },
    {
     "name": "stderr",
     "output_type": "stream",
     "text": [
      " 21%|██        | 300/1437 [09:44<37:45,  1.99s/it]"
     ]
    },
    {
     "name": "stdout",
     "output_type": "stream",
     "text": [
      "300/1437\n",
      "mIoU(patch): 0.6835263526765596\n",
      "fwIoU: 0.7459343662692706\n",
      "tIoU, sIoU, nIoU: [0.79933246 0.70465948 0.54658711]\n"
     ]
    },
    {
     "name": "stderr",
     "output_type": "stream",
     "text": [
      " 28%|██▊       | 400/1437 [12:57<33:26,  1.93s/it]"
     ]
    },
    {
     "name": "stdout",
     "output_type": "stream",
     "text": [
      "400/1437\n",
      "mIoU(patch): 0.6974512427530991\n",
      "fwIoU: 0.7488940255007576\n",
      "tIoU, sIoU, nIoU: [0.80445674 0.70442698 0.58347001]\n"
     ]
    },
    {
     "name": "stderr",
     "output_type": "stream",
     "text": [
      " 35%|███▍      | 500/1437 [16:11<30:09,  1.93s/it]"
     ]
    },
    {
     "name": "stdout",
     "output_type": "stream",
     "text": [
      "500/1437\n",
      "mIoU(patch): 0.7076370258469469\n",
      "fwIoU: 0.7479959264287522\n",
      "tIoU, sIoU, nIoU: [0.79369515 0.71071633 0.6184996 ]\n"
     ]
    },
    {
     "name": "stderr",
     "output_type": "stream",
     "text": [
      " 42%|████▏     | 600/1437 [19:25<26:59,  1.94s/it]"
     ]
    },
    {
     "name": "stdout",
     "output_type": "stream",
     "text": [
      "600/1437\n",
      "mIoU(patch): 0.6983477877219414\n",
      "fwIoU: 0.7368880841516847\n",
      "tIoU, sIoU, nIoU: [0.78906808 0.68298995 0.62298534]\n"
     ]
    },
    {
     "name": "stderr",
     "output_type": "stream",
     "text": [
      " 49%|████▊     | 700/1437 [22:38<23:35,  1.92s/it]"
     ]
    },
    {
     "name": "stdout",
     "output_type": "stream",
     "text": [
      "700/1437\n",
      "mIoU(patch): 0.6869604901913413\n",
      "fwIoU: 0.7363077578136644\n",
      "tIoU, sIoU, nIoU: [0.79199271 0.6757142  0.59317457]\n"
     ]
    },
    {
     "name": "stderr",
     "output_type": "stream",
     "text": [
      " 56%|█████▌    | 800/1437 [25:52<20:52,  1.97s/it]"
     ]
    },
    {
     "name": "stdout",
     "output_type": "stream",
     "text": [
      "800/1437\n",
      "mIoU(patch): 0.6876054156284809\n",
      "fwIoU: 0.7391289763285662\n",
      "tIoU, sIoU, nIoU: [0.79421333 0.67739489 0.59120803]\n"
     ]
    },
    {
     "name": "stderr",
     "output_type": "stream",
     "text": [
      " 63%|██████▎   | 900/1437 [29:06<17:15,  1.93s/it]"
     ]
    },
    {
     "name": "stdout",
     "output_type": "stream",
     "text": [
      "900/1437\n",
      "mIoU(patch): 0.6872635249623453\n",
      "fwIoU: 0.741055483213962\n",
      "tIoU, sIoU, nIoU: [0.79602406 0.67773515 0.58803137]\n"
     ]
    },
    {
     "name": "stderr",
     "output_type": "stream",
     "text": [
      " 70%|██████▉   | 1000/1437 [32:22<14:19,  1.97s/it]"
     ]
    },
    {
     "name": "stdout",
     "output_type": "stream",
     "text": [
      "1000/1437\n",
      "mIoU(patch): 0.6871834011829501\n",
      "fwIoU: 0.7444146633217895\n",
      "tIoU, sIoU, nIoU: [0.80065623 0.6753255  0.58556847]\n"
     ]
    },
    {
     "name": "stderr",
     "output_type": "stream",
     "text": [
      " 77%|███████▋  | 1100/1437 [35:39<10:53,  1.94s/it]"
     ]
    },
    {
     "name": "stdout",
     "output_type": "stream",
     "text": [
      "1100/1437\n",
      "mIoU(patch): 0.6885129547376673\n",
      "fwIoU: 0.7432105419676205\n",
      "tIoU, sIoU, nIoU: [0.79377609 0.68619431 0.58556847]\n"
     ]
    },
    {
     "name": "stderr",
     "output_type": "stream",
     "text": [
      " 84%|████████▎ | 1200/1437 [38:56<07:51,  1.99s/it]"
     ]
    },
    {
     "name": "stdout",
     "output_type": "stream",
     "text": [
      "1200/1437\n",
      "mIoU(patch): 0.6882104604592615\n",
      "fwIoU: 0.742663456008202\n",
      "tIoU, sIoU, nIoU: [0.79149519 0.68756773 0.58556847]\n"
     ]
    },
    {
     "name": "stderr",
     "output_type": "stream",
     "text": [
      " 90%|█████████ | 1300/1437 [42:14<04:30,  1.98s/it]"
     ]
    },
    {
     "name": "stdout",
     "output_type": "stream",
     "text": [
      "1300/1437\n",
      "mIoU(patch): 0.6895286892139181\n",
      "fwIoU: 0.7438689568720606\n",
      "tIoU, sIoU, nIoU: [0.78938385 0.69363374 0.58556847]\n"
     ]
    },
    {
     "name": "stderr",
     "output_type": "stream",
     "text": [
      " 97%|█████████▋| 1400/1437 [45:30<01:13,  1.98s/it]"
     ]
    },
    {
     "name": "stdout",
     "output_type": "stream",
     "text": [
      "1400/1437\n",
      "mIoU(patch): 0.689990300019526\n",
      "fwIoU: 0.7443989112784558\n",
      "tIoU, sIoU, nIoU: [0.78824649 0.69615594 0.58556847]\n"
     ]
    },
    {
     "name": "stderr",
     "output_type": "stream",
     "text": [
      "100%|██████████| 1437/1437 [46:43<00:00,  1.95s/it]\n"
     ]
    },
    {
     "name": "stdout",
     "output_type": "stream",
     "text": [
      "mIoU(big mask): 0.736544371474808\n",
      "fwIoU: 0.777553101426407\n",
      "tIoU, sIoU, nIoU: [0.81663968 0.73229119 0.66070224]\n",
      "epoch=22-validation_miou_mask_epoch=0.7195.ckpt\n",
      "Extension horovod.torch has not been built: /home/fzj/.local/lib/python3.8/site-packages/horovod/torch/mpi_lib_v2.cpython-38-x86_64-linux-gnu.so not found\n",
      "If this is not expected, reinstall Horovod with HOROVOD_WITH_PYTORCH=1 to debug the build error.\n",
      "Warning! MPI libs are missing, but python applications are still available.\n",
      "Find best checkpoint file: logs/wsss4luad3k6_3k6_run1/epoch=22-validation_miou_mask_epoch=0.7195.ckpt\n",
      "Save dir: logs/wsss4luad3k6_3k6_run1/test_tta\n"
     ]
    },
    {
     "name": "stderr",
     "output_type": "stream",
     "text": [
      "  0%|          | 0/1437 [00:00<?, ?it/s]"
     ]
    },
    {
     "name": "stdout",
     "output_type": "stream",
     "text": [
      "0/1437\n",
      "mIoU(patch): 0.0\n",
      "fwIoU: 0.0\n",
      "tIoU, sIoU, nIoU: [0. 0. 0.]\n"
     ]
    },
    {
     "name": "stderr",
     "output_type": "stream",
     "text": [
      "/data114_1/fzj/CODE/TMI24-HisynSeg/TMI23-submit-final/loss.py:34: RuntimeWarning: invalid value encountered in divide\n",
      "  MIoU = np.diag(self.confusion_matrix) / (\n",
      "/data114_1/fzj/CODE/TMI24-HisynSeg/TMI23-submit-final/loss.py:46: RuntimeWarning: invalid value encountered in divide\n",
      "  freq = np.sum(self.confusion_matrix, axis=1) / \\\n",
      "/data114_1/fzj/CODE/TMI24-HisynSeg/TMI23-submit-final/loss.py:48: RuntimeWarning: invalid value encountered in divide\n",
      "  iu = np.diag(self.confusion_matrix) / (\n",
      "  7%|▋         | 100/1437 [03:18<43:10,  1.94s/it]"
     ]
    },
    {
     "name": "stdout",
     "output_type": "stream",
     "text": [
      "100/1437\n",
      "mIoU(patch): 0.7195302344774969\n",
      "fwIoU: 0.7685376724548492\n",
      "tIoU, sIoU, nIoU: [0.78716362 0.75113978 0.6202873 ]\n"
     ]
    },
    {
     "name": "stderr",
     "output_type": "stream",
     "text": [
      " 14%|█▍        | 200/1437 [06:32<39:42,  1.93s/it]"
     ]
    },
    {
     "name": "stdout",
     "output_type": "stream",
     "text": [
      "200/1437\n",
      "mIoU(patch): 0.6286777509404872\n",
      "fwIoU: 0.7315260532275261\n",
      "tIoU, sIoU, nIoU: [0.78548689 0.69512674 0.40541962]\n"
     ]
    },
    {
     "name": "stderr",
     "output_type": "stream",
     "text": [
      " 21%|██        | 300/1437 [09:45<36:47,  1.94s/it]"
     ]
    },
    {
     "name": "stdout",
     "output_type": "stream",
     "text": [
      "300/1437\n",
      "mIoU(patch): 0.6158745555261945\n",
      "fwIoU: 0.7139020619141493\n",
      "tIoU, sIoU, nIoU: [0.78140305 0.6734584  0.39276222]\n"
     ]
    },
    {
     "name": "stderr",
     "output_type": "stream",
     "text": [
      " 28%|██▊       | 400/1437 [13:00<33:15,  1.92s/it]"
     ]
    },
    {
     "name": "stdout",
     "output_type": "stream",
     "text": [
      "400/1437\n",
      "mIoU(patch): 0.629501576047022\n",
      "fwIoU: 0.7125324414435993\n",
      "tIoU, sIoU, nIoU: [0.78458834 0.6682756  0.43564078]\n"
     ]
    },
    {
     "name": "stderr",
     "output_type": "stream",
     "text": [
      " 35%|███▍      | 500/1437 [16:13<30:08,  1.93s/it]"
     ]
    },
    {
     "name": "stdout",
     "output_type": "stream",
     "text": [
      "500/1437\n",
      "mIoU(patch): 0.6490107299024968\n",
      "fwIoU: 0.7181358570828191\n",
      "tIoU, sIoU, nIoU: [0.77745787 0.68181712 0.4877572 ]\n"
     ]
    },
    {
     "name": "stderr",
     "output_type": "stream",
     "text": [
      " 42%|████▏     | 600/1437 [19:27<26:44,  1.92s/it]"
     ]
    },
    {
     "name": "stdout",
     "output_type": "stream",
     "text": [
      "600/1437\n",
      "mIoU(patch): 0.6446952788197594\n",
      "fwIoU: 0.7114621748766099\n",
      "tIoU, sIoU, nIoU: [0.77617435 0.65835424 0.49955725]\n"
     ]
    },
    {
     "name": "stderr",
     "output_type": "stream",
     "text": [
      " 49%|████▊     | 700/1437 [22:40<23:48,  1.94s/it]"
     ]
    },
    {
     "name": "stdout",
     "output_type": "stream",
     "text": [
      "700/1437\n",
      "mIoU(patch): 0.6432498910640099\n",
      "fwIoU: 0.716182910239542\n",
      "tIoU, sIoU, nIoU: [0.78133808 0.65456284 0.49384876]\n"
     ]
    },
    {
     "name": "stderr",
     "output_type": "stream",
     "text": [
      " 56%|█████▌    | 800/1437 [25:54<20:58,  1.97s/it]"
     ]
    },
    {
     "name": "stdout",
     "output_type": "stream",
     "text": [
      "800/1437\n",
      "mIoU(patch): 0.6454862080179488\n",
      "fwIoU: 0.721168086329169\n",
      "tIoU, sIoU, nIoU: [0.7843988  0.65915236 0.49290746]\n"
     ]
    },
    {
     "name": "stderr",
     "output_type": "stream",
     "text": [
      " 63%|██████▎   | 900/1437 [29:09<17:05,  1.91s/it]"
     ]
    },
    {
     "name": "stdout",
     "output_type": "stream",
     "text": [
      "900/1437\n",
      "mIoU(patch): 0.6464366569450485\n",
      "fwIoU: 0.7248556582760679\n",
      "tIoU, sIoU, nIoU: [0.78709021 0.66151523 0.49070452]\n"
     ]
    },
    {
     "name": "stderr",
     "output_type": "stream",
     "text": [
      " 70%|██████▉   | 1000/1437 [32:26<14:24,  1.98s/it]"
     ]
    },
    {
     "name": "stdout",
     "output_type": "stream",
     "text": [
      "1000/1437\n",
      "mIoU(patch): 0.6471994690066254\n",
      "fwIoU: 0.7295439514811292\n",
      "tIoU, sIoU, nIoU: [0.79238109 0.66034841 0.48886891]\n"
     ]
    },
    {
     "name": "stderr",
     "output_type": "stream",
     "text": [
      " 77%|███████▋  | 1100/1437 [35:43<10:51,  1.93s/it]"
     ]
    },
    {
     "name": "stdout",
     "output_type": "stream",
     "text": [
      "1100/1437\n",
      "mIoU(patch): 0.6517096681982004\n",
      "fwIoU: 0.7328842756388707\n",
      "tIoU, sIoU, nIoU: [0.78841907 0.67784102 0.48886891]\n"
     ]
    },
    {
     "name": "stderr",
     "output_type": "stream",
     "text": [
      " 84%|████████▎ | 1200/1437 [38:59<07:53,  2.00s/it]"
     ]
    },
    {
     "name": "stdout",
     "output_type": "stream",
     "text": [
      "1200/1437\n",
      "mIoU(patch): 0.6533834527773933\n",
      "fwIoU: 0.7354059679265074\n",
      "tIoU, sIoU, nIoU: [0.78824104 0.68304042 0.48886891]\n"
     ]
    },
    {
     "name": "stderr",
     "output_type": "stream",
     "text": [
      " 90%|█████████ | 1300/1437 [42:17<04:33,  1.99s/it]"
     ]
    },
    {
     "name": "stdout",
     "output_type": "stream",
     "text": [
      "1300/1437\n",
      "mIoU(patch): 0.6539487175465309\n",
      "fwIoU: 0.7359645712280981\n",
      "tIoU, sIoU, nIoU: [0.78582285 0.6871544  0.48886891]\n"
     ]
    },
    {
     "name": "stderr",
     "output_type": "stream",
     "text": [
      " 97%|█████████▋| 1400/1437 [45:33<01:13,  1.98s/it]"
     ]
    },
    {
     "name": "stdout",
     "output_type": "stream",
     "text": [
      "1400/1437\n",
      "mIoU(patch): 0.6488661704345465\n",
      "fwIoU: 0.7291843145549312\n",
      "tIoU, sIoU, nIoU: [0.7795528  0.67817681 0.48886891]\n"
     ]
    },
    {
     "name": "stderr",
     "output_type": "stream",
     "text": [
      "100%|██████████| 1437/1437 [46:46<00:00,  1.95s/it]\n"
     ]
    },
    {
     "name": "stdout",
     "output_type": "stream",
     "text": [
      "mIoU(big mask): 0.6778335270272255\n",
      "fwIoU: 0.7604971673793558\n",
      "tIoU, sIoU, nIoU: [0.80711596 0.71444202 0.5119426 ]\n",
      "epoch=23-validation_miou_mask_epoch=0.7395.ckpt\n",
      "Extension horovod.torch has not been built: /home/fzj/.local/lib/python3.8/site-packages/horovod/torch/mpi_lib_v2.cpython-38-x86_64-linux-gnu.so not found\n",
      "If this is not expected, reinstall Horovod with HOROVOD_WITH_PYTORCH=1 to debug the build error.\n",
      "Warning! MPI libs are missing, but python applications are still available.\n",
      "Find best checkpoint file: logs/wsss4luad3k6_3k6_run1/epoch=23-validation_miou_mask_epoch=0.7395.ckpt\n",
      "Save dir: logs/wsss4luad3k6_3k6_run1/test_tta\n"
     ]
    },
    {
     "name": "stderr",
     "output_type": "stream",
     "text": [
      "  0%|          | 0/1437 [00:00<?, ?it/s]"
     ]
    },
    {
     "name": "stdout",
     "output_type": "stream",
     "text": [
      "0/1437\n",
      "mIoU(patch): 0.0\n",
      "fwIoU: 0.0\n",
      "tIoU, sIoU, nIoU: [0. 0. 0.]\n"
     ]
    },
    {
     "name": "stderr",
     "output_type": "stream",
     "text": [
      "/data114_1/fzj/CODE/TMI24-HisynSeg/TMI23-submit-final/loss.py:34: RuntimeWarning: invalid value encountered in divide\n",
      "  MIoU = np.diag(self.confusion_matrix) / (\n",
      "/data114_1/fzj/CODE/TMI24-HisynSeg/TMI23-submit-final/loss.py:46: RuntimeWarning: invalid value encountered in divide\n",
      "  freq = np.sum(self.confusion_matrix, axis=1) / \\\n",
      "/data114_1/fzj/CODE/TMI24-HisynSeg/TMI23-submit-final/loss.py:48: RuntimeWarning: invalid value encountered in divide\n",
      "  iu = np.diag(self.confusion_matrix) / (\n",
      "  7%|▋         | 100/1437 [03:48<45:06,  2.02s/it] "
     ]
    },
    {
     "name": "stdout",
     "output_type": "stream",
     "text": [
      "100/1437\n",
      "mIoU(patch): 0.6676612428973833\n",
      "fwIoU: 0.7636325395527\n",
      "tIoU, sIoU, nIoU: [0.78515864 0.74531603 0.47250906]\n"
     ]
    },
    {
     "name": "stderr",
     "output_type": "stream",
     "text": [
      " 14%|█▍        | 200/1437 [07:16<42:47,  2.08s/it]"
     ]
    },
    {
     "name": "stdout",
     "output_type": "stream",
     "text": [
      "200/1437\n",
      "mIoU(patch): 0.678685110691318\n",
      "fwIoU: 0.7449143325052591\n",
      "tIoU, sIoU, nIoU: [0.79253899 0.70376862 0.53974772]\n"
     ]
    },
    {
     "name": "stderr",
     "output_type": "stream",
     "text": [
      " 21%|██        | 300/1437 [10:43<39:23,  2.08s/it]"
     ]
    },
    {
     "name": "stdout",
     "output_type": "stream",
     "text": [
      "300/1437\n",
      "mIoU(patch): 0.6777390972759019\n",
      "fwIoU: 0.7367364131726917\n",
      "tIoU, sIoU, nIoU: [0.79257024 0.68974258 0.55090447]\n"
     ]
    },
    {
     "name": "stderr",
     "output_type": "stream",
     "text": [
      " 28%|██▊       | 400/1437 [14:06<34:19,  1.99s/it]"
     ]
    },
    {
     "name": "stdout",
     "output_type": "stream",
     "text": [
      "400/1437\n",
      "mIoU(patch): 0.6944644301859171\n",
      "fwIoU: 0.7403777371241633\n",
      "tIoU, sIoU, nIoU: [0.7972516  0.68931975 0.59682194]\n"
     ]
    },
    {
     "name": "stderr",
     "output_type": "stream",
     "text": [
      " 35%|███▍      | 500/1437 [17:31<32:06,  2.06s/it]"
     ]
    },
    {
     "name": "stdout",
     "output_type": "stream",
     "text": [
      "500/1437\n",
      "mIoU(patch): 0.7034075270382351\n",
      "fwIoU: 0.7401343347432817\n",
      "tIoU, sIoU, nIoU: [0.78827785 0.69668304 0.6252617 ]\n"
     ]
    },
    {
     "name": "stderr",
     "output_type": "stream",
     "text": [
      " 42%|████▏     | 600/1437 [20:55<28:21,  2.03s/it]"
     ]
    },
    {
     "name": "stdout",
     "output_type": "stream",
     "text": [
      "600/1437\n",
      "mIoU(patch): 0.6927567889393013\n",
      "fwIoU: 0.7293762295289368\n",
      "tIoU, sIoU, nIoU: [0.7843763  0.66966632 0.62422775]\n"
     ]
    },
    {
     "name": "stderr",
     "output_type": "stream",
     "text": [
      " 49%|████▊     | 700/1437 [24:19<24:53,  2.03s/it]"
     ]
    },
    {
     "name": "stdout",
     "output_type": "stream",
     "text": [
      "700/1437\n",
      "mIoU(patch): 0.6750684103936582\n",
      "fwIoU: 0.7262414277654026\n",
      "tIoU, sIoU, nIoU: [0.78524872 0.66134961 0.57860689]\n"
     ]
    },
    {
     "name": "stderr",
     "output_type": "stream",
     "text": [
      " 56%|█████▌    | 800/1437 [27:42<21:22,  2.01s/it]"
     ]
    },
    {
     "name": "stdout",
     "output_type": "stream",
     "text": [
      "800/1437\n",
      "mIoU(patch): 0.6765066018150746\n",
      "fwIoU: 0.7301471121344142\n",
      "tIoU, sIoU, nIoU: [0.78821869 0.66470289 0.57659823]\n"
     ]
    },
    {
     "name": "stderr",
     "output_type": "stream",
     "text": [
      " 63%|██████▎   | 900/1437 [31:06<18:29,  2.07s/it]"
     ]
    },
    {
     "name": "stdout",
     "output_type": "stream",
     "text": [
      "900/1437\n",
      "mIoU(patch): 0.6768915854546161\n",
      "fwIoU: 0.7329959419134298\n",
      "tIoU, sIoU, nIoU: [0.79068138 0.66638087 0.57361251]\n"
     ]
    },
    {
     "name": "stderr",
     "output_type": "stream",
     "text": [
      " 70%|██████▉   | 1000/1437 [34:28<14:38,  2.01s/it]"
     ]
    },
    {
     "name": "stdout",
     "output_type": "stream",
     "text": [
      "1000/1437\n",
      "mIoU(patch): 0.6776026274060921\n",
      "fwIoU: 0.7374428443685209\n",
      "tIoU, sIoU, nIoU: [0.79618749 0.66530569 0.57131471]\n"
     ]
    },
    {
     "name": "stderr",
     "output_type": "stream",
     "text": [
      " 77%|███████▋  | 1100/1437 [37:49<11:19,  2.02s/it]"
     ]
    },
    {
     "name": "stdout",
     "output_type": "stream",
     "text": [
      "1100/1437\n",
      "mIoU(patch): 0.6823770237779403\n",
      "fwIoU: 0.7407592769173613\n",
      "tIoU, sIoU, nIoU: [0.79238463 0.68345934 0.5712871 ]\n"
     ]
    },
    {
     "name": "stderr",
     "output_type": "stream",
     "text": [
      " 84%|████████▎ | 1200/1437 [41:12<07:57,  2.01s/it]"
     ]
    },
    {
     "name": "stdout",
     "output_type": "stream",
     "text": [
      "1200/1437\n",
      "mIoU(patch): 0.6836237519775867\n",
      "fwIoU: 0.7422808141661666\n",
      "tIoU, sIoU, nIoU: [0.79117966 0.6884045  0.5712871 ]\n"
     ]
    },
    {
     "name": "stderr",
     "output_type": "stream",
     "text": [
      " 90%|█████████ | 1300/1437 [44:35<04:39,  2.04s/it]"
     ]
    },
    {
     "name": "stdout",
     "output_type": "stream",
     "text": [
      "1300/1437\n",
      "mIoU(patch): 0.684542409664182\n",
      "fwIoU: 0.7429637459331392\n",
      "tIoU, sIoU, nIoU: [0.78846833 0.6938718  0.5712871 ]\n"
     ]
    },
    {
     "name": "stderr",
     "output_type": "stream",
     "text": [
      " 97%|█████████▋| 1400/1437 [47:57<01:15,  2.05s/it]"
     ]
    },
    {
     "name": "stdout",
     "output_type": "stream",
     "text": [
      "1400/1437\n",
      "mIoU(patch): 0.682900064878433\n",
      "fwIoU: 0.7406575487763071\n",
      "tIoU, sIoU, nIoU: [0.78532864 0.69208446 0.5712871 ]\n"
     ]
    },
    {
     "name": "stderr",
     "output_type": "stream",
     "text": [
      "100%|██████████| 1437/1437 [49:11<00:00,  2.05s/it]\n"
     ]
    },
    {
     "name": "stdout",
     "output_type": "stream",
     "text": [
      "mIoU(big mask): 0.7356557866361202\n",
      "fwIoU: 0.7745513359075235\n",
      "tIoU, sIoU, nIoU: [0.81398455 0.72830617 0.66467664]\n",
      "epoch=24-validation_miou_mask_epoch=0.7510.ckpt\n",
      "Extension horovod.torch has not been built: /home/fzj/.local/lib/python3.8/site-packages/horovod/torch/mpi_lib_v2.cpython-38-x86_64-linux-gnu.so not found\n",
      "If this is not expected, reinstall Horovod with HOROVOD_WITH_PYTORCH=1 to debug the build error.\n",
      "Warning! MPI libs are missing, but python applications are still available.\n",
      "Find best checkpoint file: logs/wsss4luad3k6_3k6_run1/epoch=24-validation_miou_mask_epoch=0.7510.ckpt\n",
      "Save dir: logs/wsss4luad3k6_3k6_run1/test_tta\n"
     ]
    },
    {
     "name": "stderr",
     "output_type": "stream",
     "text": [
      "  0%|          | 0/1437 [00:00<?, ?it/s]"
     ]
    },
    {
     "name": "stdout",
     "output_type": "stream",
     "text": [
      "0/1437\n",
      "mIoU(patch): 0.0\n",
      "fwIoU: 0.0\n",
      "tIoU, sIoU, nIoU: [0. 0. 0.]\n"
     ]
    },
    {
     "name": "stderr",
     "output_type": "stream",
     "text": [
      "/data114_1/fzj/CODE/TMI24-HisynSeg/TMI23-submit-final/loss.py:34: RuntimeWarning: invalid value encountered in divide\n",
      "  MIoU = np.diag(self.confusion_matrix) / (\n",
      "/data114_1/fzj/CODE/TMI24-HisynSeg/TMI23-submit-final/loss.py:46: RuntimeWarning: invalid value encountered in divide\n",
      "  freq = np.sum(self.confusion_matrix, axis=1) / \\\n",
      "/data114_1/fzj/CODE/TMI24-HisynSeg/TMI23-submit-final/loss.py:48: RuntimeWarning: invalid value encountered in divide\n",
      "  iu = np.diag(self.confusion_matrix) / (\n",
      "  7%|▋         | 100/1437 [03:28<45:14,  2.03s/it]"
     ]
    },
    {
     "name": "stdout",
     "output_type": "stream",
     "text": [
      "100/1437\n",
      "mIoU(patch): 0.6523595134365587\n",
      "fwIoU: 0.7678976319299382\n",
      "tIoU, sIoU, nIoU: [0.79091654 0.74889858 0.41726342]\n"
     ]
    },
    {
     "name": "stderr",
     "output_type": "stream",
     "text": [
      " 14%|█▍        | 200/1437 [06:50<41:43,  2.02s/it]"
     ]
    },
    {
     "name": "stdout",
     "output_type": "stream",
     "text": [
      "200/1437\n",
      "mIoU(patch): 0.7130821467356467\n",
      "fwIoU: 0.7578959001131345\n",
      "tIoU, sIoU, nIoU: [0.80289094 0.71249497 0.62386053]\n"
     ]
    },
    {
     "name": "stderr",
     "output_type": "stream",
     "text": [
      " 21%|██        | 300/1437 [10:13<38:17,  2.02s/it]"
     ]
    },
    {
     "name": "stdout",
     "output_type": "stream",
     "text": [
      "300/1437\n",
      "mIoU(patch): 0.7152555562269224\n",
      "fwIoU: 0.7506533813727024\n",
      "tIoU, sIoU, nIoU: [0.8014493  0.69669531 0.64762205]\n"
     ]
    },
    {
     "name": "stderr",
     "output_type": "stream",
     "text": [
      " 28%|██▊       | 400/1437 [13:35<34:47,  2.01s/it]"
     ]
    },
    {
     "name": "stdout",
     "output_type": "stream",
     "text": [
      "400/1437\n",
      "mIoU(patch): 0.7302151467795167\n",
      "fwIoU: 0.7534378396301327\n",
      "tIoU, sIoU, nIoU: [0.8039743  0.69362672 0.69304442]\n"
     ]
    },
    {
     "name": "stderr",
     "output_type": "stream",
     "text": [
      " 35%|███▍      | 500/1437 [16:58<31:16,  2.00s/it]"
     ]
    },
    {
     "name": "stdout",
     "output_type": "stream",
     "text": [
      "500/1437\n",
      "mIoU(patch): 0.7305838634118849\n",
      "fwIoU: 0.7499902950701757\n",
      "tIoU, sIoU, nIoU: [0.79313858 0.70130075 0.69731226]\n"
     ]
    },
    {
     "name": "stderr",
     "output_type": "stream",
     "text": [
      " 42%|████▏     | 600/1437 [20:17<26:57,  1.93s/it]"
     ]
    },
    {
     "name": "stdout",
     "output_type": "stream",
     "text": [
      "600/1437\n",
      "mIoU(patch): 0.7130459251604621\n",
      "fwIoU: 0.7368472317740459\n",
      "tIoU, sIoU, nIoU: [0.78822729 0.6735317  0.67737878]\n"
     ]
    },
    {
     "name": "stderr",
     "output_type": "stream",
     "text": [
      " 49%|████▊     | 700/1437 [23:31<23:46,  1.94s/it]"
     ]
    },
    {
     "name": "stdout",
     "output_type": "stream",
     "text": [
      "700/1437\n",
      "mIoU(patch): 0.6859133480357921\n",
      "fwIoU: 0.731215173203592\n",
      "tIoU, sIoU, nIoU: [0.78886129 0.66495567 0.60392308]\n"
     ]
    },
    {
     "name": "stderr",
     "output_type": "stream",
     "text": [
      " 56%|█████▌    | 800/1437 [26:43<20:25,  1.92s/it]"
     ]
    },
    {
     "name": "stdout",
     "output_type": "stream",
     "text": [
      "800/1437\n",
      "mIoU(patch): 0.6867110791737588\n",
      "fwIoU: 0.7345760846036582\n",
      "tIoU, sIoU, nIoU: [0.79107619 0.66858952 0.60046752]\n"
     ]
    },
    {
     "name": "stderr",
     "output_type": "stream",
     "text": [
      " 63%|██████▎   | 900/1437 [29:56<17:16,  1.93s/it]"
     ]
    },
    {
     "name": "stdout",
     "output_type": "stream",
     "text": [
      "900/1437\n",
      "mIoU(patch): 0.6862383888443201\n",
      "fwIoU: 0.7366320083592661\n",
      "tIoU, sIoU, nIoU: [0.79291296 0.66956777 0.59623444]\n"
     ]
    },
    {
     "name": "stderr",
     "output_type": "stream",
     "text": [
      " 70%|██████▉   | 1000/1437 [33:07<13:59,  1.92s/it]"
     ]
    },
    {
     "name": "stdout",
     "output_type": "stream",
     "text": [
      "1000/1437\n",
      "mIoU(patch): 0.6860811742014089\n",
      "fwIoU: 0.7402224540066115\n",
      "tIoU, sIoU, nIoU: [0.79771975 0.66769281 0.59283096]\n"
     ]
    },
    {
     "name": "stderr",
     "output_type": "stream",
     "text": [
      " 77%|███████▋  | 1100/1437 [36:22<10:51,  1.93s/it]"
     ]
    },
    {
     "name": "stdout",
     "output_type": "stream",
     "text": [
      "1100/1437\n",
      "mIoU(patch): 0.6891283596773912\n",
      "fwIoU: 0.741156742125233\n",
      "tIoU, sIoU, nIoU: [0.79240132 0.68215281 0.59283095]\n"
     ]
    },
    {
     "name": "stderr",
     "output_type": "stream",
     "text": [
      " 84%|████████▎ | 1200/1437 [39:35<07:37,  1.93s/it]"
     ]
    },
    {
     "name": "stdout",
     "output_type": "stream",
     "text": [
      "1200/1437\n",
      "mIoU(patch): 0.6893804865979855\n",
      "fwIoU: 0.741349892720119\n",
      "tIoU, sIoU, nIoU: [0.79090603 0.68440448 0.59283095]\n"
     ]
    },
    {
     "name": "stderr",
     "output_type": "stream",
     "text": [
      " 90%|█████████ | 1300/1437 [42:48<04:24,  1.93s/it]"
     ]
    },
    {
     "name": "stdout",
     "output_type": "stream",
     "text": [
      "1300/1437\n",
      "mIoU(patch): 0.6906060916730503\n",
      "fwIoU: 0.7424560133885889\n",
      "tIoU, sIoU, nIoU: [0.78915974 0.68982758 0.59283095]\n"
     ]
    },
    {
     "name": "stderr",
     "output_type": "stream",
     "text": [
      " 97%|█████████▋| 1400/1437 [46:01<01:11,  1.94s/it]"
     ]
    },
    {
     "name": "stdout",
     "output_type": "stream",
     "text": [
      "1400/1437\n",
      "mIoU(patch): 0.6871227592925958\n",
      "fwIoU: 0.7375114187249243\n",
      "tIoU, sIoU, nIoU: [0.78404743 0.6844899  0.59283095]\n"
     ]
    },
    {
     "name": "stderr",
     "output_type": "stream",
     "text": [
      "100%|██████████| 1437/1437 [47:12<00:00,  1.97s/it]\n"
     ]
    },
    {
     "name": "stdout",
     "output_type": "stream",
     "text": [
      "mIoU(big mask): 0.7496865054075176\n",
      "fwIoU: 0.7753055744615196\n",
      "tIoU, sIoU, nIoU: [0.81437243 0.72645607 0.70823101]\n",
      "epoch=25-validation_miou_mask_epoch=0.7576.ckpt\n",
      "Extension horovod.torch has not been built: /home/fzj/.local/lib/python3.8/site-packages/horovod/torch/mpi_lib_v2.cpython-38-x86_64-linux-gnu.so not found\n",
      "If this is not expected, reinstall Horovod with HOROVOD_WITH_PYTORCH=1 to debug the build error.\n",
      "Warning! MPI libs are missing, but python applications are still available.\n",
      "Find best checkpoint file: logs/wsss4luad3k6_3k6_run1/epoch=25-validation_miou_mask_epoch=0.7576.ckpt\n",
      "Save dir: logs/wsss4luad3k6_3k6_run1/test_tta\n"
     ]
    },
    {
     "name": "stderr",
     "output_type": "stream",
     "text": [
      "  0%|          | 0/1437 [00:00<?, ?it/s]"
     ]
    },
    {
     "name": "stdout",
     "output_type": "stream",
     "text": [
      "0/1437\n",
      "mIoU(patch): 0.0\n",
      "fwIoU: 0.0\n",
      "tIoU, sIoU, nIoU: [0. 0. 0.]\n"
     ]
    },
    {
     "name": "stderr",
     "output_type": "stream",
     "text": [
      "/data114_1/fzj/CODE/TMI24-HisynSeg/TMI23-submit-final/loss.py:34: RuntimeWarning: invalid value encountered in divide\n",
      "  MIoU = np.diag(self.confusion_matrix) / (\n",
      "/data114_1/fzj/CODE/TMI24-HisynSeg/TMI23-submit-final/loss.py:46: RuntimeWarning: invalid value encountered in divide\n",
      "  freq = np.sum(self.confusion_matrix, axis=1) / \\\n",
      "/data114_1/fzj/CODE/TMI24-HisynSeg/TMI23-submit-final/loss.py:48: RuntimeWarning: invalid value encountered in divide\n",
      "  iu = np.diag(self.confusion_matrix) / (\n",
      "  7%|▋         | 100/1437 [03:15<42:43,  1.92s/it]"
     ]
    },
    {
     "name": "stdout",
     "output_type": "stream",
     "text": [
      "100/1437\n",
      "mIoU(patch): 0.6874341110682786\n",
      "fwIoU: 0.7583648005244031\n",
      "tIoU, sIoU, nIoU: [0.78045755 0.73831137 0.54353341]\n"
     ]
    },
    {
     "name": "stderr",
     "output_type": "stream",
     "text": [
      " 14%|█▍        | 200/1437 [06:26<39:19,  1.91s/it]"
     ]
    },
    {
     "name": "stdout",
     "output_type": "stream",
     "text": [
      "200/1437\n",
      "mIoU(patch): 0.6738587604724726\n",
      "fwIoU: 0.7488242141215578\n",
      "tIoU, sIoU, nIoU: [0.80468575 0.69956306 0.51732747]\n"
     ]
    },
    {
     "name": "stderr",
     "output_type": "stream",
     "text": [
      " 21%|██        | 300/1437 [09:43<36:16,  1.91s/it]"
     ]
    },
    {
     "name": "stdout",
     "output_type": "stream",
     "text": [
      "300/1437\n",
      "mIoU(patch): 0.6671570680164796\n",
      "fwIoU: 0.7396828956900691\n",
      "tIoU, sIoU, nIoU: [0.80823666 0.68203691 0.51119764]\n"
     ]
    },
    {
     "name": "stderr",
     "output_type": "stream",
     "text": [
      " 28%|██▊       | 400/1437 [12:53<32:34,  1.88s/it]"
     ]
    },
    {
     "name": "stdout",
     "output_type": "stream",
     "text": [
      "400/1437\n",
      "mIoU(patch): 0.6750080252728844\n",
      "fwIoU: 0.7393821921090424\n",
      "tIoU, sIoU, nIoU: [0.81267387 0.67786433 0.53448588]\n"
     ]
    },
    {
     "name": "stderr",
     "output_type": "stream",
     "text": [
      " 35%|███▍      | 500/1437 [16:02<29:40,  1.90s/it]"
     ]
    },
    {
     "name": "stdout",
     "output_type": "stream",
     "text": [
      "500/1437\n",
      "mIoU(patch): 0.684235765790277\n",
      "fwIoU: 0.7388363450157437\n",
      "tIoU, sIoU, nIoU: [0.80052163 0.68860522 0.56358045]\n"
     ]
    },
    {
     "name": "stderr",
     "output_type": "stream",
     "text": [
      " 42%|████▏     | 600/1437 [19:12<26:26,  1.90s/it]"
     ]
    },
    {
     "name": "stdout",
     "output_type": "stream",
     "text": [
      "600/1437\n",
      "mIoU(patch): 0.6734772589308626\n",
      "fwIoU: 0.7289098610555491\n",
      "tIoU, sIoU, nIoU: [0.79647577 0.66312179 0.56083422]\n"
     ]
    },
    {
     "name": "stderr",
     "output_type": "stream",
     "text": [
      " 49%|████▊     | 700/1437 [22:21<23:11,  1.89s/it]"
     ]
    },
    {
     "name": "stdout",
     "output_type": "stream",
     "text": [
      "700/1437\n",
      "mIoU(patch): 0.6690191496988719\n",
      "fwIoU: 0.7331407410373515\n",
      "tIoU, sIoU, nIoU: [0.8009569  0.66180392 0.54429663]\n"
     ]
    },
    {
     "name": "stderr",
     "output_type": "stream",
     "text": [
      " 56%|█████▌    | 800/1437 [25:31<20:07,  1.90s/it]"
     ]
    },
    {
     "name": "stdout",
     "output_type": "stream",
     "text": [
      "800/1437\n",
      "mIoU(patch): 0.6704953437383038\n",
      "fwIoU: 0.7364391087191793\n",
      "tIoU, sIoU, nIoU: [0.80122541 0.66669166 0.54356896]\n"
     ]
    },
    {
     "name": "stderr",
     "output_type": "stream",
     "text": [
      " 63%|██████▎   | 900/1437 [28:40<16:53,  1.89s/it]"
     ]
    },
    {
     "name": "stdout",
     "output_type": "stream",
     "text": [
      "900/1437\n",
      "mIoU(patch): 0.6711752363052197\n",
      "fwIoU: 0.7391001602978373\n",
      "tIoU, sIoU, nIoU: [0.80207228 0.66956369 0.54188973]\n"
     ]
    },
    {
     "name": "stderr",
     "output_type": "stream",
     "text": [
      " 70%|██████▉   | 1000/1437 [31:50<13:49,  1.90s/it]"
     ]
    },
    {
     "name": "stdout",
     "output_type": "stream",
     "text": [
      "1000/1437\n",
      "mIoU(patch): 0.6715072426332455\n",
      "fwIoU: 0.7425038027585964\n",
      "tIoU, sIoU, nIoU: [0.80521495 0.66858785 0.54071893]\n"
     ]
    },
    {
     "name": "stderr",
     "output_type": "stream",
     "text": [
      " 77%|███████▋  | 1100/1437 [34:59<10:40,  1.90s/it]"
     ]
    },
    {
     "name": "stdout",
     "output_type": "stream",
     "text": [
      "1100/1437\n",
      "mIoU(patch): 0.66740262904314\n",
      "fwIoU: 0.7339568921116779\n",
      "tIoU, sIoU, nIoU: [0.7927231  0.66876586 0.54071893]\n"
     ]
    },
    {
     "name": "stderr",
     "output_type": "stream",
     "text": [
      " 84%|████████▎ | 1200/1437 [38:09<07:30,  1.90s/it]"
     ]
    },
    {
     "name": "stdout",
     "output_type": "stream",
     "text": [
      "1200/1437\n",
      "mIoU(patch): 0.6631292674064735\n",
      "fwIoU: 0.728150038134866\n",
      "tIoU, sIoU, nIoU: [0.78677562 0.66189325 0.54071893]\n"
     ]
    },
    {
     "name": "stderr",
     "output_type": "stream",
     "text": [
      " 90%|█████████ | 1300/1437 [41:19<04:20,  1.90s/it]"
     ]
    },
    {
     "name": "stdout",
     "output_type": "stream",
     "text": [
      "1300/1437\n",
      "mIoU(patch): 0.6636330332318385\n",
      "fwIoU: 0.7283082246018439\n",
      "tIoU, sIoU, nIoU: [0.78436552 0.66581464 0.54071893]\n"
     ]
    },
    {
     "name": "stderr",
     "output_type": "stream",
     "text": [
      " 97%|█████████▋| 1400/1437 [44:29<01:10,  1.91s/it]"
     ]
    },
    {
     "name": "stdout",
     "output_type": "stream",
     "text": [
      "1400/1437\n",
      "mIoU(patch): 0.6642387151680044\n",
      "fwIoU: 0.7289938254276958\n",
      "tIoU, sIoU, nIoU: [0.7830433  0.66895391 0.54071893]\n"
     ]
    },
    {
     "name": "stderr",
     "output_type": "stream",
     "text": [
      "100%|██████████| 1437/1437 [45:38<00:00,  1.91s/it]\n"
     ]
    },
    {
     "name": "stdout",
     "output_type": "stream",
     "text": [
      "mIoU(big mask): 0.6985276593235278\n",
      "fwIoU: 0.7576999724825172\n",
      "tIoU, sIoU, nIoU: [0.8076069  0.70150826 0.58646782]\n",
      "epoch=26-validation_miou_mask_epoch=0.7590.ckpt\n",
      "Extension horovod.torch has not been built: /home/fzj/.local/lib/python3.8/site-packages/horovod/torch/mpi_lib_v2.cpython-38-x86_64-linux-gnu.so not found\n",
      "If this is not expected, reinstall Horovod with HOROVOD_WITH_PYTORCH=1 to debug the build error.\n",
      "Warning! MPI libs are missing, but python applications are still available.\n",
      "Find best checkpoint file: logs/wsss4luad3k6_3k6_run1/epoch=26-validation_miou_mask_epoch=0.7590.ckpt\n",
      "Save dir: logs/wsss4luad3k6_3k6_run1/test_tta\n"
     ]
    },
    {
     "name": "stderr",
     "output_type": "stream",
     "text": [
      "  0%|          | 0/1437 [00:00<?, ?it/s]"
     ]
    },
    {
     "name": "stdout",
     "output_type": "stream",
     "text": [
      "0/1437\n",
      "mIoU(patch): 0.0\n",
      "fwIoU: 0.0\n",
      "tIoU, sIoU, nIoU: [0. 0. 0.]\n"
     ]
    },
    {
     "name": "stderr",
     "output_type": "stream",
     "text": [
      "/data114_1/fzj/CODE/TMI24-HisynSeg/TMI23-submit-final/loss.py:34: RuntimeWarning: invalid value encountered in divide\n",
      "  MIoU = np.diag(self.confusion_matrix) / (\n",
      "/data114_1/fzj/CODE/TMI24-HisynSeg/TMI23-submit-final/loss.py:46: RuntimeWarning: invalid value encountered in divide\n",
      "  freq = np.sum(self.confusion_matrix, axis=1) / \\\n",
      "/data114_1/fzj/CODE/TMI24-HisynSeg/TMI23-submit-final/loss.py:48: RuntimeWarning: invalid value encountered in divide\n",
      "  iu = np.diag(self.confusion_matrix) / (\n",
      "  7%|▋         | 100/1437 [03:14<42:07,  1.89s/it]"
     ]
    },
    {
     "name": "stdout",
     "output_type": "stream",
     "text": [
      "100/1437\n",
      "mIoU(patch): 0.6754551332982285\n",
      "fwIoU: 0.7458442628717097\n",
      "tIoU, sIoU, nIoU: [0.77172839 0.72177072 0.53286629]\n"
     ]
    },
    {
     "name": "stderr",
     "output_type": "stream",
     "text": [
      " 14%|█▍        | 200/1437 [06:23<38:51,  1.89s/it]"
     ]
    },
    {
     "name": "stdout",
     "output_type": "stream",
     "text": [
      "200/1437\n",
      "mIoU(patch): 0.6857881440972431\n",
      "fwIoU: 0.7415752454820298\n",
      "tIoU, sIoU, nIoU: [0.79046147 0.69485682 0.57204615]\n"
     ]
    },
    {
     "name": "stderr",
     "output_type": "stream",
     "text": [
      " 21%|██        | 300/1437 [09:33<36:11,  1.91s/it]"
     ]
    },
    {
     "name": "stdout",
     "output_type": "stream",
     "text": [
      "300/1437\n",
      "mIoU(patch): 0.6850063568656682\n",
      "fwIoU: 0.7352674195245595\n",
      "tIoU, sIoU, nIoU: [0.79100527 0.68306064 0.58095317]\n"
     ]
    },
    {
     "name": "stderr",
     "output_type": "stream",
     "text": [
      " 28%|██▊       | 400/1437 [12:42<32:29,  1.88s/it]"
     ]
    },
    {
     "name": "stdout",
     "output_type": "stream",
     "text": [
      "400/1437\n",
      "mIoU(patch): 0.6969085644474072\n",
      "fwIoU: 0.7363296208315322\n",
      "tIoU, sIoU, nIoU: [0.7935616  0.67937733 0.61778676]\n"
     ]
    },
    {
     "name": "stderr",
     "output_type": "stream",
     "text": [
      " 35%|███▍      | 500/1437 [15:51<29:39,  1.90s/it]"
     ]
    },
    {
     "name": "stdout",
     "output_type": "stream",
     "text": [
      "500/1437\n",
      "mIoU(patch): 0.7058071500280384\n",
      "fwIoU: 0.7368989430631501\n",
      "tIoU, sIoU, nIoU: [0.78542951 0.68881989 0.64317205]\n"
     ]
    },
    {
     "name": "stderr",
     "output_type": "stream",
     "text": [
      " 42%|████▏     | 600/1437 [18:59<26:18,  1.89s/it]"
     ]
    },
    {
     "name": "stdout",
     "output_type": "stream",
     "text": [
      "600/1437\n",
      "mIoU(patch): 0.6941012894122531\n",
      "fwIoU: 0.7238745081847883\n",
      "tIoU, sIoU, nIoU: [0.77994743 0.65752582 0.64483061]\n"
     ]
    },
    {
     "name": "stderr",
     "output_type": "stream",
     "text": [
      " 49%|████▊     | 700/1437 [22:09<23:10,  1.89s/it]"
     ]
    },
    {
     "name": "stdout",
     "output_type": "stream",
     "text": [
      "700/1437\n",
      "mIoU(patch): 0.6870235268333728\n",
      "fwIoU: 0.7241486623334153\n",
      "tIoU, sIoU, nIoU: [0.78262876 0.65153688 0.62690495]\n"
     ]
    },
    {
     "name": "stderr",
     "output_type": "stream",
     "text": [
      " 56%|█████▌    | 800/1437 [25:17<20:06,  1.89s/it]"
     ]
    },
    {
     "name": "stdout",
     "output_type": "stream",
     "text": [
      "800/1437\n",
      "mIoU(patch): 0.6877705844890883\n",
      "fwIoU: 0.7279471990218088\n",
      "tIoU, sIoU, nIoU: [0.78617499 0.65504653 0.62209023]\n"
     ]
    },
    {
     "name": "stderr",
     "output_type": "stream",
     "text": [
      " 63%|██████▎   | 900/1437 [28:26<16:50,  1.88s/it]"
     ]
    },
    {
     "name": "stdout",
     "output_type": "stream",
     "text": [
      "900/1437\n",
      "mIoU(patch): 0.6863749485097238\n",
      "fwIoU: 0.7296492056889956\n",
      "tIoU, sIoU, nIoU: [0.78843391 0.65513918 0.61555176]\n"
     ]
    },
    {
     "name": "stderr",
     "output_type": "stream",
     "text": [
      " 70%|██████▉   | 1000/1437 [31:35<13:51,  1.90s/it]"
     ]
    },
    {
     "name": "stdout",
     "output_type": "stream",
     "text": [
      "1000/1437\n",
      "mIoU(patch): 0.6866781326758421\n",
      "fwIoU: 0.7340413415589765\n",
      "tIoU, sIoU, nIoU: [0.79431628 0.65392615 0.61179196]\n"
     ]
    },
    {
     "name": "stderr",
     "output_type": "stream",
     "text": [
      " 77%|███████▋  | 1100/1437 [34:44<10:44,  1.91s/it]"
     ]
    },
    {
     "name": "stdout",
     "output_type": "stream",
     "text": [
      "1100/1437\n",
      "mIoU(patch): 0.6829310161593233\n",
      "fwIoU: 0.7255922693738338\n",
      "tIoU, sIoU, nIoU: [0.78256688 0.65453885 0.61168732]\n"
     ]
    },
    {
     "name": "stderr",
     "output_type": "stream",
     "text": [
      " 84%|████████▎ | 1200/1437 [37:54<07:30,  1.90s/it]"
     ]
    },
    {
     "name": "stdout",
     "output_type": "stream",
     "text": [
      "1200/1437\n",
      "mIoU(patch): 0.6799174604897744\n",
      "fwIoU: 0.7211412554608131\n",
      "tIoU, sIoU, nIoU: [0.77793069 0.65013437 0.61168732]\n"
     ]
    },
    {
     "name": "stderr",
     "output_type": "stream",
     "text": [
      " 90%|█████████ | 1300/1437 [41:57<07:42,  3.38s/it]"
     ]
    },
    {
     "name": "stdout",
     "output_type": "stream",
     "text": [
      "1300/1437\n",
      "mIoU(patch): 0.6803588985791006\n",
      "fwIoU: 0.7209115953279903\n",
      "tIoU, sIoU, nIoU: [0.77541824 0.65397114 0.61168732]\n"
     ]
    },
    {
     "name": "stderr",
     "output_type": "stream",
     "text": [
      " 97%|█████████▋| 1400/1437 [47:37<02:07,  3.46s/it]"
     ]
    },
    {
     "name": "stdout",
     "output_type": "stream",
     "text": [
      "1400/1437\n",
      "mIoU(patch): 0.678063477674785\n",
      "fwIoU: 0.7173782027944308\n",
      "tIoU, sIoU, nIoU: [0.77134481 0.65115831 0.61168732]\n"
     ]
    },
    {
     "name": "stderr",
     "output_type": "stream",
     "text": [
      "100%|██████████| 1437/1437 [49:42<00:00,  2.08s/it]\n"
     ]
    },
    {
     "name": "stdout",
     "output_type": "stream",
     "text": [
      "mIoU(big mask): 0.7202078913025983\n",
      "fwIoU: 0.7509340011806527\n",
      "tIoU, sIoU, nIoU: [0.79849581 0.69135341 0.67077446]\n",
      "epoch=27-validation_miou_mask_epoch=0.7455.ckpt\n",
      "Extension horovod.torch has not been built: /home/fzj/.local/lib/python3.8/site-packages/horovod/torch/mpi_lib_v2.cpython-38-x86_64-linux-gnu.so not found\n",
      "If this is not expected, reinstall Horovod with HOROVOD_WITH_PYTORCH=1 to debug the build error.\n",
      "Warning! MPI libs are missing, but python applications are still available.\n",
      "Find best checkpoint file: logs/wsss4luad3k6_3k6_run1/epoch=27-validation_miou_mask_epoch=0.7455.ckpt\n",
      "Save dir: logs/wsss4luad3k6_3k6_run1/test_tta\n"
     ]
    },
    {
     "name": "stderr",
     "output_type": "stream",
     "text": [
      "  0%|          | 0/1437 [00:00<?, ?it/s]"
     ]
    },
    {
     "name": "stdout",
     "output_type": "stream",
     "text": [
      "0/1437\n",
      "mIoU(patch): 0.0\n",
      "fwIoU: 0.0\n",
      "tIoU, sIoU, nIoU: [0. 0. 0.]\n"
     ]
    },
    {
     "name": "stderr",
     "output_type": "stream",
     "text": [
      "/data114_1/fzj/CODE/TMI24-HisynSeg/TMI23-submit-final/loss.py:34: RuntimeWarning: invalid value encountered in divide\n",
      "  MIoU = np.diag(self.confusion_matrix) / (\n",
      "/data114_1/fzj/CODE/TMI24-HisynSeg/TMI23-submit-final/loss.py:46: RuntimeWarning: invalid value encountered in divide\n",
      "  freq = np.sum(self.confusion_matrix, axis=1) / \\\n",
      "/data114_1/fzj/CODE/TMI24-HisynSeg/TMI23-submit-final/loss.py:48: RuntimeWarning: invalid value encountered in divide\n",
      "  iu = np.diag(self.confusion_matrix) / (\n",
      "  7%|▋         | 100/1437 [05:49<1:17:22,  3.47s/it]"
     ]
    },
    {
     "name": "stdout",
     "output_type": "stream",
     "text": [
      "100/1437\n",
      "mIoU(patch): 0.6434772725201984\n",
      "fwIoU: 0.7470601330668778\n",
      "tIoU, sIoU, nIoU: [0.77360263 0.72380365 0.43302553]\n"
     ]
    },
    {
     "name": "stderr",
     "output_type": "stream",
     "text": [
      " 14%|█▍        | 200/1437 [11:30<1:11:33,  3.47s/it]"
     ]
    },
    {
     "name": "stdout",
     "output_type": "stream",
     "text": [
      "200/1437\n",
      "mIoU(patch): 0.718085698955666\n",
      "fwIoU: 0.7487072317320151\n",
      "tIoU, sIoU, nIoU: [0.7959364  0.69501789 0.6633028 ]\n"
     ]
    },
    {
     "name": "stderr",
     "output_type": "stream",
     "text": [
      " 21%|██        | 300/1437 [17:13<1:05:48,  3.47s/it]"
     ]
    },
    {
     "name": "stdout",
     "output_type": "stream",
     "text": [
      "300/1437\n",
      "mIoU(patch): 0.7222052977856105\n",
      "fwIoU: 0.7475606374422672\n",
      "tIoU, sIoU, nIoU: [0.7999168  0.68512191 0.68157718]\n"
     ]
    },
    {
     "name": "stderr",
     "output_type": "stream",
     "text": [
      " 28%|██▊       | 400/1437 [22:56<58:40,  3.39s/it]  "
     ]
    },
    {
     "name": "stdout",
     "output_type": "stream",
     "text": [
      "400/1437\n",
      "mIoU(patch): 0.7346691271658502\n",
      "fwIoU: 0.7534384737219433\n",
      "tIoU, sIoU, nIoU: [0.80609868 0.68665218 0.71125653]\n"
     ]
    },
    {
     "name": "stderr",
     "output_type": "stream",
     "text": [
      " 35%|███▍      | 500/1437 [28:37<53:50,  3.45s/it]"
     ]
    },
    {
     "name": "stdout",
     "output_type": "stream",
     "text": [
      "500/1437\n",
      "mIoU(patch): 0.7293165109044178\n",
      "fwIoU: 0.7464838670873478\n",
      "tIoU, sIoU, nIoU: [0.79305909 0.69119991 0.70369053]\n"
     ]
    },
    {
     "name": "stderr",
     "output_type": "stream",
     "text": [
      " 42%|████▏     | 600/1437 [34:15<46:47,  3.35s/it]"
     ]
    },
    {
     "name": "stdout",
     "output_type": "stream",
     "text": [
      "600/1437\n",
      "mIoU(patch): 0.7151450783330145\n",
      "fwIoU: 0.7334871374504721\n",
      "tIoU, sIoU, nIoU: [0.7871434  0.66265056 0.69564127]\n"
     ]
    },
    {
     "name": "stderr",
     "output_type": "stream",
     "text": [
      " 49%|████▊     | 700/1437 [39:57<43:11,  3.52s/it]"
     ]
    },
    {
     "name": "stdout",
     "output_type": "stream",
     "text": [
      "700/1437\n",
      "mIoU(patch): 0.7028599901586513\n",
      "fwIoU: 0.7310289588094521\n",
      "tIoU, sIoU, nIoU: [0.78782532 0.65569106 0.66506359]\n"
     ]
    },
    {
     "name": "stderr",
     "output_type": "stream",
     "text": [
      " 56%|█████▌    | 800/1437 [45:38<37:01,  3.49s/it]"
     ]
    },
    {
     "name": "stdout",
     "output_type": "stream",
     "text": [
      "800/1437\n",
      "mIoU(patch): 0.704950848726047\n",
      "fwIoU: 0.7349982431342632\n",
      "tIoU, sIoU, nIoU: [0.79066467 0.66083074 0.66335713]\n"
     ]
    },
    {
     "name": "stderr",
     "output_type": "stream",
     "text": [
      " 63%|██████▎   | 900/1437 [51:21<31:11,  3.48s/it]"
     ]
    },
    {
     "name": "stdout",
     "output_type": "stream",
     "text": [
      "900/1437\n",
      "mIoU(patch): 0.7055915654139918\n",
      "fwIoU: 0.7379029327232147\n",
      "tIoU, sIoU, nIoU: [0.7930999  0.66397353 0.65970127]\n"
     ]
    },
    {
     "name": "stderr",
     "output_type": "stream",
     "text": [
      " 70%|██████▉   | 1000/1437 [57:02<25:20,  3.48s/it]"
     ]
    },
    {
     "name": "stdout",
     "output_type": "stream",
     "text": [
      "1000/1437\n",
      "mIoU(patch): 0.7064894595627598\n",
      "fwIoU: 0.7420101962290496\n",
      "tIoU, sIoU, nIoU: [0.79820986 0.66355739 0.65770113]\n"
     ]
    },
    {
     "name": "stderr",
     "output_type": "stream",
     "text": [
      " 77%|███████▋  | 1100/1437 [1:02:45<19:30,  3.47s/it]"
     ]
    },
    {
     "name": "stdout",
     "output_type": "stream",
     "text": [
      "1100/1437\n",
      "mIoU(patch): 0.7038938997573875\n",
      "fwIoU: 0.7349635438255726\n",
      "tIoU, sIoU, nIoU: [0.78746346 0.66653175 0.65768649]\n"
     ]
    },
    {
     "name": "stderr",
     "output_type": "stream",
     "text": [
      " 84%|████████▎ | 1200/1437 [1:08:28<13:40,  3.46s/it]"
     ]
    },
    {
     "name": "stdout",
     "output_type": "stream",
     "text": [
      "1200/1437\n",
      "mIoU(patch): 0.7011184498197297\n",
      "fwIoU: 0.7307054707136219\n",
      "tIoU, sIoU, nIoU: [0.78304907 0.66261979 0.65768649]\n"
     ]
    },
    {
     "name": "stderr",
     "output_type": "stream",
     "text": [
      " 90%|█████████ | 1300/1437 [1:14:11<07:53,  3.46s/it]"
     ]
    },
    {
     "name": "stdout",
     "output_type": "stream",
     "text": [
      "1300/1437\n",
      "mIoU(patch): 0.7018984224393323\n",
      "fwIoU: 0.7308463843996501\n",
      "tIoU, sIoU, nIoU: [0.78083819 0.66717059 0.65768649]\n"
     ]
    },
    {
     "name": "stderr",
     "output_type": "stream",
     "text": [
      " 97%|█████████▋| 1400/1437 [1:19:54<02:08,  3.47s/it]"
     ]
    },
    {
     "name": "stdout",
     "output_type": "stream",
     "text": [
      "1400/1437\n",
      "mIoU(patch): 0.7032604910361204\n",
      "fwIoU: 0.7322369946898585\n",
      "tIoU, sIoU, nIoU: [0.78023089 0.67186409 0.65768649]\n"
     ]
    },
    {
     "name": "stderr",
     "output_type": "stream",
     "text": [
      "100%|██████████| 1437/1437 [1:21:56<00:00,  3.42s/it]\n"
     ]
    },
    {
     "name": "stdout",
     "output_type": "stream",
     "text": [
      "mIoU(big mask): 0.7517611172610074\n",
      "fwIoU: 0.761790371808919\n",
      "tIoU, sIoU, nIoU: [0.80544509 0.70283508 0.74700318]\n",
      "epoch=28-validation_miou_mask_epoch=0.7446.ckpt\n",
      "Extension horovod.torch has not been built: /home/fzj/.local/lib/python3.8/site-packages/horovod/torch/mpi_lib_v2.cpython-38-x86_64-linux-gnu.so not found\n",
      "If this is not expected, reinstall Horovod with HOROVOD_WITH_PYTORCH=1 to debug the build error.\n",
      "Warning! MPI libs are missing, but python applications are still available.\n",
      "Find best checkpoint file: logs/wsss4luad3k6_3k6_run1/epoch=28-validation_miou_mask_epoch=0.7446.ckpt\n",
      "Save dir: logs/wsss4luad3k6_3k6_run1/test_tta\n"
     ]
    },
    {
     "name": "stderr",
     "output_type": "stream",
     "text": [
      "  0%|          | 0/1437 [00:00<?, ?it/s]"
     ]
    },
    {
     "name": "stdout",
     "output_type": "stream",
     "text": [
      "0/1437\n",
      "mIoU(patch): 0.0\n",
      "fwIoU: 0.0\n",
      "tIoU, sIoU, nIoU: [0. 0. 0.]\n"
     ]
    },
    {
     "name": "stderr",
     "output_type": "stream",
     "text": [
      "/data114_1/fzj/CODE/TMI24-HisynSeg/TMI23-submit-final/loss.py:34: RuntimeWarning: invalid value encountered in divide\n",
      "  MIoU = np.diag(self.confusion_matrix) / (\n",
      "/data114_1/fzj/CODE/TMI24-HisynSeg/TMI23-submit-final/loss.py:46: RuntimeWarning: invalid value encountered in divide\n",
      "  freq = np.sum(self.confusion_matrix, axis=1) / \\\n",
      "/data114_1/fzj/CODE/TMI24-HisynSeg/TMI23-submit-final/loss.py:48: RuntimeWarning: invalid value encountered in divide\n",
      "  iu = np.diag(self.confusion_matrix) / (\n",
      "  7%|▋         | 100/1437 [05:44<57:39,  2.59s/it] "
     ]
    },
    {
     "name": "stdout",
     "output_type": "stream",
     "text": [
      "100/1437\n",
      "mIoU(patch): 0.6493405986109692\n",
      "fwIoU: 0.7563515933100807\n",
      "tIoU, sIoU, nIoU: [0.78169177 0.73451819 0.43181183]\n"
     ]
    },
    {
     "name": "stderr",
     "output_type": "stream",
     "text": [
      " 14%|█▍        | 200/1437 [11:24<1:09:42,  3.38s/it]"
     ]
    },
    {
     "name": "stdout",
     "output_type": "stream",
     "text": [
      "200/1437\n",
      "mIoU(patch): 0.7231766578001203\n",
      "fwIoU: 0.7488208973707274\n",
      "tIoU, sIoU, nIoU: [0.79462065 0.69526774 0.67964158]\n"
     ]
    },
    {
     "name": "stderr",
     "output_type": "stream",
     "text": [
      " 21%|██        | 300/1437 [17:04<1:06:18,  3.50s/it]"
     ]
    },
    {
     "name": "stdout",
     "output_type": "stream",
     "text": [
      "300/1437\n",
      "mIoU(patch): 0.7266592043893608\n",
      "fwIoU: 0.7460178222860518\n",
      "tIoU, sIoU, nIoU: [0.79699038 0.68196355 0.70102368]\n"
     ]
    },
    {
     "name": "stderr",
     "output_type": "stream",
     "text": [
      " 28%|██▊       | 400/1437 [22:43<59:02,  3.42s/it]  "
     ]
    },
    {
     "name": "stdout",
     "output_type": "stream",
     "text": [
      "400/1437\n",
      "mIoU(patch): 0.7389466416191063\n",
      "fwIoU: 0.7519846726843727\n",
      "tIoU, sIoU, nIoU: [0.80297514 0.68309518 0.7307696 ]\n"
     ]
    },
    {
     "name": "stderr",
     "output_type": "stream",
     "text": [
      " 35%|███▍      | 500/1437 [28:22<53:56,  3.45s/it]"
     ]
    },
    {
     "name": "stdout",
     "output_type": "stream",
     "text": [
      "500/1437\n",
      "mIoU(patch): 0.7367331608374356\n",
      "fwIoU: 0.7476261285374832\n",
      "tIoU, sIoU, nIoU: [0.79168813 0.69146697 0.72704438]\n"
     ]
    },
    {
     "name": "stderr",
     "output_type": "stream",
     "text": [
      " 42%|████▏     | 600/1437 [33:07<28:58,  2.08s/it]"
     ]
    },
    {
     "name": "stdout",
     "output_type": "stream",
     "text": [
      "600/1437\n",
      "mIoU(patch): 0.7207372482831501\n",
      "fwIoU: 0.7343869681861454\n",
      "tIoU, sIoU, nIoU: [0.78687209 0.66198901 0.71335065]\n"
     ]
    },
    {
     "name": "stderr",
     "output_type": "stream",
     "text": [
      " 49%|████▊     | 700/1437 [38:43<42:13,  3.44s/it]"
     ]
    },
    {
     "name": "stdout",
     "output_type": "stream",
     "text": [
      "700/1437\n",
      "mIoU(patch): 0.6986641512253634\n",
      "fwIoU: 0.7294605682938721\n",
      "tIoU, sIoU, nIoU: [0.78813233 0.65267157 0.65518855]\n"
     ]
    },
    {
     "name": "stderr",
     "output_type": "stream",
     "text": [
      " 56%|█████▌    | 800/1437 [44:21<36:20,  3.42s/it]"
     ]
    },
    {
     "name": "stdout",
     "output_type": "stream",
     "text": [
      "800/1437\n",
      "mIoU(patch): 0.6974841215613257\n",
      "fwIoU: 0.7321414529160083\n",
      "tIoU, sIoU, nIoU: [0.79098848 0.6552841  0.64617979]\n"
     ]
    },
    {
     "name": "stderr",
     "output_type": "stream",
     "text": [
      " 63%|██████▎   | 900/1437 [49:59<31:12,  3.49s/it]"
     ]
    },
    {
     "name": "stdout",
     "output_type": "stream",
     "text": [
      "900/1437\n",
      "mIoU(patch): 0.6949898184311921\n",
      "fwIoU: 0.7338854075051395\n",
      "tIoU, sIoU, nIoU: [0.79344122 0.65604016 0.63548807]\n"
     ]
    },
    {
     "name": "stderr",
     "output_type": "stream",
     "text": [
      " 70%|██████▉   | 1000/1437 [55:37<25:17,  3.47s/it]"
     ]
    },
    {
     "name": "stdout",
     "output_type": "stream",
     "text": [
      "1000/1437\n",
      "mIoU(patch): 0.6942024136879362\n",
      "fwIoU: 0.7372808582474664\n",
      "tIoU, sIoU, nIoU: [0.79832074 0.65402595 0.63026055]\n"
     ]
    },
    {
     "name": "stderr",
     "output_type": "stream",
     "text": [
      " 77%|███████▋  | 1100/1437 [1:01:20<19:24,  3.45s/it]"
     ]
    },
    {
     "name": "stdout",
     "output_type": "stream",
     "text": [
      "1100/1437\n",
      "mIoU(patch): 0.6984847240585447\n",
      "fwIoU: 0.7393203182772256\n",
      "tIoU, sIoU, nIoU: [0.79361568 0.67167301 0.63016548]\n"
     ]
    },
    {
     "name": "stderr",
     "output_type": "stream",
     "text": [
      " 84%|████████▎ | 1200/1437 [1:07:02<12:47,  3.24s/it]"
     ]
    },
    {
     "name": "stdout",
     "output_type": "stream",
     "text": [
      "1200/1437\n",
      "mIoU(patch): 0.7000277723477124\n",
      "fwIoU: 0.7409524598250726\n",
      "tIoU, sIoU, nIoU: [0.79287996 0.67703787 0.63016548]\n"
     ]
    },
    {
     "name": "stderr",
     "output_type": "stream",
     "text": [
      " 90%|█████████ | 1300/1437 [1:12:44<05:47,  2.54s/it]"
     ]
    },
    {
     "name": "stdout",
     "output_type": "stream",
     "text": [
      "1300/1437\n",
      "mIoU(patch): 0.7019669775345506\n",
      "fwIoU: 0.7427688735519743\n",
      "tIoU, sIoU, nIoU: [0.79136769 0.68436822 0.63016502]\n"
     ]
    },
    {
     "name": "stderr",
     "output_type": "stream",
     "text": [
      " 97%|█████████▋| 1400/1437 [1:18:25<01:42,  2.78s/it]"
     ]
    },
    {
     "name": "stdout",
     "output_type": "stream",
     "text": [
      "1400/1437\n",
      "mIoU(patch): 0.6998225312712103\n",
      "fwIoU: 0.7395043081906304\n",
      "tIoU, sIoU, nIoU: [0.78744088 0.68186169 0.63016502]\n"
     ]
    },
    {
     "name": "stderr",
     "output_type": "stream",
     "text": [
      "100%|██████████| 1437/1437 [1:20:33<00:00,  3.36s/it]\n"
     ]
    },
    {
     "name": "stdout",
     "output_type": "stream",
     "text": [
      "mIoU(big mask): 0.7591554818466243\n",
      "fwIoU: 0.7719089985382829\n",
      "tIoU, sIoU, nIoU: [0.81348806 0.71650886 0.74746952]\n",
      "epoch=29-validation_miou_mask_epoch=0.7334.ckpt\n",
      "Extension horovod.torch has not been built: /home/fzj/.local/lib/python3.8/site-packages/horovod/torch/mpi_lib_v2.cpython-38-x86_64-linux-gnu.so not found\n",
      "If this is not expected, reinstall Horovod with HOROVOD_WITH_PYTORCH=1 to debug the build error.\n",
      "Warning! MPI libs are missing, but python applications are still available.\n",
      "Find best checkpoint file: logs/wsss4luad3k6_3k6_run1/epoch=29-validation_miou_mask_epoch=0.7334.ckpt\n",
      "Save dir: logs/wsss4luad3k6_3k6_run1/test_tta\n"
     ]
    },
    {
     "name": "stderr",
     "output_type": "stream",
     "text": [
      "  0%|          | 0/1437 [00:00<?, ?it/s]"
     ]
    },
    {
     "name": "stdout",
     "output_type": "stream",
     "text": [
      "0/1437\n",
      "mIoU(patch): 0.0\n",
      "fwIoU: 0.0\n",
      "tIoU, sIoU, nIoU: [0. 0. 0.]\n"
     ]
    },
    {
     "name": "stderr",
     "output_type": "stream",
     "text": [
      "/data114_1/fzj/CODE/TMI24-HisynSeg/TMI23-submit-final/loss.py:34: RuntimeWarning: invalid value encountered in divide\n",
      "  MIoU = np.diag(self.confusion_matrix) / (\n",
      "/data114_1/fzj/CODE/TMI24-HisynSeg/TMI23-submit-final/loss.py:46: RuntimeWarning: invalid value encountered in divide\n",
      "  freq = np.sum(self.confusion_matrix, axis=1) / \\\n",
      "/data114_1/fzj/CODE/TMI24-HisynSeg/TMI23-submit-final/loss.py:48: RuntimeWarning: invalid value encountered in divide\n",
      "  iu = np.diag(self.confusion_matrix) / (\n",
      "  7%|▋         | 100/1437 [05:54<1:13:33,  3.30s/it]"
     ]
    },
    {
     "name": "stdout",
     "output_type": "stream",
     "text": [
      "100/1437\n",
      "mIoU(patch): 0.6170991220977307\n",
      "fwIoU: 0.7284255304460903\n",
      "tIoU, sIoU, nIoU: [0.76180476 0.69831677 0.39117584]\n"
     ]
    },
    {
     "name": "stderr",
     "output_type": "stream",
     "text": [
      " 14%|█▍        | 200/1437 [11:35<1:07:38,  3.28s/it]"
     ]
    },
    {
     "name": "stdout",
     "output_type": "stream",
     "text": [
      "200/1437\n",
      "mIoU(patch): 0.6996613596043334\n",
      "fwIoU: 0.7271501169234856\n",
      "tIoU, sIoU, nIoU: [0.78054915 0.66382525 0.65460968]\n"
     ]
    },
    {
     "name": "stderr",
     "output_type": "stream",
     "text": [
      " 21%|██        | 300/1437 [17:17<1:04:40,  3.41s/it]"
     ]
    },
    {
     "name": "stdout",
     "output_type": "stream",
     "text": [
      "300/1437\n",
      "mIoU(patch): 0.7032131216500942\n",
      "fwIoU: 0.7234863121209302\n",
      "tIoU, sIoU, nIoU: [0.78129331 0.649813   0.67853306]\n"
     ]
    },
    {
     "name": "stderr",
     "output_type": "stream",
     "text": [
      " 28%|██▊       | 400/1437 [22:59<59:50,  3.46s/it]  "
     ]
    },
    {
     "name": "stdout",
     "output_type": "stream",
     "text": [
      "400/1437\n",
      "mIoU(patch): 0.7193674534040891\n",
      "fwIoU: 0.7314112597799736\n",
      "tIoU, sIoU, nIoU: [0.78736112 0.65396235 0.71677888]\n"
     ]
    },
    {
     "name": "stderr",
     "output_type": "stream",
     "text": [
      " 35%|███▍      | 500/1437 [28:52<54:03,  3.46s/it]  "
     ]
    },
    {
     "name": "stdout",
     "output_type": "stream",
     "text": [
      "500/1437\n",
      "mIoU(patch): 0.7209743706757147\n",
      "fwIoU: 0.7303126755540916\n",
      "tIoU, sIoU, nIoU: [0.77834187 0.66726795 0.7173133 ]\n"
     ]
    },
    {
     "name": "stderr",
     "output_type": "stream",
     "text": [
      " 42%|████▏     | 600/1437 [34:37<48:41,  3.49s/it]"
     ]
    },
    {
     "name": "stdout",
     "output_type": "stream",
     "text": [
      "600/1437\n",
      "mIoU(patch): 0.6959494850125577\n",
      "fwIoU: 0.714342519859349\n",
      "tIoU, sIoU, nIoU: [0.77256361 0.63638659 0.67889826]\n"
     ]
    },
    {
     "name": "stderr",
     "output_type": "stream",
     "text": [
      " 49%|████▊     | 700/1437 [40:21<43:28,  3.54s/it]"
     ]
    },
    {
     "name": "stdout",
     "output_type": "stream",
     "text": [
      "700/1437\n",
      "mIoU(patch): 0.6579699954336913\n",
      "fwIoU: 0.7035772304705454\n",
      "tIoU, sIoU, nIoU: [0.76896412 0.62489191 0.58005396]\n"
     ]
    },
    {
     "name": "stderr",
     "output_type": "stream",
     "text": [
      " 56%|█████▌    | 800/1437 [46:02<36:59,  3.48s/it]"
     ]
    },
    {
     "name": "stdout",
     "output_type": "stream",
     "text": [
      "800/1437\n",
      "mIoU(patch): 0.6598361465963468\n",
      "fwIoU: 0.7088898783628179\n",
      "tIoU, sIoU, nIoU: [0.77378593 0.62992831 0.5757942 ]\n"
     ]
    },
    {
     "name": "stderr",
     "output_type": "stream",
     "text": [
      " 63%|██████▎   | 900/1437 [51:46<31:32,  3.52s/it]"
     ]
    },
    {
     "name": "stdout",
     "output_type": "stream",
     "text": [
      "900/1437\n",
      "mIoU(patch): 0.6602495199133743\n",
      "fwIoU: 0.7126318600589143\n",
      "tIoU, sIoU, nIoU: [0.77753362 0.63256355 0.57065139]\n"
     ]
    },
    {
     "name": "stderr",
     "output_type": "stream",
     "text": [
      " 70%|██████▉   | 1000/1437 [57:30<24:48,  3.41s/it]"
     ]
    },
    {
     "name": "stdout",
     "output_type": "stream",
     "text": [
      "1000/1437\n",
      "mIoU(patch): 0.6616239692125864\n",
      "fwIoU: 0.7184912220309759\n",
      "tIoU, sIoU, nIoU: [0.78456535 0.63281761 0.56748896]\n"
     ]
    },
    {
     "name": "stderr",
     "output_type": "stream",
     "text": [
      " 77%|███████▋  | 1100/1437 [1:03:14<19:34,  3.48s/it]"
     ]
    },
    {
     "name": "stdout",
     "output_type": "stream",
     "text": [
      "1100/1437\n",
      "mIoU(patch): 0.6531520580496617\n",
      "fwIoU: 0.7035589490394273\n",
      "tIoU, sIoU, nIoU: [0.76799371 0.6239773  0.56748516]\n"
     ]
    },
    {
     "name": "stderr",
     "output_type": "stream",
     "text": [
      " 84%|████████▎ | 1200/1437 [1:08:52<13:40,  3.46s/it]"
     ]
    },
    {
     "name": "stdout",
     "output_type": "stream",
     "text": [
      "1200/1437\n",
      "mIoU(patch): 0.6469019966701204\n",
      "fwIoU: 0.6947939006724463\n",
      "tIoU, sIoU, nIoU: [0.76045503 0.6127658  0.56748516]\n"
     ]
    },
    {
     "name": "stderr",
     "output_type": "stream",
     "text": [
      " 90%|█████████ | 1300/1437 [1:14:31<07:47,  3.42s/it]"
     ]
    },
    {
     "name": "stdout",
     "output_type": "stream",
     "text": [
      "1300/1437\n",
      "mIoU(patch): 0.6461423009654056\n",
      "fwIoU: 0.6928416794598432\n",
      "tIoU, sIoU, nIoU: [0.75658545 0.6143563  0.56748516]\n"
     ]
    },
    {
     "name": "stderr",
     "output_type": "stream",
     "text": [
      " 97%|█████████▋| 1400/1437 [1:20:10<02:07,  3.44s/it]"
     ]
    },
    {
     "name": "stdout",
     "output_type": "stream",
     "text": [
      "1400/1437\n",
      "mIoU(patch): 0.6441678514217277\n",
      "fwIoU: 0.6897631535456992\n",
      "tIoU, sIoU, nIoU: [0.75308042 0.61193797 0.56748516]\n"
     ]
    },
    {
     "name": "stderr",
     "output_type": "stream",
     "text": [
      "100%|██████████| 1437/1437 [1:22:16<00:00,  3.44s/it]\n"
     ]
    },
    {
     "name": "stdout",
     "output_type": "stream",
     "text": [
      "mIoU(big mask): 0.7019172364511214\n",
      "fwIoU: 0.7183542398989795\n",
      "tIoU, sIoU, nIoU: [0.77729828 0.63943099 0.68902244]\n",
      "epoch=30-validation_miou_mask_epoch=0.7375.ckpt\n",
      "Extension horovod.torch has not been built: /home/fzj/.local/lib/python3.8/site-packages/horovod/torch/mpi_lib_v2.cpython-38-x86_64-linux-gnu.so not found\n",
      "If this is not expected, reinstall Horovod with HOROVOD_WITH_PYTORCH=1 to debug the build error.\n",
      "Warning! MPI libs are missing, but python applications are still available.\n",
      "Find best checkpoint file: logs/wsss4luad3k6_3k6_run1/epoch=30-validation_miou_mask_epoch=0.7375.ckpt\n",
      "Save dir: logs/wsss4luad3k6_3k6_run1/test_tta\n"
     ]
    },
    {
     "name": "stderr",
     "output_type": "stream",
     "text": [
      "  0%|          | 0/1437 [00:00<?, ?it/s]"
     ]
    },
    {
     "name": "stdout",
     "output_type": "stream",
     "text": [
      "0/1437\n",
      "mIoU(patch): 0.0\n",
      "fwIoU: 0.0\n",
      "tIoU, sIoU, nIoU: [0. 0. 0.]\n"
     ]
    },
    {
     "name": "stderr",
     "output_type": "stream",
     "text": [
      "/data114_1/fzj/CODE/TMI24-HisynSeg/TMI23-submit-final/loss.py:34: RuntimeWarning: invalid value encountered in divide\n",
      "  MIoU = np.diag(self.confusion_matrix) / (\n",
      "/data114_1/fzj/CODE/TMI24-HisynSeg/TMI23-submit-final/loss.py:46: RuntimeWarning: invalid value encountered in divide\n",
      "  freq = np.sum(self.confusion_matrix, axis=1) / \\\n",
      "/data114_1/fzj/CODE/TMI24-HisynSeg/TMI23-submit-final/loss.py:48: RuntimeWarning: invalid value encountered in divide\n",
      "  iu = np.diag(self.confusion_matrix) / (\n",
      "  7%|▋         | 100/1437 [05:32<49:30,  2.22s/it] "
     ]
    },
    {
     "name": "stdout",
     "output_type": "stream",
     "text": [
      "100/1437\n",
      "mIoU(patch): 0.6762482904519684\n",
      "fwIoU: 0.7555211084278394\n",
      "tIoU, sIoU, nIoU: [0.78127109 0.73199329 0.51548049]\n"
     ]
    },
    {
     "name": "stderr",
     "output_type": "stream",
     "text": [
      " 14%|█▍        | 200/1437 [10:46<1:10:03,  3.40s/it]"
     ]
    },
    {
     "name": "stdout",
     "output_type": "stream",
     "text": [
      "200/1437\n",
      "mIoU(patch): 0.6540713319622445\n",
      "fwIoU: 0.7336355798411973\n",
      "tIoU, sIoU, nIoU: [0.78789834 0.68826315 0.48605251]\n"
     ]
    },
    {
     "name": "stderr",
     "output_type": "stream",
     "text": [
      " 21%|██        | 300/1437 [16:26<1:05:27,  3.45s/it]"
     ]
    },
    {
     "name": "stdout",
     "output_type": "stream",
     "text": [
      "300/1437\n",
      "mIoU(patch): 0.6492985508009509\n",
      "fwIoU: 0.721482809031441\n",
      "tIoU, sIoU, nIoU: [0.78471938 0.67154724 0.49162903]\n"
     ]
    },
    {
     "name": "stderr",
     "output_type": "stream",
     "text": [
      " 28%|██▊       | 400/1437 [22:03<59:20,  3.43s/it]  "
     ]
    },
    {
     "name": "stdout",
     "output_type": "stream",
     "text": [
      "400/1437\n",
      "mIoU(patch): 0.6679142255381073\n",
      "fwIoU: 0.7237142977201979\n",
      "tIoU, sIoU, nIoU: [0.78709933 0.67061616 0.54602718]\n"
     ]
    },
    {
     "name": "stderr",
     "output_type": "stream",
     "text": [
      " 35%|███▍      | 500/1437 [27:47<53:54,  3.45s/it]  "
     ]
    },
    {
     "name": "stdout",
     "output_type": "stream",
     "text": [
      "500/1437\n",
      "mIoU(patch): 0.6837056988336921\n",
      "fwIoU: 0.7276764469308478\n",
      "tIoU, sIoU, nIoU: [0.78021686 0.68306303 0.58783721]\n"
     ]
    },
    {
     "name": "stderr",
     "output_type": "stream",
     "text": [
      " 42%|████▏     | 600/1437 [33:27<48:42,  3.49s/it]"
     ]
    },
    {
     "name": "stdout",
     "output_type": "stream",
     "text": [
      "600/1437\n",
      "mIoU(patch): 0.6766948157272612\n",
      "fwIoU: 0.718395697273218\n",
      "tIoU, sIoU, nIoU: [0.77724523 0.6563301  0.59650912]\n"
     ]
    },
    {
     "name": "stderr",
     "output_type": "stream",
     "text": [
      " 49%|████▊     | 700/1437 [39:12<43:15,  3.52s/it]"
     ]
    },
    {
     "name": "stdout",
     "output_type": "stream",
     "text": [
      "700/1437\n",
      "mIoU(patch): 0.6666668095040112\n",
      "fwIoU: 0.7168529092625883\n",
      "tIoU, sIoU, nIoU: [0.77890504 0.64639731 0.57469807]\n"
     ]
    },
    {
     "name": "stderr",
     "output_type": "stream",
     "text": [
      " 56%|█████▌    | 800/1437 [44:53<36:04,  3.40s/it]"
     ]
    },
    {
     "name": "stdout",
     "output_type": "stream",
     "text": [
      "800/1437\n",
      "mIoU(patch): 0.6680580336387525\n",
      "fwIoU: 0.7212231167461554\n",
      "tIoU, sIoU, nIoU: [0.78263501 0.65010943 0.57142966]\n"
     ]
    },
    {
     "name": "stderr",
     "output_type": "stream",
     "text": [
      " 63%|██████▎   | 900/1437 [50:34<30:33,  3.41s/it]"
     ]
    },
    {
     "name": "stdout",
     "output_type": "stream",
     "text": [
      "900/1437\n",
      "mIoU(patch): 0.6678418469924354\n",
      "fwIoU: 0.7240446680312793\n",
      "tIoU, sIoU, nIoU: [0.78544471 0.65146476 0.56661607]\n"
     ]
    },
    {
     "name": "stderr",
     "output_type": "stream",
     "text": [
      " 70%|██████▉   | 1000/1437 [56:17<23:28,  3.22s/it]"
     ]
    },
    {
     "name": "stdout",
     "output_type": "stream",
     "text": [
      "1000/1437\n",
      "mIoU(patch): 0.6687252236999295\n",
      "fwIoU: 0.7292516601576802\n",
      "tIoU, sIoU, nIoU: [0.79181093 0.65103995 0.56332479]\n"
     ]
    },
    {
     "name": "stderr",
     "output_type": "stream",
     "text": [
      " 77%|███████▋  | 1100/1437 [1:02:02<16:07,  2.87s/it]"
     ]
    },
    {
     "name": "stdout",
     "output_type": "stream",
     "text": [
      "1100/1437\n",
      "mIoU(patch): 0.6692349631213165\n",
      "fwIoU: 0.726718714827367\n",
      "tIoU, sIoU, nIoU: [0.78416645 0.66026981 0.56326863]\n"
     ]
    },
    {
     "name": "stderr",
     "output_type": "stream",
     "text": [
      " 84%|████████▎ | 1200/1437 [1:07:48<13:50,  3.51s/it]"
     ]
    },
    {
     "name": "stdout",
     "output_type": "stream",
     "text": [
      "1200/1437\n",
      "mIoU(patch): 0.6684273802940291\n",
      "fwIoU: 0.7254883323238763\n",
      "tIoU, sIoU, nIoU: [0.78167756 0.66033595 0.56326863]\n"
     ]
    },
    {
     "name": "stderr",
     "output_type": "stream",
     "text": [
      " 90%|█████████ | 1300/1437 [1:13:32<07:56,  3.48s/it]"
     ]
    },
    {
     "name": "stdout",
     "output_type": "stream",
     "text": [
      "1300/1437\n",
      "mIoU(patch): 0.6697748649029048\n",
      "fwIoU: 0.7267218715650626\n",
      "tIoU, sIoU, nIoU: [0.78004668 0.66600929 0.56326863]\n"
     ]
    },
    {
     "name": "stderr",
     "output_type": "stream",
     "text": [
      " 97%|█████████▋| 1400/1437 [1:19:16<02:08,  3.49s/it]"
     ]
    },
    {
     "name": "stdout",
     "output_type": "stream",
     "text": [
      "1400/1437\n",
      "mIoU(patch): 0.6665995894651848\n",
      "fwIoU: 0.7222158876379001\n",
      "tIoU, sIoU, nIoU: [0.77540446 0.66112567 0.56326863]\n"
     ]
    },
    {
     "name": "stderr",
     "output_type": "stream",
     "text": [
      "100%|██████████| 1437/1437 [1:21:20<00:00,  3.40s/it]\n"
     ]
    },
    {
     "name": "stdout",
     "output_type": "stream",
     "text": [
      "mIoU(big mask): 0.7030175508622075\n",
      "fwIoU: 0.7530643928294879\n",
      "tIoU, sIoU, nIoU: [0.80135726 0.69699583 0.61069957]\n",
      "epoch=31-validation_miou_mask_epoch=0.7299.ckpt\n",
      "Extension horovod.torch has not been built: /home/fzj/.local/lib/python3.8/site-packages/horovod/torch/mpi_lib_v2.cpython-38-x86_64-linux-gnu.so not found\n",
      "If this is not expected, reinstall Horovod with HOROVOD_WITH_PYTORCH=1 to debug the build error.\n",
      "Warning! MPI libs are missing, but python applications are still available.\n",
      "Find best checkpoint file: logs/wsss4luad3k6_3k6_run1/epoch=31-validation_miou_mask_epoch=0.7299.ckpt\n",
      "Save dir: logs/wsss4luad3k6_3k6_run1/test_tta\n"
     ]
    },
    {
     "name": "stderr",
     "output_type": "stream",
     "text": [
      "  0%|          | 0/1437 [00:00<?, ?it/s]"
     ]
    },
    {
     "name": "stdout",
     "output_type": "stream",
     "text": [
      "0/1437\n",
      "mIoU(patch): 0.0\n",
      "fwIoU: 0.0\n",
      "tIoU, sIoU, nIoU: [0. 0. 0.]\n"
     ]
    },
    {
     "name": "stderr",
     "output_type": "stream",
     "text": [
      "/data114_1/fzj/CODE/TMI24-HisynSeg/TMI23-submit-final/loss.py:34: RuntimeWarning: invalid value encountered in divide\n",
      "  MIoU = np.diag(self.confusion_matrix) / (\n",
      "/data114_1/fzj/CODE/TMI24-HisynSeg/TMI23-submit-final/loss.py:46: RuntimeWarning: invalid value encountered in divide\n",
      "  freq = np.sum(self.confusion_matrix, axis=1) / \\\n",
      "/data114_1/fzj/CODE/TMI24-HisynSeg/TMI23-submit-final/loss.py:48: RuntimeWarning: invalid value encountered in divide\n",
      "  iu = np.diag(self.confusion_matrix) / (\n",
      "  7%|▋         | 100/1437 [06:08<1:16:42,  3.44s/it]"
     ]
    },
    {
     "name": "stdout",
     "output_type": "stream",
     "text": [
      "100/1437\n",
      "mIoU(patch): 0.6520824364043073\n",
      "fwIoU: 0.7300733865378525\n",
      "tIoU, sIoU, nIoU: [0.76210521 0.69986724 0.49427486]\n"
     ]
    },
    {
     "name": "stderr",
     "output_type": "stream",
     "text": [
      " 14%|█▍        | 200/1437 [11:51<1:11:24,  3.46s/it]"
     ]
    },
    {
     "name": "stdout",
     "output_type": "stream",
     "text": [
      "200/1437\n",
      "mIoU(patch): 0.692965229253487\n",
      "fwIoU: 0.729548686447804\n",
      "tIoU, sIoU, nIoU: [0.78163613 0.67137008 0.62588947]\n"
     ]
    },
    {
     "name": "stderr",
     "output_type": "stream",
     "text": [
      " 21%|██        | 300/1437 [17:35<1:05:52,  3.48s/it]"
     ]
    },
    {
     "name": "stdout",
     "output_type": "stream",
     "text": [
      "300/1437\n",
      "mIoU(patch): 0.6901770416987302\n",
      "fwIoU: 0.7242187386568906\n",
      "tIoU, sIoU, nIoU: [0.78173245 0.65942329 0.62937539]\n"
     ]
    },
    {
     "name": "stderr",
     "output_type": "stream",
     "text": [
      " 28%|██▊       | 400/1437 [23:14<58:12,  3.37s/it]  "
     ]
    },
    {
     "name": "stdout",
     "output_type": "stream",
     "text": [
      "400/1437\n",
      "mIoU(patch): 0.7030879821832677\n",
      "fwIoU: 0.7269677337694397\n",
      "tIoU, sIoU, nIoU: [0.78352952 0.65829011 0.66744431]\n"
     ]
    },
    {
     "name": "stderr",
     "output_type": "stream",
     "text": [
      " 35%|███▍      | 500/1437 [28:56<54:16,  3.48s/it]"
     ]
    },
    {
     "name": "stdout",
     "output_type": "stream",
     "text": [
      "500/1437\n",
      "mIoU(patch): 0.7124073529729822\n",
      "fwIoU: 0.7286293144197058\n",
      "tIoU, sIoU, nIoU: [0.77703132 0.67000915 0.69018158]\n"
     ]
    },
    {
     "name": "stderr",
     "output_type": "stream",
     "text": [
      " 42%|████▏     | 600/1437 [34:39<48:28,  3.47s/it]"
     ]
    },
    {
     "name": "stdout",
     "output_type": "stream",
     "text": [
      "600/1437\n",
      "mIoU(patch): 0.6995939145661607\n",
      "fwIoU: 0.7153013920611835\n",
      "tIoU, sIoU, nIoU: [0.77194116 0.63788007 0.68896051]\n"
     ]
    },
    {
     "name": "stderr",
     "output_type": "stream",
     "text": [
      " 49%|████▊     | 700/1437 [40:23<42:45,  3.48s/it]"
     ]
    },
    {
     "name": "stdout",
     "output_type": "stream",
     "text": [
      "700/1437\n",
      "mIoU(patch): 0.6840740819668162\n",
      "fwIoU: 0.7101685055639702\n",
      "tIoU, sIoU, nIoU: [0.77224211 0.62496528 0.65501486]\n"
     ]
    },
    {
     "name": "stderr",
     "output_type": "stream",
     "text": [
      " 56%|█████▌    | 800/1437 [46:05<36:35,  3.45s/it]"
     ]
    },
    {
     "name": "stdout",
     "output_type": "stream",
     "text": [
      "800/1437\n",
      "mIoU(patch): 0.6856493265058168\n",
      "fwIoU: 0.714554676684173\n",
      "tIoU, sIoU, nIoU: [0.77616482 0.6301406  0.65064256]\n"
     ]
    },
    {
     "name": "stderr",
     "output_type": "stream",
     "text": [
      " 63%|██████▎   | 900/1437 [51:47<31:26,  3.51s/it]"
     ]
    },
    {
     "name": "stdout",
     "output_type": "stream",
     "text": [
      "900/1437\n",
      "mIoU(patch): 0.685689037152291\n",
      "fwIoU: 0.7176255968633521\n",
      "tIoU, sIoU, nIoU: [0.77932267 0.63299765 0.64474679]\n"
     ]
    },
    {
     "name": "stderr",
     "output_type": "stream",
     "text": [
      " 70%|██████▉   | 1000/1437 [57:30<25:21,  3.48s/it]"
     ]
    },
    {
     "name": "stdout",
     "output_type": "stream",
     "text": [
      "1000/1437\n",
      "mIoU(patch): 0.6868969584274368\n",
      "fwIoU: 0.7231811839371896\n",
      "tIoU, sIoU, nIoU: [0.78608168 0.63386571 0.64074349]\n"
     ]
    },
    {
     "name": "stderr",
     "output_type": "stream",
     "text": [
      " 77%|███████▋  | 1100/1437 [1:03:13<18:35,  3.31s/it]"
     ]
    },
    {
     "name": "stdout",
     "output_type": "stream",
     "text": [
      "1100/1437\n",
      "mIoU(patch): 0.6806322928291165\n",
      "fwIoU: 0.7108482047328006\n",
      "tIoU, sIoU, nIoU: [0.77168569 0.62947063 0.64074056]\n"
     ]
    },
    {
     "name": "stderr",
     "output_type": "stream",
     "text": [
      " 84%|████████▎ | 1200/1437 [1:08:58<13:16,  3.36s/it]"
     ]
    },
    {
     "name": "stdout",
     "output_type": "stream",
     "text": [
      "1200/1437\n",
      "mIoU(patch): 0.6758050377802421\n",
      "fwIoU: 0.703722102133646\n",
      "tIoU, sIoU, nIoU: [0.76548712 0.62118743 0.64074056]\n"
     ]
    },
    {
     "name": "stderr",
     "output_type": "stream",
     "text": [
      " 90%|█████████ | 1300/1437 [1:14:35<04:57,  2.17s/it]"
     ]
    },
    {
     "name": "stdout",
     "output_type": "stream",
     "text": [
      "1300/1437\n",
      "mIoU(patch): 0.6760160031329668\n",
      "fwIoU: 0.7029266465457169\n",
      "tIoU, sIoU, nIoU: [0.76282643 0.62448102 0.64074056]\n"
     ]
    },
    {
     "name": "stderr",
     "output_type": "stream",
     "text": [
      " 97%|█████████▋| 1400/1437 [1:19:49<02:09,  3.49s/it]"
     ]
    },
    {
     "name": "stdout",
     "output_type": "stream",
     "text": [
      "1400/1437\n",
      "mIoU(patch): 0.6734870209632177\n",
      "fwIoU: 0.6988977945723199\n",
      "tIoU, sIoU, nIoU: [0.75870813 0.62101238 0.64074056]\n"
     ]
    },
    {
     "name": "stderr",
     "output_type": "stream",
     "text": [
      "100%|██████████| 1437/1437 [1:21:49<00:00,  3.42s/it]\n"
     ]
    },
    {
     "name": "stdout",
     "output_type": "stream",
     "text": [
      "mIoU(big mask): 0.7193267440262434\n",
      "fwIoU: 0.7290852637032176\n",
      "tIoU, sIoU, nIoU: [0.78286853 0.65584123 0.71927048]\n",
      "epoch=32-validation_miou_mask_epoch=0.7290.ckpt\n",
      "Extension horovod.torch has not been built: /home/fzj/.local/lib/python3.8/site-packages/horovod/torch/mpi_lib_v2.cpython-38-x86_64-linux-gnu.so not found\n",
      "If this is not expected, reinstall Horovod with HOROVOD_WITH_PYTORCH=1 to debug the build error.\n",
      "Warning! MPI libs are missing, but python applications are still available.\n",
      "Find best checkpoint file: logs/wsss4luad3k6_3k6_run1/epoch=32-validation_miou_mask_epoch=0.7290.ckpt\n",
      "Save dir: logs/wsss4luad3k6_3k6_run1/test_tta\n"
     ]
    },
    {
     "name": "stderr",
     "output_type": "stream",
     "text": [
      "  0%|          | 0/1437 [00:00<?, ?it/s]"
     ]
    },
    {
     "name": "stdout",
     "output_type": "stream",
     "text": [
      "0/1437\n",
      "mIoU(patch): 0.0\n",
      "fwIoU: 0.0\n",
      "tIoU, sIoU, nIoU: [0. 0. 0.]\n"
     ]
    },
    {
     "name": "stderr",
     "output_type": "stream",
     "text": [
      "/data114_1/fzj/CODE/TMI24-HisynSeg/TMI23-submit-final/loss.py:34: RuntimeWarning: invalid value encountered in divide\n",
      "  MIoU = np.diag(self.confusion_matrix) / (\n",
      "/data114_1/fzj/CODE/TMI24-HisynSeg/TMI23-submit-final/loss.py:46: RuntimeWarning: invalid value encountered in divide\n",
      "  freq = np.sum(self.confusion_matrix, axis=1) / \\\n",
      "/data114_1/fzj/CODE/TMI24-HisynSeg/TMI23-submit-final/loss.py:48: RuntimeWarning: invalid value encountered in divide\n",
      "  iu = np.diag(self.confusion_matrix) / (\n",
      "  7%|▋         | 100/1437 [05:49<1:16:58,  3.45s/it]"
     ]
    },
    {
     "name": "stdout",
     "output_type": "stream",
     "text": [
      "100/1437\n",
      "mIoU(patch): 0.6533098939187504\n",
      "fwIoU: 0.7326808839164076\n",
      "tIoU, sIoU, nIoU: [0.76352606 0.70378808 0.49261555]\n"
     ]
    },
    {
     "name": "stderr",
     "output_type": "stream",
     "text": [
      " 14%|█▍        | 200/1437 [11:34<1:12:23,  3.51s/it]"
     ]
    },
    {
     "name": "stdout",
     "output_type": "stream",
     "text": [
      "200/1437\n",
      "mIoU(patch): 0.6851169535702396\n",
      "fwIoU: 0.7266137373503793\n",
      "tIoU, sIoU, nIoU: [0.77928565 0.66943732 0.6066279 ]\n"
     ]
    },
    {
     "name": "stderr",
     "output_type": "stream",
     "text": [
      " 21%|██        | 300/1437 [17:17<1:07:27,  3.56s/it]"
     ]
    },
    {
     "name": "stdout",
     "output_type": "stream",
     "text": [
      "300/1437\n",
      "mIoU(patch): 0.684272539050207\n",
      "fwIoU: 0.7219940779818608\n",
      "tIoU, sIoU, nIoU: [0.78034247 0.65821138 0.61426377]\n"
     ]
    },
    {
     "name": "stderr",
     "output_type": "stream",
     "text": [
      " 28%|██▊       | 400/1437 [23:03<58:57,  3.41s/it]  "
     ]
    },
    {
     "name": "stdout",
     "output_type": "stream",
     "text": [
      "400/1437\n",
      "mIoU(patch): 0.6963500732491371\n",
      "fwIoU: 0.7256024544769315\n",
      "tIoU, sIoU, nIoU: [0.78406821 0.6583676  0.64661441]\n"
     ]
    },
    {
     "name": "stderr",
     "output_type": "stream",
     "text": [
      " 35%|███▍      | 500/1437 [28:47<54:28,  3.49s/it]"
     ]
    },
    {
     "name": "stdout",
     "output_type": "stream",
     "text": [
      "500/1437\n",
      "mIoU(patch): 0.7048755811717645\n",
      "fwIoU: 0.7257419914025193\n",
      "tIoU, sIoU, nIoU: [0.77623247 0.66743823 0.67095604]\n"
     ]
    },
    {
     "name": "stderr",
     "output_type": "stream",
     "text": [
      " 42%|████▏     | 600/1437 [34:30<48:51,  3.50s/it]"
     ]
    },
    {
     "name": "stdout",
     "output_type": "stream",
     "text": [
      "600/1437\n",
      "mIoU(patch): 0.6906786282346605\n",
      "fwIoU: 0.7106451009121932\n",
      "tIoU, sIoU, nIoU: [0.76962793 0.6326342  0.66977375]\n"
     ]
    },
    {
     "name": "stderr",
     "output_type": "stream",
     "text": [
      " 49%|████▊     | 700/1437 [40:17<43:24,  3.53s/it]"
     ]
    },
    {
     "name": "stdout",
     "output_type": "stream",
     "text": [
      "700/1437\n",
      "mIoU(patch): 0.6758098677187302\n",
      "fwIoU: 0.7057268290379868\n",
      "tIoU, sIoU, nIoU: [0.76915166 0.6206564  0.63762154]\n"
     ]
    },
    {
     "name": "stderr",
     "output_type": "stream",
     "text": [
      " 56%|█████▌    | 800/1437 [46:02<37:26,  3.53s/it]"
     ]
    },
    {
     "name": "stdout",
     "output_type": "stream",
     "text": [
      "800/1437\n",
      "mIoU(patch): 0.6773690936636587\n",
      "fwIoU: 0.7103218854160558\n",
      "tIoU, sIoU, nIoU: [0.77337066 0.62574099 0.63299564]\n"
     ]
    },
    {
     "name": "stderr",
     "output_type": "stream",
     "text": [
      " 63%|██████▎   | 900/1437 [51:49<31:44,  3.55s/it]"
     ]
    },
    {
     "name": "stdout",
     "output_type": "stream",
     "text": [
      "900/1437\n",
      "mIoU(patch): 0.6773926007466077\n",
      "fwIoU: 0.7134834867086545\n",
      "tIoU, sIoU, nIoU: [0.77666121 0.62843953 0.62707706]\n"
     ]
    },
    {
     "name": "stderr",
     "output_type": "stream",
     "text": [
      " 70%|██████▉   | 1000/1437 [57:35<25:13,  3.46s/it]"
     ]
    },
    {
     "name": "stdout",
     "output_type": "stream",
     "text": [
      "1000/1437\n",
      "mIoU(patch): 0.6785103560723428\n",
      "fwIoU: 0.7189670299341882\n",
      "tIoU, sIoU, nIoU: [0.78340716 0.62889245 0.62323146]\n"
     ]
    },
    {
     "name": "stderr",
     "output_type": "stream",
     "text": [
      " 77%|███████▋  | 1100/1437 [1:03:27<19:57,  3.55s/it]"
     ]
    },
    {
     "name": "stdout",
     "output_type": "stream",
     "text": [
      "1100/1437\n",
      "mIoU(patch): 0.6774065733521183\n",
      "fwIoU: 0.7135484150789004\n",
      "tIoU, sIoU, nIoU: [0.77370959 0.63532368 0.62318645]\n"
     ]
    },
    {
     "name": "stderr",
     "output_type": "stream",
     "text": [
      " 84%|████████▎ | 1200/1437 [1:09:14<13:53,  3.52s/it]"
     ]
    },
    {
     "name": "stdout",
     "output_type": "stream",
     "text": [
      "1200/1437\n",
      "mIoU(patch): 0.6747844269494184\n",
      "fwIoU: 0.7094809759383756\n",
      "tIoU, sIoU, nIoU: [0.76947181 0.63169502 0.62318645]\n"
     ]
    },
    {
     "name": "stderr",
     "output_type": "stream",
     "text": [
      " 90%|█████████ | 1300/1437 [1:15:01<08:00,  3.51s/it]"
     ]
    },
    {
     "name": "stdout",
     "output_type": "stream",
     "text": [
      "1300/1437\n",
      "mIoU(patch): 0.6747157864121268\n",
      "fwIoU: 0.7083920217288946\n",
      "tIoU, sIoU, nIoU: [0.76632087 0.6346432  0.62318329]\n"
     ]
    },
    {
     "name": "stderr",
     "output_type": "stream",
     "text": [
      " 97%|█████████▋| 1400/1437 [1:20:49<02:12,  3.57s/it]"
     ]
    },
    {
     "name": "stdout",
     "output_type": "stream",
     "text": [
      "1400/1437\n",
      "mIoU(patch): 0.6700396882156658\n",
      "fwIoU: 0.7015363498993408\n",
      "tIoU, sIoU, nIoU: [0.76028625 0.62664963 0.62318319]\n"
     ]
    },
    {
     "name": "stderr",
     "output_type": "stream",
     "text": [
      "100%|██████████| 1437/1437 [1:22:53<00:00,  3.46s/it]\n"
     ]
    },
    {
     "name": "stdout",
     "output_type": "stream",
     "text": [
      "mIoU(big mask): 0.7130898423020572\n",
      "fwIoU: 0.7278923742399052\n",
      "tIoU, sIoU, nIoU: [0.78275609 0.65431581 0.70219763]\n",
      "epoch=33-validation_miou_mask_epoch=0.7428.ckpt\n",
      "Extension horovod.torch has not been built: /home/fzj/.local/lib/python3.8/site-packages/horovod/torch/mpi_lib_v2.cpython-38-x86_64-linux-gnu.so not found\n",
      "If this is not expected, reinstall Horovod with HOROVOD_WITH_PYTORCH=1 to debug the build error.\n",
      "Warning! MPI libs are missing, but python applications are still available.\n",
      "Find best checkpoint file: logs/wsss4luad3k6_3k6_run1/epoch=33-validation_miou_mask_epoch=0.7428.ckpt\n",
      "Save dir: logs/wsss4luad3k6_3k6_run1/test_tta\n"
     ]
    },
    {
     "name": "stderr",
     "output_type": "stream",
     "text": [
      "  0%|          | 0/1437 [00:00<?, ?it/s]"
     ]
    },
    {
     "name": "stdout",
     "output_type": "stream",
     "text": [
      "0/1437\n",
      "mIoU(patch): 0.0\n",
      "fwIoU: 0.0\n",
      "tIoU, sIoU, nIoU: [0. 0. 0.]\n"
     ]
    },
    {
     "name": "stderr",
     "output_type": "stream",
     "text": [
      "/data114_1/fzj/CODE/TMI24-HisynSeg/TMI23-submit-final/loss.py:34: RuntimeWarning: invalid value encountered in divide\n",
      "  MIoU = np.diag(self.confusion_matrix) / (\n",
      "/data114_1/fzj/CODE/TMI24-HisynSeg/TMI23-submit-final/loss.py:46: RuntimeWarning: invalid value encountered in divide\n",
      "  freq = np.sum(self.confusion_matrix, axis=1) / \\\n",
      "/data114_1/fzj/CODE/TMI24-HisynSeg/TMI23-submit-final/loss.py:48: RuntimeWarning: invalid value encountered in divide\n",
      "  iu = np.diag(self.confusion_matrix) / (\n",
      "  7%|▋         | 100/1437 [05:47<1:18:03,  3.50s/it]"
     ]
    },
    {
     "name": "stdout",
     "output_type": "stream",
     "text": [
      "100/1437\n",
      "mIoU(patch): 0.6466347968914491\n",
      "fwIoU: 0.7386522835364251\n",
      "tIoU, sIoU, nIoU: [0.76906776 0.71078793 0.4600487 ]\n"
     ]
    },
    {
     "name": "stderr",
     "output_type": "stream",
     "text": [
      " 14%|█▍        | 200/1437 [11:34<1:12:49,  3.53s/it]"
     ]
    },
    {
     "name": "stdout",
     "output_type": "stream",
     "text": [
      "200/1437\n",
      "mIoU(patch): 0.6857541511346468\n",
      "fwIoU: 0.7256879472364475\n",
      "tIoU, sIoU, nIoU: [0.77814503 0.66823246 0.61088496]\n"
     ]
    },
    {
     "name": "stderr",
     "output_type": "stream",
     "text": [
      " 21%|██        | 300/1437 [17:21<1:07:37,  3.57s/it]"
     ]
    },
    {
     "name": "stdout",
     "output_type": "stream",
     "text": [
      "300/1437\n",
      "mIoU(patch): 0.6846204220753119\n",
      "fwIoU: 0.7207578096572302\n",
      "tIoU, sIoU, nIoU: [0.77933491 0.65566326 0.61886309]\n"
     ]
    },
    {
     "name": "stderr",
     "output_type": "stream",
     "text": [
      " 28%|██▊       | 400/1437 [23:04<45:35,  2.64s/it]  "
     ]
    },
    {
     "name": "stdout",
     "output_type": "stream",
     "text": [
      "400/1437\n",
      "mIoU(patch): 0.693849334455622\n",
      "fwIoU: 0.7234461319967913\n",
      "tIoU, sIoU, nIoU: [0.78254218 0.65551032 0.6434955 ]\n"
     ]
    },
    {
     "name": "stderr",
     "output_type": "stream",
     "text": [
      " 35%|███▍      | 500/1437 [28:53<52:16,  3.35s/it]  "
     ]
    },
    {
     "name": "stdout",
     "output_type": "stream",
     "text": [
      "500/1437\n",
      "mIoU(patch): 0.7028827458096821\n",
      "fwIoU: 0.7246700724405855\n",
      "tIoU, sIoU, nIoU: [0.77475092 0.66762587 0.66627145]\n"
     ]
    },
    {
     "name": "stderr",
     "output_type": "stream",
     "text": [
      " 42%|████▏     | 600/1437 [34:41<48:54,  3.51s/it]"
     ]
    },
    {
     "name": "stdout",
     "output_type": "stream",
     "text": [
      "600/1437\n",
      "mIoU(patch): 0.694218350317401\n",
      "fwIoU: 0.714681008051578\n",
      "tIoU, sIoU, nIoU: [0.77214503 0.63941039 0.67109963]\n"
     ]
    },
    {
     "name": "stderr",
     "output_type": "stream",
     "text": [
      " 49%|████▊     | 700/1437 [40:28<43:38,  3.55s/it]"
     ]
    },
    {
     "name": "stdout",
     "output_type": "stream",
     "text": [
      "700/1437\n",
      "mIoU(patch): 0.6861070406529629\n",
      "fwIoU: 0.7148682272584028\n",
      "tIoU, sIoU, nIoU: [0.77617599 0.63254139 0.64960374]\n"
     ]
    },
    {
     "name": "stderr",
     "output_type": "stream",
     "text": [
      " 56%|█████▌    | 800/1437 [45:49<24:47,  2.34s/it]"
     ]
    },
    {
     "name": "stdout",
     "output_type": "stream",
     "text": [
      "800/1437\n",
      "mIoU(patch): 0.6842444167432218\n",
      "fwIoU: 0.7172744120933103\n",
      "tIoU, sIoU, nIoU: [0.77940227 0.63422775 0.63910323]\n"
     ]
    },
    {
     "name": "stderr",
     "output_type": "stream",
     "text": [
      " 63%|██████▎   | 900/1437 [49:09<17:51,  2.00s/it]"
     ]
    },
    {
     "name": "stdout",
     "output_type": "stream",
     "text": [
      "900/1437\n",
      "mIoU(patch): 0.681452308436986\n",
      "fwIoU: 0.7186005804507852\n",
      "tIoU, sIoU, nIoU: [0.78178294 0.63405316 0.62852083]\n"
     ]
    },
    {
     "name": "stderr",
     "output_type": "stream",
     "text": [
      " 70%|██████▉   | 1000/1437 [52:28<14:31,  2.00s/it]"
     ]
    },
    {
     "name": "stdout",
     "output_type": "stream",
     "text": [
      "1000/1437\n",
      "mIoU(patch): 0.6811585195210821\n",
      "fwIoU: 0.7228024129360326\n",
      "tIoU, sIoU, nIoU: [0.78756132 0.63271114 0.62320309]\n"
     ]
    },
    {
     "name": "stderr",
     "output_type": "stream",
     "text": [
      " 77%|███████▋  | 1100/1437 [55:48<11:19,  2.02s/it]"
     ]
    },
    {
     "name": "stdout",
     "output_type": "stream",
     "text": [
      "1100/1437\n",
      "mIoU(patch): 0.680869924247884\n",
      "fwIoU: 0.7184935461359635\n",
      "tIoU, sIoU, nIoU: [0.77850091 0.64103398 0.62307488]\n"
     ]
    },
    {
     "name": "stderr",
     "output_type": "stream",
     "text": [
      " 84%|████████▎ | 1200/1437 [59:08<08:02,  2.03s/it]"
     ]
    },
    {
     "name": "stdout",
     "output_type": "stream",
     "text": [
      "1200/1437\n",
      "mIoU(patch): 0.6795097329803298\n",
      "fwIoU: 0.716095633785245\n",
      "tIoU, sIoU, nIoU: [0.77511254 0.64034178 0.62307488]\n"
     ]
    },
    {
     "name": "stderr",
     "output_type": "stream",
     "text": [
      " 90%|█████████ | 1300/1437 [1:02:30<04:35,  2.01s/it]"
     ]
    },
    {
     "name": "stdout",
     "output_type": "stream",
     "text": [
      "1300/1437\n",
      "mIoU(patch): 0.6799681460109374\n",
      "fwIoU: 0.7157233879155132\n",
      "tIoU, sIoU, nIoU: [0.772205   0.64462456 0.62307488]\n"
     ]
    },
    {
     "name": "stderr",
     "output_type": "stream",
     "text": [
      " 97%|█████████▋| 1400/1437 [1:05:49<01:13,  1.99s/it]"
     ]
    },
    {
     "name": "stdout",
     "output_type": "stream",
     "text": [
      "1400/1437\n",
      "mIoU(patch): 0.6746023145248045\n",
      "fwIoU: 0.7079251828480544\n",
      "tIoU, sIoU, nIoU: [0.76528436 0.63544771 0.62307488]\n"
     ]
    },
    {
     "name": "stderr",
     "output_type": "stream",
     "text": [
      "100%|██████████| 1437/1437 [1:07:03<00:00,  2.80s/it]\n"
     ]
    },
    {
     "name": "stdout",
     "output_type": "stream",
     "text": [
      "mIoU(big mask): 0.7187091084479796\n",
      "fwIoU: 0.7383240347275015\n",
      "tIoU, sIoU, nIoU: [0.79031021 0.66991938 0.69589774]\n",
      "epoch=34-validation_miou_mask_epoch=0.7474.ckpt\n",
      "Extension horovod.torch has not been built: /home/fzj/.local/lib/python3.8/site-packages/horovod/torch/mpi_lib_v2.cpython-38-x86_64-linux-gnu.so not found\n",
      "If this is not expected, reinstall Horovod with HOROVOD_WITH_PYTORCH=1 to debug the build error.\n",
      "Warning! MPI libs are missing, but python applications are still available.\n",
      "Find best checkpoint file: logs/wsss4luad3k6_3k6_run1/epoch=34-validation_miou_mask_epoch=0.7474.ckpt\n",
      "Save dir: logs/wsss4luad3k6_3k6_run1/test_tta\n"
     ]
    },
    {
     "name": "stderr",
     "output_type": "stream",
     "text": [
      "  0%|          | 0/1437 [00:00<?, ?it/s]"
     ]
    },
    {
     "name": "stdout",
     "output_type": "stream",
     "text": [
      "0/1437\n",
      "mIoU(patch): 0.0\n",
      "fwIoU: 0.0\n",
      "tIoU, sIoU, nIoU: [0. 0. 0.]\n"
     ]
    },
    {
     "name": "stderr",
     "output_type": "stream",
     "text": [
      "/data114_1/fzj/CODE/TMI24-HisynSeg/TMI23-submit-final/loss.py:34: RuntimeWarning: invalid value encountered in divide\n",
      "  MIoU = np.diag(self.confusion_matrix) / (\n",
      "/data114_1/fzj/CODE/TMI24-HisynSeg/TMI23-submit-final/loss.py:46: RuntimeWarning: invalid value encountered in divide\n",
      "  freq = np.sum(self.confusion_matrix, axis=1) / \\\n",
      "/data114_1/fzj/CODE/TMI24-HisynSeg/TMI23-submit-final/loss.py:48: RuntimeWarning: invalid value encountered in divide\n",
      "  iu = np.diag(self.confusion_matrix) / (\n",
      "  7%|▋         | 100/1437 [03:31<43:41,  1.96s/it] "
     ]
    },
    {
     "name": "stdout",
     "output_type": "stream",
     "text": [
      "100/1437\n",
      "mIoU(patch): 0.6493549599106322\n",
      "fwIoU: 0.7294919780002408\n",
      "tIoU, sIoU, nIoU: [0.76164002 0.69926104 0.48716382]\n"
     ]
    },
    {
     "name": "stderr",
     "output_type": "stream",
     "text": [
      " 14%|█▍        | 200/1437 [06:46<40:05,  1.94s/it]"
     ]
    },
    {
     "name": "stdout",
     "output_type": "stream",
     "text": [
      "200/1437\n",
      "mIoU(patch): 0.670231584006724\n",
      "fwIoU: 0.7117233802663437\n",
      "tIoU, sIoU, nIoU: [0.77203264 0.64404312 0.594619  ]\n"
     ]
    },
    {
     "name": "stderr",
     "output_type": "stream",
     "text": [
      " 21%|██        | 300/1437 [10:02<37:07,  1.96s/it]"
     ]
    },
    {
     "name": "stdout",
     "output_type": "stream",
     "text": [
      "300/1437\n",
      "mIoU(patch): 0.6668108225485874\n",
      "fwIoU: 0.7022826772789752\n",
      "tIoU, sIoU, nIoU: [0.77056096 0.62233044 0.60754107]\n"
     ]
    },
    {
     "name": "stderr",
     "output_type": "stream",
     "text": [
      " 28%|██▊       | 400/1437 [13:20<34:11,  1.98s/it]"
     ]
    },
    {
     "name": "stdout",
     "output_type": "stream",
     "text": [
      "400/1437\n",
      "mIoU(patch): 0.6769412386563348\n",
      "fwIoU: 0.7033058060364812\n",
      "tIoU, sIoU, nIoU: [0.7725324  0.61689847 0.64139285]\n"
     ]
    },
    {
     "name": "stderr",
     "output_type": "stream",
     "text": [
      " 35%|███▍      | 500/1437 [16:40<30:54,  1.98s/it]"
     ]
    },
    {
     "name": "stdout",
     "output_type": "stream",
     "text": [
      "500/1437\n",
      "mIoU(patch): 0.684740309480337\n",
      "fwIoU: 0.7066501846866023\n",
      "tIoU, sIoU, nIoU: [0.76637256 0.63568616 0.6521622 ]\n"
     ]
    },
    {
     "name": "stderr",
     "output_type": "stream",
     "text": [
      " 42%|████▏     | 600/1437 [19:59<27:48,  1.99s/it]"
     ]
    },
    {
     "name": "stdout",
     "output_type": "stream",
     "text": [
      "600/1437\n",
      "mIoU(patch): 0.6716911897735667\n",
      "fwIoU: 0.6979287304363739\n",
      "tIoU, sIoU, nIoU: [0.76497305 0.6118203  0.63828022]\n"
     ]
    },
    {
     "name": "stderr",
     "output_type": "stream",
     "text": [
      " 49%|████▊     | 700/1437 [23:19<24:36,  2.00s/it]"
     ]
    },
    {
     "name": "stdout",
     "output_type": "stream",
     "text": [
      "700/1437\n",
      "mIoU(patch): 0.6491354683148338\n",
      "fwIoU: 0.6946445374777884\n",
      "tIoU, sIoU, nIoU: [0.7653541  0.60722683 0.57482548]\n"
     ]
    },
    {
     "name": "stderr",
     "output_type": "stream",
     "text": [
      " 56%|█████▌    | 800/1437 [26:38<21:20,  2.01s/it]"
     ]
    },
    {
     "name": "stdout",
     "output_type": "stream",
     "text": [
      "800/1437\n",
      "mIoU(patch): 0.6512509638646027\n",
      "fwIoU: 0.7000754163497375\n",
      "tIoU, sIoU, nIoU: [0.76992562 0.61295982 0.57086745]\n"
     ]
    },
    {
     "name": "stderr",
     "output_type": "stream",
     "text": [
      " 63%|██████▎   | 900/1437 [29:57<18:04,  2.02s/it]"
     ]
    },
    {
     "name": "stdout",
     "output_type": "stream",
     "text": [
      "900/1437\n",
      "mIoU(patch): 0.6514274058488284\n",
      "fwIoU: 0.7033500198418298\n",
      "tIoU, sIoU, nIoU: [0.77323541 0.61499697 0.56604983]\n"
     ]
    },
    {
     "name": "stderr",
     "output_type": "stream",
     "text": [
      " 70%|██████▉   | 1000/1437 [33:16<14:14,  1.95s/it]"
     ]
    },
    {
     "name": "stdout",
     "output_type": "stream",
     "text": [
      "1000/1437\n",
      "mIoU(patch): 0.6518935921212478\n",
      "fwIoU: 0.7081760546263682\n",
      "tIoU, sIoU, nIoU: [0.77961913 0.61327896 0.56278269]\n"
     ]
    },
    {
     "name": "stderr",
     "output_type": "stream",
     "text": [
      " 77%|███████▋  | 1100/1437 [36:32<11:06,  1.98s/it]"
     ]
    },
    {
     "name": "stdout",
     "output_type": "stream",
     "text": [
      "1100/1437\n",
      "mIoU(patch): 0.6510871706745096\n",
      "fwIoU: 0.7031604033818327\n",
      "tIoU, sIoU, nIoU: [0.77010199 0.62037683 0.56278269]\n"
     ]
    },
    {
     "name": "stderr",
     "output_type": "stream",
     "text": [
      " 84%|████████▎ | 1200/1437 [39:49<07:49,  1.98s/it]"
     ]
    },
    {
     "name": "stdout",
     "output_type": "stream",
     "text": [
      "1200/1437\n",
      "mIoU(patch): 0.6500178526920393\n",
      "fwIoU: 0.7013662819653932\n",
      "tIoU, sIoU, nIoU: [0.76740161 0.61986926 0.56278269]\n"
     ]
    },
    {
     "name": "stderr",
     "output_type": "stream",
     "text": [
      " 90%|█████████ | 1300/1437 [43:05<04:29,  1.96s/it]"
     ]
    },
    {
     "name": "stdout",
     "output_type": "stream",
     "text": [
      "1300/1437\n",
      "mIoU(patch): 0.6494188187071055\n",
      "fwIoU: 0.6997413145648158\n",
      "tIoU, sIoU, nIoU: [0.76410536 0.6213684  0.56278269]\n"
     ]
    },
    {
     "name": "stderr",
     "output_type": "stream",
     "text": [
      " 97%|█████████▋| 1400/1437 [46:22<01:12,  1.95s/it]"
     ]
    },
    {
     "name": "stdout",
     "output_type": "stream",
     "text": [
      "1400/1437\n",
      "mIoU(patch): 0.6419127855514268\n",
      "fwIoU: 0.6891428522016104\n",
      "tIoU, sIoU, nIoU: [0.75547156 0.60748411 0.56278269]\n"
     ]
    },
    {
     "name": "stderr",
     "output_type": "stream",
     "text": [
      "100%|██████████| 1437/1437 [47:34<00:00,  1.99s/it]\n"
     ]
    },
    {
     "name": "stdout",
     "output_type": "stream",
     "text": [
      "mIoU(big mask): 0.6902894749833477\n",
      "fwIoU: 0.7184669745709839\n",
      "tIoU, sIoU, nIoU: [0.77894103 0.64015292 0.65177448]\n",
      "epoch=35-validation_miou_mask_epoch=0.7318.ckpt\n",
      "Extension horovod.torch has not been built: /home/fzj/.local/lib/python3.8/site-packages/horovod/torch/mpi_lib_v2.cpython-38-x86_64-linux-gnu.so not found\n",
      "If this is not expected, reinstall Horovod with HOROVOD_WITH_PYTORCH=1 to debug the build error.\n",
      "Warning! MPI libs are missing, but python applications are still available.\n",
      "Find best checkpoint file: logs/wsss4luad3k6_3k6_run1/epoch=35-validation_miou_mask_epoch=0.7318.ckpt\n",
      "Save dir: logs/wsss4luad3k6_3k6_run1/test_tta\n"
     ]
    },
    {
     "name": "stderr",
     "output_type": "stream",
     "text": [
      "  0%|          | 0/1437 [00:00<?, ?it/s]"
     ]
    },
    {
     "name": "stdout",
     "output_type": "stream",
     "text": [
      "0/1437\n",
      "mIoU(patch): 0.0\n",
      "fwIoU: 0.0\n",
      "tIoU, sIoU, nIoU: [0. 0. 0.]\n"
     ]
    },
    {
     "name": "stderr",
     "output_type": "stream",
     "text": [
      "/data114_1/fzj/CODE/TMI24-HisynSeg/TMI23-submit-final/loss.py:34: RuntimeWarning: invalid value encountered in divide\n",
      "  MIoU = np.diag(self.confusion_matrix) / (\n",
      "/data114_1/fzj/CODE/TMI24-HisynSeg/TMI23-submit-final/loss.py:46: RuntimeWarning: invalid value encountered in divide\n",
      "  freq = np.sum(self.confusion_matrix, axis=1) / \\\n",
      "/data114_1/fzj/CODE/TMI24-HisynSeg/TMI23-submit-final/loss.py:48: RuntimeWarning: invalid value encountered in divide\n",
      "  iu = np.diag(self.confusion_matrix) / (\n",
      "  7%|▋         | 100/1437 [03:19<43:26,  1.95s/it]"
     ]
    },
    {
     "name": "stdout",
     "output_type": "stream",
     "text": [
      "100/1437\n",
      "mIoU(patch): 0.6417294378222057\n",
      "fwIoU: 0.7397635910786404\n",
      "tIoU, sIoU, nIoU: [0.77177425 0.71049204 0.44292201]\n"
     ]
    },
    {
     "name": "stderr",
     "output_type": "stream",
     "text": [
      " 14%|█▍        | 200/1437 [06:33<40:08,  1.95s/it]"
     ]
    },
    {
     "name": "stdout",
     "output_type": "stream",
     "text": [
      "200/1437\n",
      "mIoU(patch): 0.679312820429383\n",
      "fwIoU: 0.7193178052869337\n",
      "tIoU, sIoU, nIoU: [0.77700432 0.65469756 0.60623657]\n"
     ]
    },
    {
     "name": "stderr",
     "output_type": "stream",
     "text": [
      " 21%|██        | 300/1437 [09:50<37:10,  1.96s/it]"
     ]
    },
    {
     "name": "stdout",
     "output_type": "stream",
     "text": [
      "300/1437\n",
      "mIoU(patch): 0.6739837639047334\n",
      "fwIoU: 0.7095949886010375\n",
      "tIoU, sIoU, nIoU: [0.77441224 0.63488331 0.61265574]\n"
     ]
    },
    {
     "name": "stderr",
     "output_type": "stream",
     "text": [
      " 28%|██▊       | 400/1437 [13:05<33:26,  1.93s/it]"
     ]
    },
    {
     "name": "stdout",
     "output_type": "stream",
     "text": [
      "400/1437\n",
      "mIoU(patch): 0.6826540978953798\n",
      "fwIoU: 0.7116632524183908\n",
      "tIoU, sIoU, nIoU: [0.77688899 0.63367514 0.63739816]\n"
     ]
    },
    {
     "name": "stderr",
     "output_type": "stream",
     "text": [
      " 35%|███▍      | 500/1437 [16:21<30:33,  1.96s/it]"
     ]
    },
    {
     "name": "stdout",
     "output_type": "stream",
     "text": [
      "500/1437\n",
      "mIoU(patch): 0.6950879657978374\n",
      "fwIoU: 0.7182625347087825\n",
      "tIoU, sIoU, nIoU: [0.77387184 0.65418684 0.65720522]\n"
     ]
    },
    {
     "name": "stderr",
     "output_type": "stream",
     "text": [
      " 42%|████▏     | 600/1437 [19:36<27:12,  1.95s/it]"
     ]
    },
    {
     "name": "stdout",
     "output_type": "stream",
     "text": [
      "600/1437\n",
      "mIoU(patch): 0.6819176792778007\n",
      "fwIoU: 0.7078602751830139\n",
      "tIoU, sIoU, nIoU: [0.77188062 0.62627897 0.64759345]\n"
     ]
    },
    {
     "name": "stderr",
     "output_type": "stream",
     "text": [
      " 49%|████▊     | 700/1437 [22:51<23:48,  1.94s/it]"
     ]
    },
    {
     "name": "stdout",
     "output_type": "stream",
     "text": [
      "700/1437\n",
      "mIoU(patch): 0.6535178314420946\n",
      "fwIoU: 0.7020634862984427\n",
      "tIoU, sIoU, nIoU: [0.77166698 0.61830236 0.57058416]\n"
     ]
    },
    {
     "name": "stderr",
     "output_type": "stream",
     "text": [
      " 56%|█████▌    | 800/1437 [26:06<20:38,  1.94s/it]"
     ]
    },
    {
     "name": "stdout",
     "output_type": "stream",
     "text": [
      "800/1437\n",
      "mIoU(patch): 0.6539784540163941\n",
      "fwIoU: 0.7066283972821409\n",
      "tIoU, sIoU, nIoU: [0.77585629 0.6225683  0.56351077]\n"
     ]
    },
    {
     "name": "stderr",
     "output_type": "stream",
     "text": [
      " 63%|██████▎   | 900/1437 [29:22<17:30,  1.96s/it]"
     ]
    },
    {
     "name": "stdout",
     "output_type": "stream",
     "text": [
      "900/1437\n",
      "mIoU(patch): 0.6532361351187297\n",
      "fwIoU: 0.7096469348297559\n",
      "tIoU, sIoU, nIoU: [0.77900978 0.62427903 0.5564196 ]\n"
     ]
    },
    {
     "name": "stderr",
     "output_type": "stream",
     "text": [
      " 70%|██████▉   | 1000/1437 [32:37<14:12,  1.95s/it]"
     ]
    },
    {
     "name": "stdout",
     "output_type": "stream",
     "text": [
      "1000/1437\n",
      "mIoU(patch): 0.6536939109768782\n",
      "fwIoU: 0.7147430667651217\n",
      "tIoU, sIoU, nIoU: [0.78532412 0.62335729 0.55240033]\n"
     ]
    },
    {
     "name": "stderr",
     "output_type": "stream",
     "text": [
      " 77%|███████▋  | 1100/1437 [35:52<11:05,  1.97s/it]"
     ]
    },
    {
     "name": "stdout",
     "output_type": "stream",
     "text": [
      "1100/1437\n",
      "mIoU(patch): 0.6568776134193203\n",
      "fwIoU: 0.7152358520720892\n",
      "tIoU, sIoU, nIoU: [0.779479   0.63879947 0.55235437]\n"
     ]
    },
    {
     "name": "stderr",
     "output_type": "stream",
     "text": [
      " 84%|████████▎ | 1200/1437 [39:08<07:41,  1.95s/it]"
     ]
    },
    {
     "name": "stdout",
     "output_type": "stream",
     "text": [
      "1200/1437\n",
      "mIoU(patch): 0.6575590406667635\n",
      "fwIoU: 0.7159385610047857\n",
      "tIoU, sIoU, nIoU: [0.77838362 0.6419534  0.5523401 ]\n"
     ]
    },
    {
     "name": "stderr",
     "output_type": "stream",
     "text": [
      " 90%|█████████ | 1300/1437 [42:23<04:32,  1.99s/it]"
     ]
    },
    {
     "name": "stdout",
     "output_type": "stream",
     "text": [
      "1300/1437\n",
      "mIoU(patch): 0.6590963385517264\n",
      "fwIoU: 0.7173830697980563\n",
      "tIoU, sIoU, nIoU: [0.7769776  0.64805115 0.55226027]\n"
     ]
    },
    {
     "name": "stderr",
     "output_type": "stream",
     "text": [
      " 97%|█████████▋| 1400/1437 [45:39<01:12,  1.95s/it]"
     ]
    },
    {
     "name": "stdout",
     "output_type": "stream",
     "text": [
      "1400/1437\n",
      "mIoU(patch): 0.6526217959881644\n",
      "fwIoU: 0.7082878763827203\n",
      "tIoU, sIoU, nIoU: [0.76904057 0.63656455 0.55226027]\n"
     ]
    },
    {
     "name": "stderr",
     "output_type": "stream",
     "text": [
      "100%|██████████| 1437/1437 [46:51<00:00,  1.96s/it]\n"
     ]
    },
    {
     "name": "stdout",
     "output_type": "stream",
     "text": [
      "mIoU(big mask): 0.709449214326083\n",
      "fwIoU: 0.737689264245219\n",
      "tIoU, sIoU, nIoU: [0.79255098 0.66727222 0.66852445]\n",
      "epoch=36-validation_miou_mask_epoch=0.7355.ckpt\n",
      "Extension horovod.torch has not been built: /home/fzj/.local/lib/python3.8/site-packages/horovod/torch/mpi_lib_v2.cpython-38-x86_64-linux-gnu.so not found\n",
      "If this is not expected, reinstall Horovod with HOROVOD_WITH_PYTORCH=1 to debug the build error.\n",
      "Warning! MPI libs are missing, but python applications are still available.\n",
      "Find best checkpoint file: logs/wsss4luad3k6_3k6_run1/epoch=36-validation_miou_mask_epoch=0.7355.ckpt\n",
      "Save dir: logs/wsss4luad3k6_3k6_run1/test_tta\n"
     ]
    },
    {
     "name": "stderr",
     "output_type": "stream",
     "text": [
      "  0%|          | 0/1437 [00:00<?, ?it/s]"
     ]
    },
    {
     "name": "stdout",
     "output_type": "stream",
     "text": [
      "0/1437\n",
      "mIoU(patch): 0.0\n",
      "fwIoU: 0.0\n",
      "tIoU, sIoU, nIoU: [0. 0. 0.]\n"
     ]
    },
    {
     "name": "stderr",
     "output_type": "stream",
     "text": [
      "/data114_1/fzj/CODE/TMI24-HisynSeg/TMI23-submit-final/loss.py:34: RuntimeWarning: invalid value encountered in divide\n",
      "  MIoU = np.diag(self.confusion_matrix) / (\n",
      "/data114_1/fzj/CODE/TMI24-HisynSeg/TMI23-submit-final/loss.py:46: RuntimeWarning: invalid value encountered in divide\n",
      "  freq = np.sum(self.confusion_matrix, axis=1) / \\\n",
      "/data114_1/fzj/CODE/TMI24-HisynSeg/TMI23-submit-final/loss.py:48: RuntimeWarning: invalid value encountered in divide\n",
      "  iu = np.diag(self.confusion_matrix) / (\n",
      "  7%|▋         | 100/1437 [03:19<43:26,  1.95s/it]"
     ]
    },
    {
     "name": "stdout",
     "output_type": "stream",
     "text": [
      "100/1437\n",
      "mIoU(patch): 0.65029652334269\n",
      "fwIoU: 0.747092753573088\n",
      "tIoU, sIoU, nIoU: [0.77650417 0.72050402 0.45388138]\n"
     ]
    },
    {
     "name": "stderr",
     "output_type": "stream",
     "text": [
      " 14%|█▍        | 200/1437 [06:34<40:22,  1.96s/it]"
     ]
    },
    {
     "name": "stdout",
     "output_type": "stream",
     "text": [
      "200/1437\n",
      "mIoU(patch): 0.7030350017080685\n",
      "fwIoU: 0.7396513963764221\n",
      "tIoU, sIoU, nIoU: [0.78968938 0.68430308 0.63511254]\n"
     ]
    },
    {
     "name": "stderr",
     "output_type": "stream",
     "text": [
      " 21%|██        | 300/1437 [09:50<37:14,  1.97s/it]"
     ]
    },
    {
     "name": "stdout",
     "output_type": "stream",
     "text": [
      "300/1437\n",
      "mIoU(patch): 0.7041337212452509\n",
      "fwIoU: 0.7350868803998427\n",
      "tIoU, sIoU, nIoU: [0.79016406 0.6720271  0.65021   ]\n"
     ]
    },
    {
     "name": "stderr",
     "output_type": "stream",
     "text": [
      " 28%|██▊       | 400/1437 [13:05<33:42,  1.95s/it]"
     ]
    },
    {
     "name": "stdout",
     "output_type": "stream",
     "text": [
      "400/1437\n",
      "mIoU(patch): 0.7167112276708313\n",
      "fwIoU: 0.73925502824041\n",
      "tIoU, sIoU, nIoU: [0.7940746  0.67219942 0.68385967]\n"
     ]
    },
    {
     "name": "stderr",
     "output_type": "stream",
     "text": [
      " 35%|███▍      | 500/1437 [16:21<30:30,  1.95s/it]"
     ]
    },
    {
     "name": "stdout",
     "output_type": "stream",
     "text": [
      "500/1437\n",
      "mIoU(patch): 0.7223445869841867\n",
      "fwIoU: 0.7397608575806034\n",
      "tIoU, sIoU, nIoU: [0.78701845 0.68366507 0.69635024]\n"
     ]
    },
    {
     "name": "stderr",
     "output_type": "stream",
     "text": [
      " 42%|████▏     | 600/1437 [19:36<27:04,  1.94s/it]"
     ]
    },
    {
     "name": "stdout",
     "output_type": "stream",
     "text": [
      "600/1437\n",
      "mIoU(patch): 0.713169871190973\n",
      "fwIoU: 0.72994355774956\n",
      "tIoU, sIoU, nIoU: [0.78413889 0.65712634 0.69824439]\n"
     ]
    },
    {
     "name": "stderr",
     "output_type": "stream",
     "text": [
      " 49%|████▊     | 700/1437 [22:52<24:04,  1.96s/it]"
     ]
    },
    {
     "name": "stdout",
     "output_type": "stream",
     "text": [
      "700/1437\n",
      "mIoU(patch): 0.7037689751999766\n",
      "fwIoU: 0.7295550330067274\n",
      "tIoU, sIoU, nIoU: [0.787213   0.65135807 0.67273586]\n"
     ]
    },
    {
     "name": "stderr",
     "output_type": "stream",
     "text": [
      " 56%|█████▌    | 800/1437 [26:08<20:42,  1.95s/it]"
     ]
    },
    {
     "name": "stdout",
     "output_type": "stream",
     "text": [
      "800/1437\n",
      "mIoU(patch): 0.7033500211958167\n",
      "fwIoU: 0.7318455140818811\n",
      "tIoU, sIoU, nIoU: [0.78972963 0.65325257 0.66706786]\n"
     ]
    },
    {
     "name": "stderr",
     "output_type": "stream",
     "text": [
      " 63%|██████▎   | 900/1437 [29:24<17:25,  1.95s/it]"
     ]
    },
    {
     "name": "stdout",
     "output_type": "stream",
     "text": [
      "900/1437\n",
      "mIoU(patch): 0.7015782937689918\n",
      "fwIoU: 0.7328453841535082\n",
      "tIoU, sIoU, nIoU: [0.79143805 0.65292254 0.66037429]\n"
     ]
    },
    {
     "name": "stderr",
     "output_type": "stream",
     "text": [
      " 70%|██████▉   | 1000/1437 [32:39<14:11,  1.95s/it]"
     ]
    },
    {
     "name": "stdout",
     "output_type": "stream",
     "text": [
      "1000/1437\n",
      "mIoU(patch): 0.7013987424357264\n",
      "fwIoU: 0.7365161059869708\n",
      "tIoU, sIoU, nIoU: [0.79678961 0.65108226 0.65632436]\n"
     ]
    },
    {
     "name": "stderr",
     "output_type": "stream",
     "text": [
      " 77%|███████▋  | 1100/1437 [35:56<11:02,  1.97s/it]"
     ]
    },
    {
     "name": "stdout",
     "output_type": "stream",
     "text": [
      "1100/1437\n",
      "mIoU(patch): 0.7008029402775738\n",
      "fwIoU: 0.7318930503061533\n",
      "tIoU, sIoU, nIoU: [0.78783588 0.65824934 0.65632359]\n"
     ]
    },
    {
     "name": "stderr",
     "output_type": "stream",
     "text": [
      " 84%|████████▎ | 1200/1437 [39:12<07:41,  1.95s/it]"
     ]
    },
    {
     "name": "stdout",
     "output_type": "stream",
     "text": [
      "1200/1437\n",
      "mIoU(patch): 0.6990876239311149\n",
      "fwIoU: 0.7290052819834071\n",
      "tIoU, sIoU, nIoU: [0.78434637 0.65659291 0.65632359]\n"
     ]
    },
    {
     "name": "stderr",
     "output_type": "stream",
     "text": [
      " 90%|█████████ | 1300/1437 [42:32<04:35,  2.01s/it]"
     ]
    },
    {
     "name": "stdout",
     "output_type": "stream",
     "text": [
      "1300/1437\n",
      "mIoU(patch): 0.7003335108533433\n",
      "fwIoU: 0.7297156387020517\n",
      "tIoU, sIoU, nIoU: [0.78245131 0.66222563 0.65632359]\n"
     ]
    },
    {
     "name": "stderr",
     "output_type": "stream",
     "text": [
      " 97%|█████████▋| 1400/1437 [45:49<01:13,  1.99s/it]"
     ]
    },
    {
     "name": "stdout",
     "output_type": "stream",
     "text": [
      "1400/1437\n",
      "mIoU(patch): 0.6980805547967739\n",
      "fwIoU: 0.726097697990186\n",
      "tIoU, sIoU, nIoU: [0.77816876 0.6597493  0.65632359]\n"
     ]
    },
    {
     "name": "stderr",
     "output_type": "stream",
     "text": [
      "100%|██████████| 1437/1437 [47:03<00:00,  1.97s/it]\n"
     ]
    },
    {
     "name": "stdout",
     "output_type": "stream",
     "text": [
      "mIoU(big mask): 0.7404683365224981\n",
      "fwIoU: 0.7541552160935694\n",
      "tIoU, sIoU, nIoU: [0.80127779 0.69118869 0.72893853]\n",
      "epoch=37-validation_miou_mask_epoch=0.7401.ckpt\n",
      "Extension horovod.torch has not been built: /home/fzj/.local/lib/python3.8/site-packages/horovod/torch/mpi_lib_v2.cpython-38-x86_64-linux-gnu.so not found\n",
      "If this is not expected, reinstall Horovod with HOROVOD_WITH_PYTORCH=1 to debug the build error.\n",
      "Warning! MPI libs are missing, but python applications are still available.\n",
      "Find best checkpoint file: logs/wsss4luad3k6_3k6_run1/epoch=37-validation_miou_mask_epoch=0.7401.ckpt\n",
      "Save dir: logs/wsss4luad3k6_3k6_run1/test_tta\n"
     ]
    },
    {
     "name": "stderr",
     "output_type": "stream",
     "text": [
      "  0%|          | 0/1437 [00:00<?, ?it/s]"
     ]
    },
    {
     "name": "stdout",
     "output_type": "stream",
     "text": [
      "0/1437\n",
      "mIoU(patch): 0.0\n",
      "fwIoU: 0.0\n",
      "tIoU, sIoU, nIoU: [0. 0. 0.]\n"
     ]
    },
    {
     "name": "stderr",
     "output_type": "stream",
     "text": [
      "/data114_1/fzj/CODE/TMI24-HisynSeg/TMI23-submit-final/loss.py:34: RuntimeWarning: invalid value encountered in divide\n",
      "  MIoU = np.diag(self.confusion_matrix) / (\n",
      "/data114_1/fzj/CODE/TMI24-HisynSeg/TMI23-submit-final/loss.py:46: RuntimeWarning: invalid value encountered in divide\n",
      "  freq = np.sum(self.confusion_matrix, axis=1) / \\\n",
      "/data114_1/fzj/CODE/TMI24-HisynSeg/TMI23-submit-final/loss.py:48: RuntimeWarning: invalid value encountered in divide\n",
      "  iu = np.diag(self.confusion_matrix) / (\n",
      "  7%|▋         | 100/1437 [03:49<45:53,  2.06s/it] "
     ]
    },
    {
     "name": "stdout",
     "output_type": "stream",
     "text": [
      "100/1437\n",
      "mIoU(patch): 0.6438737439647723\n",
      "fwIoU: 0.7273114314037866\n",
      "tIoU, sIoU, nIoU: [0.76207253 0.69447701 0.47507169]\n"
     ]
    },
    {
     "name": "stderr",
     "output_type": "stream",
     "text": [
      " 14%|█▍        | 200/1437 [07:11<40:23,  1.96s/it]"
     ]
    },
    {
     "name": "stdout",
     "output_type": "stream",
     "text": [
      "200/1437\n",
      "mIoU(patch): 0.6555298758965709\n",
      "fwIoU: 0.7186159678174707\n",
      "tIoU, sIoU, nIoU: [0.77664348 0.66201019 0.52793595]\n"
     ]
    },
    {
     "name": "stderr",
     "output_type": "stream",
     "text": [
      " 21%|██        | 300/1437 [10:34<38:11,  2.02s/it]"
     ]
    },
    {
     "name": "stdout",
     "output_type": "stream",
     "text": [
      "300/1437\n",
      "mIoU(patch): 0.6540676929970813\n",
      "fwIoU: 0.7115191839430571\n",
      "tIoU, sIoU, nIoU: [0.77606723 0.65059804 0.53553781]\n"
     ]
    },
    {
     "name": "stderr",
     "output_type": "stream",
     "text": [
      " 28%|██▊       | 400/1437 [13:56<34:21,  1.99s/it]"
     ]
    },
    {
     "name": "stdout",
     "output_type": "stream",
     "text": [
      "400/1437\n",
      "mIoU(patch): 0.6648066440122596\n",
      "fwIoU: 0.7126517937067989\n",
      "tIoU, sIoU, nIoU: [0.77825564 0.64955254 0.56661176]\n"
     ]
    },
    {
     "name": "stderr",
     "output_type": "stream",
     "text": [
      " 35%|███▍      | 500/1437 [17:20<31:42,  2.03s/it]"
     ]
    },
    {
     "name": "stdout",
     "output_type": "stream",
     "text": [
      "500/1437\n",
      "mIoU(patch): 0.6774907167848184\n",
      "fwIoU: 0.7152009027800212\n",
      "tIoU, sIoU, nIoU: [0.77141312 0.66073599 0.60032303]\n"
     ]
    },
    {
     "name": "stderr",
     "output_type": "stream",
     "text": [
      " 42%|████▏     | 600/1437 [20:42<27:40,  1.98s/it]"
     ]
    },
    {
     "name": "stdout",
     "output_type": "stream",
     "text": [
      "600/1437\n",
      "mIoU(patch): 0.6693467363942845\n",
      "fwIoU: 0.7041031005674189\n",
      "tIoU, sIoU, nIoU: [0.76801014 0.62908084 0.61094923]\n"
     ]
    },
    {
     "name": "stderr",
     "output_type": "stream",
     "text": [
      " 49%|████▊     | 700/1437 [24:03<24:29,  1.99s/it]"
     ]
    },
    {
     "name": "stdout",
     "output_type": "stream",
     "text": [
      "700/1437\n",
      "mIoU(patch): 0.6629475431873856\n",
      "fwIoU: 0.7061926639703286\n",
      "tIoU, sIoU, nIoU: [0.77350655 0.62292507 0.59241101]\n"
     ]
    },
    {
     "name": "stderr",
     "output_type": "stream",
     "text": [
      " 56%|█████▌    | 800/1437 [27:24<21:22,  2.01s/it]"
     ]
    },
    {
     "name": "stdout",
     "output_type": "stream",
     "text": [
      "800/1437\n",
      "mIoU(patch): 0.6625774764162758\n",
      "fwIoU: 0.7097136596706025\n",
      "tIoU, sIoU, nIoU: [0.77673262 0.62628468 0.58471513]\n"
     ]
    },
    {
     "name": "stderr",
     "output_type": "stream",
     "text": [
      " 63%|██████▎   | 900/1437 [30:45<18:11,  2.03s/it]"
     ]
    },
    {
     "name": "stdout",
     "output_type": "stream",
     "text": [
      "900/1437\n",
      "mIoU(patch): 0.6612737357401183\n",
      "fwIoU: 0.711979043568307\n",
      "tIoU, sIoU, nIoU: [0.77914238 0.62745116 0.57722768]\n"
     ]
    },
    {
     "name": "stderr",
     "output_type": "stream",
     "text": [
      " 70%|██████▉   | 1000/1437 [34:07<14:34,  2.00s/it]"
     ]
    },
    {
     "name": "stdout",
     "output_type": "stream",
     "text": [
      "1000/1437\n",
      "mIoU(patch): 0.6616664445717726\n",
      "fwIoU: 0.7169249665936461\n",
      "tIoU, sIoU, nIoU: [0.7852253  0.62683322 0.57294082]\n"
     ]
    },
    {
     "name": "stderr",
     "output_type": "stream",
     "text": [
      " 77%|███████▋  | 1100/1437 [37:29<11:22,  2.02s/it]"
     ]
    },
    {
     "name": "stdout",
     "output_type": "stream",
     "text": [
      "1100/1437\n",
      "mIoU(patch): 0.6573937800162079\n",
      "fwIoU: 0.7074784964957004\n",
      "tIoU, sIoU, nIoU: [0.77271742 0.62656212 0.5729018 ]\n"
     ]
    },
    {
     "name": "stderr",
     "output_type": "stream",
     "text": [
      " 84%|████████▎ | 1200/1437 [40:51<07:58,  2.02s/it]"
     ]
    },
    {
     "name": "stdout",
     "output_type": "stream",
     "text": [
      "1200/1437\n",
      "mIoU(patch): 0.6529041759233684\n",
      "fwIoU: 0.7010918328194891\n",
      "tIoU, sIoU, nIoU: [0.7669595  0.61885123 0.5729018 ]\n"
     ]
    },
    {
     "name": "stderr",
     "output_type": "stream",
     "text": [
      " 90%|█████████ | 1300/1437 [44:17<04:39,  2.04s/it]"
     ]
    },
    {
     "name": "stdout",
     "output_type": "stream",
     "text": [
      "1300/1437\n",
      "mIoU(patch): 0.6520601758080277\n",
      "fwIoU: 0.6990937400150152\n",
      "tIoU, sIoU, nIoU: [0.76343575 0.61984298 0.5729018 ]\n"
     ]
    },
    {
     "name": "stderr",
     "output_type": "stream",
     "text": [
      " 97%|█████████▋| 1400/1437 [47:39<01:14,  2.02s/it]"
     ]
    },
    {
     "name": "stdout",
     "output_type": "stream",
     "text": [
      "1400/1437\n",
      "mIoU(patch): 0.6480844313736444\n",
      "fwIoU: 0.6932541114996768\n",
      "tIoU, sIoU, nIoU: [0.75790551 0.61344599 0.5729018 ]\n"
     ]
    },
    {
     "name": "stderr",
     "output_type": "stream",
     "text": [
      "100%|██████████| 1437/1437 [48:52<00:00,  2.04s/it]\n"
     ]
    },
    {
     "name": "stdout",
     "output_type": "stream",
     "text": [
      "mIoU(big mask): 0.6848620869338292\n",
      "fwIoU: 0.7183040745645406\n",
      "tIoU, sIoU, nIoU: [0.77801507 0.64229843 0.63427276]\n",
      "epoch=38-validation_miou_mask_epoch=0.7525.ckpt\n",
      "Extension horovod.torch has not been built: /home/fzj/.local/lib/python3.8/site-packages/horovod/torch/mpi_lib_v2.cpython-38-x86_64-linux-gnu.so not found\n",
      "If this is not expected, reinstall Horovod with HOROVOD_WITH_PYTORCH=1 to debug the build error.\n",
      "Warning! MPI libs are missing, but python applications are still available.\n",
      "Find best checkpoint file: logs/wsss4luad3k6_3k6_run1/epoch=38-validation_miou_mask_epoch=0.7525.ckpt\n",
      "Save dir: logs/wsss4luad3k6_3k6_run1/test_tta\n"
     ]
    },
    {
     "name": "stderr",
     "output_type": "stream",
     "text": [
      "  0%|          | 0/1437 [00:00<?, ?it/s]"
     ]
    },
    {
     "name": "stdout",
     "output_type": "stream",
     "text": [
      "0/1437\n",
      "mIoU(patch): 0.0\n",
      "fwIoU: 0.0\n",
      "tIoU, sIoU, nIoU: [0. 0. 0.]\n"
     ]
    },
    {
     "name": "stderr",
     "output_type": "stream",
     "text": [
      "/data114_1/fzj/CODE/TMI24-HisynSeg/TMI23-submit-final/loss.py:34: RuntimeWarning: invalid value encountered in divide\n",
      "  MIoU = np.diag(self.confusion_matrix) / (\n",
      "/data114_1/fzj/CODE/TMI24-HisynSeg/TMI23-submit-final/loss.py:46: RuntimeWarning: invalid value encountered in divide\n",
      "  freq = np.sum(self.confusion_matrix, axis=1) / \\\n",
      "/data114_1/fzj/CODE/TMI24-HisynSeg/TMI23-submit-final/loss.py:48: RuntimeWarning: invalid value encountered in divide\n",
      "  iu = np.diag(self.confusion_matrix) / (\n",
      "  7%|▋         | 100/1437 [03:28<44:14,  1.99s/it]"
     ]
    },
    {
     "name": "stdout",
     "output_type": "stream",
     "text": [
      "100/1437\n",
      "mIoU(patch): 0.6711014658513578\n",
      "fwIoU: 0.7470613904667235\n",
      "tIoU, sIoU, nIoU: [0.77364135 0.72250813 0.51715492]\n"
     ]
    },
    {
     "name": "stderr",
     "output_type": "stream",
     "text": [
      " 14%|█▍        | 200/1437 [06:49<41:42,  2.02s/it]"
     ]
    },
    {
     "name": "stdout",
     "output_type": "stream",
     "text": [
      "200/1437\n",
      "mIoU(patch): 0.659701718778079\n",
      "fwIoU: 0.7348579217558256\n",
      "tIoU, sIoU, nIoU: [0.78924347 0.68769648 0.5021652 ]\n"
     ]
    },
    {
     "name": "stderr",
     "output_type": "stream",
     "text": [
      " 21%|██        | 300/1437 [10:11<38:36,  2.04s/it]"
     ]
    },
    {
     "name": "stdout",
     "output_type": "stream",
     "text": [
      "300/1437\n",
      "mIoU(patch): 0.6571134075360893\n",
      "fwIoU: 0.7276848529561334\n",
      "tIoU, sIoU, nIoU: [0.79091117 0.6767758  0.50365325]\n"
     ]
    },
    {
     "name": "stderr",
     "output_type": "stream",
     "text": [
      " 28%|██▊       | 400/1437 [13:33<34:47,  2.01s/it]"
     ]
    },
    {
     "name": "stdout",
     "output_type": "stream",
     "text": [
      "400/1437\n",
      "mIoU(patch): 0.6658885258047269\n",
      "fwIoU: 0.7274465356738656\n",
      "tIoU, sIoU, nIoU: [0.79318639 0.67540396 0.52907523]\n"
     ]
    },
    {
     "name": "stderr",
     "output_type": "stream",
     "text": [
      " 35%|███▍      | 500/1437 [16:54<31:30,  2.02s/it]"
     ]
    },
    {
     "name": "stdout",
     "output_type": "stream",
     "text": [
      "500/1437\n",
      "mIoU(patch): 0.6817605419918292\n",
      "fwIoU: 0.7314765113593089\n",
      "tIoU, sIoU, nIoU: [0.7860473  0.68805806 0.57117627]\n"
     ]
    },
    {
     "name": "stderr",
     "output_type": "stream",
     "text": [
      " 42%|████▏     | 600/1437 [20:16<28:16,  2.03s/it]"
     ]
    },
    {
     "name": "stdout",
     "output_type": "stream",
     "text": [
      "600/1437\n",
      "mIoU(patch): 0.676929355612281\n",
      "fwIoU: 0.7225704391942546\n",
      "tIoU, sIoU, nIoU: [0.78305438 0.6607954  0.58693828]\n"
     ]
    },
    {
     "name": "stderr",
     "output_type": "stream",
     "text": [
      " 49%|████▊     | 700/1437 [23:37<24:49,  2.02s/it]"
     ]
    },
    {
     "name": "stdout",
     "output_type": "stream",
     "text": [
      "700/1437\n",
      "mIoU(patch): 0.6715087046352237\n",
      "fwIoU: 0.7248804825434113\n",
      "tIoU, sIoU, nIoU: [0.78730332 0.65576637 0.57145643]\n"
     ]
    },
    {
     "name": "stderr",
     "output_type": "stream",
     "text": [
      " 56%|█████▌    | 800/1437 [26:59<21:20,  2.01s/it]"
     ]
    },
    {
     "name": "stdout",
     "output_type": "stream",
     "text": [
      "800/1437\n",
      "mIoU(patch): 0.6718648592232439\n",
      "fwIoU: 0.7276137417225451\n",
      "tIoU, sIoU, nIoU: [0.78914661 0.65768627 0.56876169]\n"
     ]
    },
    {
     "name": "stderr",
     "output_type": "stream",
     "text": [
      " 63%|██████▎   | 900/1437 [30:21<18:09,  2.03s/it]"
     ]
    },
    {
     "name": "stdout",
     "output_type": "stream",
     "text": [
      "900/1437\n",
      "mIoU(patch): 0.67145583236153\n",
      "fwIoU: 0.7293178175477963\n",
      "tIoU, sIoU, nIoU: [0.7905823  0.65774819 0.56603701]\n"
     ]
    },
    {
     "name": "stderr",
     "output_type": "stream",
     "text": [
      " 70%|██████▉   | 1000/1437 [33:41<14:32,  2.00s/it]"
     ]
    },
    {
     "name": "stdout",
     "output_type": "stream",
     "text": [
      "1000/1437\n",
      "mIoU(patch): 0.6712233233016441\n",
      "fwIoU: 0.7326655740834741\n",
      "tIoU, sIoU, nIoU: [0.79515091 0.65497533 0.56354374]\n"
     ]
    },
    {
     "name": "stderr",
     "output_type": "stream",
     "text": [
      " 77%|███████▋  | 1100/1437 [37:03<11:22,  2.02s/it]"
     ]
    },
    {
     "name": "stdout",
     "output_type": "stream",
     "text": [
      "1100/1437\n",
      "mIoU(patch): 0.6708106356208826\n",
      "fwIoU: 0.7289075019204201\n",
      "tIoU, sIoU, nIoU: [0.78663724 0.66225122 0.56354344]\n"
     ]
    },
    {
     "name": "stderr",
     "output_type": "stream",
     "text": [
      " 84%|████████▎ | 1200/1437 [40:25<08:01,  2.03s/it]"
     ]
    },
    {
     "name": "stdout",
     "output_type": "stream",
     "text": [
      "1200/1437\n",
      "mIoU(patch): 0.6693597347307216\n",
      "fwIoU: 0.7268177012805631\n",
      "tIoU, sIoU, nIoU: [0.78355293 0.66098283 0.56354344]\n"
     ]
    },
    {
     "name": "stderr",
     "output_type": "stream",
     "text": [
      " 90%|█████████ | 1300/1437 [43:47<04:37,  2.03s/it]"
     ]
    },
    {
     "name": "stdout",
     "output_type": "stream",
     "text": [
      "1300/1437\n",
      "mIoU(patch): 0.6711754596276108\n",
      "fwIoU: 0.728709952604396\n",
      "tIoU, sIoU, nIoU: [0.78252258 0.66746035 0.56354344]\n"
     ]
    },
    {
     "name": "stderr",
     "output_type": "stream",
     "text": [
      " 97%|█████████▋| 1400/1437 [47:08<01:13,  1.99s/it]"
     ]
    },
    {
     "name": "stdout",
     "output_type": "stream",
     "text": [
      "1400/1437\n",
      "mIoU(patch): 0.670588016604492\n",
      "fwIoU: 0.7277458621091525\n",
      "tIoU, sIoU, nIoU: [0.78032324 0.66789737 0.56354344]\n"
     ]
    },
    {
     "name": "stderr",
     "output_type": "stream",
     "text": [
      "100%|██████████| 1437/1437 [48:22<00:00,  2.02s/it]\n"
     ]
    },
    {
     "name": "stdout",
     "output_type": "stream",
     "text": [
      "mIoU(big mask): 0.7115273004512099\n",
      "fwIoU: 0.7584348057384693\n",
      "tIoU, sIoU, nIoU: [0.80568083 0.703099   0.62580207]\n",
      "epoch=39-validation_miou_mask_epoch=0.7474.ckpt\n",
      "Extension horovod.torch has not been built: /home/fzj/.local/lib/python3.8/site-packages/horovod/torch/mpi_lib_v2.cpython-38-x86_64-linux-gnu.so not found\n",
      "If this is not expected, reinstall Horovod with HOROVOD_WITH_PYTORCH=1 to debug the build error.\n",
      "Warning! MPI libs are missing, but python applications are still available.\n",
      "Find best checkpoint file: logs/wsss4luad3k6_3k6_run1/epoch=39-validation_miou_mask_epoch=0.7474.ckpt\n",
      "Save dir: logs/wsss4luad3k6_3k6_run1/test_tta\n"
     ]
    },
    {
     "name": "stderr",
     "output_type": "stream",
     "text": [
      "  0%|          | 0/1437 [00:00<?, ?it/s]"
     ]
    },
    {
     "name": "stdout",
     "output_type": "stream",
     "text": [
      "0/1437\n",
      "mIoU(patch): 0.0\n",
      "fwIoU: 0.0\n",
      "tIoU, sIoU, nIoU: [0. 0. 0.]\n"
     ]
    },
    {
     "name": "stderr",
     "output_type": "stream",
     "text": [
      "/data114_1/fzj/CODE/TMI24-HisynSeg/TMI23-submit-final/loss.py:34: RuntimeWarning: invalid value encountered in divide\n",
      "  MIoU = np.diag(self.confusion_matrix) / (\n",
      "/data114_1/fzj/CODE/TMI24-HisynSeg/TMI23-submit-final/loss.py:46: RuntimeWarning: invalid value encountered in divide\n",
      "  freq = np.sum(self.confusion_matrix, axis=1) / \\\n",
      "/data114_1/fzj/CODE/TMI24-HisynSeg/TMI23-submit-final/loss.py:48: RuntimeWarning: invalid value encountered in divide\n",
      "  iu = np.diag(self.confusion_matrix) / (\n",
      "  7%|▋         | 100/1437 [03:21<44:21,  1.99s/it]"
     ]
    },
    {
     "name": "stdout",
     "output_type": "stream",
     "text": [
      "100/1437\n",
      "mIoU(patch): 0.6579121188600557\n",
      "fwIoU: 0.7467466108935059\n",
      "tIoU, sIoU, nIoU: [0.77479355 0.72123341 0.4777094 ]\n"
     ]
    },
    {
     "name": "stderr",
     "output_type": "stream",
     "text": [
      " 14%|█▍        | 200/1437 [06:37<40:16,  1.95s/it]"
     ]
    },
    {
     "name": "stdout",
     "output_type": "stream",
     "text": [
      "200/1437\n",
      "mIoU(patch): 0.6358691081609238\n",
      "fwIoU: 0.7262298738924682\n",
      "tIoU, sIoU, nIoU: [0.78561177 0.6777864  0.44420915]\n"
     ]
    },
    {
     "name": "stderr",
     "output_type": "stream",
     "text": [
      " 21%|██        | 300/1437 [09:52<36:42,  1.94s/it]"
     ]
    },
    {
     "name": "stdout",
     "output_type": "stream",
     "text": [
      "300/1437\n",
      "mIoU(patch): 0.6272532194063655\n",
      "fwIoU: 0.7118022679910231\n",
      "tIoU, sIoU, nIoU: [0.78146856 0.65987024 0.44042086]\n"
     ]
    },
    {
     "name": "stderr",
     "output_type": "stream",
     "text": [
      " 28%|██▊       | 400/1437 [13:07<33:07,  1.92s/it]"
     ]
    },
    {
     "name": "stdout",
     "output_type": "stream",
     "text": [
      "400/1437\n",
      "mIoU(patch): 0.6347875518456498\n",
      "fwIoU: 0.7070355797739843\n",
      "tIoU, sIoU, nIoU: [0.77959907 0.65312515 0.47163844]\n"
     ]
    },
    {
     "name": "stderr",
     "output_type": "stream",
     "text": [
      " 35%|███▍      | 500/1437 [16:19<30:05,  1.93s/it]"
     ]
    },
    {
     "name": "stdout",
     "output_type": "stream",
     "text": [
      "500/1437\n",
      "mIoU(patch): 0.655629955762378\n",
      "fwIoU: 0.7145521895672554\n",
      "tIoU, sIoU, nIoU: [0.77448503 0.66998508 0.52241976]\n"
     ]
    },
    {
     "name": "stderr",
     "output_type": "stream",
     "text": [
      " 42%|████▏     | 600/1437 [19:33<26:50,  1.92s/it]"
     ]
    },
    {
     "name": "stdout",
     "output_type": "stream",
     "text": [
      "600/1437\n",
      "mIoU(patch): 0.6527331182312701\n",
      "fwIoU: 0.709436593799684\n",
      "tIoU, sIoU, nIoU: [0.77409961 0.64911953 0.53498022]\n"
     ]
    },
    {
     "name": "stderr",
     "output_type": "stream",
     "text": [
      " 49%|████▊     | 700/1437 [22:47<23:24,  1.91s/it]"
     ]
    },
    {
     "name": "stdout",
     "output_type": "stream",
     "text": [
      "700/1437\n",
      "mIoU(patch): 0.6394765085786996\n",
      "fwIoU: 0.708795181538612\n",
      "tIoU, sIoU, nIoU: [0.7746597  0.64381208 0.49995775]\n"
     ]
    },
    {
     "name": "stderr",
     "output_type": "stream",
     "text": [
      " 56%|█████▌    | 800/1437 [26:01<20:30,  1.93s/it]"
     ]
    },
    {
     "name": "stdout",
     "output_type": "stream",
     "text": [
      "800/1437\n",
      "mIoU(patch): 0.6376663150356111\n",
      "fwIoU: 0.7110029380210326\n",
      "tIoU, sIoU, nIoU: [0.77737091 0.64264657 0.49298146]\n"
     ]
    },
    {
     "name": "stderr",
     "output_type": "stream",
     "text": [
      " 63%|██████▎   | 900/1437 [29:14<17:14,  1.93s/it]"
     ]
    },
    {
     "name": "stdout",
     "output_type": "stream",
     "text": [
      "900/1437\n",
      "mIoU(patch): 0.6340616850612616\n",
      "fwIoU: 0.7106822524693681\n",
      "tIoU, sIoU, nIoU: [0.7783993  0.63761158 0.48617417]\n"
     ]
    },
    {
     "name": "stderr",
     "output_type": "stream",
     "text": [
      " 70%|██████▉   | 1000/1437 [32:29<14:21,  1.97s/it]"
     ]
    },
    {
     "name": "stdout",
     "output_type": "stream",
     "text": [
      "1000/1437\n",
      "mIoU(patch): 0.6327181261625329\n",
      "fwIoU: 0.7137043175655878\n",
      "tIoU, sIoU, nIoU: [0.78337318 0.63250548 0.48227572]\n"
     ]
    },
    {
     "name": "stderr",
     "output_type": "stream",
     "text": [
      " 77%|███████▋  | 1100/1437 [35:46<11:00,  1.96s/it]"
     ]
    },
    {
     "name": "stdout",
     "output_type": "stream",
     "text": [
      "1100/1437\n",
      "mIoU(patch): 0.6367031428938906\n",
      "fwIoU: 0.7159894449181017\n",
      "tIoU, sIoU, nIoU: [0.77895274 0.64900706 0.48214962]\n"
     ]
    },
    {
     "name": "stderr",
     "output_type": "stream",
     "text": [
      " 84%|████████▎ | 1200/1437 [39:02<07:43,  1.95s/it]"
     ]
    },
    {
     "name": "stdout",
     "output_type": "stream",
     "text": [
      "1200/1437\n",
      "mIoU(patch): 0.6382435147694048\n",
      "fwIoU: 0.718226203925007\n",
      "tIoU, sIoU, nIoU: [0.77880379 0.65377714 0.48214962]\n"
     ]
    },
    {
     "name": "stderr",
     "output_type": "stream",
     "text": [
      " 90%|█████████ | 1300/1437 [42:19<04:27,  1.95s/it]"
     ]
    },
    {
     "name": "stdout",
     "output_type": "stream",
     "text": [
      "1300/1437\n",
      "mIoU(patch): 0.6402142475184871\n",
      "fwIoU: 0.7205928747919639\n",
      "tIoU, sIoU, nIoU: [0.77802996 0.66046317 0.48214962]\n"
     ]
    },
    {
     "name": "stderr",
     "output_type": "stream",
     "text": [
      " 97%|█████████▋| 1400/1437 [45:35<01:12,  1.96s/it]"
     ]
    },
    {
     "name": "stdout",
     "output_type": "stream",
     "text": [
      "1400/1437\n",
      "mIoU(patch): 0.6344371041462299\n",
      "fwIoU: 0.7127512613465873\n",
      "tIoU, sIoU, nIoU: [0.77098946 0.65017224 0.48214962]\n"
     ]
    },
    {
     "name": "stderr",
     "output_type": "stream",
     "text": [
      "100%|██████████| 1437/1437 [46:47<00:00,  1.95s/it]\n"
     ]
    },
    {
     "name": "stdout",
     "output_type": "stream",
     "text": [
      "mIoU(big mask): 0.6844088031324594\n",
      "fwIoU: 0.7500407320952162\n",
      "tIoU, sIoU, nIoU: [0.80113753 0.69369537 0.55839352]\n",
      "epoch=40-validation_miou_mask_epoch=0.7398.ckpt\n",
      "Extension horovod.torch has not been built: /home/fzj/.local/lib/python3.8/site-packages/horovod/torch/mpi_lib_v2.cpython-38-x86_64-linux-gnu.so not found\n",
      "If this is not expected, reinstall Horovod with HOROVOD_WITH_PYTORCH=1 to debug the build error.\n",
      "Warning! MPI libs are missing, but python applications are still available.\n",
      "Find best checkpoint file: logs/wsss4luad3k6_3k6_run1/epoch=40-validation_miou_mask_epoch=0.7398.ckpt\n",
      "Save dir: logs/wsss4luad3k6_3k6_run1/test_tta\n"
     ]
    },
    {
     "name": "stderr",
     "output_type": "stream",
     "text": [
      "  0%|          | 0/1437 [00:00<?, ?it/s]"
     ]
    },
    {
     "name": "stdout",
     "output_type": "stream",
     "text": [
      "0/1437\n",
      "mIoU(patch): 0.0\n",
      "fwIoU: 0.0\n",
      "tIoU, sIoU, nIoU: [0. 0. 0.]\n"
     ]
    },
    {
     "name": "stderr",
     "output_type": "stream",
     "text": [
      "/data114_1/fzj/CODE/TMI24-HisynSeg/TMI23-submit-final/loss.py:34: RuntimeWarning: invalid value encountered in divide\n",
      "  MIoU = np.diag(self.confusion_matrix) / (\n",
      "/data114_1/fzj/CODE/TMI24-HisynSeg/TMI23-submit-final/loss.py:46: RuntimeWarning: invalid value encountered in divide\n",
      "  freq = np.sum(self.confusion_matrix, axis=1) / \\\n",
      "/data114_1/fzj/CODE/TMI24-HisynSeg/TMI23-submit-final/loss.py:48: RuntimeWarning: invalid value encountered in divide\n",
      "  iu = np.diag(self.confusion_matrix) / (\n",
      "  7%|▋         | 100/1437 [03:22<44:03,  1.98s/it]"
     ]
    },
    {
     "name": "stdout",
     "output_type": "stream",
     "text": [
      "100/1437\n",
      "mIoU(patch): 0.6572002925503019\n",
      "fwIoU: 0.7485395406329988\n",
      "tIoU, sIoU, nIoU: [0.77581293 0.72395553 0.47183241]\n"
     ]
    },
    {
     "name": "stderr",
     "output_type": "stream",
     "text": [
      " 14%|█▍        | 200/1437 [06:41<41:42,  2.02s/it]"
     ]
    },
    {
     "name": "stdout",
     "output_type": "stream",
     "text": [
      "200/1437\n",
      "mIoU(patch): 0.6472215857948989\n",
      "fwIoU: 0.7288041437520112\n",
      "tIoU, sIoU, nIoU: [0.78561022 0.68067625 0.47537829]\n"
     ]
    },
    {
     "name": "stderr",
     "output_type": "stream",
     "text": [
      " 21%|██        | 300/1437 [10:00<38:14,  2.02s/it]"
     ]
    },
    {
     "name": "stdout",
     "output_type": "stream",
     "text": [
      "300/1437\n",
      "mIoU(patch): 0.6459998805118845\n",
      "fwIoU: 0.7181808882549354\n",
      "tIoU, sIoU, nIoU: [0.78343362 0.6652403  0.48932571]\n"
     ]
    },
    {
     "name": "stderr",
     "output_type": "stream",
     "text": [
      " 28%|██▊       | 400/1437 [13:20<35:04,  2.03s/it]"
     ]
    },
    {
     "name": "stdout",
     "output_type": "stream",
     "text": [
      "400/1437\n",
      "mIoU(patch): 0.6615173546392993\n",
      "fwIoU: 0.7191746879213141\n",
      "tIoU, sIoU, nIoU: [0.78548396 0.66303764 0.53603046]\n"
     ]
    },
    {
     "name": "stderr",
     "output_type": "stream",
     "text": [
      " 35%|███▍      | 500/1437 [16:38<30:48,  1.97s/it]"
     ]
    },
    {
     "name": "stdout",
     "output_type": "stream",
     "text": [
      "500/1437\n",
      "mIoU(patch): 0.6793031622072645\n",
      "fwIoU: 0.7241256051265315\n",
      "tIoU, sIoU, nIoU: [0.77873239 0.6771244  0.58205269]\n"
     ]
    },
    {
     "name": "stderr",
     "output_type": "stream",
     "text": [
      " 42%|████▏     | 600/1437 [19:57<27:39,  1.98s/it]"
     ]
    },
    {
     "name": "stdout",
     "output_type": "stream",
     "text": [
      "600/1437\n",
      "mIoU(patch): 0.6738096958191973\n",
      "fwIoU: 0.7154532178105193\n",
      "tIoU, sIoU, nIoU: [0.77591033 0.6508259  0.59469286]\n"
     ]
    },
    {
     "name": "stderr",
     "output_type": "stream",
     "text": [
      " 49%|████▊     | 700/1437 [23:15<24:25,  1.99s/it]"
     ]
    },
    {
     "name": "stdout",
     "output_type": "stream",
     "text": [
      "700/1437\n",
      "mIoU(patch): 0.6605525447778283\n",
      "fwIoU: 0.7134663587766219\n",
      "tIoU, sIoU, nIoU: [0.77651609 0.64305114 0.5620904 ]\n"
     ]
    },
    {
     "name": "stderr",
     "output_type": "stream",
     "text": [
      " 56%|█████▌    | 800/1437 [26:33<20:55,  1.97s/it]"
     ]
    },
    {
     "name": "stdout",
     "output_type": "stream",
     "text": [
      "800/1437\n",
      "mIoU(patch): 0.660563131714829\n",
      "fwIoU: 0.7169987871379986\n",
      "tIoU, sIoU, nIoU: [0.77976761 0.6454351  0.55648669]\n"
     ]
    },
    {
     "name": "stderr",
     "output_type": "stream",
     "text": [
      " 63%|██████▎   | 900/1437 [29:51<17:38,  1.97s/it]"
     ]
    },
    {
     "name": "stdout",
     "output_type": "stream",
     "text": [
      "900/1437\n",
      "mIoU(patch): 0.6589976829863289\n",
      "fwIoU: 0.7189324848576636\n",
      "tIoU, sIoU, nIoU: [0.78215181 0.64518718 0.54965405]\n"
     ]
    },
    {
     "name": "stderr",
     "output_type": "stream",
     "text": [
      " 70%|██████▉   | 1000/1437 [33:10<14:24,  1.98s/it]"
     ]
    },
    {
     "name": "stdout",
     "output_type": "stream",
     "text": [
      "1000/1437\n",
      "mIoU(patch): 0.6586647058550619\n",
      "fwIoU: 0.7230452991953198\n",
      "tIoU, sIoU, nIoU: [0.78777713 0.64287882 0.54533817]\n"
     ]
    },
    {
     "name": "stderr",
     "output_type": "stream",
     "text": [
      " 77%|███████▋  | 1100/1437 [36:29<11:08,  1.98s/it]"
     ]
    },
    {
     "name": "stdout",
     "output_type": "stream",
     "text": [
      "1100/1437\n",
      "mIoU(patch): 0.6608794584662139\n",
      "fwIoU: 0.7227814910526249\n",
      "tIoU, sIoU, nIoU: [0.78157686 0.65587595 0.54518557]\n"
     ]
    },
    {
     "name": "stderr",
     "output_type": "stream",
     "text": [
      " 84%|████████▎ | 1200/1437 [39:48<07:52,  1.99s/it]"
     ]
    },
    {
     "name": "stdout",
     "output_type": "stream",
     "text": [
      "1200/1437\n",
      "mIoU(patch): 0.6605803018576478\n",
      "fwIoU: 0.7222441748352643\n",
      "tIoU, sIoU, nIoU: [0.77929855 0.65725679 0.54518557]\n"
     ]
    },
    {
     "name": "stderr",
     "output_type": "stream",
     "text": [
      " 90%|█████████ | 1300/1437 [43:08<04:33,  2.00s/it]"
     ]
    },
    {
     "name": "stdout",
     "output_type": "stream",
     "text": [
      "1300/1437\n",
      "mIoU(patch): 0.6603143231238365\n",
      "fwIoU: 0.7213124655060957\n",
      "tIoU, sIoU, nIoU: [0.77602015 0.65973725 0.54518557]\n"
     ]
    },
    {
     "name": "stderr",
     "output_type": "stream",
     "text": [
      " 97%|█████████▋| 1400/1437 [46:27<01:13,  1.99s/it]"
     ]
    },
    {
     "name": "stdout",
     "output_type": "stream",
     "text": [
      "1400/1437\n",
      "mIoU(patch): 0.65261968089615\n",
      "fwIoU: 0.7106688837197557\n",
      "tIoU, sIoU, nIoU: [0.76720783 0.64546565 0.54518557]\n"
     ]
    },
    {
     "name": "stderr",
     "output_type": "stream",
     "text": [
      "100%|██████████| 1437/1437 [47:40<00:00,  1.99s/it]\n"
     ]
    },
    {
     "name": "stdout",
     "output_type": "stream",
     "text": [
      "mIoU(big mask): 0.6935585730530148\n",
      "fwIoU: 0.7414705305443621\n",
      "tIoU, sIoU, nIoU: [0.79335313 0.67985881 0.60746378]\n",
      "epoch=41-validation_miou_mask_epoch=0.7402.ckpt\n",
      "Extension horovod.torch has not been built: /home/fzj/.local/lib/python3.8/site-packages/horovod/torch/mpi_lib_v2.cpython-38-x86_64-linux-gnu.so not found\n",
      "If this is not expected, reinstall Horovod with HOROVOD_WITH_PYTORCH=1 to debug the build error.\n",
      "Warning! MPI libs are missing, but python applications are still available.\n",
      "Find best checkpoint file: logs/wsss4luad3k6_3k6_run1/epoch=41-validation_miou_mask_epoch=0.7402.ckpt\n",
      "Save dir: logs/wsss4luad3k6_3k6_run1/test_tta\n"
     ]
    },
    {
     "name": "stderr",
     "output_type": "stream",
     "text": [
      "  0%|          | 0/1437 [00:00<?, ?it/s]"
     ]
    },
    {
     "name": "stdout",
     "output_type": "stream",
     "text": [
      "0/1437\n",
      "mIoU(patch): 0.0\n",
      "fwIoU: 0.0\n",
      "tIoU, sIoU, nIoU: [0. 0. 0.]\n"
     ]
    },
    {
     "name": "stderr",
     "output_type": "stream",
     "text": [
      "/data114_1/fzj/CODE/TMI24-HisynSeg/TMI23-submit-final/loss.py:34: RuntimeWarning: invalid value encountered in divide\n",
      "  MIoU = np.diag(self.confusion_matrix) / (\n",
      "/data114_1/fzj/CODE/TMI24-HisynSeg/TMI23-submit-final/loss.py:46: RuntimeWarning: invalid value encountered in divide\n",
      "  freq = np.sum(self.confusion_matrix, axis=1) / \\\n",
      "/data114_1/fzj/CODE/TMI24-HisynSeg/TMI23-submit-final/loss.py:48: RuntimeWarning: invalid value encountered in divide\n",
      "  iu = np.diag(self.confusion_matrix) / (\n",
      "  7%|▋         | 100/1437 [03:29<44:22,  1.99s/it] "
     ]
    },
    {
     "name": "stdout",
     "output_type": "stream",
     "text": [
      "100/1437\n",
      "mIoU(patch): 0.6725483463382483\n",
      "fwIoU: 0.7513419926884556\n",
      "tIoU, sIoU, nIoU: [0.77346704 0.73161242 0.51256558]\n"
     ]
    },
    {
     "name": "stderr",
     "output_type": "stream",
     "text": [
      " 14%|█▍        | 200/1437 [06:48<40:56,  1.99s/it]"
     ]
    },
    {
     "name": "stdout",
     "output_type": "stream",
     "text": [
      "200/1437\n",
      "mIoU(patch): 0.6819042330646243\n",
      "fwIoU: 0.7327723264516945\n",
      "tIoU, sIoU, nIoU: [0.78378888 0.68131655 0.58060727]\n"
     ]
    },
    {
     "name": "stderr",
     "output_type": "stream",
     "text": [
      " 21%|██        | 300/1437 [10:07<37:59,  2.00s/it]"
     ]
    },
    {
     "name": "stdout",
     "output_type": "stream",
     "text": [
      "300/1437\n",
      "mIoU(patch): 0.6778010767040804\n",
      "fwIoU: 0.7244310807656641\n",
      "tIoU, sIoU, nIoU: [0.78444028 0.66363613 0.58532682]\n"
     ]
    },
    {
     "name": "stderr",
     "output_type": "stream",
     "text": [
      " 28%|██▊       | 400/1437 [13:26<34:16,  1.98s/it]"
     ]
    },
    {
     "name": "stdout",
     "output_type": "stream",
     "text": [
      "400/1437\n",
      "mIoU(patch): 0.689762221732232\n",
      "fwIoU: 0.7266341215503787\n",
      "tIoU, sIoU, nIoU: [0.78799958 0.66113398 0.6201531 ]\n"
     ]
    },
    {
     "name": "stderr",
     "output_type": "stream",
     "text": [
      " 35%|███▍      | 500/1437 [16:44<30:58,  1.98s/it]"
     ]
    },
    {
     "name": "stdout",
     "output_type": "stream",
     "text": [
      "500/1437\n",
      "mIoU(patch): 0.7020497602459458\n",
      "fwIoU: 0.7281877606134751\n",
      "tIoU, sIoU, nIoU: [0.77854575 0.67387971 0.65372382]\n"
     ]
    },
    {
     "name": "stderr",
     "output_type": "stream",
     "text": [
      " 42%|████▏     | 600/1437 [20:03<27:46,  1.99s/it]"
     ]
    },
    {
     "name": "stdout",
     "output_type": "stream",
     "text": [
      "600/1437\n",
      "mIoU(patch): 0.6978930610796187\n",
      "fwIoU: 0.7234179205816501\n",
      "tIoU, sIoU, nIoU: [0.77836122 0.65576422 0.65955375]\n"
     ]
    },
    {
     "name": "stderr",
     "output_type": "stream",
     "text": [
      " 49%|████▊     | 700/1437 [23:23<23:59,  1.95s/it]"
     ]
    },
    {
     "name": "stdout",
     "output_type": "stream",
     "text": [
      "700/1437\n",
      "mIoU(patch): 0.6884861897181942\n",
      "fwIoU: 0.7206186616525619\n",
      "tIoU, sIoU, nIoU: [0.77754313 0.64749252 0.64042292]\n"
     ]
    },
    {
     "name": "stderr",
     "output_type": "stream",
     "text": [
      " 56%|█████▌    | 800/1437 [26:44<21:24,  2.02s/it]"
     ]
    },
    {
     "name": "stdout",
     "output_type": "stream",
     "text": [
      "800/1437\n",
      "mIoU(patch): 0.6866657027461976\n",
      "fwIoU: 0.7218893444500983\n",
      "tIoU, sIoU, nIoU: [0.77916349 0.64788482 0.6329488 ]\n"
     ]
    },
    {
     "name": "stderr",
     "output_type": "stream",
     "text": [
      " 63%|██████▎   | 900/1437 [30:08<18:03,  2.02s/it]"
     ]
    },
    {
     "name": "stdout",
     "output_type": "stream",
     "text": [
      "900/1437\n",
      "mIoU(patch): 0.684273667103795\n",
      "fwIoU: 0.7227930447798702\n",
      "tIoU, sIoU, nIoU: [0.78101225 0.64693165 0.6248771 ]\n"
     ]
    },
    {
     "name": "stderr",
     "output_type": "stream",
     "text": [
      " 70%|██████▉   | 1000/1437 [33:34<14:50,  2.04s/it]"
     ]
    },
    {
     "name": "stdout",
     "output_type": "stream",
     "text": [
      "1000/1437\n",
      "mIoU(patch): 0.6826496897065916\n",
      "fwIoU: 0.7249620387694157\n",
      "tIoU, sIoU, nIoU: [0.78521374 0.64269097 0.62004435]\n"
     ]
    },
    {
     "name": "stderr",
     "output_type": "stream",
     "text": [
      " 77%|███████▋  | 1100/1437 [37:01<11:24,  2.03s/it]"
     ]
    },
    {
     "name": "stdout",
     "output_type": "stream",
     "text": [
      "1100/1437\n",
      "mIoU(patch): 0.6888535847316603\n",
      "fwIoU: 0.7295476477315013\n",
      "tIoU, sIoU, nIoU: [0.78218239 0.66436693 0.62001143]\n"
     ]
    },
    {
     "name": "stderr",
     "output_type": "stream",
     "text": [
      " 84%|████████▎ | 1200/1437 [40:23<07:49,  1.98s/it]"
     ]
    },
    {
     "name": "stdout",
     "output_type": "stream",
     "text": [
      "1200/1437\n",
      "mIoU(patch): 0.6911525275805391\n",
      "fwIoU: 0.7321474855094641\n",
      "tIoU, sIoU, nIoU: [0.78173998 0.67170617 0.62001143]\n"
     ]
    },
    {
     "name": "stderr",
     "output_type": "stream",
     "text": [
      " 90%|█████████ | 1300/1437 [43:42<04:32,  1.99s/it]"
     ]
    },
    {
     "name": "stdout",
     "output_type": "stream",
     "text": [
      "1300/1437\n",
      "mIoU(patch): 0.6908884879778999\n",
      "fwIoU: 0.730972500597909\n",
      "tIoU, sIoU, nIoU: [0.77793622 0.67471781 0.62001143]\n"
     ]
    },
    {
     "name": "stderr",
     "output_type": "stream",
     "text": [
      " 97%|█████████▋| 1400/1437 [47:00<01:13,  1.98s/it]"
     ]
    },
    {
     "name": "stdout",
     "output_type": "stream",
     "text": [
      "1400/1437\n",
      "mIoU(patch): 0.6826456742005025\n",
      "fwIoU: 0.719434241519898\n",
      "tIoU, sIoU, nIoU: [0.7686492  0.65927638 0.62001143]\n"
     ]
    },
    {
     "name": "stderr",
     "output_type": "stream",
     "text": [
      "100%|██████████| 1437/1437 [48:12<00:00,  2.01s/it]\n"
     ]
    },
    {
     "name": "stdout",
     "output_type": "stream",
     "text": [
      "mIoU(big mask): 0.7277645758548598\n",
      "fwIoU: 0.7533470837658102\n",
      "tIoU, sIoU, nIoU: [0.79839936 0.69608271 0.68881166]\n",
      "epoch=42-validation_miou_mask_epoch=0.7435.ckpt\n",
      "Extension horovod.torch has not been built: /home/fzj/.local/lib/python3.8/site-packages/horovod/torch/mpi_lib_v2.cpython-38-x86_64-linux-gnu.so not found\n",
      "If this is not expected, reinstall Horovod with HOROVOD_WITH_PYTORCH=1 to debug the build error.\n",
      "Warning! MPI libs are missing, but python applications are still available.\n",
      "Find best checkpoint file: logs/wsss4luad3k6_3k6_run1/epoch=42-validation_miou_mask_epoch=0.7435.ckpt\n",
      "Save dir: logs/wsss4luad3k6_3k6_run1/test_tta\n"
     ]
    },
    {
     "name": "stderr",
     "output_type": "stream",
     "text": [
      "  0%|          | 0/1437 [00:00<?, ?it/s]"
     ]
    },
    {
     "name": "stdout",
     "output_type": "stream",
     "text": [
      "0/1437\n",
      "mIoU(patch): 0.0\n",
      "fwIoU: 0.0\n",
      "tIoU, sIoU, nIoU: [0. 0. 0.]\n"
     ]
    },
    {
     "name": "stderr",
     "output_type": "stream",
     "text": [
      "/data114_1/fzj/CODE/TMI24-HisynSeg/TMI23-submit-final/loss.py:34: RuntimeWarning: invalid value encountered in divide\n",
      "  MIoU = np.diag(self.confusion_matrix) / (\n",
      "/data114_1/fzj/CODE/TMI24-HisynSeg/TMI23-submit-final/loss.py:46: RuntimeWarning: invalid value encountered in divide\n",
      "  freq = np.sum(self.confusion_matrix, axis=1) / \\\n",
      "/data114_1/fzj/CODE/TMI24-HisynSeg/TMI23-submit-final/loss.py:48: RuntimeWarning: invalid value encountered in divide\n",
      "  iu = np.diag(self.confusion_matrix) / (\n",
      "  7%|▋         | 100/1437 [03:20<44:16,  1.99s/it]"
     ]
    },
    {
     "name": "stdout",
     "output_type": "stream",
     "text": [
      "100/1437\n",
      "mIoU(patch): 0.6665309076896823\n",
      "fwIoU: 0.7450293983445239\n",
      "tIoU, sIoU, nIoU: [0.7734409  0.71866155 0.50749027]\n"
     ]
    },
    {
     "name": "stderr",
     "output_type": "stream",
     "text": [
      " 14%|█▍        | 200/1437 [06:38<41:09,  2.00s/it]"
     ]
    },
    {
     "name": "stdout",
     "output_type": "stream",
     "text": [
      "200/1437\n",
      "mIoU(patch): 0.7001843158541683\n",
      "fwIoU: 0.7383880351356054\n",
      "tIoU, sIoU, nIoU: [0.78830274 0.68379266 0.62845755]\n"
     ]
    },
    {
     "name": "stderr",
     "output_type": "stream",
     "text": [
      " 21%|██        | 300/1437 [09:55<36:48,  1.94s/it]"
     ]
    },
    {
     "name": "stdout",
     "output_type": "stream",
     "text": [
      "300/1437\n",
      "mIoU(patch): 0.6971517889638812\n",
      "fwIoU: 0.7321061524278962\n",
      "tIoU, sIoU, nIoU: [0.78827062 0.66987989 0.63330485]\n"
     ]
    },
    {
     "name": "stderr",
     "output_type": "stream",
     "text": [
      " 28%|██▊       | 400/1437 [13:08<33:17,  1.93s/it]"
     ]
    },
    {
     "name": "stdout",
     "output_type": "stream",
     "text": [
      "400/1437\n",
      "mIoU(patch): 0.7040682464293422\n",
      "fwIoU: 0.7313515321903845\n",
      "tIoU, sIoU, nIoU: [0.78878115 0.66411607 0.65930752]\n"
     ]
    },
    {
     "name": "stderr",
     "output_type": "stream",
     "text": [
      " 35%|███▍      | 500/1437 [16:22<30:09,  1.93s/it]"
     ]
    },
    {
     "name": "stdout",
     "output_type": "stream",
     "text": [
      "500/1437\n",
      "mIoU(patch): 0.7121309856785838\n",
      "fwIoU: 0.7327873675663303\n",
      "tIoU, sIoU, nIoU: [0.78200206 0.67618569 0.67820521]\n"
     ]
    },
    {
     "name": "stderr",
     "output_type": "stream",
     "text": [
      " 42%|████▏     | 600/1437 [19:36<27:08,  1.95s/it]"
     ]
    },
    {
     "name": "stdout",
     "output_type": "stream",
     "text": [
      "600/1437\n",
      "mIoU(patch): 0.6996357548121596\n",
      "fwIoU: 0.7200142312782812\n",
      "tIoU, sIoU, nIoU: [0.77773571 0.64427906 0.6768925 ]\n"
     ]
    },
    {
     "name": "stderr",
     "output_type": "stream",
     "text": [
      " 49%|████▊     | 700/1437 [22:50<23:48,  1.94s/it]"
     ]
    },
    {
     "name": "stdout",
     "output_type": "stream",
     "text": [
      "700/1437\n",
      "mIoU(patch): 0.6876738806275059\n",
      "fwIoU: 0.7183484175641037\n",
      "tIoU, sIoU, nIoU: [0.78096274 0.63506123 0.64699767]\n"
     ]
    },
    {
     "name": "stderr",
     "output_type": "stream",
     "text": [
      " 56%|█████▌    | 800/1437 [26:03<20:31,  1.93s/it]"
     ]
    },
    {
     "name": "stdout",
     "output_type": "stream",
     "text": [
      "800/1437\n",
      "mIoU(patch): 0.6874675008977243\n",
      "fwIoU: 0.7214534861765196\n",
      "tIoU, sIoU, nIoU: [0.78344472 0.63913976 0.63981802]\n"
     ]
    },
    {
     "name": "stderr",
     "output_type": "stream",
     "text": [
      " 63%|██████▎   | 900/1437 [29:17<17:19,  1.94s/it]"
     ]
    },
    {
     "name": "stdout",
     "output_type": "stream",
     "text": [
      "900/1437\n",
      "mIoU(patch): 0.6860406422024444\n",
      "fwIoU: 0.7233413135099287\n",
      "tIoU, sIoU, nIoU: [0.78551718 0.64049546 0.63210929]\n"
     ]
    },
    {
     "name": "stderr",
     "output_type": "stream",
     "text": [
      " 70%|██████▉   | 1000/1437 [32:30<14:09,  1.94s/it]"
     ]
    },
    {
     "name": "stdout",
     "output_type": "stream",
     "text": [
      "1000/1437\n",
      "mIoU(patch): 0.6851388735368665\n",
      "fwIoU: 0.7266140370431148\n",
      "tIoU, sIoU, nIoU: [0.79009518 0.6385841  0.62673735]\n"
     ]
    },
    {
     "name": "stderr",
     "output_type": "stream",
     "text": [
      " 77%|███████▋  | 1100/1437 [35:44<10:56,  1.95s/it]"
     ]
    },
    {
     "name": "stdout",
     "output_type": "stream",
     "text": [
      "1100/1437\n",
      "mIoU(patch): 0.6870977409407056\n",
      "fwIoU: 0.7253208178230943\n",
      "tIoU, sIoU, nIoU: [0.78305324 0.65152516 0.62671482]\n"
     ]
    },
    {
     "name": "stderr",
     "output_type": "stream",
     "text": [
      " 84%|████████▎ | 1200/1437 [38:58<07:40,  1.94s/it]"
     ]
    },
    {
     "name": "stdout",
     "output_type": "stream",
     "text": [
      "1200/1437\n",
      "mIoU(patch): 0.6860936456718946\n",
      "fwIoU: 0.7234137771481647\n",
      "tIoU, sIoU, nIoU: [0.77982583 0.65174028 0.62671482]\n"
     ]
    },
    {
     "name": "stderr",
     "output_type": "stream",
     "text": [
      " 90%|█████████ | 1300/1437 [42:11<04:24,  1.93s/it]"
     ]
    },
    {
     "name": "stdout",
     "output_type": "stream",
     "text": [
      "1300/1437\n",
      "mIoU(patch): 0.6857054576816517\n",
      "fwIoU: 0.7219461349635126\n",
      "tIoU, sIoU, nIoU: [0.77614059 0.65426095 0.62671482]\n"
     ]
    },
    {
     "name": "stderr",
     "output_type": "stream",
     "text": [
      " 97%|█████████▋| 1400/1437 [45:24<01:11,  1.93s/it]"
     ]
    },
    {
     "name": "stdout",
     "output_type": "stream",
     "text": [
      "1400/1437\n",
      "mIoU(patch): 0.6760895582398682\n",
      "fwIoU: 0.7083481646407462\n",
      "tIoU, sIoU, nIoU: [0.76512006 0.63643379 0.62671482]\n"
     ]
    },
    {
     "name": "stderr",
     "output_type": "stream",
     "text": [
      "100%|██████████| 1437/1437 [46:35<00:00,  1.95s/it]\n"
     ]
    },
    {
     "name": "stdout",
     "output_type": "stream",
     "text": [
      "mIoU(big mask): 0.7253732420915546\n",
      "fwIoU: 0.7407019415022704\n",
      "tIoU, sIoU, nIoU: [0.7910046  0.6736548  0.71146032]\n",
      "epoch=43-validation_miou_mask_epoch=0.7446.ckpt\n",
      "Extension horovod.torch has not been built: /home/fzj/.local/lib/python3.8/site-packages/horovod/torch/mpi_lib_v2.cpython-38-x86_64-linux-gnu.so not found\n",
      "If this is not expected, reinstall Horovod with HOROVOD_WITH_PYTORCH=1 to debug the build error.\n",
      "Warning! MPI libs are missing, but python applications are still available.\n",
      "Find best checkpoint file: logs/wsss4luad3k6_3k6_run1/epoch=43-validation_miou_mask_epoch=0.7446.ckpt\n",
      "Save dir: logs/wsss4luad3k6_3k6_run1/test_tta\n"
     ]
    },
    {
     "name": "stderr",
     "output_type": "stream",
     "text": [
      "  0%|          | 0/1437 [00:00<?, ?it/s]"
     ]
    },
    {
     "name": "stdout",
     "output_type": "stream",
     "text": [
      "0/1437\n",
      "mIoU(patch): 0.0\n",
      "fwIoU: 0.0\n",
      "tIoU, sIoU, nIoU: [0. 0. 0.]\n"
     ]
    },
    {
     "name": "stderr",
     "output_type": "stream",
     "text": [
      "/data114_1/fzj/CODE/TMI24-HisynSeg/TMI23-submit-final/loss.py:34: RuntimeWarning: invalid value encountered in divide\n",
      "  MIoU = np.diag(self.confusion_matrix) / (\n",
      "/data114_1/fzj/CODE/TMI24-HisynSeg/TMI23-submit-final/loss.py:46: RuntimeWarning: invalid value encountered in divide\n",
      "  freq = np.sum(self.confusion_matrix, axis=1) / \\\n",
      "/data114_1/fzj/CODE/TMI24-HisynSeg/TMI23-submit-final/loss.py:48: RuntimeWarning: invalid value encountered in divide\n",
      "  iu = np.diag(self.confusion_matrix) / (\n",
      "  7%|▋         | 100/1437 [03:13<42:10,  1.89s/it]"
     ]
    },
    {
     "name": "stdout",
     "output_type": "stream",
     "text": [
      "100/1437\n",
      "mIoU(patch): 0.6852811252236884\n",
      "fwIoU: 0.7578587328869377\n",
      "tIoU, sIoU, nIoU: [0.77833242 0.73958648 0.53792448]\n"
     ]
    },
    {
     "name": "stderr",
     "output_type": "stream",
     "text": [
      " 14%|█▍        | 200/1437 [06:22<38:56,  1.89s/it]"
     ]
    },
    {
     "name": "stdout",
     "output_type": "stream",
     "text": [
      "200/1437\n",
      "mIoU(patch): 0.7080638913806071\n",
      "fwIoU: 0.7518202366777759\n",
      "tIoU, sIoU, nIoU: [0.79587547 0.70732297 0.62099323]\n"
     ]
    },
    {
     "name": "stderr",
     "output_type": "stream",
     "text": [
      " 21%|██        | 300/1437 [09:32<36:13,  1.91s/it]"
     ]
    },
    {
     "name": "stdout",
     "output_type": "stream",
     "text": [
      "300/1437\n",
      "mIoU(patch): 0.7072707109141431\n",
      "fwIoU: 0.7482496157124912\n",
      "tIoU, sIoU, nIoU: [0.79933516 0.69728174 0.62519523]\n"
     ]
    },
    {
     "name": "stderr",
     "output_type": "stream",
     "text": [
      " 28%|██▊       | 400/1437 [12:42<32:45,  1.90s/it]"
     ]
    },
    {
     "name": "stdout",
     "output_type": "stream",
     "text": [
      "400/1437\n",
      "mIoU(patch): 0.7175112198965156\n",
      "fwIoU: 0.7500718860972097\n",
      "tIoU, sIoU, nIoU: [0.80277368 0.69455415 0.65520583]\n"
     ]
    },
    {
     "name": "stderr",
     "output_type": "stream",
     "text": [
      " 35%|███▍      | 500/1437 [15:52<29:35,  1.89s/it]"
     ]
    },
    {
     "name": "stdout",
     "output_type": "stream",
     "text": [
      "500/1437\n",
      "mIoU(patch): 0.7236683476876987\n",
      "fwIoU: 0.7474784100069175\n",
      "tIoU, sIoU, nIoU: [0.79128389 0.70101104 0.67871012]\n"
     ]
    },
    {
     "name": "stderr",
     "output_type": "stream",
     "text": [
      " 42%|████▏     | 600/1437 [19:01<26:30,  1.90s/it]"
     ]
    },
    {
     "name": "stdout",
     "output_type": "stream",
     "text": [
      "600/1437\n",
      "mIoU(patch): 0.7135330743606256\n",
      "fwIoU: 0.7384032992706852\n",
      "tIoU, sIoU, nIoU: [0.78905129 0.67700936 0.67453857]\n"
     ]
    },
    {
     "name": "stderr",
     "output_type": "stream",
     "text": [
      " 49%|████▊     | 700/1437 [22:11<23:18,  1.90s/it]"
     ]
    },
    {
     "name": "stdout",
     "output_type": "stream",
     "text": [
      "700/1437\n",
      "mIoU(patch): 0.7059308043336697\n",
      "fwIoU: 0.7392448906703323\n",
      "tIoU, sIoU, nIoU: [0.79303503 0.67194724 0.65281014]\n"
     ]
    },
    {
     "name": "stderr",
     "output_type": "stream",
     "text": [
      " 56%|█████▌    | 800/1437 [25:20<20:04,  1.89s/it]"
     ]
    },
    {
     "name": "stdout",
     "output_type": "stream",
     "text": [
      "800/1437\n",
      "mIoU(patch): 0.7062608268349458\n",
      "fwIoU: 0.7418536451187733\n",
      "tIoU, sIoU, nIoU: [0.79529681 0.67425717 0.6492285 ]\n"
     ]
    },
    {
     "name": "stderr",
     "output_type": "stream",
     "text": [
      " 63%|██████▎   | 900/1437 [28:30<17:06,  1.91s/it]"
     ]
    },
    {
     "name": "stdout",
     "output_type": "stream",
     "text": [
      "900/1437\n",
      "mIoU(patch): 0.7053775114609331\n",
      "fwIoU: 0.7432668728007195\n",
      "tIoU, sIoU, nIoU: [0.79703785 0.67430425 0.64479044]\n"
     ]
    },
    {
     "name": "stderr",
     "output_type": "stream",
     "text": [
      " 70%|██████▉   | 1000/1437 [31:40<13:52,  1.90s/it]"
     ]
    },
    {
     "name": "stdout",
     "output_type": "stream",
     "text": [
      "1000/1437\n",
      "mIoU(patch): 0.7045264409935097\n",
      "fwIoU: 0.745893264122438\n",
      "tIoU, sIoU, nIoU: [0.80139477 0.67114704 0.64103751]\n"
     ]
    },
    {
     "name": "stderr",
     "output_type": "stream",
     "text": [
      " 77%|███████▋  | 1100/1437 [34:50<10:39,  1.90s/it]"
     ]
    },
    {
     "name": "stdout",
     "output_type": "stream",
     "text": [
      "1100/1437\n",
      "mIoU(patch): 0.7080875953939948\n",
      "fwIoU: 0.7472276607051489\n",
      "tIoU, sIoU, nIoU: [0.79623047 0.6869948  0.64103751]\n"
     ]
    },
    {
     "name": "stderr",
     "output_type": "stream",
     "text": [
      " 84%|████████▎ | 1200/1437 [38:00<07:31,  1.90s/it]"
     ]
    },
    {
     "name": "stdout",
     "output_type": "stream",
     "text": [
      "1200/1437\n",
      "mIoU(patch): 0.7082094962505586\n",
      "fwIoU: 0.746930085514368\n",
      "tIoU, sIoU, nIoU: [0.79381778 0.68977319 0.64103751]\n"
     ]
    },
    {
     "name": "stderr",
     "output_type": "stream",
     "text": [
      " 90%|█████████ | 1300/1437 [41:10<04:20,  1.90s/it]"
     ]
    },
    {
     "name": "stdout",
     "output_type": "stream",
     "text": [
      "1300/1437\n",
      "mIoU(patch): 0.7080806054972179\n",
      "fwIoU: 0.7459678234771204\n",
      "tIoU, sIoU, nIoU: [0.79024145 0.69296285 0.64103751]\n"
     ]
    },
    {
     "name": "stderr",
     "output_type": "stream",
     "text": [
      " 97%|█████████▋| 1400/1437 [44:21<01:10,  1.90s/it]"
     ]
    },
    {
     "name": "stdout",
     "output_type": "stream",
     "text": [
      "1400/1437\n",
      "mIoU(patch): 0.7008983062411346\n",
      "fwIoU: 0.7358362747032143\n",
      "tIoU, sIoU, nIoU: [0.78164938 0.68000803 0.64103751]\n"
     ]
    },
    {
     "name": "stderr",
     "output_type": "stream",
     "text": [
      "100%|██████████| 1437/1437 [45:31<00:00,  1.90s/it]\n"
     ]
    },
    {
     "name": "stdout",
     "output_type": "stream",
     "text": [
      "mIoU(big mask): 0.7505092036738888\n",
      "fwIoU: 0.7711216928440172\n",
      "tIoU, sIoU, nIoU: [0.81089438 0.72010474 0.72052849]\n",
      "epoch=44-validation_miou_mask_epoch=0.7148.ckpt\n",
      "Extension horovod.torch has not been built: /home/fzj/.local/lib/python3.8/site-packages/horovod/torch/mpi_lib_v2.cpython-38-x86_64-linux-gnu.so not found\n",
      "If this is not expected, reinstall Horovod with HOROVOD_WITH_PYTORCH=1 to debug the build error.\n",
      "Warning! MPI libs are missing, but python applications are still available.\n",
      "Find best checkpoint file: logs/wsss4luad3k6_3k6_run1/epoch=44-validation_miou_mask_epoch=0.7148.ckpt\n",
      "Save dir: logs/wsss4luad3k6_3k6_run1/test_tta\n"
     ]
    },
    {
     "name": "stderr",
     "output_type": "stream",
     "text": [
      "  0%|          | 0/1437 [00:00<?, ?it/s]"
     ]
    },
    {
     "name": "stdout",
     "output_type": "stream",
     "text": [
      "0/1437\n",
      "mIoU(patch): 0.0\n",
      "fwIoU: 0.0\n",
      "tIoU, sIoU, nIoU: [0. 0. 0.]\n"
     ]
    },
    {
     "name": "stderr",
     "output_type": "stream",
     "text": [
      "/data114_1/fzj/CODE/TMI24-HisynSeg/TMI23-submit-final/loss.py:34: RuntimeWarning: invalid value encountered in divide\n",
      "  MIoU = np.diag(self.confusion_matrix) / (\n",
      "/data114_1/fzj/CODE/TMI24-HisynSeg/TMI23-submit-final/loss.py:46: RuntimeWarning: invalid value encountered in divide\n",
      "  freq = np.sum(self.confusion_matrix, axis=1) / \\\n",
      "/data114_1/fzj/CODE/TMI24-HisynSeg/TMI23-submit-final/loss.py:48: RuntimeWarning: invalid value encountered in divide\n",
      "  iu = np.diag(self.confusion_matrix) / (\n",
      "  7%|▋         | 100/1437 [03:15<43:04,  1.93s/it]"
     ]
    },
    {
     "name": "stdout",
     "output_type": "stream",
     "text": [
      "100/1437\n",
      "mIoU(patch): 0.6183146162611205\n",
      "fwIoU: 0.7455618612866389\n",
      "tIoU, sIoU, nIoU: [0.77602269 0.71925326 0.3596679 ]\n"
     ]
    },
    {
     "name": "stderr",
     "output_type": "stream",
     "text": [
      " 14%|█▍        | 200/1437 [06:29<39:31,  1.92s/it]"
     ]
    },
    {
     "name": "stdout",
     "output_type": "stream",
     "text": [
      "200/1437\n",
      "mIoU(patch): 0.6902770287317613\n",
      "fwIoU: 0.7412606757941385\n",
      "tIoU, sIoU, nIoU: [0.78886837 0.69453484 0.58742787]\n"
     ]
    },
    {
     "name": "stderr",
     "output_type": "stream",
     "text": [
      " 21%|██        | 300/1437 [09:42<37:01,  1.95s/it]"
     ]
    },
    {
     "name": "stdout",
     "output_type": "stream",
     "text": [
      "300/1437\n",
      "mIoU(patch): 0.6979174812917965\n",
      "fwIoU: 0.7387370191031765\n",
      "tIoU, sIoU, nIoU: [0.78953911 0.68809364 0.6161197 ]\n"
     ]
    },
    {
     "name": "stderr",
     "output_type": "stream",
     "text": [
      " 28%|██▊       | 400/1437 [12:55<33:43,  1.95s/it]"
     ]
    },
    {
     "name": "stdout",
     "output_type": "stream",
     "text": [
      "400/1437\n",
      "mIoU(patch): 0.7171848356692138\n",
      "fwIoU: 0.7434175365507536\n",
      "tIoU, sIoU, nIoU: [0.79294747 0.68765135 0.6709557 ]\n"
     ]
    },
    {
     "name": "stderr",
     "output_type": "stream",
     "text": [
      " 35%|███▍      | 500/1437 [18:03<54:39,  3.50s/it]"
     ]
    },
    {
     "name": "stdout",
     "output_type": "stream",
     "text": [
      "500/1437\n",
      "mIoU(patch): 0.7196821135493554\n",
      "fwIoU: 0.74029900196093\n",
      "tIoU, sIoU, nIoU: [0.78310825 0.69297534 0.68296276]\n"
     ]
    },
    {
     "name": "stderr",
     "output_type": "stream",
     "text": [
      " 42%|████▏     | 600/1437 [23:49<49:41,  3.56s/it]"
     ]
    },
    {
     "name": "stdout",
     "output_type": "stream",
     "text": [
      "600/1437\n",
      "mIoU(patch): 0.7082154952963746\n",
      "fwIoU: 0.7304045895322115\n",
      "tIoU, sIoU, nIoU: [0.78133    0.66663453 0.67668196]\n"
     ]
    },
    {
     "name": "stderr",
     "output_type": "stream",
     "text": [
      " 49%|████▊     | 700/1437 [29:33<43:11,  3.52s/it]"
     ]
    },
    {
     "name": "stdout",
     "output_type": "stream",
     "text": [
      "700/1437\n",
      "mIoU(patch): 0.6880441655677574\n",
      "fwIoU: 0.7289045343923503\n",
      "tIoU, sIoU, nIoU: [0.78637437 0.66021989 0.61753824]\n"
     ]
    },
    {
     "name": "stderr",
     "output_type": "stream",
     "text": [
      " 56%|█████▌    | 800/1437 [35:16<37:02,  3.49s/it]"
     ]
    },
    {
     "name": "stdout",
     "output_type": "stream",
     "text": [
      "800/1437\n",
      "mIoU(patch): 0.6862925706857638\n",
      "fwIoU: 0.7300515629742199\n",
      "tIoU, sIoU, nIoU: [0.78795073 0.65960022 0.61132677]\n"
     ]
    },
    {
     "name": "stderr",
     "output_type": "stream",
     "text": [
      " 63%|██████▎   | 900/1437 [41:00<31:22,  3.51s/it]"
     ]
    },
    {
     "name": "stdout",
     "output_type": "stream",
     "text": [
      "900/1437\n",
      "mIoU(patch): 0.6835003527990132\n",
      "fwIoU: 0.7303545050984934\n",
      "tIoU, sIoU, nIoU: [0.78921985 0.65742043 0.60386077]\n"
     ]
    },
    {
     "name": "stderr",
     "output_type": "stream",
     "text": [
      " 64%|██████▍   | 926/1437 [42:26<29:36,  3.48s/it]"
     ]
    }
   ],
   "source": [
    "for filename in sorted(os.listdir(ckpt_dir)):\n",
    "    if filename.endswith(\".ckpt\") and  'last' not in filename:\n",
    "        print(filename)\n",
    "        \n",
    "        os.system(f\"CUDA_VISIBLE_DEVICES=7, python segmentation_test_v2.py -ckpt {os.path.join(ckpt_dir, filename)} --gpus=0, --patch-size=224 --test-data data/WSSS4LUAD/3.testing/patches_224_112 --dataset wsss4luad\")\n",
    "    else:\n",
    "        continue"
   ]
  },
  {
   "cell_type": "code",
   "execution_count": null,
   "metadata": {},
   "outputs": [],
   "source": []
  }
 ],
 "metadata": {
  "kernelspec": {
   "display_name": "wsss4luad",
   "language": "python",
   "name": "python3"
  },
  "language_info": {
   "codemirror_mode": {
    "name": "ipython",
    "version": 3
   },
   "file_extension": ".py",
   "mimetype": "text/x-python",
   "name": "python",
   "nbconvert_exporter": "python",
   "pygments_lexer": "ipython3",
   "version": "3.8.13"
  }
 },
 "nbformat": 4,
 "nbformat_minor": 2
}
