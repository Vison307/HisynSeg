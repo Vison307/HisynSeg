{
 "cells": [
  {
   "cell_type": "code",
   "execution_count": 1,
   "metadata": {},
   "outputs": [],
   "source": [
    "import os\n",
    "import numpy as np\n"
   ]
  },
  {
   "cell_type": "code",
   "execution_count": 2,
   "metadata": {},
   "outputs": [],
   "source": [
    "wsss4luad_training_dir = \"data/WSSS4LUAD/1.training\"\n",
    "wsss4luad_training_list = [i for i in sorted(os.listdir(wsss4luad_training_dir)) if i.endswith(\".png\")]\n",
    "n_tum, n_str, n_nom = 0, 0, 0"
   ]
  },
  {
   "cell_type": "code",
   "execution_count": 3,
   "metadata": {},
   "outputs": [
    {
     "data": {
      "text/plain": [
       "(1181, 1680, 1832)"
      ]
     },
     "execution_count": 3,
     "metadata": {},
     "output_type": "execute_result"
    }
   ],
   "source": [
    "for filename in wsss4luad_training_list:\n",
    "    label_str = filename.split(\"[\")[-1].split(\"]\")[0]\n",
    "    label = [int(label_str[0]), int(label_str[3]), int(label_str[6])]\n",
    "    if sum(label) == 1:\n",
    "        if label[0] == 1:\n",
    "            n_tum += 1\n",
    "        elif label[1] == 1:\n",
    "            n_str += 1\n",
    "        elif label[2] == 1:\n",
    "            n_nom += 1\n",
    "n_tum, n_str, n_nom"
   ]
  },
  {
   "cell_type": "code",
   "execution_count": 4,
   "metadata": {},
   "outputs": [],
   "source": [
    "bcss_training_dir = \"data/BCSS-WSSS/training\"\n",
    "bcss_training_list = [i for i in sorted(os.listdir(bcss_training_dir)) if i.endswith(\".png\")]\n",
    "n_tum, n_str, n_lym, n_nec = 0, 0, 0, 0"
   ]
  },
  {
   "cell_type": "code",
   "execution_count": 5,
   "metadata": {},
   "outputs": [
    {
     "data": {
      "text/plain": [
       "(4738, 2903, 679, 1058)"
      ]
     },
     "execution_count": 5,
     "metadata": {},
     "output_type": "execute_result"
    }
   ],
   "source": [
    "for filename in bcss_training_list:\n",
    "    label_str = filename.split(\"[\")[-1].split(\"]\")[0]\n",
    "    label = [int(label_str[0]), int(label_str[1]), int(label_str[2]), int(label_str[3])]\n",
    "    if sum(label) == 1:\n",
    "        if label[0] == 1:\n",
    "            n_tum += 1\n",
    "        elif label[1] == 1:\n",
    "            n_str += 1\n",
    "        elif label[2] == 1:\n",
    "            n_lym += 1\n",
    "        elif label[3] == 1:\n",
    "            n_nec += 1\n",
    "n_tum, n_str, n_lym, n_nec"
   ]
  },
  {
   "cell_type": "code",
   "execution_count": 6,
   "metadata": {},
   "outputs": [],
   "source": [
    "luad_training_dir = \"data/LUAD-HistoSeg/train\"\n",
    "luad_training_list = [i for i in sorted(os.listdir(luad_training_dir)) if i.endswith(\".png\")]\n",
    "n_te, n_nec, n_lym, n_tas = 0, 0, 0, 0"
   ]
  },
  {
   "cell_type": "code",
   "execution_count": 7,
   "metadata": {},
   "outputs": [
    {
     "data": {
      "text/plain": [
       "(1574, 787, 42, 2192)"
      ]
     },
     "execution_count": 7,
     "metadata": {},
     "output_type": "execute_result"
    }
   ],
   "source": [
    "for filename in luad_training_list:\n",
    "    label_str = filename.split(\"[\")[-1].split(\"]\")[0]\n",
    "    label = [int(label_str[0]), int(label_str[2]), int(label_str[4]), int(label_str[6])]\n",
    "    if sum(label) == 1:\n",
    "        if label[0] == 1:\n",
    "            n_te += 1\n",
    "        elif label[1] == 1:\n",
    "            n_nec += 1\n",
    "        elif label[2] == 1:\n",
    "            n_lym += 1\n",
    "        elif label[3] == 1:\n",
    "            n_tas += 1\n",
    "n_te, n_nec, n_lym, n_tas"
   ]
  },
  {
   "cell_type": "code",
   "execution_count": null,
   "metadata": {},
   "outputs": [],
   "source": []
  }
 ],
 "metadata": {
  "kernelspec": {
   "display_name": "wsss4luad",
   "language": "python",
   "name": "python3"
  },
  "language_info": {
   "codemirror_mode": {
    "name": "ipython",
    "version": 3
   },
   "file_extension": ".py",
   "mimetype": "text/x-python",
   "name": "python",
   "nbconvert_exporter": "python",
   "pygments_lexer": "ipython3",
   "version": "3.8.13"
  }
 },
 "nbformat": 4,
 "nbformat_minor": 2
}
